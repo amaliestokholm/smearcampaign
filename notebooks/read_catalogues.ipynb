{
 "cells": [
  {
   "cell_type": "code",
   "execution_count": 76,
   "metadata": {},
   "outputs": [],
   "source": [
    "import numpy as np\n",
    "import matplotlib.pyplot as plt\n",
    "\n",
    "from astropy.table import Table, join, Column\n",
    "\n",
    "from astropy.io import ascii\n",
    "import glob, re\n",
    "\n",
    "% matplotlib inline\n",
    "\n",
    "import matplotlib as mpl\n",
    "from matplotlib import rc\n",
    "\n",
    "mpl.style.use('seaborn-colorblind')\n",
    "\n",
    "#To make sure we have always the same matplotlib settings\n",
    "#(the ones in comments are the ipython notebook settings)\n",
    "\n",
    "mpl.rcParams['figure.figsize']=(12.0,9.0)    #(6.0,4.0)\n",
    "mpl.rcParams['font.size']=18               #10 \n",
    "mpl.rcParams['savefig.dpi']= 200             #72 \n",
    "mpl.rcParams['axes.labelsize'] = 16\n",
    "mpl.rcParams['axes.labelsize'] = 16\n",
    "mpl.rcParams['xtick.labelsize'] = 12\n",
    "mpl.rcParams['ytick.labelsize'] = 12\n",
    "\n",
    "colours = mpl.rcParams['axes.prop_cycle'].by_key()['color']\n"
   ]
  },
  {
   "cell_type": "markdown",
   "metadata": {},
   "source": [
    "## This notebook reads in Keith's abundances and Guy's asteroseismology to produce the tables for the paper."
   ]
  },
  {
   "cell_type": "code",
   "execution_count": 2,
   "metadata": {},
   "outputs": [],
   "source": [
    "fname_diff = \"../data/abundances/Pope_abundances_diff_arcturus.fits\"\n",
    "fname_nodiff = \"../data/abundances/Pope_abundances_nodiff.fits\""
   ]
  },
  {
   "cell_type": "code",
   "execution_count": 3,
   "metadata": {},
   "outputs": [],
   "source": [
    "diff = Table.read(fname_diff)\n",
    "diff.sort('Object')\n",
    "nodiff = Table.read(fname_nodiff)\n",
    "nodiff.sort('Object')"
   ]
  },
  {
   "cell_type": "markdown",
   "metadata": {},
   "source": [
    "How do abundances compare between the differential and non-differential methods? Not too badly. Many more elements lack differential abundances than absolute abundances so it looks like in the paper we shouldn't use the differential. Good to include in online data though."
   ]
  },
  {
   "cell_type": "code",
   "execution_count": 4,
   "metadata": {},
   "outputs": [],
   "source": [
    "# for j, key in enumerate(diff.keys()[1:]):\n",
    "#     if key[0]=='e':\n",
    "#         continue\n",
    "#     plt.figure(j)\n",
    "#     plt.plot(diff[key],nodiff[key],'.')\n",
    "#     plt.title(key)"
   ]
  },
  {
   "cell_type": "code",
   "execution_count": 5,
   "metadata": {},
   "outputs": [],
   "source": [
    "# nodiff"
   ]
  },
  {
   "cell_type": "code",
   "execution_count": 6,
   "metadata": {},
   "outputs": [],
   "source": [
    "elements = filter(lambda x: x[0]!='e', nodiff.keys()[1:])\n",
    "# print elements"
   ]
  },
  {
   "cell_type": "markdown",
   "metadata": {},
   "source": [
    "### Create a string-formatted table merging abundances with their uncertainties appropriately."
   ]
  },
  {
   "cell_type": "code",
   "execution_count": 7,
   "metadata": {},
   "outputs": [],
   "source": [
    "newtab = Table([Column([str(obj).replace('_',' ') for obj in nodiff['Object']],name='Object')])\n",
    "\n",
    "for el in elements[:8]:\n",
    "    if el == 'O_Fe':\n",
    "        continue\n",
    "    col = nodiff[el]\n",
    "    ecol = nodiff['e%s' % el]\n",
    "    test = Column(['--' if 'nan' in str(col[j]) else '$%.2f \\pm %.2f$' % (col[j],ecol[j]) for j, x in enumerate(col)],name='[%s/Fe]' % el.replace('_Fe',''))\n",
    "#     test = Column(['$%.2f \\pm %.2f$' % (col[j],ecol[j]) for j, x in enumerate(col)],name=el.replace('_Fe',''))\n",
    "\n",
    "    newtab.add_column(test)\n",
    "    \n",
    "#     print el\n",
    "\n",
    "\n",
    "newtab2 = Table([Column([str(obj).replace('_',' ') for obj in nodiff['Object']],name='Object')])\n",
    "\n",
    "for el in elements[8:15]:\n",
    "    col = nodiff[el]\n",
    "    ecol = nodiff['e%s' % el]\n",
    "    test = Column(['--' if 'nan' in str(col[j]) else '$%.2f \\pm %.2f$' % (col[j],ecol[j]) for j, x in enumerate(col)],name='[%s/Fe]' % el.replace('_Fe',''))\n",
    "#     test = Column(['$%.2f \\pm %.2f$' % (col[j],ecol[j]) for j, x in enumerate(col)],name=el.replace('_Fe',''))\n",
    "\n",
    "    newtab2.add_column(test)\n",
    "    \n",
    "newtab3 = Table([Column([str(obj).replace('_',' ') for obj in nodiff['Object']],name='Object')])\n",
    "\n",
    "for el in elements[15:]:\n",
    "    col = nodiff[el]\n",
    "    ecol = nodiff['e%s' % el]\n",
    "    test = Column(['--' if 'nan' in str(col[j]) else '$%.2f \\pm %.2f$' % (col[j],ecol[j]) for j, x in enumerate(col)],name='[%s/Fe]' % el.replace('_Fe',''))\n",
    "#     test = Column(['$%.2f \\pm %.2f$' % (col[j],ecol[j]) for j, x in enumerate(col)],name=el.replace('_Fe',''))\n",
    "\n",
    "    newtab3.add_column(test)\n",
    "\n",
    "    \n",
    "# newtab_diff = Table([diff['Object']])\n",
    "\n",
    "# for el in elements:\n",
    "#     col = diff[el]\n",
    "#     ecol = diff['e%s' % el]\n",
    "#     test = Column(['--' if 'nan' in str(col[j]) else '%.2f $\\pm$ %.2f' % (col[j],ecol[j]) for j, x in enumerate(col)],name=el.replace('_Fe',''))\n",
    "# #     test = Column(['$%.2f \\pm %.2f$' % (col[j],ecol[j]) for j, x in enumerate(col)],name=el.replace('_Fe',''))\n",
    "\n",
    "#     newtab_diff.add_column(test)\n"
   ]
  },
  {
   "cell_type": "code",
   "execution_count": 8,
   "metadata": {},
   "outputs": [],
   "source": [
    "def oxford_join(string_list):\n",
    "    '''From https://stackoverflow.com/questions/19838976/grammatical-list-join-in-python'''\n",
    "    if len(string_list) < 1:\n",
    "        text = ''\n",
    "    elif len(string_list) == 1:\n",
    "        text = string_list[0]\n",
    "    elif len(string_list) == 2:\n",
    "        text = ' and '.join(string_list)\n",
    "    else:\n",
    "        text = ', '.join(string_list)\n",
    "        text = '{parts[0]}, and {parts[2]}'.format(parts=text.rpartition(', '))  # oxford comma\n",
    "    return text"
   ]
  },
  {
   "cell_type": "markdown",
   "metadata": {},
   "source": [
    "## Now produce three LaTeX tables to go into the paper directory."
   ]
  },
  {
   "cell_type": "code",
   "execution_count": 9,
   "metadata": {},
   "outputs": [],
   "source": [
    "latexdict = ascii.latex.latexdicts['AA'].copy()\n",
    "latexdict['tabletype']= 'table*'\n",
    "\n",
    "caption1 = r'Chemical abundances relative to iron for stars in the red giant sample as determined by BACCHUS, without differential line-by-line comparison to Arcturus, as described in Section~\\ref{spectroscopy}, for the elements %s. Dashes indicate elements for which abundances could not be reliably computed.' % oxford_join([el.replace('_Fe','') for el in filter(lambda x: x !='O_Fe',elements[0:8])])\n",
    "caption2 = r'Chemical abundances relative to iron for stars in the red giant sample as determined by BACCHUS, without differential line-by-line comparison to Arcturus, as described in Section~\\ref{spectroscopy}, for the elements %s. Dashes indicate elements for which abundances could not be reliably computed.' % oxford_join([el.replace('_Fe','') for el in elements[8:15]])\n",
    "caption3 = r'Chemical abundances relative to iron for stars in the red giant sample as determined by BACCHUS, without differential line-by-line comparison to Arcturus, as described in Section~\\ref{spectroscopy}, for the elements %s. Dashes indicate elements for which abundances could not be reliably computed.' % oxford_join([el.replace('_Fe','') for el in elements[15:]])\n",
    "\n",
    "caption1 = caption1+r'The catalogue of abundances for more elements continues in Tables~\\ref{elems2} and~\\ref{elems3}.'\n",
    "caption2 = caption2+r'The catalogue of abundances for more elements continues in Table~\\ref{elems3}.'\n",
    "\n",
    "\n",
    "newtab.write('../paper/abundances_1.tex',format='latex',latexdict=latexdict,caption=caption1+'\\label{elems1}',overwrite=True)\n",
    "newtab2.write('../paper/abundances_2.tex',format='latex',latexdict=latexdict,caption=caption2+'\\label{elems2}',overwrite=True)\n",
    "newtab3.write('../paper/abundances_3.tex',format='latex',latexdict=latexdict,caption=caption3+'\\label{elems3}',overwrite=True)"
   ]
  },
  {
   "cell_type": "markdown",
   "metadata": {},
   "source": [
    "### Now let's also do the stellar properties"
   ]
  },
  {
   "cell_type": "code",
   "execution_count": 10,
   "metadata": {},
   "outputs": [],
   "source": [
    "fname_merged =\"../data/abundances/final_pope_merged.fits\"\n",
    "astero_logg = Table.read('pope_asteroseismology.csv')\n",
    "merged = Table.read(fname_merged)\n",
    "merged.rename_column('RVerr','RV_err')\n",
    "merged.keys()\n",
    "merged.sort('Object')\n",
    "joint = join(merged,astero_logg,keys='Object')"
   ]
  },
  {
   "cell_type": "code",
   "execution_count": 11,
   "metadata": {},
   "outputs": [],
   "source": [
    "counter = []\n",
    "counter2 = []\n",
    "for obj in merged['Object']:\n",
    "    if obj not in astero_logg['Object']:\n",
    "#         print obj\n",
    "        counter.append(obj)\n",
    "for obj in astero_logg['Object']:\n",
    "    if obj not in merged['Object']:\n",
    "#         print obj\n",
    "        counter2.append(obj)\n",
    "\n",
    "# print len(counter)\n",
    "# print len(counter2)\n",
    "# print counter"
   ]
  },
  {
   "cell_type": "code",
   "execution_count": 12,
   "metadata": {},
   "outputs": [],
   "source": [
    "for j, obj in enumerate(astero_logg['Object']):\n",
    "    ind = merged['Object']==obj\n",
    "    merged[ind]['log_g'] = astero_logg['log_g'][j]\n",
    "    merged[ind]['log_g_err'] = astero_logg['log_g_err'][j]"
   ]
  },
  {
   "cell_type": "code",
   "execution_count": 13,
   "metadata": {},
   "outputs": [],
   "source": [
    "newtab = Table([Column([str(obj).replace('_',' ') for obj in joint['Object']],name='Object')])\n",
    "\n",
    "newkeys = ['RV', 'Teff', 'log_g', 'monh','vsini','SNRe']\n",
    "names = [r'RV',r'\\teff', r'\\logg',r'[M/H]',r'$V\\sin{i}$',r'SNR']\n",
    "units = [r'(km/s)', r'(K)', '','','(km/s)','']\n",
    "\n",
    "for k, key in enumerate(newkeys):\n",
    "    col = joint[key]\n",
    "    if key+'_err' in joint.keys():\n",
    "        ecol = joint['%s_err' % key]\n",
    "        if 'Teff' in key:\n",
    "            test = Column(['--' if 'nan' in str(col[j]) else '$%.0f \\pm %.0f$' % (col[j],ecol[j]) for j, x in enumerate(col)],name=names[k])\n",
    "        else:\n",
    "            test = Column(['--' if 'nan' in str(col[j]) else '$%.2f \\pm %.2f$' % (col[j],ecol[j]) for j, x in enumerate(col)],name=names[k])\n",
    "    else:\n",
    "        test = Column(['%.1f' % (col[j]) for j, x in enumerate(col)],name=names[k])\n",
    "    \n",
    "    newtab.add_column(test)\n"
   ]
  },
  {
   "cell_type": "code",
   "execution_count": 14,
   "metadata": {},
   "outputs": [],
   "source": [
    "# newtab"
   ]
  },
  {
   "cell_type": "code",
   "execution_count": 15,
   "metadata": {},
   "outputs": [],
   "source": [
    "latexdict = ascii.latex.latexdicts['AA'].copy()\n",
    "latexdict['tabletype']= 'table*'\n",
    "latexdict['units'] = dict(zip(names,units))\n",
    "\n",
    "caption = r'Fundamental stellar parameters for the red giant sample as determined jointly by asteroseismology (asteroseismic \\logg; Section~\\ref{asteroseismology}) and spectroscopy (%s; Section~\\ref{spectroscopy}.)' % oxford_join(names)  \n",
    "caption = caption+r'\\label{stellar_props}'\n",
    "newtab.write('../paper/stellar_props.tex',format='latex',latexdict=latexdict,caption=caption+'\\label{stellar_props}',overwrite=True)\n"
   ]
  },
  {
   "cell_type": "markdown",
   "metadata": {},
   "source": [
    "### Now let's look at the proper spectroscopy with Dnu measurements"
   ]
  },
  {
   "cell_type": "code",
   "execution_count": 16,
   "metadata": {},
   "outputs": [],
   "source": [
    "fname_seismic = \"../data/smear_Dnu.csv\"\n",
    "seismic = Table.read(fname_seismic)\n",
    "seismic.sort('Star_ID')"
   ]
  },
  {
   "cell_type": "code",
   "execution_count": 17,
   "metadata": {},
   "outputs": [
    {
     "data": {
      "text/html": [
       "&lt;Table length=35&gt;\n",
       "<table id=\"table4791419600\" class=\"table-striped table-bordered table-condensed\">\n",
       "<thead><tr><th>Star_ID</th><th>Dnu</th><th>Dnu_err</th><th>Numax</th><th>Numax_err</th><th>eps</th><th>eps_err</th></tr></thead>\n",
       "<thead><tr><th>str10</th><th>float64</th><th>float64</th><th>float64</th><th>float64</th><th>float64</th><th>float64</th></tr></thead>\n",
       "<tr><td>BD+36_3564</td><td>0.9490949804411055</td><td>0.030097283743239316</td><td>5.079062736733746</td><td>0.09882652247868091</td><td>0.8305746287171062</td><td>0.20003026391376488</td></tr>\n",
       "<tr><td>BD+39_3577</td><td>1.6836250688792482</td><td>0.01363988821142889</td><td>13.266855807051439</td><td>0.31633186319569034</td><td>0.7409609522947077</td><td>0.06299253167276896</td></tr>\n",
       "<tr><td>BD+42_3150</td><td>4.221788591943251</td><td>0.028504804862306103</td><td>38.315943379269186</td><td>0.9588694546996247</td><td>0.7013731801198373</td><td>0.07075600621249865</td></tr>\n",
       "<tr><td>BD+43_3171</td><td>0.41728859981040545</td><td>0.05318387492844148</td><td>1.984298734336489</td><td>0.05145104900196677</td><td>0.8040170562496404</td><td>0.17159665699501567</td></tr>\n",
       "<tr><td>BD+43_3213</td><td>0.48750734592283734</td><td>0.006958633078022336</td><td>2.5632797174106847</td><td>0.06325084146747773</td><td>1.0124195735754942</td><td>0.07326685394355063</td></tr>\n",
       "<tr><td>BD+48_2904</td><td>2.8511597676805804</td><td>0.010318892608438912</td><td>23.13453453354469</td><td>0.7225398099392429</td><td>0.8563054208127122</td><td>0.08052669688943252</td></tr>\n",
       "<tr><td>BD+48_2955</td><td>0.8953098233940573</td><td>0.0068208356847463585</td><td>5.440132725276065</td><td>0.08331498484403516</td><td>0.8105480979445374</td><td>0.052471147709803705</td></tr>\n",
       "<tr><td>HD_174020</td><td>0.5639183284003043</td><td>0.01603666749035637</td><td>2.47548965209216</td><td>0.09744999575175439</td><td>0.8926590744791576</td><td>0.08467569516842773</td></tr>\n",
       "<tr><td>HD_174829</td><td>1.2833572675283929</td><td>0.011357043983480081</td><td>7.9497984768617815</td><td>0.1571667547811646</td><td>0.7755393571480604</td><td>0.05755641850899791</td></tr>\n",
       "<tr><td>HD_175740</td><td>5.930230004063379</td><td>0.010423967130974505</td><td>64.33345016648104</td><td>0.781397165223729</td><td>1.0017574684895851</td><td>0.019432829648297706</td></tr>\n",
       "<tr><td>...</td><td>...</td><td>...</td><td>...</td><td>...</td><td>...</td><td>...</td></tr>\n",
       "<tr><td>HD_182354</td><td>2.6567259425373924</td><td>0.0116743978566671</td><td>24.73075125143719</td><td>0.3707943073028773</td><td>0.7424211095150425</td><td>0.041177248862450624</td></tr>\n",
       "<tr><td>HD_182531</td><td>1.0303790538910182</td><td>0.004200581130585748</td><td>6.465080945267556</td><td>0.08931624177636578</td><td>0.8644896897235024</td><td>0.027293960706728466</td></tr>\n",
       "<tr><td>HD_182692</td><td>4.656371955263934</td><td>0.010792609608257217</td><td>44.38373487371614</td><td>0.469132553990273</td><td>0.8736919472802216</td><td>0.022597153253640357</td></tr>\n",
       "<tr><td>HD_182694</td><td>5.71435782334927</td><td>0.014267235676153614</td><td>69.7756254063585</td><td>1.017847172490138</td><td>0.9395935999968813</td><td>0.2516523703726711</td></tr>\n",
       "<tr><td>HD_183124</td><td>4.3919882085523305</td><td>0.013079012313137814</td><td>39.585673622735754</td><td>0.2876104937870424</td><td>0.9451337192882556</td><td>0.027794156928306737</td></tr>\n",
       "<tr><td>HD_185286</td><td>0.7202161705442813</td><td>0.007066328212678815</td><td>4.226733266919384</td><td>0.10176701279630138</td><td>0.7275758136813686</td><td>0.08183138701360353</td></tr>\n",
       "<tr><td>HD_188537</td><td>1.5481552727523136</td><td>0.01087246922323641</td><td>13.402868450842114</td><td>0.3426745085090518</td><td>0.7178796532748889</td><td>0.06718021726784126</td></tr>\n",
       "<tr><td>HD_189636</td><td>2.9103268982809842</td><td>0.013248235493462875</td><td>25.970144308219286</td><td>0.7419635016983703</td><td>0.9683943365400706</td><td>0.03773314934951546</td></tr>\n",
       "<tr><td>HD_189750</td><td>4.156962281052604</td><td>0.03829971628489321</td><td>36.14219592398721</td><td>0.5754661116683394</td><td>0.9436460960784349</td><td>0.07974840612479843</td></tr>\n",
       "<tr><td>HD_226754</td><td>1.187709408421745</td><td>0.012942784192061485</td><td>7.40678483572143</td><td>0.18595980259156958</td><td>0.7353868227670696</td><td>0.07705968190684095</td></tr>\n",
       "</table>"
      ],
      "text/plain": [
       "<Table length=35>\n",
       " Star_ID           Dnu         ...        eps               eps_err       \n",
       "  str10          float64       ...      float64             float64       \n",
       "---------- ------------------- ... ------------------ --------------------\n",
       "BD+36_3564  0.9490949804411055 ... 0.8305746287171062  0.20003026391376488\n",
       "BD+39_3577  1.6836250688792482 ... 0.7409609522947077  0.06299253167276896\n",
       "BD+42_3150   4.221788591943251 ... 0.7013731801198373  0.07075600621249865\n",
       "BD+43_3171 0.41728859981040545 ... 0.8040170562496404  0.17159665699501567\n",
       "BD+43_3213 0.48750734592283734 ... 1.0124195735754942  0.07326685394355063\n",
       "BD+48_2904  2.8511597676805804 ... 0.8563054208127122  0.08052669688943252\n",
       "BD+48_2955  0.8953098233940573 ... 0.8105480979445374 0.052471147709803705\n",
       " HD_174020  0.5639183284003043 ... 0.8926590744791576  0.08467569516842773\n",
       " HD_174829  1.2833572675283929 ... 0.7755393571480604  0.05755641850899791\n",
       " HD_175740   5.930230004063379 ... 1.0017574684895851 0.019432829648297706\n",
       "       ...                 ... ...                ...                  ...\n",
       " HD_182354  2.6567259425373924 ... 0.7424211095150425 0.041177248862450624\n",
       " HD_182531  1.0303790538910182 ... 0.8644896897235024 0.027293960706728466\n",
       " HD_182692   4.656371955263934 ... 0.8736919472802216 0.022597153253640357\n",
       " HD_182694    5.71435782334927 ... 0.9395935999968813   0.2516523703726711\n",
       " HD_183124  4.3919882085523305 ... 0.9451337192882556 0.027794156928306737\n",
       " HD_185286  0.7202161705442813 ... 0.7275758136813686  0.08183138701360353\n",
       " HD_188537  1.5481552727523136 ... 0.7178796532748889  0.06718021726784126\n",
       " HD_189636  2.9103268982809842 ... 0.9683943365400706  0.03773314934951546\n",
       " HD_189750   4.156962281052604 ... 0.9436460960784349  0.07974840612479843\n",
       " HD_226754   1.187709408421745 ... 0.7353868227670696  0.07705968190684095"
      ]
     },
     "execution_count": 17,
     "metadata": {},
     "output_type": "execute_result"
    }
   ],
   "source": [
    "seismic"
   ]
  },
  {
   "cell_type": "code",
   "execution_count": 18,
   "metadata": {},
   "outputs": [],
   "source": [
    "newtab = Table([Column([str(obj).replace('_',' ') for obj in seismic['Star_ID']],name='Object')])\n",
    "\n",
    "newkeys = ['Dnu', 'Numax', 'eps']\n",
    "names = [r'\\Dnu',r'\\numax', r'$\\epsilon$']\n",
    "units = [r'(\\muHz)', r'(\\muHz)','']\n",
    "\n",
    "for k, key in enumerate(newkeys):\n",
    "    col = seismic[key]\n",
    "    if key+'_err' in seismic.keys():\n",
    "        ecol = seismic['%s_err' % key]\n",
    "        if 'Teff' in key:\n",
    "            test = Column(['--' if 'nan' in str(col[j]) else '$%.0f \\pm %.0f$' % (col[j],ecol[j]) for j, x in enumerate(col)],name=names[k])\n",
    "        else:\n",
    "            test = Column(['--' if 'nan' in str(col[j]) else '$%.2f \\pm %.2f$' % (col[j],ecol[j]) for j, x in enumerate(col)],name=names[k])\n",
    "    else:\n",
    "        test = Column(['%.1f' % (col[j]) for j, x in enumerate(col)],name=names[k])\n",
    "    \n",
    "    newtab.add_column(test)\n",
    "\n",
    "latexdict = ascii.latex.latexdicts['AA'].copy()\n",
    "latexdict['tabletype']= 'table'\n",
    "latexdict['units'] = dict(zip(names,units))\n",
    "\n",
    "caption = r'Bulk asteroseismic parameters %s for the red giant sample as discussed in Section~\\ref{asteroseismology}.' % oxford_join(names)  \n",
    "caption = caption+r'\\label{astero_table}'\n",
    "newtab.write('../paper/astero_table.tex',format='latex',latexdict=latexdict,caption=caption+'\\label{stellar_props}',overwrite=True)\n"
   ]
  },
  {
   "cell_type": "markdown",
   "metadata": {},
   "source": [
    "### Notes on individual stars from Guy Davies\n",
    "\n",
    "BD+39_388 - No secure detection.\n",
    "\n",
    "BD+43_306 - Big peaks but not consistent enough with RG pattern.\n",
    "\n",
    "HD_179959 - Pattern is too complicated - is this two stars??  Literature says no.\n",
    "\n",
    "HD_185351 - Odd mode envelope - No explanation.\n",
    "\n",
    "HD_187217 - No info on this star - maybe a double but very difficult to tell.\n",
    "\n",
    "HD_188639 - Too difficult to get a robust Dnu.\n",
    "\n",
    "HD_188875 -  Too difficult to get a robust Dnu.\n",
    "\n",
    "HD_188629 - Too difficult to get a robust Dnu.\n",
    "\n"
   ]
  },
  {
   "cell_type": "code",
   "execution_count": 19,
   "metadata": {},
   "outputs": [
    {
     "data": {
      "image/png": "[encoded data removed]",
      "text/plain": [
       "<Figure size 432x288 with 1 Axes>"
      ]
     },
     "metadata": {},
     "output_type": "display_data"
    }
   ],
   "source": [
    "# the stars follow the expected numax-Dnu relation\n",
    "plt.errorbar(seismic['Numax'],seismic['Dnu'],xerr=seismic['Numax_err'],yerr=seismic['Dnu_err'],linestyle='none')\n",
    "plt.xlabel(r'$\\nu_{max}$ ($\\mu$Hz)')\n",
    "plt.ylabel(r'$\\Delta\\nu$ ($\\mu$Hz)')\n",
    "plt.title('Asteroseismic Parameters')\n",
    "plt.xscale('log')\n",
    "plt.yscale('log')"
   ]
  },
  {
   "cell_type": "markdown",
   "metadata": {},
   "source": [
    "### Which ones are missing?"
   ]
  },
  {
   "cell_type": "code",
   "execution_count": 20,
   "metadata": {},
   "outputs": [],
   "source": [
    "badstars = ['BD+39_388','BD+43_306','HD_179959','HD_185351','HD_187217','HD_188639','HD_188875','HD_188629']\n",
    "notes = ['No secure detection','Not consistent with RG pattern','Possible contamination',r'\\citep{2017MNRAS.464.3713H}',\n",
    "         'Possible contamination or binary',r'Too difficult to get a robust \\Dnu',r'Too difficult to get a robust \\Dnu',\n",
    "         r'Too difficult to get a robust \\Dnu']\n",
    "\n",
    "notecol = [notes[j] if star in badstars else '' for j, star in enumerate(seismic['Star_ID'])]"
   ]
  },
  {
   "cell_type": "code",
   "execution_count": 21,
   "metadata": {},
   "outputs": [
    {
     "data": {
      "text/plain": [
       "array(['BD+39_388', 'BD+43_306', 'HD_179959', 'HD_185351', 'HD_187217',\n",
       "       'HD_188629', 'HD_188639', 'HD_188875'], dtype='|S9')"
      ]
     },
     "execution_count": 21,
     "metadata": {},
     "output_type": "execute_result"
    }
   ],
   "source": [
    "np.sort(badstars)"
   ]
  },
  {
   "cell_type": "code",
   "execution_count": 22,
   "metadata": {},
   "outputs": [
    {
     "name": "stdout",
     "output_type": "stream",
     "text": [
      "BD+43_3064\n",
      "HD_179959\n",
      "HD_185351\n",
      "HD_187217\n",
      "HD_188629\n",
      "HD_188875\n"
     ]
    }
   ],
   "source": [
    "for star in merged['Object']:\n",
    "    if star not in seismic['Star_ID']:\n",
    "        print star"
   ]
  },
  {
   "cell_type": "code",
   "execution_count": 23,
   "metadata": {},
   "outputs": [
    {
     "name": "stdout",
     "output_type": "stream",
     "text": [
      "BD+42_3150\n",
      "BD+48_2904\n",
      "HD_176209\n",
      "HD_182354\n",
      "HD_189636\n",
      "HD_189750\n"
     ]
    }
   ],
   "source": [
    "for star in seismic['Star_ID']:\n",
    "    if star not in merged['Object']:\n",
    "        print star"
   ]
  },
  {
   "cell_type": "markdown",
   "metadata": {},
   "source": [
    "## Read the main catalogue"
   ]
  },
  {
   "cell_type": "code",
   "execution_count": 24,
   "metadata": {},
   "outputs": [],
   "source": [
    "fname_cat = '../data/catalogue.csv'\n",
    "cat = Table.read(fname_cat,format='ascii')\n",
    "cat.sort('kepmag')"
   ]
  },
  {
   "cell_type": "code",
   "execution_count": 25,
   "metadata": {},
   "outputs": [],
   "source": [
    "# cat"
   ]
  },
  {
   "cell_type": "code",
   "execution_count": 26,
   "metadata": {},
   "outputs": [],
   "source": [
    "# print 'Clump Candidates:',oxford_join([name.replace('_',' ') for name in cat[np.array(['clump' in thing for thing in list(cat['Notes'].data.data[:])])]['Name']])"
   ]
  },
  {
   "cell_type": "markdown",
   "metadata": {},
   "source": [
    "### Now to get SIMBAD queries"
   ]
  },
  {
   "cell_type": "code",
   "execution_count": 27,
   "metadata": {},
   "outputs": [],
   "source": [
    "from astroquery.simbad import Simbad\n",
    "from astropy import coordinates as coord\n",
    "from astropy import units as u\n"
   ]
  },
  {
   "cell_type": "code",
   "execution_count": 131,
   "metadata": {},
   "outputs": [],
   "source": [
    "Simbad.reset_votable_fields()\n",
    "Simbad.add_votable_fields('sptype')\n",
    "sim = Simbad.query_objects(cat['Name'])\n",
    "cat['SpType'] = sim['SP_TYPE']\n",
    "sim.write('smear_intermediate.csv',overwrite=True)\n",
    "sim = Table.read('smear_intermediate.csv')\n",
    "c = coord.SkyCoord(ra=sim['RA'], dec=sim['DEC'],unit=(u.hourangle, u.deg), frame='icrs')\n"
   ]
  },
  {
   "cell_type": "code",
   "execution_count": 122,
   "metadata": {},
   "outputs": [],
   "source": [
    "new = Table([Column([cc.ra.deg for cc in c],name='RA',unit='deg',description='RA'),Column([cc.dec.deg for cc in c],name='Dec',unit='deg',description='Dec')],masked=False)\n",
    "# new.write('../data/smear_simbad.csv',overwrite=True)"
   ]
  },
  {
   "cell_type": "markdown",
   "metadata": {},
   "source": [
    "We then use the gaia tap service at http://gaia.ari.uni-heidelberg.de/tap.html for crossmatch \n",
    "using the command\n",
    "\n",
    "SELECT bj.source_id, sm.ra, sm.dec, sm.phot_g_mean_mag, bj.r_est, bj.r_lo, bj.r_hi\n",
    "FROM gaiadr2_complements.geometric_distance as bj \n",
    "JOIN TAP_UPLOAD.smear AS sm ON sm.source_id = bj.source_id"
   ]
  },
  {
   "cell_type": "code",
   "execution_count": 123,
   "metadata": {},
   "outputs": [
    {
     "data": {
      "text/html": [
       "&lt;Table masked=True length=1&gt;\n",
       "<table id=\"table4880101776\" class=\"table-striped table-bordered table-condensed\">\n",
       "<thead><tr><th>input_position</th><th>distance</th><th>source_id</th><th>designation</th><th>ra</th><th>dec</th><th>l</th><th>b</th><th>ecl_lon</th><th>ecl_lat</th><th>parallax</th><th>pmra</th><th>pmdec</th><th>phot_g_mean_mag</th><th>phot_bp_mean_mag</th><th>phot_rp_mean_mag</th><th>ra_error</th><th>dec_error</th><th>parallax_error</th><th>pmra_error</th><th>pmdec_error</th><th>a_g_percentile_lower</th><th>a_g_percentile_upper</th><th>a_g_val</th><th>astrometric_chi2_al</th><th>astrometric_excess_noise</th><th>astrometric_excess_noise_sig</th><th>astrometric_gof_al</th><th>astrometric_matched_observations</th><th>astrometric_n_bad_obs_al</th><th>astrometric_n_good_obs_al</th><th>astrometric_n_obs_ac</th><th>astrometric_n_obs_al</th><th>astrometric_params_solved</th><th>astrometric_primary_flag</th><th>astrometric_pseudo_colour</th><th>astrometric_pseudo_colour_error</th><th>astrometric_sigma5d_max</th><th>astrometric_weight_al</th><th>bp_g</th><th>bp_rp</th><th>dec_parallax_corr</th><th>dec_pmdec_corr</th><th>dec_pmra_corr</th><th>duplicated_source</th><th>e_bp_min_rp_percentile_lower</th><th>e_bp_min_rp_percentile_upper</th><th>e_bp_min_rp_val</th><th>flame_flags</th><th>frame_rotator_object_type</th><th>g_rp</th><th>lum_percentile_lower</th><th>lum_percentile_upper</th><th>lum_val</th><th>matched_observations</th><th>mean_varpi_factor_al</th><th>parallax_over_error</th><th>parallax_pmdec_corr</th><th>parallax_pmra_corr</th><th>phot_bp_mean_flux</th><th>phot_bp_mean_flux_error</th><th>phot_bp_mean_flux_over_error</th><th>phot_bp_n_obs</th><th>phot_bp_rp_excess_factor</th><th>phot_g_mean_flux</th><th>phot_g_mean_flux_error</th><th>phot_g_mean_flux_over_error</th><th>phot_g_n_obs</th><th>phot_proc_mode</th><th>phot_rp_mean_flux</th><th>phot_rp_mean_flux_error</th><th>phot_rp_mean_flux_over_error</th><th>phot_rp_n_obs</th><th>phot_variable_flag</th><th>pmra_pmdec_corr</th><th>priam_flags</th><th>ra_dec_corr</th><th>radial_velocity</th><th>radial_velocity_error</th><th>radius_percentile_lower</th><th>radius_percentile_upper</th><th>radius_val</th><th>random_index</th><th>ra_parallax_corr</th><th>ra_pmdec_corr</th><th>ra_pmra_corr</th><th>ref_epoch</th><th>rv_nb_transits</th><th>rv_template_fe_h</th><th>rv_template_logg</th><th>rv_template_teff</th><th>solution_id</th><th>teff_percentile_lower</th><th>teff_percentile_upper</th><th>teff_val</th><th>visibility_periods_used</th><th>other_ids</th></tr></thead>\n",
       "<thead><tr><th>str37</th><th>float64</th><th>int64</th><th>str28</th><th>float64</th><th>float64</th><th>float64</th><th>float64</th><th>float64</th><th>float64</th><th>float64</th><th>float64</th><th>float64</th><th>float64</th><th>float64</th><th>float64</th><th>float64</th><th>float64</th><th>float64</th><th>float64</th><th>float64</th><th>float64</th><th>float64</th><th>float64</th><th>float64</th><th>float64</th><th>float64</th><th>float64</th><th>int64</th><th>int64</th><th>int64</th><th>int64</th><th>int64</th><th>int64</th><th>str5</th><th>float64</th><th>float64</th><th>float64</th><th>float64</th><th>float64</th><th>float64</th><th>float64</th><th>float64</th><th>float64</th><th>str5</th><th>float64</th><th>float64</th><th>float64</th><th>int64</th><th>int64</th><th>float64</th><th>float64</th><th>float64</th><th>float64</th><th>int64</th><th>float64</th><th>float64</th><th>float64</th><th>float64</th><th>float64</th><th>float64</th><th>float64</th><th>int64</th><th>float64</th><th>float64</th><th>float64</th><th>float64</th><th>int64</th><th>int64</th><th>float64</th><th>float64</th><th>float64</th><th>int64</th><th>str13</th><th>float64</th><th>int64</th><th>float64</th><th>float64</th><th>float64</th><th>float64</th><th>float64</th><th>float64</th><th>int64</th><th>float64</th><th>float64</th><th>float64</th><th>float64</th><th>int64</th><th>float64</th><th>float64</th><th>float64</th><th>int64</th><th>float64</th><th>float64</th><th>float64</th><th>int64</th><th>str28</th></tr></thead>\n",
       "<tr><td>292.8180758333333,47.4810425</td><td>3.045468683588237e-07</td><td>2128480311802353536</td><td>Gaia DR2 2128480311802353536</td><td>292.81807623838415</td><td>47.48104263345887</td><td>79.74870041852522</td><td>13.41873522969091</td><td>313.2763085812297</td><td>67.52199730593198</td><td>--</td><td>--</td><td>--</td><td>6.813094</td><td>6.958596</td><td>6.607133</td><td>0.9129593534678879</td><td>0.9111506259110029</td><td>--</td><td>--</td><td>--</td><td>--</td><td>--</td><td>--</td><td>2184183.8</td><td>10.558104629072224</td><td>41534.46944489842</td><td>621.83044</td><td>21</td><td>0</td><td>178</td><td>178</td><td>178</td><td>3</td><td>false</td><td>--</td><td>--</td><td>1.8702852</td><td>0.0074779573</td><td>0.14550209</td><td>0.35146332</td><td>--</td><td>--</td><td>--</td><td>false</td><td>--</td><td>--</td><td>--</td><td>--</td><td>0</td><td>0.20596123</td><td>--</td><td>--</td><td>--</td><td>35</td><td>0.02136786</td><td>--</td><td>--</td><td>--</td><td>22757088.525844857</td><td>41156.05079937947</td><td>552.94635</td><td>25</td><td>1.1562203</td><td>35490213.691373415</td><td>20109.96568065563</td><td>1764.8073</td><td>237</td><td>0</td><td>18277417.46653145</td><td>39762.3565107829</td><td>459.66635</td><td>24</td><td>NOT_AVAILABLE</td><td>--</td><td>130001</td><td>-0.090708636</td><td>--</td><td>--</td><td>--</td><td>--</td><td>--</td><td>1344301503</td><td>--</td><td>--</td><td>--</td><td>2015.5</td><td>0</td><td>--</td><td>--</td><td>--</td><td>1635721458409799680</td><td>7372.0</td><td>7750.0</td><td>7461.5</td><td>15</td><td>Gaia DR1 2128480307502062848</td></tr>\n",
       "</table>"
      ],
      "text/plain": [
       "<Table masked=True length=1>\n",
       "       input_position        ...          other_ids          \n",
       "           str37             ...            str28            \n",
       "---------------------------- ... ----------------------------\n",
       "292.8180758333333,47.4810425 ... Gaia DR1 2128480307502062848"
      ]
     },
     "execution_count": 123,
     "metadata": {},
     "output_type": "execute_result"
    }
   ],
   "source": [
    "gaia = Table.read('../data/gaia_new.csv')\n",
    "gaia[gaia['source_id']==2128480311802353536]"
   ]
  },
  {
   "cell_type": "code",
   "execution_count": 124,
   "metadata": {},
   "outputs": [],
   "source": [
    "def abs_mag(app_mag,dist):\n",
    "    return app_mag - 5.*(np.log10(dist) - 1.)"
   ]
  },
  {
   "cell_type": "code",
   "execution_count": 125,
   "metadata": {},
   "outputs": [],
   "source": [
    "\n",
    "\n",
    "dists = Table.read('../data/dists_new.csv')\n",
    "dists.insert_row(38,\n",
    "                 vals={'source_id':2128480311802353536,'r_est':np.nan,'r_lo':np.nan,'r_hi':np.nan})\n",
    "gaia = join(dists,gaia,keys='source_id')\n",
    "\n",
    "args = np.argsort(new['RA'])\n",
    "args2 = np.argsort(args)\n",
    "gaia.sort('ra')\n",
    "gaia = gaia[args2]\n",
    "\n",
    "\n",
    "bp, rp, gg = gaia['phot_bp_mean_mag'], gaia['phot_rp_mean_mag'], gaia['phot_g_mean_mag']\n",
    "abs_gg = abs_mag(gg,dists['r_est'])\n",
    "gaia['abs_gg'] = abs_gg\n",
    "gaia['bp_rp'] = bp-rp\n",
    "abs_gg_hi = abs_mag(gg,dists['r_hi'])\n",
    "abs_gg_lo = abs_mag(gg,dists['r_lo'])"
   ]
  },
  {
   "cell_type": "code",
   "execution_count": 126,
   "metadata": {},
   "outputs": [],
   "source": [
    "# V2083_Cyg doesn't have a parallax\n",
    "# dists.insert_row(38,\n",
    "#                  vals={'source_id':2128480311802353536,'ra':292.818076238,'dec':47.481042633,\n",
    "#                        'phot_g_mean_mag':6.81,'r_est':np.nan,'r_lo':np.nan,'r_hi':np.nan})\n"
   ]
  },
  {
   "cell_type": "code",
   "execution_count": 128,
   "metadata": {},
   "outputs": [
    {
     "data": {
      "text/plain": [
       "<matplotlib.legend.Legend at 0x122dace90>"
      ]
     },
     "execution_count": 128,
     "metadata": {},
     "output_type": "execute_result"
    },
    {
     "data": {
      "image/png": "[encoded data removed]",
      "text/plain": [
       "<Figure size 864x648 with 1 Axes>"
      ]
     },
     "metadata": {},
     "output_type": "display_data"
    }
   ],
   "source": [
    "# # # check the RA/Dec are the same\n",
    "plt.plot(new['RA'],label='Input')\n",
    "plt.plot(gaia['ra'],label='Gaia')\n",
    "plt.legend()"
   ]
  },
  {
   "cell_type": "code",
   "execution_count": 35,
   "metadata": {},
   "outputs": [],
   "source": [
    "# plt.plot(cat['kepmag'],gaia['phot_g_mean_mag'])"
   ]
  },
  {
   "cell_type": "code",
   "execution_count": 36,
   "metadata": {},
   "outputs": [],
   "source": [
    "# cat[np.abs(gaia['phot_g_mean_mag']-cat['kepmag'])>0.75]#.sort(np.abs(dists['phot_g_mean_mag']-cat['kepmag']))"
   ]
  },
  {
   "cell_type": "code",
   "execution_count": 37,
   "metadata": {},
   "outputs": [],
   "source": [
    "# gaia[np.abs(gaia['phot_g_mean_mag']-cat['kepmag'])>0.75]#.sort(np.abs(dists['phot_g_mean_mag']-cat['kepmag']))"
   ]
  },
  {
   "cell_type": "code",
   "execution_count": 38,
   "metadata": {},
   "outputs": [],
   "source": [
    "# Table(gaia['source_id']).write('sources.csv')"
   ]
  },
  {
   "cell_type": "code",
   "execution_count": 137,
   "metadata": {},
   "outputs": [],
   "source": [
    "# newcat = cat.copy()\n",
    "brightkep = Table.read('../data/Bright_Kep_new.csv')\n",
    "var = Table.read('../data/variability.csv')\n",
    "newcat = join(cat,brightkep,keys='Name')\n",
    "newcat = join(newcat,var,keys='Name')\n",
    "fname_spc = '../data/spc_giants.csv'\n",
    "spc_data = Table.read(fname_spc,format='ascii')\n",
    "\n",
    "newcat['TRES?'] = ['TRES' if obj in spc_data['Object'] else '--' for obj in newcat['Name']]\n",
    "newcat.add_column(gaia['source_id'])\n",
    "\n",
    "newcat = join(newcat,gaia['bp_rp','source_id','r_est','r_lo','r_hi','phot_g_mean_mag'],keys='source_id',join_type=u'left')\n",
    "\n",
    "newcat.sort('Name')"
   ]
  },
  {
   "cell_type": "code",
   "execution_count": 138,
   "metadata": {},
   "outputs": [],
   "source": [
    "gaia['Name'] = [newcat['Name'][newcat['source_id']==obj][0] for obj in gaia['source_id']]\n",
    "\n",
    "gaia['TRES'] = [newcat['TRES?'][newcat['source_id']==obj][0] for obj in gaia['source_id']]\n",
    "pdg = gaia.to_pandas()"
   ]
  },
  {
   "cell_type": "code",
   "execution_count": 141,
   "metadata": {},
   "outputs": [
    {
     "name": "stdout",
     "output_type": "stream",
     "text": [
      "Written ../paper/all_stars.tex\n",
      "Written ../paper/all_stars2.tex\n"
     ]
    }
   ],
   "source": [
    "for l, ccat in enumerate([newcat[:52],newcat[52:]]):\n",
    "\n",
    "    newtab = Table([Column([str(obj).replace('_',' ') for obj in ccat['Name']],name='Object')])\n",
    "\n",
    "    newkeys = ['Kepler_ID','SpType','kepmag', 'phot_g_mean_mag','bp_rp','r_est','TRES?','Class']\n",
    "    names = [r'KIC',r'Spectral Type',r'$Kp$',r'$G$',r'$Bp-Rp$',r'\\gaia Distance','TRES','Variability']\n",
    "    units = ['',r'(SIMBAD)', r'(mag)','(mag)',r'(mag)','(pc)','','Class']\n",
    "    \n",
    "    translator_class = {'LPV':'LPV',\n",
    "                        'RG':'RG',\n",
    "                        'GD/DS Hybrid':r'$\\gamma\\,\\text{Dor} /\\delta\\,\\text{Sct}$',\n",
    "                        'GD':r'$\\gamma\\,\\text{Dor}$',\n",
    "                        'DS':r'$\\delta\\,\\text{Sct}$',\n",
    "                        '?':'?',\n",
    "                        '-':r'--',\n",
    "                        'Hump & Spike':'H+S',\n",
    "                        'GD/Hump & Spike':r'$\\gamma\\,\\text{Dor}$,\\,H+S',\n",
    "                        'SPB/Hump & Spike':r'SPB,\\,H+S',\n",
    "                        'EV':'EV',\n",
    "                        'EB':'EB',\n",
    "                        'SPB':'SPB',\n",
    "                        'Irregular':'Irregular',\n",
    "                        'a2cvn':r'$\\alpha^2\\,\\text{CVn}$',\n",
    "                        'RM':r'RM',\n",
    "                        'Eruptive':r'Eruptive'\n",
    "                       }\n",
    "\n",
    "    for k, key in enumerate(newkeys):\n",
    "        col = ccat[key]\n",
    "        if 'RE' in key:\n",
    "            test = Column(['\\checkmark' if 'TRES' in entry else '--' for entry in col],name=names[k])\n",
    "        elif 'bs' in key:\n",
    "            test = Column([entry.replace('under','') if 'under' in entry else 'unobserved' for entry in col],name=names[k])\n",
    "        elif 'ype' in key:\n",
    "            test = Column(['--' if np.ma.is_masked(entry) else entry for entry in col],name=names[k])\n",
    "        elif 'est' in key:\n",
    "            upcol = ccat['r_hi']\n",
    "            downcol = ccat['r_lo']\n",
    "            test = Column(['--' if 'nan' in str(col[j]) else '$%.1f^{+%.1f}_{-%.1f}$' % (col[j],upcol[j]-col[j],col[j]-downcol[j]) for j, x in enumerate(col)],name=names[k])\n",
    "        elif key =='Class':\n",
    "            test = Column([translator_class[entry] for entry in col],name=names[k])\n",
    "        elif 'mag' in key:\n",
    "            test = Column(['%.3f' % d for d in col.data],name=names[k])\n",
    "        elif 'bp' in key:\n",
    "            test = Column(['%.3f' % d for d in col.data],name=names[k])\n",
    "        else:\n",
    "            test = Column(col.data,name=names[k])\n",
    "#         if key == 'TRES?':\n",
    "#             test = Column(['TRES' if newtab['Object'][j].replace(' ','_') in merged['Object'] else '--' for j,entry in enumerate(col)], name=names[k])\n",
    "        newtab.add_column(test)\n",
    "    \n",
    "    latexdict = ascii.latex.latexdicts['AA'].copy()\n",
    "    latexdict['tabletype']= 'table*'\n",
    "    latexdict['units'] = dict(zip(names,units))\n",
    "    if l == 0:\n",
    "        caption = r\"The full set of underobserved and unobserved stars for which new light curves have been produced in this smear catalogue. \\\n",
    "        Calibrated \\gaia distances are from \\citet{gaiadists}. \\\n",
    "        Some objects, such as HD~185351, were observed in long cadence in some quarters and short cadence in others, and this is noted accordingly. \\\n",
    "        The eclipsing binary V2083~Cyg was detected by \\gaia, but a parallax could not be obtained in DR2, possibly due to binary motion.\\\n",
    "        Variability classes are determined by inspection, having their usual abbreviations. \\\n",
    "        EV denotes an ellipsoidal variable, and RM rotational modulation, though these two can appear similar. $\\alpha^2\\,\\text{CVn}$ variables are chemically-peculiar stars with rotational spot modulation,\\\n",
    "        and are noted separately from RM without chemical peculiarity.\\\n",
    "        $\\gamma\\,\\text{Dor} /\\delta\\,\\text{Sct}$ denotes a $\\gamma\\,\\text{Dor} /\\delta\\,\\text{Sct}$ hybrid, not uncertainty.\\\n",
    "        H+S denotes a `hump and spike' star.\\\n",
    "        Question marks indicate uncertainty, and dashes -- that no significant variability is observed.\" \n",
    "        caption = caption+r'\\label{all_stars}'\n",
    "        newtab.write('../paper/all_stars.tex',format='latex',latexdict=latexdict,caption=caption+'\\label{all_stars}',overwrite=True)\n",
    "        print 'Written %s' % '../paper/all_stars.tex'\n",
    "    else:\n",
    "        latexdict['preamble'] = '\\contcaption{The full set of underobserved and unobserved stars for which new light curves have been produced in this smear catalogue. Calibrated \\gaia distances are from \\citet{gaiadists}. \\label{all_stars_cont}}'\n",
    "        newtab.write('../paper/all_stars2.tex',format='latex',latexdict=latexdict,overwrite=True)\n",
    "        print 'Written %s' % '../paper/all_stars2.tex'\n",
    "        \n",
    "\n",
    "newtab = Table([Column([str(obj).replace('_',' ') for obj in newcat['Name']],name='Object')])\n",
    "\n",
    "newkeys = ['Kepler_ID','SpType','kepmag', 'phot_g_mean_mag','r_est','Observed', 'TRES?','Class']\n",
    "names = [r'KIC',r'Spectral Type',r'$Kp$',r'$G$',r'\\gaia Distance',r'Observed','Spectroscopy','Variability']\n",
    "units = ['',r'(SIMBAD)', r'(mag)','(mag)','(pc)','','','Class']\n",
    "\n",
    "for k, key in enumerate(newkeys):\n",
    "    col = newcat[key]\n",
    "    if 'bs' in key:\n",
    "        test = Column([entry.replace('under','') if 'under' in entry else 'unobserved' for entry in col],name=names[k])\n",
    "    elif 'ype' in key:\n",
    "        test = Column(['--' if np.ma.is_masked(entry) else entry for entry in col],name=names[k])\n",
    "    elif 'est' in key:\n",
    "        upcol = newcat['r_hi']\n",
    "        downcol = newcat['r_lo']\n",
    "        test = Column(['--' if 'nan' in str(col[j]) else '$%.1f^{+%.1f}_{-%.1f}$' % (col[j],upcol[j]-col[j],col[j]-downcol[j]) for j, x in enumerate(col)],name=names[k])\n",
    "    elif key =='Class':\n",
    "        test = Column([translator_class[entry] for entry in col],name=names[k])\n",
    "    elif 'mag' in key:\n",
    "        test = Column(['%.3f' % d for d in col.data],name=names[k])\n",
    "    elif 'bp' in key:\n",
    "        test = Column(['%.3f' % d for d in col.data],name=names[k])\n",
    "    else:\n",
    "        test = Column(col.data,name=names[k])\n",
    "#     if key == 'TRES?':\n",
    "#         test = Column(['TRES' if newtab['Object'][j].replace(' ','_') in merged['Object'] else '--' for j,entry in enumerate(col)], name=names[k])\n",
    "    newtab.add_column(test)\n",
    "\n",
    "latexdict = ascii.latex.latexdicts['AA'].copy()\n",
    "latexdict['tabletype']= 'table*'\n",
    "latexdict['units'] = dict(zip(names,units))\n"
   ]
  },
  {
   "cell_type": "code",
   "execution_count": 42,
   "metadata": {},
   "outputs": [],
   "source": [
    "col = ccat['r_est']\n",
    "upcol = ccat['r_hi']\n",
    "downcol = ccat['r_lo']\n",
    "test = Column(['--' if 'nan' in str(col[j]) else '$%.2f^{+%.2f}_{-%.2f}$' % (col[j],upcol[j]-col[j],col[j]-downcol[j]) for j, x in enumerate(col)])\n"
   ]
  },
  {
   "cell_type": "code",
   "execution_count": 43,
   "metadata": {},
   "outputs": [],
   "source": [
    "# for_keith = newcat['Name','ra','dec']\n",
    "# for_keith.write('star_coords_keith.csv')"
   ]
  },
  {
   "cell_type": "code",
   "execution_count": 44,
   "metadata": {},
   "outputs": [
    {
     "data": {
      "text/html": [
       "&lt;Table masked=True length=102&gt;\n",
       "<table id=\"table4842438160\" class=\"table-striped table-bordered table-condensed\">\n",
       "<thead><tr><th>Name</th><th>SpType</th><th>[Fe/H]</th><th>theta</th><th>Observed</th><th>Seasons</th><th>Teff</th><th>Log_G</th><th>E(B-V)</th><th>g</th><th>r</th><th>J</th><th>kepmag</th><th>Edge_Dist</th><th>Notes</th><th>Collaborators</th><th>Interferometry?</th><th>TRES?</th><th>Kepler_ID</th><th>Class</th><th>source_id</th><th>bp_rp</th><th>r_est</th><th>r_lo</th><th>r_hi</th><th>phot_g_mean_mag</th></tr></thead>\n",
       "<thead><tr><th>str10</th><th>str16</th><th>float64</th><th>float64</th><th>str29</th><th>int64</th><th>int64</th><th>float64</th><th>float64</th><th>float64</th><th>float64</th><th>float64</th><th>float64</th><th>int64</th><th>str84</th><th>str16</th><th>str3</th><th>str4</th><th>int64</th><th>str12</th><th>int64</th><th>float64</th><th>float64</th><th>float64</th><th>float64</th><th>float64</th></tr></thead>\n",
       "<tr><td>14_Cyg</td><td>G8.5IIIbFe-0.5</td><td>0.08</td><td>0.267</td><td>unobserved</td><td>4</td><td>--</td><td>--</td><td>--</td><td>5.334</td><td>5.394</td><td>5.365</td><td>5.49</td><td>0</td><td>contact binary, interesting ramp at low freq</td><td>--</td><td>--</td><td>--</td><td>7292420</td><td>Hump &amp; Spike</td><td>2077959092540451456</td><td>-0.054938400000000165</td><td>194.251074278231</td><td>187.684456735487</td><td>201.285145272043</td><td>5.3699827</td></tr>\n",
       "<tr><td>BD+36_3564</td><td>F5II-III</td><td>--</td><td>--</td><td>unobserved</td><td>4</td><td>--</td><td>--</td><td>--</td><td>9.944</td><td>8.516</td><td>6.134</td><td>8.128</td><td>141</td><td>RG</td><td>--</td><td>--</td><td>TRES</td><td>1575741</td><td>RG</td><td>2051728490311183744</td><td>1.5440902999999997</td><td>547.117106264667</td><td>535.997662270272</td><td>558.699048472257</td><td>8.040623</td></tr>\n",
       "<tr><td>BD+39_3577</td><td>G8III</td><td>--</td><td>--</td><td>unobserved</td><td>4</td><td>4870</td><td>2.513</td><td>0.057</td><td>8.819</td><td>8.062</td><td>6.636</td><td>8.131</td><td>217</td><td>RG</td><td>--</td><td>--</td><td>TRES</td><td>4989821</td><td>RG</td><td>2103507894472422656</td><td>1.1338274999999998</td><td>311.650670508792</td><td>308.9914182984</td><td>314.355261317156</td><td>8.089526</td></tr>\n",
       "<tr><td>BD+39_3882</td><td>A2V</td><td>--</td><td>--</td><td>unobserved</td><td>4</td><td>6241</td><td>4.186</td><td>0.02</td><td>8.463</td><td>8.192</td><td>7.36</td><td>8.259</td><td>0</td><td>bad light curve</td><td>--</td><td>--</td><td>--</td><td>4850372</td><td>?</td><td>2076372669064227200</td><td>0.616321000000001</td><td>143.266948083662</td><td>142.59154490081</td><td>143.94866508398</td><td>8.158849</td></tr>\n",
       "<tr><td>BD+42_3150</td><td>B9III</td><td>--</td><td>--</td><td>unobserved</td><td>4</td><td>4716</td><td>2.329</td><td>0.063</td><td>9.111</td><td>8.257</td><td>6.743</td><td>8.35</td><td>261</td><td>not sure</td><td>--</td><td>--</td><td>--</td><td>7091342</td><td>?</td><td>2116742544137540608</td><td>1.205577</td><td>545.954282342101</td><td>516.819773786676</td><td>578.502581535217</td><td>8.31532</td></tr>\n",
       "<tr><td>BD+42_3367</td><td>B5V</td><td>--</td><td>--</td><td>unobserved</td><td>4</td><td>--</td><td>--</td><td>--</td><td>9.468</td><td>7.756</td><td>4.983</td><td>7.271</td><td>269</td><td>RG: low freq</td><td>--</td><td>--</td><td>TRES</td><td>7447756</td><td>LPV</td><td>2125866188548442240</td><td>2.020433699999999</td><td>761.98189491859</td><td>746.828779128639</td><td>777.751092763516</td><td>6.991751</td></tr>\n",
       "<tr><td>BD+42_3393</td><td>M1III</td><td>--</td><td>--</td><td>unobserved</td><td>4</td><td>--</td><td>--</td><td>--</td><td>9.86</td><td>8.149</td><td>5.362</td><td>7.664</td><td>139</td><td>RG: low freq</td><td>--</td><td>--</td><td>TRES</td><td>6870455</td><td>LPV</td><td>2077747333469959168</td><td>1.952289099999999</td><td>928.952108024118</td><td>904.41632341393</td><td>954.830724423781</td><td>7.4138913</td></tr>\n",
       "<tr><td>BD+43_3064</td><td>G7IIIa</td><td>--</td><td>--</td><td>unobserved</td><td>3</td><td>--</td><td>--</td><td>--</td><td>10.18</td><td>8.692</td><td>6.205</td><td>8.284</td><td>0</td><td>RG</td><td>--</td><td>--</td><td>TRES</td><td>8075287</td><td>RG</td><td>2117284053614333312</td><td>1.5986399999999996</td><td>641.029617229135</td><td>621.919910626924</td><td>661.328015894773</td><td>8.20331</td></tr>\n",
       "<tr><td>BD+43_3068</td><td>B1.1III+B2.5/3V:</td><td>--</td><td>--</td><td>unobserved</td><td>4</td><td>5506</td><td>4.394</td><td>0.011</td><td>8.754</td><td>8.254</td><td>7.181</td><td>8.308</td><td>0</td><td>not good</td><td>--</td><td>--</td><td>--</td><td>8006792</td><td>-</td><td>2117267079903573504</td><td>0.8389476000000009</td><td>53.7738365747513</td><td>53.6508736699958</td><td>53.8973543593231</td><td>8.267944</td></tr>\n",
       "<tr><td>BD+43_3171</td><td>M3III</td><td>--</td><td>--</td><td>unobserved</td><td>4</td><td>--</td><td>--</td><td>--</td><td>10.412</td><td>8.818</td><td>5.904</td><td>8.373</td><td>332</td><td>RG: very low freq?</td><td>--</td><td>--</td><td>TRES</td><td>7810954</td><td>LPV</td><td>2105998150870718080</td><td>1.8577212999999997</td><td>751.476917005421</td><td>735.000815376891</td><td>768.694554141662</td><td>8.178079</td></tr>\n",
       "<tr><td>...</td><td>...</td><td>...</td><td>...</td><td>...</td><td>...</td><td>...</td><td>...</td><td>...</td><td>...</td><td>...</td><td>...</td><td>...</td><td>...</td><td>...</td><td>...</td><td>...</td><td>...</td><td>...</td><td>...</td><td>...</td><td>...</td><td>...</td><td>...</td><td>...</td><td>...</td></tr>\n",
       "<tr><td>HD_226754</td><td>--</td><td>--</td><td>--</td><td>unobserved</td><td>2</td><td>--</td><td>--</td><td>--</td><td>9.729</td><td>8.238</td><td>5.627</td><td>7.829</td><td>--</td><td>RG: poor quality</td><td>--</td><td>--</td><td>TRES</td><td>6234579</td><td>RG</td><td>2075352803312372224</td><td>1.6523865000000004</td><td>391.819751503071</td><td>385.93657262837</td><td>397.88176677788</td><td>7.702354</td></tr>\n",
       "<tr><td>V2079_Cyg</td><td>K0</td><td>--</td><td>--</td><td>unobserved, alpha2 Cvn</td><td>4</td><td>--</td><td>--</td><td>--</td><td>6.921</td><td>7.059</td><td>7.331</td><td>7.174</td><td>93</td><td>Classical Pulsator</td><td>--</td><td>--</td><td>--</td><td>8818020</td><td>a2cvn</td><td>2126627978307068672</td><td>-0.2207068999999997</td><td>321.472917470688</td><td>317.860096187438</td><td>325.167308507588</td><td>7.034088</td></tr>\n",
       "<tr><td>V2083_Cyg</td><td>F5</td><td>--</td><td>--</td><td>unobserved EB</td><td>4</td><td>--</td><td>--</td><td>--</td><td>7.143</td><td>6.884</td><td>6.317</td><td>6.902</td><td>0</td><td>EB</td><td>--</td><td>--</td><td>--</td><td>10342012</td><td>EB</td><td>2128480311802353536</td><td>0.35146299999999986</td><td>nan</td><td>nan</td><td>nan</td><td>6.813094</td></tr>\n",
       "<tr><td>V380_Cyg</td><td>K5</td><td>1.25</td><td>0.226</td><td>LC:Q11 SC:Q7 9 10 12-17 under</td><td>4</td><td>--</td><td>--</td><td>--</td><td>5.615</td><td>5.675</td><td>5.712</td><td>5.771</td><td>122</td><td>Eclipsing_binary</td><td>--</td><td>--</td><td>--</td><td>5385723</td><td>EB</td><td>2073743839843579776</td><td>-0.06196119999999983</td><td>1044.67154927546</td><td>949.069840098863</td><td>1161.2897500675</td><td>5.6319346</td></tr>\n",
       "<tr><td>V398_Lyr</td><td>G0</td><td>--</td><td>--</td><td>unobserved</td><td>4</td><td>--</td><td>--</td><td>--</td><td>8.877</td><td>7.421</td><td>1.869</td><td>7.024</td><td>49</td><td>RG</td><td>--</td><td>--</td><td>TRES</td><td>4042516</td><td>RG</td><td>2100382189073830528</td><td>3.4057967000000007</td><td>494.665556977779</td><td>464.050015806101</td><td>529.522722362535</td><td>5.4027195</td></tr>\n",
       "<tr><td>V543_Lyr</td><td>K5</td><td>-0.05</td><td>--</td><td>unobserved bCep</td><td>4</td><td>--</td><td>--</td><td>--</td><td>6.037</td><td>6.182</td><td>6.477</td><td>6.299</td><td>0</td><td>Classical Pulsator</td><td>--</td><td>--</td><td>--</td><td>5429169</td><td>SPB</td><td>2103449001881575680</td><td>-0.21705810000000003</td><td>345.122761295331</td><td>339.701603163104</td><td>350.716550663015</td><td>6.159548</td></tr>\n",
       "<tr><td>V546_Lyr</td><td>K0</td><td>--</td><td>--</td><td>unobserved</td><td>4</td><td>--</td><td>--</td><td>--</td><td>9.457</td><td>7.838</td><td>4.077</td><td>7.385</td><td>82</td><td>RG: low freq</td><td>--</td><td>--</td><td>TRES</td><td>6267345</td><td>LPV</td><td>2104055760501638016</td><td>2.442902700000001</td><td>587.76713557741</td><td>575.205881946328</td><td>600.878880067927</td><td>6.784268</td></tr>\n",
       "<tr><td>V547_Lyr</td><td>M0</td><td>--</td><td>--</td><td>unobserved</td><td>4</td><td>--</td><td>--</td><td>--</td><td>8.109</td><td>6.611</td><td>2.258</td><td>6.199</td><td>48</td><td>RG: low freq</td><td>--</td><td>--</td><td>TRES</td><td>5429948</td><td>LPV</td><td>2103815448491466496</td><td>2.7247879999999993</td><td>288.920092314708</td><td>276.921626546759</td><td>301.985143696241</td><td>5.227579</td></tr>\n",
       "<tr><td>V554_Lyr</td><td>K0</td><td>--</td><td>--</td><td>unobserved</td><td>2</td><td>9887</td><td>4.309</td><td>0.051</td><td>7.97</td><td>8.248</td><td>8.266</td><td>8.179</td><td>0</td><td>Missing - alpha2 Cvn</td><td>--</td><td>--</td><td>--</td><td>5001462</td><td>a2cvn</td><td>2101290316961062400</td><td>-0.1290969999999998</td><td>335.749513113855</td><td>331.237286508456</td><td>340.384110652163</td><td>8.092074</td></tr>\n",
       "<tr><td>V819_Cyg</td><td>K0</td><td>--</td><td>--</td><td>LC:Q14 16 17 under</td><td>4</td><td>--</td><td>--</td><td>--</td><td>6.15</td><td>6.27</td><td>6.481</td><td>6.381</td><td>178</td><td>sharp peaks</td><td>--</td><td>--</td><td>--</td><td>10618721</td><td>SPB</td><td>2086460069767734656</td><td>-0.16036509999999993</td><td>1114.03334931676</td><td>1050.99966783608</td><td>1184.94930805615</td><td>6.243083</td></tr>\n",
       "</table>"
      ],
      "text/plain": [
       "<Table masked=True length=102>\n",
       "   Name         SpType       [Fe/H] ...       r_hi       phot_g_mean_mag\n",
       "  str10         str16       float64 ...     float64          float64    \n",
       "---------- ---------------- ------- ... ---------------- ---------------\n",
       "    14_Cyg   G8.5IIIbFe-0.5    0.08 ... 201.285145272043       5.3699827\n",
       "BD+36_3564         F5II-III      -- ... 558.699048472257        8.040623\n",
       "BD+39_3577            G8III      -- ... 314.355261317156        8.089526\n",
       "BD+39_3882              A2V      -- ...  143.94866508398        8.158849\n",
       "BD+42_3150            B9III      -- ... 578.502581535217         8.31532\n",
       "BD+42_3367              B5V      -- ... 777.751092763516        6.991751\n",
       "BD+42_3393            M1III      -- ... 954.830724423781       7.4138913\n",
       "BD+43_3064           G7IIIa      -- ... 661.328015894773         8.20331\n",
       "BD+43_3068 B1.1III+B2.5/3V:      -- ... 53.8973543593231        8.267944\n",
       "BD+43_3171            M3III      -- ... 768.694554141662        8.178079\n",
       "       ...              ...     ... ...              ...             ...\n",
       " HD_226754               --      -- ...  397.88176677788        7.702354\n",
       " V2079_Cyg               K0      -- ... 325.167308507588        7.034088\n",
       " V2083_Cyg               F5      -- ...              nan        6.813094\n",
       "  V380_Cyg               K5    1.25 ...  1161.2897500675       5.6319346\n",
       "  V398_Lyr               G0      -- ... 529.522722362535       5.4027195\n",
       "  V543_Lyr               K5   -0.05 ... 350.716550663015        6.159548\n",
       "  V546_Lyr               K0      -- ... 600.878880067927        6.784268\n",
       "  V547_Lyr               M0      -- ... 301.985143696241        5.227579\n",
       "  V554_Lyr               K0      -- ... 340.384110652163        8.092074\n",
       "  V819_Cyg               K0      -- ... 1184.94930805615        6.243083"
      ]
     },
     "execution_count": 44,
     "metadata": {},
     "output_type": "execute_result"
    }
   ],
   "source": [
    "newcat"
   ]
  },
  {
   "cell_type": "markdown",
   "metadata": {},
   "source": [
    "## Now make an HR diagram"
   ]
  },
  {
   "cell_type": "code",
   "execution_count": 45,
   "metadata": {},
   "outputs": [
    {
     "data": {
      "text/plain": [
       "71.39072222295582"
      ]
     },
     "execution_count": 45,
     "metadata": {},
     "output_type": "execute_result"
    }
   ],
   "source": [
    "snrs = dists['r_est']/((dists['r_hi']-dists['r_lo'])/2.)\n",
    "np.nanmedian(snrs)"
   ]
  },
  {
   "cell_type": "code",
   "execution_count": 46,
   "metadata": {},
   "outputs": [],
   "source": [
    "errorbars = np.zeros((2,np.size(abs_gg)))\n",
    "errorbars[0,:] = abs_gg_hi-abs_gg\n",
    "errorbars[1,:] = abs_gg-abs_gg_lo"
   ]
  },
  {
   "cell_type": "code",
   "execution_count": 47,
   "metadata": {},
   "outputs": [
    {
     "data": {
      "text/plain": [
       "<matplotlib.legend.Legend at 0x122362690>"
      ]
     },
     "execution_count": 47,
     "metadata": {},
     "output_type": "execute_result"
    },
    {
     "data": {
      "image/png": "[encoded data removed]",
      "text/plain": [
       "<Figure size 432x288 with 1 Axes>"
      ]
     },
     "metadata": {},
     "output_type": "display_data"
    }
   ],
   "source": [
    "rc('text', usetex=False)\n",
    "m = np.where(gaia['TRES']!='--')[0]\n",
    "plt.errorbar(bp[m]-rp[m],abs_gg[m],yerr=errorbars[:,m],fmt='.',color=colours[1],label=r'Smear Campaign (with spectra)',markersize=10)\n",
    "plt.errorbar(bp[~m]-rp[~m],abs_gg[~m],yerr=errorbars[:,~m],fmt='.',color=colours[2],label=r'Smear Campaign (no spectra)',markersize=10)\n",
    "plt.gca().invert_yaxis()\n",
    "plt.xlabel(r'$Bp-Rp$')\n",
    "plt.ylabel(r'Absolute $G$')\n",
    "plt.legend()"
   ]
  },
  {
   "cell_type": "markdown",
   "metadata": {},
   "source": [
    "Now we want to use Megan Bedell's Gaia-Kepler crossmatch to situate these in the broader colour-magnitude diagram"
   ]
  },
  {
   "cell_type": "code",
   "execution_count": 48,
   "metadata": {},
   "outputs": [],
   "source": [
    "kep_data = Table.read('../data/kepler_dr2_4arcsec.fits', format='fits')\n"
   ]
  },
  {
   "cell_type": "code",
   "execution_count": 49,
   "metadata": {},
   "outputs": [],
   "source": [
    "kep_data['abs_gmag'] = kep_data['phot_g_mean_mag'] - \\\n",
    "                            5.*(np.log10(kep_data['r_est']) - 1.)\n",
    "kep_data['abs_gmag'].unit = u.mag"
   ]
  },
  {
   "cell_type": "code",
   "execution_count": 50,
   "metadata": {},
   "outputs": [
    {
     "data": {
      "text/html": [
       "&lt;Table masked=True length=102&gt;\n",
       "<table id=\"table4842438160\" class=\"table-striped table-bordered table-condensed\">\n",
       "<thead><tr><th>Name</th><th>SpType</th><th>[Fe/H]</th><th>theta</th><th>Observed</th><th>Seasons</th><th>Teff</th><th>Log_G</th><th>E(B-V)</th><th>g</th><th>r</th><th>J</th><th>kepmag</th><th>Edge_Dist</th><th>Notes</th><th>Collaborators</th><th>Interferometry?</th><th>TRES?</th><th>Kepler_ID</th><th>Class</th><th>source_id</th><th>bp_rp</th><th>r_est</th><th>r_lo</th><th>r_hi</th><th>phot_g_mean_mag</th></tr></thead>\n",
       "<thead><tr><th>str10</th><th>str16</th><th>float64</th><th>float64</th><th>str29</th><th>int64</th><th>int64</th><th>float64</th><th>float64</th><th>float64</th><th>float64</th><th>float64</th><th>float64</th><th>int64</th><th>str84</th><th>str16</th><th>str3</th><th>str4</th><th>int64</th><th>str12</th><th>int64</th><th>float64</th><th>float64</th><th>float64</th><th>float64</th><th>float64</th></tr></thead>\n",
       "<tr><td>14_Cyg</td><td>G8.5IIIbFe-0.5</td><td>0.08</td><td>0.267</td><td>unobserved</td><td>4</td><td>--</td><td>--</td><td>--</td><td>5.334</td><td>5.394</td><td>5.365</td><td>5.49</td><td>0</td><td>contact binary, interesting ramp at low freq</td><td>--</td><td>--</td><td>--</td><td>7292420</td><td>Hump &amp; Spike</td><td>2077959092540451456</td><td>-0.054938400000000165</td><td>194.251074278231</td><td>187.684456735487</td><td>201.285145272043</td><td>5.3699827</td></tr>\n",
       "<tr><td>BD+36_3564</td><td>F5II-III</td><td>--</td><td>--</td><td>unobserved</td><td>4</td><td>--</td><td>--</td><td>--</td><td>9.944</td><td>8.516</td><td>6.134</td><td>8.128</td><td>141</td><td>RG</td><td>--</td><td>--</td><td>TRES</td><td>1575741</td><td>RG</td><td>2051728490311183744</td><td>1.5440902999999997</td><td>547.117106264667</td><td>535.997662270272</td><td>558.699048472257</td><td>8.040623</td></tr>\n",
       "<tr><td>BD+39_3577</td><td>G8III</td><td>--</td><td>--</td><td>unobserved</td><td>4</td><td>4870</td><td>2.513</td><td>0.057</td><td>8.819</td><td>8.062</td><td>6.636</td><td>8.131</td><td>217</td><td>RG</td><td>--</td><td>--</td><td>TRES</td><td>4989821</td><td>RG</td><td>2103507894472422656</td><td>1.1338274999999998</td><td>311.650670508792</td><td>308.9914182984</td><td>314.355261317156</td><td>8.089526</td></tr>\n",
       "<tr><td>BD+39_3882</td><td>A2V</td><td>--</td><td>--</td><td>unobserved</td><td>4</td><td>6241</td><td>4.186</td><td>0.02</td><td>8.463</td><td>8.192</td><td>7.36</td><td>8.259</td><td>0</td><td>bad light curve</td><td>--</td><td>--</td><td>--</td><td>4850372</td><td>?</td><td>2076372669064227200</td><td>0.616321000000001</td><td>143.266948083662</td><td>142.59154490081</td><td>143.94866508398</td><td>8.158849</td></tr>\n",
       "<tr><td>BD+42_3150</td><td>B9III</td><td>--</td><td>--</td><td>unobserved</td><td>4</td><td>4716</td><td>2.329</td><td>0.063</td><td>9.111</td><td>8.257</td><td>6.743</td><td>8.35</td><td>261</td><td>not sure</td><td>--</td><td>--</td><td>--</td><td>7091342</td><td>?</td><td>2116742544137540608</td><td>1.205577</td><td>545.954282342101</td><td>516.819773786676</td><td>578.502581535217</td><td>8.31532</td></tr>\n",
       "<tr><td>BD+42_3367</td><td>B5V</td><td>--</td><td>--</td><td>unobserved</td><td>4</td><td>--</td><td>--</td><td>--</td><td>9.468</td><td>7.756</td><td>4.983</td><td>7.271</td><td>269</td><td>RG: low freq</td><td>--</td><td>--</td><td>TRES</td><td>7447756</td><td>LPV</td><td>2125866188548442240</td><td>2.020433699999999</td><td>761.98189491859</td><td>746.828779128639</td><td>777.751092763516</td><td>6.991751</td></tr>\n",
       "<tr><td>BD+42_3393</td><td>M1III</td><td>--</td><td>--</td><td>unobserved</td><td>4</td><td>--</td><td>--</td><td>--</td><td>9.86</td><td>8.149</td><td>5.362</td><td>7.664</td><td>139</td><td>RG: low freq</td><td>--</td><td>--</td><td>TRES</td><td>6870455</td><td>LPV</td><td>2077747333469959168</td><td>1.952289099999999</td><td>928.952108024118</td><td>904.41632341393</td><td>954.830724423781</td><td>7.4138913</td></tr>\n",
       "<tr><td>BD+43_3064</td><td>G7IIIa</td><td>--</td><td>--</td><td>unobserved</td><td>3</td><td>--</td><td>--</td><td>--</td><td>10.18</td><td>8.692</td><td>6.205</td><td>8.284</td><td>0</td><td>RG</td><td>--</td><td>--</td><td>TRES</td><td>8075287</td><td>RG</td><td>2117284053614333312</td><td>1.5986399999999996</td><td>641.029617229135</td><td>621.919910626924</td><td>661.328015894773</td><td>8.20331</td></tr>\n",
       "<tr><td>BD+43_3068</td><td>B1.1III+B2.5/3V:</td><td>--</td><td>--</td><td>unobserved</td><td>4</td><td>5506</td><td>4.394</td><td>0.011</td><td>8.754</td><td>8.254</td><td>7.181</td><td>8.308</td><td>0</td><td>not good</td><td>--</td><td>--</td><td>--</td><td>8006792</td><td>-</td><td>2117267079903573504</td><td>0.8389476000000009</td><td>53.7738365747513</td><td>53.6508736699958</td><td>53.8973543593231</td><td>8.267944</td></tr>\n",
       "<tr><td>BD+43_3171</td><td>M3III</td><td>--</td><td>--</td><td>unobserved</td><td>4</td><td>--</td><td>--</td><td>--</td><td>10.412</td><td>8.818</td><td>5.904</td><td>8.373</td><td>332</td><td>RG: very low freq?</td><td>--</td><td>--</td><td>TRES</td><td>7810954</td><td>LPV</td><td>2105998150870718080</td><td>1.8577212999999997</td><td>751.476917005421</td><td>735.000815376891</td><td>768.694554141662</td><td>8.178079</td></tr>\n",
       "<tr><td>...</td><td>...</td><td>...</td><td>...</td><td>...</td><td>...</td><td>...</td><td>...</td><td>...</td><td>...</td><td>...</td><td>...</td><td>...</td><td>...</td><td>...</td><td>...</td><td>...</td><td>...</td><td>...</td><td>...</td><td>...</td><td>...</td><td>...</td><td>...</td><td>...</td><td>...</td></tr>\n",
       "<tr><td>HD_226754</td><td>--</td><td>--</td><td>--</td><td>unobserved</td><td>2</td><td>--</td><td>--</td><td>--</td><td>9.729</td><td>8.238</td><td>5.627</td><td>7.829</td><td>--</td><td>RG: poor quality</td><td>--</td><td>--</td><td>TRES</td><td>6234579</td><td>RG</td><td>2075352803312372224</td><td>1.6523865000000004</td><td>391.819751503071</td><td>385.93657262837</td><td>397.88176677788</td><td>7.702354</td></tr>\n",
       "<tr><td>V2079_Cyg</td><td>K0</td><td>--</td><td>--</td><td>unobserved, alpha2 Cvn</td><td>4</td><td>--</td><td>--</td><td>--</td><td>6.921</td><td>7.059</td><td>7.331</td><td>7.174</td><td>93</td><td>Classical Pulsator</td><td>--</td><td>--</td><td>--</td><td>8818020</td><td>a2cvn</td><td>2126627978307068672</td><td>-0.2207068999999997</td><td>321.472917470688</td><td>317.860096187438</td><td>325.167308507588</td><td>7.034088</td></tr>\n",
       "<tr><td>V2083_Cyg</td><td>F5</td><td>--</td><td>--</td><td>unobserved EB</td><td>4</td><td>--</td><td>--</td><td>--</td><td>7.143</td><td>6.884</td><td>6.317</td><td>6.902</td><td>0</td><td>EB</td><td>--</td><td>--</td><td>--</td><td>10342012</td><td>EB</td><td>2128480311802353536</td><td>0.35146299999999986</td><td>nan</td><td>nan</td><td>nan</td><td>6.813094</td></tr>\n",
       "<tr><td>V380_Cyg</td><td>K5</td><td>1.25</td><td>0.226</td><td>LC:Q11 SC:Q7 9 10 12-17 under</td><td>4</td><td>--</td><td>--</td><td>--</td><td>5.615</td><td>5.675</td><td>5.712</td><td>5.771</td><td>122</td><td>Eclipsing_binary</td><td>--</td><td>--</td><td>--</td><td>5385723</td><td>EB</td><td>2073743839843579776</td><td>-0.06196119999999983</td><td>1044.67154927546</td><td>949.069840098863</td><td>1161.2897500675</td><td>5.6319346</td></tr>\n",
       "<tr><td>V398_Lyr</td><td>G0</td><td>--</td><td>--</td><td>unobserved</td><td>4</td><td>--</td><td>--</td><td>--</td><td>8.877</td><td>7.421</td><td>1.869</td><td>7.024</td><td>49</td><td>RG</td><td>--</td><td>--</td><td>TRES</td><td>4042516</td><td>RG</td><td>2100382189073830528</td><td>3.4057967000000007</td><td>494.665556977779</td><td>464.050015806101</td><td>529.522722362535</td><td>5.4027195</td></tr>\n",
       "<tr><td>V543_Lyr</td><td>K5</td><td>-0.05</td><td>--</td><td>unobserved bCep</td><td>4</td><td>--</td><td>--</td><td>--</td><td>6.037</td><td>6.182</td><td>6.477</td><td>6.299</td><td>0</td><td>Classical Pulsator</td><td>--</td><td>--</td><td>--</td><td>5429169</td><td>SPB</td><td>2103449001881575680</td><td>-0.21705810000000003</td><td>345.122761295331</td><td>339.701603163104</td><td>350.716550663015</td><td>6.159548</td></tr>\n",
       "<tr><td>V546_Lyr</td><td>K0</td><td>--</td><td>--</td><td>unobserved</td><td>4</td><td>--</td><td>--</td><td>--</td><td>9.457</td><td>7.838</td><td>4.077</td><td>7.385</td><td>82</td><td>RG: low freq</td><td>--</td><td>--</td><td>TRES</td><td>6267345</td><td>LPV</td><td>2104055760501638016</td><td>2.442902700000001</td><td>587.76713557741</td><td>575.205881946328</td><td>600.878880067927</td><td>6.784268</td></tr>\n",
       "<tr><td>V547_Lyr</td><td>M0</td><td>--</td><td>--</td><td>unobserved</td><td>4</td><td>--</td><td>--</td><td>--</td><td>8.109</td><td>6.611</td><td>2.258</td><td>6.199</td><td>48</td><td>RG: low freq</td><td>--</td><td>--</td><td>TRES</td><td>5429948</td><td>LPV</td><td>2103815448491466496</td><td>2.7247879999999993</td><td>288.920092314708</td><td>276.921626546759</td><td>301.985143696241</td><td>5.227579</td></tr>\n",
       "<tr><td>V554_Lyr</td><td>K0</td><td>--</td><td>--</td><td>unobserved</td><td>2</td><td>9887</td><td>4.309</td><td>0.051</td><td>7.97</td><td>8.248</td><td>8.266</td><td>8.179</td><td>0</td><td>Missing - alpha2 Cvn</td><td>--</td><td>--</td><td>--</td><td>5001462</td><td>a2cvn</td><td>2101290316961062400</td><td>-0.1290969999999998</td><td>335.749513113855</td><td>331.237286508456</td><td>340.384110652163</td><td>8.092074</td></tr>\n",
       "<tr><td>V819_Cyg</td><td>K0</td><td>--</td><td>--</td><td>LC:Q14 16 17 under</td><td>4</td><td>--</td><td>--</td><td>--</td><td>6.15</td><td>6.27</td><td>6.481</td><td>6.381</td><td>178</td><td>sharp peaks</td><td>--</td><td>--</td><td>--</td><td>10618721</td><td>SPB</td><td>2086460069767734656</td><td>-0.16036509999999993</td><td>1114.03334931676</td><td>1050.99966783608</td><td>1184.94930805615</td><td>6.243083</td></tr>\n",
       "</table>"
      ],
      "text/plain": [
       "<Table masked=True length=102>\n",
       "   Name         SpType       [Fe/H] ...       r_hi       phot_g_mean_mag\n",
       "  str10         str16       float64 ...     float64          float64    \n",
       "---------- ---------------- ------- ... ---------------- ---------------\n",
       "    14_Cyg   G8.5IIIbFe-0.5    0.08 ... 201.285145272043       5.3699827\n",
       "BD+36_3564         F5II-III      -- ... 558.699048472257        8.040623\n",
       "BD+39_3577            G8III      -- ... 314.355261317156        8.089526\n",
       "BD+39_3882              A2V      -- ...  143.94866508398        8.158849\n",
       "BD+42_3150            B9III      -- ... 578.502581535217         8.31532\n",
       "BD+42_3367              B5V      -- ... 777.751092763516        6.991751\n",
       "BD+42_3393            M1III      -- ... 954.830724423781       7.4138913\n",
       "BD+43_3064           G7IIIa      -- ... 661.328015894773         8.20331\n",
       "BD+43_3068 B1.1III+B2.5/3V:      -- ... 53.8973543593231        8.267944\n",
       "BD+43_3171            M3III      -- ... 768.694554141662        8.178079\n",
       "       ...              ...     ... ...              ...             ...\n",
       " HD_226754               --      -- ...  397.88176677788        7.702354\n",
       " V2079_Cyg               K0      -- ... 325.167308507588        7.034088\n",
       " V2083_Cyg               F5      -- ...              nan        6.813094\n",
       "  V380_Cyg               K5    1.25 ...  1161.2897500675       5.6319346\n",
       "  V398_Lyr               G0      -- ... 529.522722362535       5.4027195\n",
       "  V543_Lyr               K5   -0.05 ... 350.716550663015        6.159548\n",
       "  V546_Lyr               K0      -- ... 600.878880067927        6.784268\n",
       "  V547_Lyr               M0      -- ... 301.985143696241        5.227579\n",
       "  V554_Lyr               K0      -- ... 340.384110652163        8.092074\n",
       "  V819_Cyg               K0      -- ... 1184.94930805615        6.243083"
      ]
     },
     "execution_count": 50,
     "metadata": {},
     "output_type": "execute_result"
    }
   ],
   "source": [
    "newcat"
   ]
  },
  {
   "cell_type": "code",
   "execution_count": 78,
   "metadata": {},
   "outputs": [
    {
     "data": {
      "image/png": "[encoded data removed]",
      "text/plain": [
       "<Figure size 864x648 with 1 Axes>"
      ]
     },
     "metadata": {},
     "output_type": "display_data"
    }
   ],
   "source": [
    "filter = (kep_data['phot_g_mean_mag'] <= 18.) & (kep_data['parallax'] > 0.1)\n",
    "filter = (kep_data['phot_g_mean_mag'] <= 18.) & (kep_data['parallax_over_error'] > 25)\n",
    "\n",
    "plt.scatter(kep_data['bp_rp'][filter], kep_data['abs_gmag'][filter], alpha=0.15, color='k', s=1,label='All Kepler')\n",
    "m = np.where(gaia['TRES']!='--')[0]\n",
    "plt.errorbar(bp[m]-rp[m],abs_gg[m],yerr=errorbars[:,m],fmt='.',color=colours[1],label=r'Smear + spectra',markersize=11)\n",
    "plt.errorbar(bp[~m]-rp[~m],abs_gg[~m],yerr=errorbars[:,~m],fmt='.',color=colours[2],label=r'Smear (no spectra)',markersize=11)\n",
    "\n",
    "plt.xlabel('Gaia $Bp-Rp$', fontsize=14)\n",
    "plt.ylabel(r'Absolute $G$ mag', fontsize=14)\n",
    "plt.ylim([13,-6])\n",
    "plt.xlim([-0.5,4.1])\n",
    "plt.legend()\n",
    "plt.title(r'Smear Stars in the Gaia Colour-Magnitude Diagram',y=1.01,fontsize=14)\n",
    "# plt.axvline(0.95) # separate giants and dwarfs \n",
    "plt.savefig('../paper/gaia_kepler_hr.png',bbox_inches='tight')"
   ]
  },
  {
   "cell_type": "code",
   "execution_count": 53,
   "metadata": {},
   "outputs": [],
   "source": [
    "# filter = (kep_data['phot_g_mean_mag'] <= 18.) & (kep_data['parallax'] > 0.1)\n",
    "# filter = (kep_data['phot_g_mean_mag'] <= 18.) & (kep_data['parallax_over_error'] > 25)\n",
    "\n",
    "# plt.scatter(kep_data['bp_rp'][filter], kep_data['abs_gmag'][filter], alpha=0.15, color='k', s=1,label='All Kepler')\n",
    "# m = np.where(gaia['TRES']!='--')[0]\n",
    "# plt.errorbar(bp[m]-rp[m],abs_gg[m],yerr=errorbars[:,m],fmt='.',color=colours[1],label=r'Smear + spectra',markersize=10)\n",
    "# plt.errorbar(bp[~m]-rp[~m],abs_gg[~m],yerr=errorbars[:,~m],fmt='.',color=colours[2],label=r'Smear (no spectra)',markersize=10)\n",
    "\n",
    "# plt.xlabel('Gaia $Bp-Rp$', fontsize=14)\n",
    "# plt.ylabel(r'Absolute $G$ mag', fontsize=14)\n",
    "# plt.ylim([13,-6])\n",
    "# plt.xlim([-0.5,4.1])\n",
    "# plt.legend()\n",
    "# plt.title(r'Smear Stars in the Gaia Colour-Magnitude Diagram',y=1.01,fontsize=14)\n",
    "# # plt.axvline(0.95) # separate giants and dwarfs \n",
    "# plt.savefig('../paper/gaia_kepler_hr.png',bbox_inches='tight')"
   ]
  },
  {
   "cell_type": "code",
   "execution_count": 54,
   "metadata": {},
   "outputs": [
    {
     "name": "stdout",
     "output_type": "stream",
     "text": [
      "66 giants 36 dwarfs 102 total\n"
     ]
    }
   ],
   "source": [
    "giants = (bp-rp>0.95)\n",
    "dwarfs = (bp-rp<0.95)\n",
    "print giants.sum(),'giants', dwarfs.sum(),'dwarfs',giants.sum()+dwarfs.sum(),'total'\n",
    "# np.savetxt('giants.txt',cat['Name'][giants])\n",
    "# np.savetxt('dwarfs.txt',cat['Name'][dwarfs])"
   ]
  },
  {
   "cell_type": "code",
   "execution_count": 55,
   "metadata": {},
   "outputs": [],
   "source": [
    "# # find weird stars in the HR diagram\n",
    "# rc('text', usetex=False)\n",
    "# plt.errorbar(bp[dwarfs]-rp[dwarfs],abs_gg[dwarfs],yerr=errorbars[:,dwarfs],fmt='.',color=colours[2],label=r'Dwarfs',markersize=10)\n",
    "# plt.errorbar(bp[giants]-rp[giants],abs_gg[giants],yerr=errorbars[:,giants],fmt='.',color=colours[1],label=r'Giants',markersize=10)\n",
    "\n",
    "# weird = ['HD_176582', 'HD_179395']\n",
    "# for j,w in enumerate(weird):\n",
    "#     ww = np.where(gaia['Name'] == w)[0]\n",
    "#     plt.errorbar(bp[ww]-rp[ww],abs_gg[ww],yerr=errorbars[:,ww],fmt='.',color=colours[3+j],label=w,markersize=25)\n",
    "\n",
    "# plt.gca().invert_yaxis()\n",
    "# plt.xlabel(r'$Bp-Rp$')\n",
    "# plt.ylabel(r'Absolute $G$')\n",
    "# plt.legend()\n",
    "# plt.savefig('hr_weird.png')"
   ]
  },
  {
   "cell_type": "code",
   "execution_count": 56,
   "metadata": {},
   "outputs": [],
   "source": [
    "test = Table({'Giants':cat['Name'][giants].data.data.astype('S10')})\n",
    "test.write('giants.txt',format='ascii',overwrite=True)\n",
    "\n",
    "test = Table({'dwarfs':cat['Name'][dwarfs].data.data.astype('S10')})\n",
    "test.write('dwarfs.txt',format='ascii',overwrite=True)"
   ]
  },
  {
   "cell_type": "markdown",
   "metadata": {},
   "source": [
    "## Now compare to Hypatia"
   ]
  },
  {
   "cell_type": "code",
   "execution_count": 57,
   "metadata": {},
   "outputs": [],
   "source": [
    "Simbad.reset_votable_fields()\n",
    "Simbad.add_votable_fields('ids')\n",
    "sim = Simbad.query_objects(cat['Name'])\n",
    "ids = sim['IDS']"
   ]
  },
  {
   "cell_type": "code",
   "execution_count": 58,
   "metadata": {},
   "outputs": [],
   "source": [
    "import re\n",
    "hips = []\n",
    "for eyedee in ids:\n",
    "    m = re.search('\\|HIP  (.+?)\\|',str(eyedee))\n",
    "    if m:\n",
    "        found = m.group(1)\n",
    "#     print found\n",
    "    hips.append(found)"
   ]
  },
  {
   "cell_type": "code",
   "execution_count": 59,
   "metadata": {},
   "outputs": [],
   "source": [
    "hinkel = Table.read('../data/hypatia-03082018.csv')"
   ]
  },
  {
   "cell_type": "code",
   "execution_count": 60,
   "metadata": {},
   "outputs": [
    {
     "name": "stdout",
     "output_type": "stream",
     "text": [
      "96459 HD 185351\n",
      "92831 HD 175740\n"
     ]
    }
   ],
   "source": [
    "in_hyp = []\n",
    "for j, hip in enumerate(hips):\n",
    "    if int(hip) in hinkel['f_hip']:\n",
    "        print hip, sim['MAIN_ID'][j]\n",
    "        in_hyp.append((hip,sim['MAIN_ID'][j]))"
   ]
  },
  {
   "cell_type": "code",
   "execution_count": 61,
   "metadata": {},
   "outputs": [
    {
     "data": {
      "text/plain": [
       "[('96459', 'HD 185351'), ('92831', 'HD 175740')]"
      ]
     },
     "execution_count": 61,
     "metadata": {},
     "output_type": "execute_result"
    }
   ],
   "source": [
    "in_hyp"
   ]
  },
  {
   "cell_type": "code",
   "execution_count": 64,
   "metadata": {},
   "outputs": [],
   "source": [
    "# import altair as alt\n",
    "import pandas as pd"
   ]
  },
  {
   "cell_type": "code",
   "execution_count": 65,
   "metadata": {},
   "outputs": [],
   "source": [
    "pdg = gaia.to_pandas()\n",
    "pdg.assign(bprp=pdg.phot_bp_mean_mag - pdg.phot_rp_mean_mag);\n",
    "pdg.insert(len(pdg.columns), 'bprp', pd.Series(pdg.phot_bp_mean_mag - pdg.phot_rp_mean_mag, index=pdg.index))\n",
    "pdg.insert(len(pdg.columns), 'name', pd.Series(sim['MAIN_ID'], index=pdg.index))\n",
    "spec = ['TRES' if sp else 'No  Spectra' for sp in pdg['TRES']=='TRES']\n",
    "pdg.insert(len(pdg.columns), 'Spectroscopy', pd.Series(spec, index=pdg.index))\n",
    "pdg.insert(len(pdg.columns), 'SpType', pd.Series(newcat['SpType'], index=pdg.index))\n",
    "\n",
    "# pdkep = kep_data.to_pandas()"
   ]
  },
  {
   "cell_type": "code",
   "execution_count": 66,
   "metadata": {},
   "outputs": [
    {
     "data": {
      "text/plain": [
       "0             TRES\n",
       "1      No  Spectra\n",
       "2             TRES\n",
       "3      No  Spectra\n",
       "4      No  Spectra\n",
       "5      No  Spectra\n",
       "6             TRES\n",
       "7             TRES\n",
       "8      No  Spectra\n",
       "9             TRES\n",
       "10     No  Spectra\n",
       "11     No  Spectra\n",
       "12            TRES\n",
       "13            TRES\n",
       "14            TRES\n",
       "15     No  Spectra\n",
       "16            TRES\n",
       "17            TRES\n",
       "18            TRES\n",
       "19            TRES\n",
       "20     No  Spectra\n",
       "21     No  Spectra\n",
       "22     No  Spectra\n",
       "23     No  Spectra\n",
       "24     No  Spectra\n",
       "25            TRES\n",
       "26            TRES\n",
       "27            TRES\n",
       "28            TRES\n",
       "29     No  Spectra\n",
       "          ...     \n",
       "72     No  Spectra\n",
       "73            TRES\n",
       "74     No  Spectra\n",
       "75     No  Spectra\n",
       "76            TRES\n",
       "77            TRES\n",
       "78            TRES\n",
       "79            TRES\n",
       "80            TRES\n",
       "81            TRES\n",
       "82            TRES\n",
       "83     No  Spectra\n",
       "84            TRES\n",
       "85            TRES\n",
       "86            TRES\n",
       "87     No  Spectra\n",
       "88     No  Spectra\n",
       "89     No  Spectra\n",
       "90            TRES\n",
       "91            TRES\n",
       "92     No  Spectra\n",
       "93     No  Spectra\n",
       "94     No  Spectra\n",
       "95            TRES\n",
       "96     No  Spectra\n",
       "97            TRES\n",
       "98     No  Spectra\n",
       "99            TRES\n",
       "100    No  Spectra\n",
       "101    No  Spectra\n",
       "Name: Spectroscopy, Length: 102, dtype: object"
      ]
     },
     "execution_count": 66,
     "metadata": {},
     "output_type": "execute_result"
    }
   ],
   "source": [
    "pdg.Spectroscopy"
   ]
  },
  {
   "cell_type": "markdown",
   "metadata": {},
   "source": [
    "### The *Kepler* dataset is too big for Altair. But not for Bokeh - let's copy from at demo.ipynb from github.com/megbedell/gaia-kepler.fun"
   ]
  },
  {
   "cell_type": "code",
   "execution_count": 67,
   "metadata": {},
   "outputs": [],
   "source": [
    "from bokeh.plotting import *\n",
    "from bokeh.io import output_notebook\n",
    "from bokeh.models import OpenURL, Circle, HoverTool, PanTool, BoxZoomTool, ResetTool, SaveTool, TapTool, WheelZoomTool\n",
    "from bokeh.util.hex import hexbin\n",
    "from bokeh.transform import linear_cmap, factor_cmap\n",
    "from bokeh.palettes import Spectral6\n",
    "# output_notebook()\n",
    "reset_output()\n",
    "output_file(\"cmd_smear.html\")\n"
   ]
  },
  {
   "cell_type": "code",
   "execution_count": 72,
   "metadata": {},
   "outputs": [],
   "source": [
    "filter1 = (kep_data['phot_g_mean_mag'] <= 18.) & (kep_data['parallax_over_error'] > 25)\n",
    "# filter2 = (kep_data['planet?'] == 'conf') & filter1\n",
    "\n",
    "filter2 = filter1 \n",
    "\n",
    "thin = 4\n",
    "\n",
    "source = ColumnDataSource(\n",
    "    data=dict(\n",
    "        kepid=kep_data[filter2]['kepid'].data.data[::thin],\n",
    "        kepmag=kep_data[filter2]['kepmag'].data.data[::thin],\n",
    "        bp_rp=kep_data[filter2]['bp_rp'].data.data[::thin],\n",
    "        abs_gmag=kep_data[filter2]['abs_gmag'].data.data[::thin],\n",
    "        mass=kep_data[filter2]['mass'].data.data[::thin],\n",
    "        radius=kep_data[filter2]['radius'].data.data[::thin]\n",
    "        )\n",
    "    )\n",
    "\n",
    "source_smear = ColumnDataSource(\n",
    "    data=dict(\n",
    "        name=pdg.name.values,\n",
    "        abs_gmag=pdg.abs_gg.values,\n",
    "        bp_rp=pdg.bprp.values,\n",
    "        spec=pdg.Spectroscopy.values,\n",
    "        sptype=pdg.SpType.values\n",
    "        )\n",
    "    )\n"
   ]
  },
  {
   "cell_type": "code",
   "execution_count": 69,
   "metadata": {},
   "outputs": [],
   "source": [
    "# dict(\n",
    "#         name=pdg.name.values,\n",
    "#         abs_gmag=pdg.abs_gg.values,\n",
    "#         bp_rp=pdg.bprp.values,\n",
    "#         spec=pdg.Spectroscopy.values,\n",
    "#         sptype=pdg.SpType.values\n",
    "#         )"
   ]
  },
  {
   "cell_type": "code",
   "execution_count": 73,
   "metadata": {},
   "outputs": [
    {
     "name": "stdout",
     "output_type": "stream",
     "text": [
      "CPU times: user 1 s, sys: 29.9 ms, total: 1.03 s\n",
      "Wall time: 1.03 s\n"
     ]
    }
   ],
   "source": [
    "%%time\n",
    "\n",
    "xrange = (-0.5,4.1)\n",
    "yrange = (13,-6)\n",
    "\n",
    "fig = figure(tools=\"wheel_zoom,pan,reset\",x_range=xrange,\n",
    "        y_range=yrange,title=\"Smear Stars in the Gaia Colour-Magnitude Diagram\")   \n",
    "kep_render = fig.circle('bp_rp','abs_gmag', source=source, size=4, name='KICs',color='black',alpha=0.2)\n",
    "\n",
    "smear_render = fig.circle('bp_rp','abs_gmag', source=source_smear, size=10, name='Smear',\n",
    "                          color=factor_cmap('spec',palette=Spectral6,factors=pdg.Spectroscopy.values),legend='spec')\n",
    "hover = HoverTool(renderers=[smear_render],\n",
    "                    tooltips=[\n",
    "        (\"Name\", \"@name\"),\n",
    "        (\"Sp. Type\",\"@sptype\"),\n",
    "        (\"Abs. G mag\",\"@abs_gmag\"),\n",
    "        (\"Bp-Rp\",\"@bp_rp\")\n",
    "                            ]\n",
    "    )\n",
    "fig.add_tools(hover)\n",
    "fig.legend.orientation = \"vertical\"\n",
    "fig.legend.location = \"bottom_left\"\n",
    "\n",
    "fig.xaxis.axis_label = 'Gaia Bp-Rp (mag)'\n",
    "fig.yaxis.axis_label = 'Gaia Abs. G Mag'\n",
    "fig.xaxis.axis_label_text_font_size = '14pt'\n",
    "fig.xaxis.major_label_text_font_size = '12pt'\n",
    "fig.yaxis.axis_label_text_font_size = '14pt'   \n",
    "fig.yaxis.major_label_text_font_size = '12pt' \n",
    "save(fig)\n",
    "# show(fig)\n"
   ]
  },
  {
   "cell_type": "code",
   "execution_count": 92,
   "metadata": {},
   "outputs": [],
   "source": [
    "# for j, star in enumerate(pdg.name.values):\n",
    "#     print j, star, pdg.abs_gg.values[j]"
   ]
  },
  {
   "cell_type": "markdown",
   "metadata": {},
   "source": [
    "### Let's see if Hipparcos parallaxes differ from Gaia"
   ]
  },
  {
   "cell_type": "code",
   "execution_count": 93,
   "metadata": {},
   "outputs": [],
   "source": [
    "Simbad.reset_votable_fields()\n",
    "Simbad.add_votable_fields('parallax')\n",
    "sim = Simbad.query_objects(cat['Name'])\n",
    "hip_par = sim['PLX_VALUE']\n"
   ]
  },
  {
   "cell_type": "code",
   "execution_count": 94,
   "metadata": {},
   "outputs": [],
   "source": [
    "from astroquery.esasky import ESASky\n",
    "esasky = ESASky()\n"
   ]
  },
  {
   "cell_type": "code",
   "execution_count": 95,
   "metadata": {},
   "outputs": [
    {
     "name": "stdout",
     "output_type": "stream",
     "text": [
      "0 96459\n",
      "1 96825\n",
      "2 92831\n",
      "3 96288\n",
      "4 96693\n",
      "5 98194\n",
      "6 97372\n",
      "7 95352\n",
      "8 97634\n",
      "9 96805\n",
      "10 98383\n",
      "11 97774\n",
      "12 94890\n",
      "13 96449\n",
      "14 98058\n",
      "15 92713\n",
      "16 93309\n",
      "17 92891\n",
      "18 94799\n",
      "19 94351\n",
      "20 93177\n",
      "21 95245\n",
      "22 92599\n",
      "23 97845\n",
      "24 95673\n",
      "25 97304\n",
      "26 95534\n",
      "27 98610\n",
      "28 94781\n",
      "29 93210\n",
      "30 92156\n",
      "31 94659\n",
      "32 95056\n",
      "33 92116\n",
      "34 96252\n",
      "35 93749\n",
      "36 94977\n",
      "37 92869\n",
      "38 96011\n",
      "39 98071\n",
      "40 95524\n",
      "41 93204\n",
      "42 94923\n",
      "43 96517\n",
      "44 96887\n",
      "45 92455\n",
      "46 93989\n"
     ]
    },
    {
     "ename": "ConnectionError",
     "evalue": "('Connection aborted.', BadStatusLine(\"''\",))",
     "output_type": "error",
     "traceback": [
      "\u001b[0;31m---------------------------------------------------------------------------\u001b[0m",
      "\u001b[0;31mConnectionError\u001b[0m                           Traceback (most recent call last)",
      "\u001b[0;32m<ipython-input-95-4583c494ddeb>\u001b[0m in \u001b[0;36m<module>\u001b[0;34m()\u001b[0m\n\u001b[1;32m      2\u001b[0m \u001b[0;32mfor\u001b[0m \u001b[0mj\u001b[0m\u001b[0;34m,\u001b[0m \u001b[0mhip\u001b[0m \u001b[0;32min\u001b[0m \u001b[0menumerate\u001b[0m\u001b[0;34m(\u001b[0m\u001b[0mhips\u001b[0m\u001b[0;34m)\u001b[0m\u001b[0;34m:\u001b[0m\u001b[0;34m\u001b[0m\u001b[0m\n\u001b[1;32m      3\u001b[0m     \u001b[0;32mprint\u001b[0m \u001b[0mj\u001b[0m\u001b[0;34m,\u001b[0m \u001b[0mhip\u001b[0m\u001b[0;34m\u001b[0m\u001b[0m\n\u001b[0;32m----> 4\u001b[0;31m     \u001b[0mdummy\u001b[0m \u001b[0;34m=\u001b[0m \u001b[0mesasky\u001b[0m\u001b[0;34m.\u001b[0m\u001b[0mquery_object_catalogs\u001b[0m\u001b[0;34m(\u001b[0m\u001b[0;34m'HIP'\u001b[0m\u001b[0;34m+\u001b[0m\u001b[0mstr\u001b[0m\u001b[0;34m(\u001b[0m\u001b[0mhip\u001b[0m\u001b[0;34m)\u001b[0m\u001b[0;34m,\u001b[0m\u001b[0mcatalogs\u001b[0m\u001b[0;34m=\u001b[0m\u001b[0;34m'HIPPARCOS-2'\u001b[0m\u001b[0;34m)\u001b[0m\u001b[0;34m[\u001b[0m\u001b[0;36m0\u001b[0m\u001b[0;34m]\u001b[0m\u001b[0;34m\u001b[0m\u001b[0m\n\u001b[0m\u001b[1;32m      5\u001b[0m     \u001b[0mhippar\u001b[0m\u001b[0;34m.\u001b[0m\u001b[0mappend\u001b[0m\u001b[0;34m(\u001b[0m\u001b[0mdummy\u001b[0m\u001b[0;34m[\u001b[0m\u001b[0;34m'plx'\u001b[0m\u001b[0;34m]\u001b[0m\u001b[0;34m.\u001b[0m\u001b[0mdata\u001b[0m\u001b[0;34m.\u001b[0m\u001b[0mdata\u001b[0m\u001b[0;34m[\u001b[0m\u001b[0;36m0\u001b[0m\u001b[0;34m]\u001b[0m\u001b[0;34m)\u001b[0m\u001b[0;34m\u001b[0m\u001b[0m\n",
      "\u001b[0;32m/anaconda2/lib/python2.7/site-packages/astroquery/esasky/core.pyc\u001b[0m in \u001b[0;36mquery_object_catalogs\u001b[0;34m(self, position, catalogs, row_limit, get_query_payload, cache)\u001b[0m\n\u001b[1;32m    178\u001b[0m                                           \u001b[0mrow_limit\u001b[0m\u001b[0;34m=\u001b[0m\u001b[0mrow_limit\u001b[0m\u001b[0;34m,\u001b[0m\u001b[0;34m\u001b[0m\u001b[0m\n\u001b[1;32m    179\u001b[0m                                           \u001b[0mget_query_payload\u001b[0m\u001b[0;34m=\u001b[0m\u001b[0mget_query_payload\u001b[0m\u001b[0;34m,\u001b[0m\u001b[0;34m\u001b[0m\u001b[0m\n\u001b[0;32m--> 180\u001b[0;31m                                           cache=cache)\n\u001b[0m\u001b[1;32m    181\u001b[0m \u001b[0;34m\u001b[0m\u001b[0m\n\u001b[1;32m    182\u001b[0m     def query_region_maps(self, position, radius, missions=__ALL_STRING,\n",
      "\u001b[0;32m/anaconda2/lib/python2.7/site-packages/astroquery/esasky/core.pyc\u001b[0m in \u001b[0;36mquery_region_catalogs\u001b[0;34m(self, position, radius, catalogs, row_limit, get_query_payload, cache)\u001b[0m\n\u001b[1;32m    302\u001b[0m                                           \u001b[0mcoordinates\u001b[0m\u001b[0;34m,\u001b[0m \u001b[0msanitized_radius\u001b[0m\u001b[0;34m,\u001b[0m\u001b[0;34m\u001b[0m\u001b[0m\n\u001b[1;32m    303\u001b[0m                                           \u001b[0msanitized_row_limit\u001b[0m\u001b[0;34m,\u001b[0m\u001b[0;34m\u001b[0m\u001b[0m\n\u001b[0;32m--> 304\u001b[0;31m                                           get_query_payload, cache)\n\u001b[0m\u001b[1;32m    305\u001b[0m \u001b[0;34m\u001b[0m\u001b[0m\n\u001b[1;32m    306\u001b[0m         \u001b[0;32mif\u001b[0m \u001b[0;34m(\u001b[0m\u001b[0mget_query_payload\u001b[0m\u001b[0;34m)\u001b[0m\u001b[0;34m:\u001b[0m\u001b[0;34m\u001b[0m\u001b[0m\n",
      "\u001b[0;32m/anaconda2/lib/python2.7/site-packages/astroquery/esasky/core.pyc\u001b[0m in \u001b[0;36m_store_query_result_catalogs\u001b[0;34m(self, query_result, catalogs, coordinates, radius, row_limit, get_query_payload, cache)\u001b[0m\n\u001b[1;32m    731\u001b[0m             catalog_table = self._query_region_catalog(coordinates, radius,\n\u001b[1;32m    732\u001b[0m                                                        \u001b[0mcatalog\u001b[0m\u001b[0;34m,\u001b[0m \u001b[0mrow_limit\u001b[0m\u001b[0;34m,\u001b[0m\u001b[0;34m\u001b[0m\u001b[0m\n\u001b[0;32m--> 733\u001b[0;31m                                                        get_query_payload, cache)\n\u001b[0m\u001b[1;32m    734\u001b[0m             \u001b[0;32mif\u001b[0m \u001b[0;34m(\u001b[0m\u001b[0mlen\u001b[0m\u001b[0;34m(\u001b[0m\u001b[0mcatalog_table\u001b[0m\u001b[0;34m)\u001b[0m \u001b[0;34m>\u001b[0m \u001b[0;36m0\u001b[0m\u001b[0;34m)\u001b[0m\u001b[0;34m:\u001b[0m\u001b[0;34m\u001b[0m\u001b[0m\n\u001b[1;32m    735\u001b[0m                 \u001b[0mquery_result\u001b[0m\u001b[0;34m[\u001b[0m\u001b[0mcatalog\u001b[0m\u001b[0;34m.\u001b[0m\u001b[0mupper\u001b[0m\u001b[0;34m(\u001b[0m\u001b[0;34m)\u001b[0m\u001b[0;34m]\u001b[0m \u001b[0;34m=\u001b[0m \u001b[0mcatalog_table\u001b[0m\u001b[0;34m\u001b[0m\u001b[0m\n",
      "\u001b[0;32m/anaconda2/lib/python2.7/site-packages/astroquery/esasky/core.pyc\u001b[0m in \u001b[0;36m_query_region_catalog\u001b[0;34m(self, coordinates, radius, catalog_name, row_limit, get_query_payload, cache)\u001b[0m\n\u001b[1;32m    646\u001b[0m     def _query_region_catalog(self, coordinates, radius, catalog_name, row_limit,\n\u001b[1;32m    647\u001b[0m                               get_query_payload, cache):\n\u001b[0;32m--> 648\u001b[0;31m         \u001b[0mcatalog_tap_name\u001b[0m \u001b[0;34m=\u001b[0m \u001b[0mself\u001b[0m\u001b[0;34m.\u001b[0m\u001b[0m_find_catalog_tap_table_name\u001b[0m\u001b[0;34m(\u001b[0m\u001b[0mcatalog_name\u001b[0m\u001b[0;34m)\u001b[0m\u001b[0;34m\u001b[0m\u001b[0m\n\u001b[0m\u001b[1;32m    649\u001b[0m         query = self._build_catalog_query(coordinates, radius, row_limit,\n\u001b[1;32m    650\u001b[0m                                           self._find_catalog_parameters(catalog_tap_name))\n",
      "\u001b[0;32m/anaconda2/lib/python2.7/site-packages/astroquery/esasky/core.pyc\u001b[0m in \u001b[0;36m_find_catalog_tap_table_name\u001b[0;34m(self, mission_name)\u001b[0m\n\u001b[1;32m    756\u001b[0m     \u001b[0;32mdef\u001b[0m \u001b[0m_find_catalog_tap_table_name\u001b[0m\u001b[0;34m(\u001b[0m\u001b[0mself\u001b[0m\u001b[0;34m,\u001b[0m \u001b[0mmission_name\u001b[0m\u001b[0;34m)\u001b[0m\u001b[0;34m:\u001b[0m\u001b[0;34m\u001b[0m\u001b[0m\n\u001b[1;32m    757\u001b[0m         return self._find_mission_tap_table_name(\n\u001b[0;32m--> 758\u001b[0;31m             \u001b[0mself\u001b[0m\u001b[0;34m.\u001b[0m\u001b[0m_fetch_and_parse_json\u001b[0m\u001b[0;34m(\u001b[0m\u001b[0mself\u001b[0m\u001b[0;34m.\u001b[0m\u001b[0m__CATALOGS_STRING\u001b[0m\u001b[0;34m)\u001b[0m\u001b[0;34m,\u001b[0m\u001b[0;34m\u001b[0m\u001b[0m\n\u001b[0m\u001b[1;32m    759\u001b[0m             mission_name)\n\u001b[1;32m    760\u001b[0m \u001b[0;34m\u001b[0m\u001b[0m\n",
      "\u001b[0;32m/anaconda2/lib/python2.7/site-packages/astroquery/esasky/core.pyc\u001b[0m in \u001b[0;36m_fetch_and_parse_json\u001b[0;34m(self, object_name)\u001b[0m\n\u001b[1;32m    779\u001b[0m             \u001b[0murl\u001b[0m\u001b[0;34m,\u001b[0m\u001b[0;34m\u001b[0m\u001b[0m\n\u001b[1;32m    780\u001b[0m             \u001b[0mcache\u001b[0m\u001b[0;34m=\u001b[0m\u001b[0mFalse\u001b[0m\u001b[0;34m,\u001b[0m\u001b[0;34m\u001b[0m\u001b[0m\n\u001b[0;32m--> 781\u001b[0;31m             headers=self._get_header())\n\u001b[0m\u001b[1;32m    782\u001b[0m         \u001b[0mstring_response\u001b[0m \u001b[0;34m=\u001b[0m \u001b[0mresponse\u001b[0m\u001b[0;34m.\u001b[0m\u001b[0mcontent\u001b[0m\u001b[0;34m.\u001b[0m\u001b[0mdecode\u001b[0m\u001b[0;34m(\u001b[0m\u001b[0;34m'utf-8'\u001b[0m\u001b[0;34m)\u001b[0m\u001b[0;34m\u001b[0m\u001b[0m\n\u001b[1;32m    783\u001b[0m         \u001b[0mjson_response\u001b[0m \u001b[0;34m=\u001b[0m \u001b[0mjson\u001b[0m\u001b[0;34m.\u001b[0m\u001b[0mloads\u001b[0m\u001b[0;34m(\u001b[0m\u001b[0mstring_response\u001b[0m\u001b[0;34m)\u001b[0m\u001b[0;34m\u001b[0m\u001b[0m\n",
      "\u001b[0;32m/anaconda2/lib/python2.7/site-packages/astroquery/query.pyc\u001b[0m in \u001b[0;36m_request\u001b[0;34m(self, method, url, params, data, headers, files, save, savedir, timeout, cache, stream, auth, continuation, verify)\u001b[0m\n\u001b[1;32m    195\u001b[0m                 \u001b[0;32mwith\u001b[0m \u001b[0msuspend_cache\u001b[0m\u001b[0;34m(\u001b[0m\u001b[0mself\u001b[0m\u001b[0;34m)\u001b[0m\u001b[0;34m:\u001b[0m\u001b[0;34m\u001b[0m\u001b[0m\n\u001b[1;32m    196\u001b[0m                     response = query.request(self._session, stream=stream,\n\u001b[0;32m--> 197\u001b[0;31m                                              auth=auth, verify=verify)\n\u001b[0m\u001b[1;32m    198\u001b[0m             \u001b[0;32melse\u001b[0m\u001b[0;34m:\u001b[0m\u001b[0;34m\u001b[0m\u001b[0m\n\u001b[1;32m    199\u001b[0m                 \u001b[0mresponse\u001b[0m \u001b[0;34m=\u001b[0m \u001b[0mquery\u001b[0m\u001b[0;34m.\u001b[0m\u001b[0mfrom_cache\u001b[0m\u001b[0;34m(\u001b[0m\u001b[0mself\u001b[0m\u001b[0;34m.\u001b[0m\u001b[0mcache_location\u001b[0m\u001b[0;34m)\u001b[0m\u001b[0;34m\u001b[0m\u001b[0m\n",
      "\u001b[0;32m/anaconda2/lib/python2.7/site-packages/astroquery/query.pyc\u001b[0m in \u001b[0;36mrequest\u001b[0;34m(self, session, cache_location, stream, auth, verify)\u001b[0m\n\u001b[1;32m     59\u001b[0m                                \u001b[0mdata\u001b[0m\u001b[0;34m=\u001b[0m\u001b[0mself\u001b[0m\u001b[0;34m.\u001b[0m\u001b[0mdata\u001b[0m\u001b[0;34m,\u001b[0m \u001b[0mheaders\u001b[0m\u001b[0;34m=\u001b[0m\u001b[0mself\u001b[0m\u001b[0;34m.\u001b[0m\u001b[0mheaders\u001b[0m\u001b[0;34m,\u001b[0m\u001b[0;34m\u001b[0m\u001b[0m\n\u001b[1;32m     60\u001b[0m                                \u001b[0mfiles\u001b[0m\u001b[0;34m=\u001b[0m\u001b[0mself\u001b[0m\u001b[0;34m.\u001b[0m\u001b[0mfiles\u001b[0m\u001b[0;34m,\u001b[0m \u001b[0mtimeout\u001b[0m\u001b[0;34m=\u001b[0m\u001b[0mself\u001b[0m\u001b[0;34m.\u001b[0m\u001b[0mtimeout\u001b[0m\u001b[0;34m,\u001b[0m\u001b[0;34m\u001b[0m\u001b[0m\n\u001b[0;32m---> 61\u001b[0;31m                                stream=stream, auth=auth, verify=verify)\n\u001b[0m\u001b[1;32m     62\u001b[0m \u001b[0;34m\u001b[0m\u001b[0m\n\u001b[1;32m     63\u001b[0m     \u001b[0;32mdef\u001b[0m \u001b[0mhash\u001b[0m\u001b[0;34m(\u001b[0m\u001b[0mself\u001b[0m\u001b[0;34m)\u001b[0m\u001b[0;34m:\u001b[0m\u001b[0;34m\u001b[0m\u001b[0m\n",
      "\u001b[0;32m/Users/benjaminpope/.local/lib/python2.7/site-packages/requests/sessions.pyc\u001b[0m in \u001b[0;36mrequest\u001b[0;34m(self, method, url, params, data, headers, cookies, files, auth, timeout, allow_redirects, proxies, hooks, stream, verify, cert, json)\u001b[0m\n\u001b[1;32m    510\u001b[0m         }\n\u001b[1;32m    511\u001b[0m         \u001b[0msend_kwargs\u001b[0m\u001b[0;34m.\u001b[0m\u001b[0mupdate\u001b[0m\u001b[0;34m(\u001b[0m\u001b[0msettings\u001b[0m\u001b[0;34m)\u001b[0m\u001b[0;34m\u001b[0m\u001b[0m\n\u001b[0;32m--> 512\u001b[0;31m         \u001b[0mresp\u001b[0m \u001b[0;34m=\u001b[0m \u001b[0mself\u001b[0m\u001b[0;34m.\u001b[0m\u001b[0msend\u001b[0m\u001b[0;34m(\u001b[0m\u001b[0mprep\u001b[0m\u001b[0;34m,\u001b[0m \u001b[0;34m**\u001b[0m\u001b[0msend_kwargs\u001b[0m\u001b[0;34m)\u001b[0m\u001b[0;34m\u001b[0m\u001b[0m\n\u001b[0m\u001b[1;32m    513\u001b[0m \u001b[0;34m\u001b[0m\u001b[0m\n\u001b[1;32m    514\u001b[0m         \u001b[0;32mreturn\u001b[0m \u001b[0mresp\u001b[0m\u001b[0;34m\u001b[0m\u001b[0m\n",
      "\u001b[0;32m/Users/benjaminpope/.local/lib/python2.7/site-packages/requests/sessions.pyc\u001b[0m in \u001b[0;36msend\u001b[0;34m(self, request, **kwargs)\u001b[0m\n\u001b[1;32m    620\u001b[0m \u001b[0;34m\u001b[0m\u001b[0m\n\u001b[1;32m    621\u001b[0m         \u001b[0;31m# Send the request\u001b[0m\u001b[0;34m\u001b[0m\u001b[0;34m\u001b[0m\u001b[0m\n\u001b[0;32m--> 622\u001b[0;31m         \u001b[0mr\u001b[0m \u001b[0;34m=\u001b[0m \u001b[0madapter\u001b[0m\u001b[0;34m.\u001b[0m\u001b[0msend\u001b[0m\u001b[0;34m(\u001b[0m\u001b[0mrequest\u001b[0m\u001b[0;34m,\u001b[0m \u001b[0;34m**\u001b[0m\u001b[0mkwargs\u001b[0m\u001b[0;34m)\u001b[0m\u001b[0;34m\u001b[0m\u001b[0m\n\u001b[0m\u001b[1;32m    623\u001b[0m \u001b[0;34m\u001b[0m\u001b[0m\n\u001b[1;32m    624\u001b[0m         \u001b[0;31m# Total elapsed time of the request (approximately)\u001b[0m\u001b[0;34m\u001b[0m\u001b[0;34m\u001b[0m\u001b[0m\n",
      "\u001b[0;32m/Users/benjaminpope/.local/lib/python2.7/site-packages/requests/adapters.pyc\u001b[0m in \u001b[0;36msend\u001b[0;34m(self, request, stream, timeout, verify, cert, proxies)\u001b[0m\n\u001b[1;32m    493\u001b[0m \u001b[0;34m\u001b[0m\u001b[0m\n\u001b[1;32m    494\u001b[0m         \u001b[0;32mexcept\u001b[0m \u001b[0;34m(\u001b[0m\u001b[0mProtocolError\u001b[0m\u001b[0;34m,\u001b[0m \u001b[0msocket\u001b[0m\u001b[0;34m.\u001b[0m\u001b[0merror\u001b[0m\u001b[0;34m)\u001b[0m \u001b[0;32mas\u001b[0m \u001b[0merr\u001b[0m\u001b[0;34m:\u001b[0m\u001b[0;34m\u001b[0m\u001b[0m\n\u001b[0;32m--> 495\u001b[0;31m             \u001b[0;32mraise\u001b[0m \u001b[0mConnectionError\u001b[0m\u001b[0;34m(\u001b[0m\u001b[0merr\u001b[0m\u001b[0;34m,\u001b[0m \u001b[0mrequest\u001b[0m\u001b[0;34m=\u001b[0m\u001b[0mrequest\u001b[0m\u001b[0;34m)\u001b[0m\u001b[0;34m\u001b[0m\u001b[0m\n\u001b[0m\u001b[1;32m    496\u001b[0m \u001b[0;34m\u001b[0m\u001b[0m\n\u001b[1;32m    497\u001b[0m         \u001b[0;32mexcept\u001b[0m \u001b[0mMaxRetryError\u001b[0m \u001b[0;32mas\u001b[0m \u001b[0me\u001b[0m\u001b[0;34m:\u001b[0m\u001b[0;34m\u001b[0m\u001b[0m\n",
      "\u001b[0;31mConnectionError\u001b[0m: ('Connection aborted.', BadStatusLine(\"''\",))"
     ]
    }
   ],
   "source": [
    "hippar = []\n",
    "for j, hip in enumerate(hips):\n",
    "    print j, hip\n",
    "    dummy = esasky.query_object_catalogs('HIP'+str(hip),catalogs='HIPPARCOS-2')[0]\n",
    "    hippar.append(dummy['plx'].data.data[0])"
   ]
  },
  {
   "cell_type": "code",
   "execution_count": null,
   "metadata": {},
   "outputs": [],
   "source": [
    "parallaxes_hip = np.array(hippar)"
   ]
  },
  {
   "cell_type": "code",
   "execution_count": null,
   "metadata": {},
   "outputs": [],
   "source": [
    "plt.plot(gaia['phot_g_mean_mag'],gaia['parallax']/parallaxes_hip,'.',markersize=12,label='Gaia/Hipparcos')\n",
    "plt.axhline(1.,color=colours[1],label='1')\n",
    "plt.legend()\n",
    "plt.xlabel(r'Gaia $G$ mag')\n",
    "plt.ylabel('Parallax Ratio')\n",
    "plt.title('Comparison of Gaia and Hipparcos Parallaxes',y=1.01)\n",
    "plt.savefig('gaiavship.png')"
   ]
  },
  {
   "cell_type": "code",
   "execution_count": null,
   "metadata": {},
   "outputs": [],
   "source": [
    "plt.plot(gaia['parallax'],parallaxes_hip,'.')\n",
    "plt.plot(gaia['parallax'],gaia['parallax'],'-')"
   ]
  },
  {
   "cell_type": "code",
   "execution_count": null,
   "metadata": {},
   "outputs": [],
   "source": [
    "plt.hist(gaia['parallax']/parallaxes_hip,bins=20);\n",
    "plt.axvline(1,color=colours[2])"
   ]
  },
  {
   "cell_type": "markdown",
   "metadata": {},
   "source": [
    "### Now let's check everything against the Bright_Kep overall bright kepler catalogue"
   ]
  },
  {
   "cell_type": "code",
   "execution_count": 64,
   "metadata": {},
   "outputs": [],
   "source": [
    "# import sys\n",
    "# reload(sys)\n",
    "# sys.setdefaultencoding('utf8')\n",
    "\n",
    "brightkep = Table.read('../data/Bright_Kep_new.csv')\n",
    "# reload(sys)\n"
   ]
  },
  {
   "cell_type": "code",
   "execution_count": 65,
   "metadata": {},
   "outputs": [],
   "source": [
    "brightkep.sort('Name')"
   ]
  },
  {
   "cell_type": "code",
   "execution_count": 67,
   "metadata": {},
   "outputs": [
    {
     "data": {
      "text/html": [
       "&lt;Table masked=True length=102&gt;\n",
       "<table id=\"table4669821328\" class=\"table-striped table-bordered table-condensed\">\n",
       "<thead><tr><th>Name</th><th>SpType</th><th>[Fe/H]</th><th>theta</th><th>Observed</th><th>Seasons</th><th>Teff</th><th>Log_G</th><th>E(B-V)</th><th>g</th><th>r</th><th>J</th><th>kepmag</th><th>Edge_Dist</th><th>Notes</th><th>Collaborators</th><th>Interferometry?</th><th>TRES?</th><th>Kepler_ID</th></tr></thead>\n",
       "<thead><tr><th>str10</th><th>str15</th><th>float64</th><th>float64</th><th>str29</th><th>int64</th><th>int64</th><th>float64</th><th>float64</th><th>float64</th><th>float64</th><th>float64</th><th>float64</th><th>int64</th><th>str84</th><th>str16</th><th>str3</th><th>str3</th><th>int64</th></tr></thead>\n",
       "<tr><td>14_Cyg</td><td>B9III</td><td>0.08</td><td>0.267</td><td>unobserved</td><td>4</td><td>--</td><td>--</td><td>--</td><td>5.334</td><td>5.394</td><td>5.365</td><td>5.49</td><td>0</td><td>contact binary, interesting ramp at low freq</td><td>--</td><td>--</td><td>--</td><td>7292420</td></tr>\n",
       "<tr><td>BD+36_3564</td><td>K5</td><td>--</td><td>--</td><td>unobserved</td><td>4</td><td>--</td><td>--</td><td>--</td><td>9.944</td><td>8.516</td><td>6.134</td><td>8.128</td><td>141</td><td>RG</td><td>--</td><td>--</td><td>--</td><td>1575741</td></tr>\n",
       "<tr><td>BD+39_3577</td><td>G5</td><td>--</td><td>--</td><td>unobserved</td><td>4</td><td>4870</td><td>2.513</td><td>0.057</td><td>8.819</td><td>8.062</td><td>6.636</td><td>8.131</td><td>217</td><td>RG</td><td>--</td><td>--</td><td>--</td><td>4989821</td></tr>\n",
       "<tr><td>BD+39_3882</td><td>F5</td><td>--</td><td>--</td><td>unobserved</td><td>4</td><td>6241</td><td>4.186</td><td>0.02</td><td>8.463</td><td>8.192</td><td>7.36</td><td>8.259</td><td>0</td><td>bad light curve</td><td>--</td><td>--</td><td>--</td><td>4850372</td></tr>\n",
       "<tr><td>BD+42_3150</td><td>K0</td><td>--</td><td>--</td><td>unobserved</td><td>4</td><td>4716</td><td>2.329</td><td>0.063</td><td>9.111</td><td>8.257</td><td>6.743</td><td>8.35</td><td>261</td><td>not sure</td><td>--</td><td>--</td><td>--</td><td>7091342</td></tr>\n",
       "<tr><td>BD+42_3367</td><td>M0</td><td>--</td><td>--</td><td>unobserved</td><td>4</td><td>--</td><td>--</td><td>--</td><td>9.468</td><td>7.756</td><td>4.983</td><td>7.271</td><td>269</td><td>RG: low freq</td><td>--</td><td>--</td><td>--</td><td>7447756</td></tr>\n",
       "<tr><td>BD+42_3393</td><td>K5</td><td>--</td><td>--</td><td>unobserved</td><td>4</td><td>--</td><td>--</td><td>--</td><td>9.86</td><td>8.149</td><td>5.362</td><td>7.664</td><td>139</td><td>RG: low freq</td><td>--</td><td>--</td><td>--</td><td>6870455</td></tr>\n",
       "<tr><td>BD+43_3064</td><td>K5</td><td>--</td><td>--</td><td>unobserved</td><td>3</td><td>--</td><td>--</td><td>--</td><td>10.18</td><td>8.692</td><td>6.205</td><td>8.284</td><td>0</td><td>RG</td><td>--</td><td>--</td><td>--</td><td>8075287</td></tr>\n",
       "<tr><td>BD+43_3068</td><td>G0</td><td>--</td><td>--</td><td>unobserved</td><td>4</td><td>5506</td><td>4.394</td><td>0.011</td><td>8.754</td><td>8.254</td><td>7.181</td><td>8.308</td><td>0</td><td>not good</td><td>--</td><td>--</td><td>--</td><td>8006792</td></tr>\n",
       "<tr><td>BD+43_3171</td><td>M0</td><td>--</td><td>--</td><td>unobserved</td><td>4</td><td>--</td><td>--</td><td>--</td><td>10.412</td><td>8.818</td><td>5.904</td><td>8.373</td><td>332</td><td>RG: very low freq?</td><td>--</td><td>--</td><td>--</td><td>7810954</td></tr>\n",
       "<tr><td>...</td><td>...</td><td>...</td><td>...</td><td>...</td><td>...</td><td>...</td><td>...</td><td>...</td><td>...</td><td>...</td><td>...</td><td>...</td><td>...</td><td>...</td><td>...</td><td>...</td><td>...</td><td>...</td></tr>\n",
       "<tr><td>HD_226754</td><td>K2</td><td>--</td><td>--</td><td>unobserved</td><td>2</td><td>--</td><td>--</td><td>--</td><td>9.729</td><td>8.238</td><td>5.627</td><td>7.829</td><td>--</td><td>RG: poor quality</td><td>--</td><td>--</td><td>--</td><td>6234579</td></tr>\n",
       "<tr><td>V2079_Cyg</td><td>B8V</td><td>--</td><td>--</td><td>unobserved, alpha2 Cvn</td><td>4</td><td>--</td><td>--</td><td>--</td><td>6.921</td><td>7.059</td><td>7.331</td><td>7.174</td><td>93</td><td>Classical Pulsator</td><td>--</td><td>--</td><td>--</td><td>8818020</td></tr>\n",
       "<tr><td>V2083_Cyg</td><td>A3</td><td>--</td><td>--</td><td>unobserved EB</td><td>4</td><td>--</td><td>--</td><td>--</td><td>7.143</td><td>6.884</td><td>6.317</td><td>6.902</td><td>0</td><td>EB</td><td>--</td><td>--</td><td>--</td><td>10342012</td></tr>\n",
       "<tr><td>V380_Cyg</td><td>B1.1III+B2.5/3V</td><td>1.25</td><td>0.226</td><td>LC:Q11 SC:Q7 9 10 12-17 under</td><td>4</td><td>--</td><td>--</td><td>--</td><td>5.615</td><td>5.675</td><td>5.712</td><td>5.771</td><td>122</td><td>Eclipsing_binary</td><td>--</td><td>--</td><td>--</td><td>5385723</td></tr>\n",
       "<tr><td>V398_Lyr</td><td>M3</td><td>--</td><td>--</td><td>unobserved</td><td>4</td><td>--</td><td>--</td><td>--</td><td>8.877</td><td>7.421</td><td>1.869</td><td>7.024</td><td>49</td><td>RG</td><td>--</td><td>--</td><td>--</td><td>4042516</td></tr>\n",
       "<tr><td>V543_Lyr</td><td>B3V</td><td>-0.05</td><td>--</td><td>unobserved bCep</td><td>4</td><td>--</td><td>--</td><td>--</td><td>6.037</td><td>6.182</td><td>6.477</td><td>6.299</td><td>0</td><td>Classical Pulsator</td><td>--</td><td>--</td><td>--</td><td>5429169</td></tr>\n",
       "<tr><td>V546_Lyr</td><td>M-</td><td>--</td><td>--</td><td>unobserved</td><td>4</td><td>--</td><td>--</td><td>--</td><td>9.457</td><td>7.838</td><td>4.077</td><td>7.385</td><td>82</td><td>RG: low freq</td><td>--</td><td>--</td><td>--</td><td>6267345</td></tr>\n",
       "<tr><td>V547_Lyr</td><td>M4IIIa</td><td>--</td><td>--</td><td>unobserved</td><td>4</td><td>--</td><td>--</td><td>--</td><td>8.109</td><td>6.611</td><td>2.258</td><td>6.199</td><td>48</td><td>RG: low freq</td><td>--</td><td>--</td><td>--</td><td>5429948</td></tr>\n",
       "<tr><td>V554_Lyr</td><td>0</td><td>--</td><td>--</td><td>unobserved</td><td>2</td><td>9887</td><td>4.309</td><td>0.051</td><td>7.97</td><td>8.248</td><td>8.266</td><td>8.179</td><td>0</td><td>Missing - alpha2 Cvn</td><td>--</td><td>--</td><td>--</td><td>5001462</td></tr>\n",
       "<tr><td>V819_Cyg</td><td>B0.5IIIn</td><td>--</td><td>--</td><td>LC:Q14 16 17 under</td><td>4</td><td>--</td><td>--</td><td>--</td><td>6.15</td><td>6.27</td><td>6.481</td><td>6.381</td><td>178</td><td>sharp peaks</td><td>--</td><td>--</td><td>--</td><td>10618721</td></tr>\n",
       "</table>"
      ],
      "text/plain": [
       "<Table masked=True length=102>\n",
       "   Name         SpType      [Fe/H]  theta  ... Interferometry? TRES? Kepler_ID\n",
       "  str10         str15      float64 float64 ...       str3       str3   int64  \n",
       "---------- --------------- ------- ------- ... --------------- ----- ---------\n",
       "    14_Cyg           B9III    0.08   0.267 ...              --    --   7292420\n",
       "BD+36_3564              K5      --      -- ...              --    --   1575741\n",
       "BD+39_3577              G5      --      -- ...              --    --   4989821\n",
       "BD+39_3882              F5      --      -- ...              --    --   4850372\n",
       "BD+42_3150              K0      --      -- ...              --    --   7091342\n",
       "BD+42_3367              M0      --      -- ...              --    --   7447756\n",
       "BD+42_3393              K5      --      -- ...              --    --   6870455\n",
       "BD+43_3064              K5      --      -- ...              --    --   8075287\n",
       "BD+43_3068              G0      --      -- ...              --    --   8006792\n",
       "BD+43_3171              M0      --      -- ...              --    --   7810954\n",
       "       ...             ...     ...     ... ...             ...   ...       ...\n",
       " HD_226754              K2      --      -- ...              --    --   6234579\n",
       " V2079_Cyg             B8V      --      -- ...              --    --   8818020\n",
       " V2083_Cyg              A3      --      -- ...              --    --  10342012\n",
       "  V380_Cyg B1.1III+B2.5/3V    1.25   0.226 ...              --    --   5385723\n",
       "  V398_Lyr              M3      --      -- ...              --    --   4042516\n",
       "  V543_Lyr             B3V   -0.05      -- ...              --    --   5429169\n",
       "  V546_Lyr              M-      --      -- ...              --    --   6267345\n",
       "  V547_Lyr          M4IIIa      --      -- ...              --    --   5429948\n",
       "  V554_Lyr               0      --      -- ...              --    --   5001462\n",
       "  V819_Cyg        B0.5IIIn      --      -- ...              --    --  10618721"
      ]
     },
     "execution_count": 67,
     "metadata": {},
     "output_type": "execute_result"
    }
   ],
   "source": [
    "test = join(cat,brightkep,keys='Name')\n",
    "test.sort('Name')\n",
    "test"
   ]
  },
  {
   "cell_type": "code",
   "execution_count": 42,
   "metadata": {},
   "outputs": [
    {
     "data": {
      "text/html": [
       "&lt;Table masked=True length=102&gt;\n",
       "<table id=\"table4618870608\" class=\"table-striped table-bordered table-condensed\">\n",
       "<thead><tr><th>Name</th><th>SpType</th><th>[Fe/H]</th><th>theta</th><th>Observed</th><th>Seasons</th><th>Teff</th><th>Log_G</th><th>E(B-V)</th><th>g</th><th>r</th><th>J</th><th>kepmag</th><th>Edge_Dist</th><th>Notes</th><th>Collaborators</th><th>Interferometry?</th><th>TRES?</th></tr></thead>\n",
       "<thead><tr><th>str10</th><th>str15</th><th>float64</th><th>float64</th><th>str29</th><th>int64</th><th>int64</th><th>float64</th><th>float64</th><th>float64</th><th>float64</th><th>float64</th><th>float64</th><th>int64</th><th>str84</th><th>str16</th><th>str3</th><th>str3</th></tr></thead>\n",
       "<tr><td>HD_185351</td><td>G9IIIbCN</td><td>0.16</td><td>1.156</td><td>LC:Q1-3 SC:Q16 under</td><td>4</td><td>--</td><td>--</td><td>--</td><td>6.091</td><td>5.176</td><td>3.654</td><td>5.034</td><td>59</td><td>RG: Retired A star</td><td>Hjorringgaard</td><td>--</td><td>Yes</td></tr>\n",
       "<tr><td>HD_186155</td><td>F5II-III</td><td>0.3</td><td>0.57</td><td>LC:Q1 under</td><td>4</td><td>--</td><td>--</td><td>--</td><td>5.44</td><td>5.065</td><td>4.419</td><td>5.055</td><td>66</td><td>three sharp peaks</td><td>--</td><td>--</td><td>--</td></tr>\n",
       "<tr><td>HD_175740</td><td>G8III</td><td>-0.1</td><td>1.035</td><td>unobserved</td><td>4</td><td>--</td><td>--</td><td>--</td><td>6.486</td><td>5.462</td><td>4.08</td><td>5.212</td><td>0</td><td>RG: suppressed l=1</td><td>Tim W, Guy, Cleo</td><td>Yes</td><td>Yes</td></tr>\n",
       "<tr><td>HD_184875</td><td>A2V</td><td>--</td><td>0.349</td><td>unobserved</td><td>4</td><td>--</td><td>--</td><td>--</td><td>5.399</td><td>5.337</td><td>5.128</td><td>5.403</td><td>0</td><td>Classical Pulsator</td><td>--</td><td>--</td><td>--</td></tr>\n",
       "<tr><td>14_Cyg</td><td>B9III</td><td>0.08</td><td>0.267</td><td>unobserved</td><td>4</td><td>--</td><td>--</td><td>--</td><td>5.334</td><td>5.394</td><td>5.365</td><td>5.49</td><td>0</td><td>contact binary, interesting ramp at low freq</td><td>--</td><td>--</td><td>--</td></tr>\n",
       "<tr><td>HD_189178</td><td>B5V</td><td>--</td><td>0.236</td><td>unobserved</td><td>4</td><td>--</td><td>--</td><td>--</td><td>5.356</td><td>5.448</td><td>5.595</td><td>5.552</td><td>0</td><td>Classical Pulsator</td><td>--</td><td>--</td><td>--</td></tr>\n",
       "<tr><td>HD_187372</td><td>M1III</td><td>--</td><td>2.693</td><td>unobserved</td><td>4</td><td>--</td><td>--</td><td>--</td><td>7.805</td><td>6.141</td><td>2.979</td><td>5.672</td><td>110</td><td>RG: low freq</td><td>--</td><td>--</td><td>--</td></tr>\n",
       "<tr><td>HD_182694</td><td>G7IIIa</td><td>-0.01</td><td>0.771</td><td>LC:Q2 under</td><td>4</td><td>--</td><td>--</td><td>--</td><td>6.76</td><td>5.86</td><td>4.437</td><td>5.722</td><td>137</td><td>RG</td><td>Tim W</td><td>Yes</td><td>--</td></tr>\n",
       "<tr><td>V380_Cyg</td><td>B1.1III+B2.5/3V</td><td>1.25</td><td>0.226</td><td>LC:Q11 SC:Q7 9 10 12-17 under</td><td>4</td><td>--</td><td>--</td><td>--</td><td>5.615</td><td>5.675</td><td>5.712</td><td>5.771</td><td>122</td><td>Eclipsing_binary</td><td>--</td><td>--</td><td>--</td></tr>\n",
       "<tr><td>HD_186121</td><td>M2III</td><td>--</td><td>3.429</td><td>unobserved</td><td>4</td><td>--</td><td>--</td><td>--</td><td>7.735</td><td>6.198</td><td>2.561</td><td>5.773</td><td>44</td><td>RG: low freq</td><td>--</td><td>--</td><td>--</td></tr>\n",
       "<tr><td>...</td><td>...</td><td>...</td><td>...</td><td>...</td><td>...</td><td>...</td><td>...</td><td>...</td><td>...</td><td>...</td><td>...</td><td>...</td><td>...</td><td>...</td><td>...</td><td>...</td><td>...</td></tr>\n",
       "<tr><td>V554_Lyr</td><td>0</td><td>--</td><td>--</td><td>unobserved</td><td>2</td><td>9887</td><td>4.309</td><td>0.051</td><td>7.97</td><td>8.248</td><td>8.266</td><td>8.179</td><td>0</td><td>Missing - alpha2 Cvn</td><td>--</td><td>--</td><td>--</td></tr>\n",
       "<tr><td>BD+47_2825</td><td>K0</td><td>--</td><td>--</td><td>unobserved</td><td>4</td><td>--</td><td>--</td><td>--</td><td>9.75</td><td>8.558</td><td>6.503</td><td>8.251</td><td>162</td><td>Not sure - classical?</td><td>--</td><td>--</td><td>--</td></tr>\n",
       "<tr><td>BD+39_3882</td><td>F5</td><td>--</td><td>--</td><td>unobserved</td><td>4</td><td>6241</td><td>4.186</td><td>0.02</td><td>8.463</td><td>8.192</td><td>7.36</td><td>8.259</td><td>0</td><td>bad light curve</td><td>--</td><td>--</td><td>--</td></tr>\n",
       "<tr><td>BD+43_3064</td><td>K5</td><td>--</td><td>--</td><td>unobserved</td><td>3</td><td>--</td><td>--</td><td>--</td><td>10.18</td><td>8.692</td><td>6.205</td><td>8.284</td><td>0</td><td>RG</td><td>--</td><td>--</td><td>--</td></tr>\n",
       "<tr><td>BD+43_3068</td><td>G0</td><td>--</td><td>--</td><td>unobserved</td><td>4</td><td>5506</td><td>4.394</td><td>0.011</td><td>8.754</td><td>8.254</td><td>7.181</td><td>8.308</td><td>0</td><td>not good</td><td>--</td><td>--</td><td>--</td></tr>\n",
       "<tr><td>BD+43_3213</td><td>K5</td><td>--</td><td>--</td><td>unobserved</td><td>4</td><td>--</td><td>--</td><td>--</td><td>10.425</td><td>8.775</td><td>5.821</td><td>8.311</td><td>127</td><td>RG: low freq</td><td>--</td><td>--</td><td>--</td></tr>\n",
       "<tr><td>BD+42_3150</td><td>K0</td><td>--</td><td>--</td><td>unobserved</td><td>4</td><td>4716</td><td>2.329</td><td>0.063</td><td>9.111</td><td>8.257</td><td>6.743</td><td>8.35</td><td>261</td><td>not sure</td><td>--</td><td>--</td><td>--</td></tr>\n",
       "<tr><td>BD+43_3171</td><td>M0</td><td>--</td><td>--</td><td>unobserved</td><td>4</td><td>--</td><td>--</td><td>--</td><td>10.412</td><td>8.818</td><td>5.904</td><td>8.373</td><td>332</td><td>RG: very low freq?</td><td>--</td><td>--</td><td>--</td></tr>\n",
       "<tr><td>BD+48_2904</td><td>K0</td><td>--</td><td>--</td><td>unobserved</td><td>4</td><td>4529</td><td>2.014</td><td>0.083</td><td>9.364</td><td>8.42</td><td>6.692</td><td>8.487</td><td>0</td><td>nothing</td><td>--</td><td>--</td><td>--</td></tr>\n",
       "<tr><td>BD+47_2891</td><td>K0</td><td>--</td><td>--</td><td>unobserved</td><td>2</td><td>--</td><td>--</td><td>--</td><td>10.081</td><td>8.962</td><td>6.99</td><td>8.68</td><td>--</td><td>nothing</td><td>--</td><td>--</td><td>--</td></tr>\n",
       "</table>"
      ],
      "text/plain": [
       "<Table masked=True length=102>\n",
       "   Name         SpType      [Fe/H] ...  Collaborators   Interferometry? TRES?\n",
       "  str10         str15      float64 ...      str16             str3       str3\n",
       "---------- --------------- ------- ... ---------------- --------------- -----\n",
       " HD_185351        G9IIIbCN    0.16 ...    Hjorringgaard              --   Yes\n",
       " HD_186155        F5II-III     0.3 ...               --              --    --\n",
       " HD_175740           G8III    -0.1 ... Tim W, Guy, Cleo             Yes   Yes\n",
       " HD_184875             A2V      -- ...               --              --    --\n",
       "    14_Cyg           B9III    0.08 ...               --              --    --\n",
       " HD_189178             B5V      -- ...               --              --    --\n",
       " HD_187372           M1III      -- ...               --              --    --\n",
       " HD_182694          G7IIIa   -0.01 ...            Tim W             Yes    --\n",
       "  V380_Cyg B1.1III+B2.5/3V    1.25 ...               --              --    --\n",
       " HD_186121           M2III      -- ...               --              --    --\n",
       "       ...             ...     ... ...              ...             ...   ...\n",
       "  V554_Lyr               0      -- ...               --              --    --\n",
       "BD+47_2825              K0      -- ...               --              --    --\n",
       "BD+39_3882              F5      -- ...               --              --    --\n",
       "BD+43_3064              K5      -- ...               --              --    --\n",
       "BD+43_3068              G0      -- ...               --              --    --\n",
       "BD+43_3213              K5      -- ...               --              --    --\n",
       "BD+42_3150              K0      -- ...               --              --    --\n",
       "BD+43_3171              M0      -- ...               --              --    --\n",
       "BD+48_2904              K0      -- ...               --              --    --\n",
       "BD+47_2891              K0      -- ...               --              --    --"
      ]
     },
     "execution_count": 42,
     "metadata": {},
     "output_type": "execute_result"
    }
   ],
   "source": [
    "cat"
   ]
  },
  {
   "cell_type": "code",
   "execution_count": 97,
   "metadata": {},
   "outputs": [],
   "source": [
    "pdcat, pdbr = cat.to_pandas(), brightkep.to_pandas()"
   ]
  },
  {
   "cell_type": "code",
   "execution_count": 99,
   "metadata": {},
   "outputs": [],
   "source": [
    "# pdcat.join(pdbr,on='Name')"
   ]
  },
  {
   "cell_type": "markdown",
   "metadata": {},
   "source": [
    "### find missing files"
   ]
  },
  {
   "cell_type": "code",
   "execution_count": 103,
   "metadata": {},
   "outputs": [],
   "source": [
    "import glob\n",
    "filenames = (glob.glob(\"../data/lcs/*.csv\"))\n"
   ]
  },
  {
   "cell_type": "code",
   "execution_count": 104,
   "metadata": {},
   "outputs": [
    {
     "name": "stdout",
     "output_type": "stream",
     "text": [
      "['../data/lcs/V543_Lyr_smear_combined.csv']\n"
     ]
    }
   ],
   "source": [
    "test = glob.glob(\"../data/lcs/V543_Lyr_smear_combined.csv\")\n",
    "print test"
   ]
  },
  {
   "cell_type": "code",
   "execution_count": 109,
   "metadata": {},
   "outputs": [],
   "source": [
    "for name in cat['Name']:\n",
    "    test = glob.glob(\"../data/lcs/%s_smear_combined.csv\" % name)\n",
    "#     print name, test"
   ]
  },
  {
   "cell_type": "code",
   "execution_count": 108,
   "metadata": {},
   "outputs": [],
   "source": [
    "# brightkep['Kepler_ID'].pprint(max_lines=230)"
   ]
  },
  {
   "cell_type": "code",
   "execution_count": 107,
   "metadata": {},
   "outputs": [
    {
     "name": "stdout",
     "output_type": "stream",
     "text": [
      "0\n"
     ]
    }
   ],
   "source": [
    "names_in = []\n",
    "for name in cat['Name']:\n",
    "    if name not in brightkep['Name']:\n",
    "        print name\n",
    "        names_in.append(name)\n",
    "        \n",
    "print len(names_in)"
   ]
  },
  {
   "cell_type": "code",
   "execution_count": 110,
   "metadata": {},
   "outputs": [],
   "source": [
    "# brightkep['Name'].pprint(max_lines=230)"
   ]
  },
  {
   "cell_type": "markdown",
   "metadata": {},
   "source": [
    "###  Load stellar variability classes"
   ]
  },
  {
   "cell_type": "code",
   "execution_count": 139,
   "metadata": {},
   "outputs": [],
   "source": [
    "var = Table.read('../data/variability.csv')"
   ]
  },
  {
   "cell_type": "code",
   "execution_count": 140,
   "metadata": {},
   "outputs": [],
   "source": [
    "for name in cat['Name']:\n",
    "    if name not in var['Name']:\n",
    "        print name"
   ]
  },
  {
   "cell_type": "code",
   "execution_count": 141,
   "metadata": {},
   "outputs": [
    {
     "data": {
      "text/html": [
       "&lt;Table masked=True length=1&gt;\n",
       "<table id=\"table5115804176\" class=\"table-striped table-bordered table-condensed\">\n",
       "<thead><tr><th>Name</th><th>SpType</th><th>[Fe/H]</th><th>theta</th><th>Observed</th><th>Seasons</th><th>Teff</th><th>Log_G</th><th>E(B-V)</th><th>g</th><th>r</th><th>J</th><th>kepmag</th><th>Edge_Dist</th><th>Notes</th><th>Collaborators</th><th>Interferometry?</th><th>TRES?</th><th>Kepler_ID</th><th>source_id</th><th>ra</th><th>dec</th><th>phot_g_mean_mag</th><th>r_est</th><th>r_lo</th><th>r_hi</th></tr></thead>\n",
       "<thead><tr><th>str10</th><th>str16</th><th>float64</th><th>float64</th><th>str29</th><th>int64</th><th>int64</th><th>float64</th><th>float64</th><th>float64</th><th>float64</th><th>float64</th><th>float64</th><th>int64</th><th>str84</th><th>str16</th><th>str3</th><th>str3</th><th>int64</th><th>int64</th><th>float64</th><th>float64</th><th>float64</th><th>float64</th><th>float64</th><th>float64</th></tr></thead>\n",
       "<tr><td>BD+42_3150</td><td>B9III</td><td>--</td><td>--</td><td>unobserved</td><td>4</td><td>4716</td><td>2.329</td><td>0.063</td><td>9.111</td><td>8.257</td><td>6.743</td><td>8.35</td><td>261</td><td>not sure</td><td>--</td><td>--</td><td>--</td><td>7091342</td><td>2116742544137540608</td><td>281.25257984212334</td><td>42.6436414279837</td><td>8.31532</td><td>545.954282342101</td><td>516.819773786676</td><td>578.502581535217</td></tr>\n",
       "</table>"
      ],
      "text/plain": [
       "<Table masked=True length=1>\n",
       "   Name    SpType  [Fe/H] ...      r_est             r_lo             r_hi      \n",
       "  str10    str16  float64 ...     float64          float64          float64     \n",
       "---------- ------ ------- ... ---------------- ---------------- ----------------\n",
       "BD+42_3150  B9III      -- ... 545.954282342101 516.819773786676 578.502581535217"
      ]
     },
     "execution_count": 141,
     "metadata": {},
     "output_type": "execute_result"
    }
   ],
   "source": [
    "newcat[newcat['Name']=='BD+42_3150']"
   ]
  },
  {
   "cell_type": "code",
   "execution_count": 142,
   "metadata": {},
   "outputs": [
    {
     "data": {
      "text/html": [
       "&lt;MaskedColumn name=&apos;Name&apos; dtype=&apos;str10&apos; length=102&gt;\n",
       "<table>\n",
       "<tr><td>HD_185351</td></tr>\n",
       "<tr><td>HD_186155</td></tr>\n",
       "<tr><td>HD_175740</td></tr>\n",
       "<tr><td>HD_184875</td></tr>\n",
       "<tr><td>14_Cyg</td></tr>\n",
       "<tr><td>HD_189178</td></tr>\n",
       "<tr><td>HD_187372</td></tr>\n",
       "<tr><td>HD_182694</td></tr>\n",
       "<tr><td>V380_Cyg</td></tr>\n",
       "<tr><td>HD_186121</td></tr>\n",
       "<tr><td>HD_189684</td></tr>\n",
       "<tr><td>HD_188252</td></tr>\n",
       "<tr><td>...</td></tr>\n",
       "<tr><td>BD+36_3564</td></tr>\n",
       "<tr><td>BD+39_3577</td></tr>\n",
       "<tr><td>V554_Lyr</td></tr>\n",
       "<tr><td>BD+47_2825</td></tr>\n",
       "<tr><td>BD+39_3882</td></tr>\n",
       "<tr><td>BD+43_3064</td></tr>\n",
       "<tr><td>BD+43_3068</td></tr>\n",
       "<tr><td>BD+43_3213</td></tr>\n",
       "<tr><td>BD+42_3150</td></tr>\n",
       "<tr><td>BD+43_3171</td></tr>\n",
       "<tr><td>BD+48_2904</td></tr>\n",
       "<tr><td>BD+47_2891</td></tr>\n",
       "</table>"
      ],
      "text/plain": [
       "<MaskedColumn name='Name' dtype='str10' length=102>\n",
       " HD_185351\n",
       " HD_186155\n",
       " HD_175740\n",
       " HD_184875\n",
       "    14_Cyg\n",
       " HD_189178\n",
       " HD_187372\n",
       " HD_182694\n",
       "  V380_Cyg\n",
       " HD_186121\n",
       " HD_189684\n",
       " HD_188252\n",
       "       ...\n",
       "BD+36_3564\n",
       "BD+39_3577\n",
       "  V554_Lyr\n",
       "BD+47_2825\n",
       "BD+39_3882\n",
       "BD+43_3064\n",
       "BD+43_3068\n",
       "BD+43_3213\n",
       "BD+42_3150\n",
       "BD+43_3171\n",
       "BD+48_2904\n",
       "BD+47_2891"
      ]
     },
     "execution_count": 142,
     "metadata": {},
     "output_type": "execute_result"
    }
   ],
   "source": []
  },
  {
   "cell_type": "markdown",
   "metadata": {},
   "source": [
    "## Apogee"
   ]
  },
  {
   "cell_type": "code",
   "execution_count": 210,
   "metadata": {},
   "outputs": [],
   "source": [
    "fname_apogee = '../data/Pope_APOGEEDR14.fits'\n",
    "apogee = Table.read(fname_apogee)"
   ]
  },
  {
   "cell_type": "code",
   "execution_count": 235,
   "metadata": {},
   "outputs": [],
   "source": [
    "for j, name in enumerate(apogee['Name']):\n",
    "    apogee['Name'][j] = name.replace(' ','')\n",
    "apogee['Object']=apogee['Name']\n"
   ]
  },
  {
   "cell_type": "code",
   "execution_count": 239,
   "metadata": {},
   "outputs": [
    {
     "data": {
      "text/html": [
       "&lt;Column name=&apos;Object&apos; dtype=&apos;str10&apos; length=8&gt;\n",
       "<table>\n",
       "<tr><td>HD_175884</td></tr>\n",
       "<tr><td>HD_180312</td></tr>\n",
       "<tr><td>HD_180312</td></tr>\n",
       "<tr><td>HD_180475</td></tr>\n",
       "<tr><td>HD_181069</td></tr>\n",
       "<tr><td>HD_181778</td></tr>\n",
       "<tr><td>HD_182531</td></tr>\n",
       "<tr><td>HD_226754</td></tr>\n",
       "</table>"
      ],
      "text/plain": [
       "<Column name='Object' dtype='str10' length=8>\n",
       "HD_175884\n",
       "HD_180312\n",
       "HD_180312\n",
       "HD_180475\n",
       "HD_181069\n",
       "HD_181778\n",
       "HD_182531\n",
       "HD_226754"
      ]
     },
     "execution_count": 239,
     "metadata": {},
     "output_type": "execute_result"
    }
   ],
   "source": [
    "apogee_seismic = join(apogee,astero_logg,keys='Object')\n",
    "apogee_seismic['Object']"
   ]
  },
  {
   "cell_type": "code",
   "execution_count": 232,
   "metadata": {},
   "outputs": [],
   "source": [
    "apogee_var = join(apogee,var,keys='Name')"
   ]
  },
  {
   "cell_type": "code",
   "execution_count": 233,
   "metadata": {},
   "outputs": [
    {
     "data": {
      "text/html": [
       "&lt;Table length=23&gt;\n",
       "<table id=\"table4810186064\" class=\"table-striped table-bordered table-condensed\">\n",
       "<thead><tr><th>Name</th><th>Class</th></tr></thead>\n",
       "<thead><tr><th>str10</th><th>str12</th></tr></thead>\n",
       "<tr><td>BD+42_3150</td><td>?</td></tr>\n",
       "<tr><td>BD+42_3367</td><td>LPV</td></tr>\n",
       "<tr><td>BD+43_3068</td><td>-</td></tr>\n",
       "<tr><td>BD+48_2904</td><td>RG</td></tr>\n",
       "<tr><td>HD_175466</td><td>LPV</td></tr>\n",
       "<tr><td>HD_175841</td><td>GD/DS Hybrid</td></tr>\n",
       "<tr><td>HD_175884</td><td>RG</td></tr>\n",
       "<tr><td>HD_178090</td><td>LPV</td></tr>\n",
       "<tr><td>HD_179395</td><td>EV</td></tr>\n",
       "<tr><td>HD_180312</td><td>RG</td></tr>\n",
       "<tr><td>...</td><td>...</td></tr>\n",
       "<tr><td>HD_181778</td><td>RG</td></tr>\n",
       "<tr><td>HD_182354</td><td>RG</td></tr>\n",
       "<tr><td>HD_182531</td><td>RG</td></tr>\n",
       "<tr><td>HD_183203</td><td>LPV</td></tr>\n",
       "<tr><td>HD_184147</td><td>EV</td></tr>\n",
       "<tr><td>HD_184787</td><td>Hump &amp; Spike</td></tr>\n",
       "<tr><td>HD_184788</td><td>?</td></tr>\n",
       "<tr><td>HD_184875</td><td>EV</td></tr>\n",
       "<tr><td>HD_185117</td><td>LPV</td></tr>\n",
       "<tr><td>HD_226754</td><td>RG</td></tr>\n",
       "</table>"
      ],
      "text/plain": [
       "<Table length=23>\n",
       "   Name       Class    \n",
       "  str10       str12    \n",
       "---------- ------------\n",
       "BD+42_3150            ?\n",
       "BD+42_3367          LPV\n",
       "BD+43_3068            -\n",
       "BD+48_2904           RG\n",
       " HD_175466          LPV\n",
       " HD_175841 GD/DS Hybrid\n",
       " HD_175884           RG\n",
       " HD_178090          LPV\n",
       " HD_179395           EV\n",
       " HD_180312           RG\n",
       "       ...          ...\n",
       " HD_181778           RG\n",
       " HD_182354           RG\n",
       " HD_182531           RG\n",
       " HD_183203          LPV\n",
       " HD_184147           EV\n",
       " HD_184787 Hump & Spike\n",
       " HD_184788            ?\n",
       " HD_184875           EV\n",
       " HD_185117          LPV\n",
       " HD_226754           RG"
      ]
     },
     "execution_count": 233,
     "metadata": {},
     "output_type": "execute_result"
    }
   ],
   "source": [
    "apogee_var['Name','Class']"
   ]
  },
  {
   "cell_type": "markdown",
   "metadata": {},
   "source": [
    "### Make a Venn diagram\n"
   ]
  },
  {
   "cell_type": "code",
   "execution_count": 337,
   "metadata": {},
   "outputs": [],
   "source": [
    "from matplotlib_venn import venn2, venn3, venn3_circles\n"
   ]
  },
  {
   "cell_type": "code",
   "execution_count": 338,
   "metadata": {},
   "outputs": [],
   "source": [
    "seismic_names = set(seismic['Star_ID'])\n",
    "seismic_names.remove('HD_189636')\n",
    "seismic_names.add('HD_189636A') # typo star make A\n",
    "spec_names = set(spc_data['Object'][spc_data['Object']!='HD_176466']) # typo star remove\n",
    "all_names = set(newcat['Name'])\n",
    "giants_names = set(cat['Name'][giants].data.data.astype('S10'))\n",
    "dwarf_names = set(cat['Name'][dwarfs].data.data.astype('S10'))"
   ]
  },
  {
   "cell_type": "code",
   "execution_count": 339,
   "metadata": {},
   "outputs": [],
   "source": [
    "def label_by_id(label, ID):\n",
    "    num = v.get_label_by_id(ID).get_text() \n",
    "    v.get_label_by_id(ID).set_text(label+\"\\n\"+num)\n",
    "\n",
    "\n",
    "labels = ('Asteroseismology','Spectroscopy','All Stars')\n"
   ]
  },
  {
   "cell_type": "code",
   "execution_count": 340,
   "metadata": {},
   "outputs": [
    {
     "data": {
      "image/png": "[encoded data removed]",
      "text/plain": [
       "<Figure size 864x648 with 1 Axes>"
      ]
     },
     "metadata": {},
     "output_type": "display_data"
    }
   ],
   "source": [
    "v = venn3([seismic_names,spec_names,all_names],set_labels=labels,alpha=0.2)\n",
    "lbl = v.get_label_by_id('001')\n",
    "x, y = lbl.get_position()\n",
    "lbl.set_position((x, y-0.1))  # Or whatever\n",
    "\n",
    "venn3_circles([seismic_names,spec_names,all_names],linewidth=0.5);\n",
    "plt.savefig('../paper/venn.png',bbox_inches='tight')"
   ]
  },
  {
   "cell_type": "code",
   "execution_count": 341,
   "metadata": {},
   "outputs": [
    {
     "name": "stdout",
     "output_type": "stream",
     "text": [
      "Asteroseismic data available for HD_176209 but not spectroscopy\n",
      "Asteroseismic data available for HD_189750 but not spectroscopy\n",
      "Asteroseismic data available for BD+42_3150 but not spectroscopy\n",
      "Asteroseismic data available for HD_182354 but not spectroscopy\n",
      "Asteroseismic data available for BD+48_2904 but not spectroscopy\n",
      "Asteroseismic data available for HD_189636A but not spectroscopy\n",
      "BD+43_3064\n",
      "HD_179959\n",
      "HD_185351\n",
      "HD_187217\n",
      "HD_188629\n",
      "HD_188875\n"
     ]
    }
   ],
   "source": [
    "for name in spec_names:\n",
    "    if name not in all_names:\n",
    "        print 'Spectroscopy:',name,'not in main catalogue'\n",
    "\n",
    "for name in seismic_names:\n",
    "    if name not in all_names:\n",
    "        print 'Asteroseismology:',name,'not in main catalogue'\n",
    "        \n",
    "for name in seismic_names:\n",
    "    if name not in spec_names:\n",
    "        print 'Asteroseismic data available for',name,'but not spectroscopy'\n",
    "        \n",
    "for name in diff['Object']:\n",
    "    if name not in seismic_names:\n",
    "#         print 'Abundances data available for',name,'but not asteroseismology'\n",
    "        print name\n"
   ]
  },
  {
   "cell_type": "code",
   "execution_count": 381,
   "metadata": {},
   "outputs": [
    {
     "data": {
      "text/html": [
       "&lt;Table length=1&gt;\n",
       "<table id=\"table4810008208\" class=\"table-striped table-bordered table-condensed\">\n",
       "<thead><tr><th>Star_ID</th><th>Dnu</th><th>Dnu_err</th><th>Numax</th><th>Numax_err</th><th>eps</th><th>eps_err</th></tr></thead>\n",
       "<thead><tr><th>str10</th><th>float64</th><th>float64</th><th>float64</th><th>float64</th><th>float64</th><th>float64</th></tr></thead>\n",
       "<tr><td>HD_189636</td><td>2.9103268982809842</td><td>0.013248235493462875</td><td>25.970144308219286</td><td>0.7419635016983703</td><td>0.9683943365400706</td><td>0.03773314934951546</td></tr>\n",
       "</table>"
      ],
      "text/plain": [
       "<Table length=1>\n",
       " Star_ID         Dnu         ...        eps               eps_err      \n",
       "  str10        float64       ...      float64             float64      \n",
       "--------- ------------------ ... ------------------ -------------------\n",
       "HD_189636 2.9103268982809842 ... 0.9683943365400706 0.03773314934951546"
      ]
     },
     "execution_count": 381,
     "metadata": {},
     "output_type": "execute_result"
    }
   ],
   "source": [
    "seismic[seismic['Star_ID']=='HD_189636']"
   ]
  },
  {
   "cell_type": "code",
   "execution_count": 386,
   "metadata": {},
   "outputs": [
    {
     "data": {
      "text/html": [
       "&lt;Column name=&apos;Object&apos; dtype=&apos;str10&apos; length=35&gt;\n",
       "<table>\n",
       "<tr><td>BD+36_3564</td></tr>\n",
       "<tr><td>BD+39_3577</td></tr>\n",
       "<tr><td>BD+43_3064</td></tr>\n",
       "<tr><td>BD+43_3171</td></tr>\n",
       "<tr><td>BD+43_3213</td></tr>\n",
       "<tr><td>BD+48_2955</td></tr>\n",
       "<tr><td>HD_174020</td></tr>\n",
       "<tr><td>HD_174829</td></tr>\n",
       "<tr><td>HD_175740</td></tr>\n",
       "<tr><td>HD_175884</td></tr>\n",
       "<tr><td>HD_178797</td></tr>\n",
       "<tr><td>HD_178910</td></tr>\n",
       "<tr><td>...</td></tr>\n",
       "<tr><td>HD_181880</td></tr>\n",
       "<tr><td>HD_182531</td></tr>\n",
       "<tr><td>HD_182692</td></tr>\n",
       "<tr><td>HD_182694</td></tr>\n",
       "<tr><td>HD_183124</td></tr>\n",
       "<tr><td>HD_185286</td></tr>\n",
       "<tr><td>HD_185351</td></tr>\n",
       "<tr><td>HD_187217</td></tr>\n",
       "<tr><td>HD_188537</td></tr>\n",
       "<tr><td>HD_188629</td></tr>\n",
       "<tr><td>HD_188875</td></tr>\n",
       "<tr><td>HD_226754</td></tr>\n",
       "</table>"
      ],
      "text/plain": [
       "<Column name='Object' dtype='str10' length=35>\n",
       "BD+36_3564\n",
       "BD+39_3577\n",
       "BD+43_3064\n",
       "BD+43_3171\n",
       "BD+43_3213\n",
       "BD+48_2955\n",
       " HD_174020\n",
       " HD_174829\n",
       " HD_175740\n",
       " HD_175884\n",
       " HD_178797\n",
       " HD_178910\n",
       "       ...\n",
       " HD_181880\n",
       " HD_182531\n",
       " HD_182692\n",
       " HD_182694\n",
       " HD_183124\n",
       " HD_185286\n",
       " HD_185351\n",
       " HD_187217\n",
       " HD_188537\n",
       " HD_188629\n",
       " HD_188875\n",
       " HD_226754"
      ]
     },
     "execution_count": 386,
     "metadata": {},
     "output_type": "execute_result"
    }
   ],
   "source": []
  },
  {
   "cell_type": "code",
   "execution_count": null,
   "metadata": {},
   "outputs": [],
   "source": []
  }
 ],
 "metadata": {
  "kernelspec": {
   "display_name": "Python 2",
   "language": "python",
   "name": "python2"
  },
  "language_info": {
   "codemirror_mode": {
    "name": "ipython",
    "version": 2
   },
   "file_extension": ".py",
   "mimetype": "text/x-python",
   "name": "python",
   "nbconvert_exporter": "python",
   "pygments_lexer": "ipython2",
   "version": "2.7.15"
  }
 },
 "nbformat": 4,
 "nbformat_minor": 2
}
