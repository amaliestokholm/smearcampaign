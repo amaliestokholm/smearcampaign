{
 "cells": [
  {
   "cell_type": "code",
   "execution_count": 183,
   "metadata": {},
   "outputs": [],
   "source": [
    "import numpy as np\n",
    "import matplotlib.pyplot as plt\n",
    "\n",
    "from astropy.table import Table, join, Column\n",
    "\n",
    "from astropy.io import ascii\n",
    "import glob, re\n",
    "\n",
    "% matplotlib inline\n",
    "\n",
    "import matplotlib as mpl\n",
    "mpl.style.use('seaborn-colorblind')\n",
    "\n",
    "#To make sure we have always the same matplotlib settings\n",
    "#(the ones in comments are the ipython notebook settings)\n",
    "\n",
    "mpl.rcParams['figure.figsize']=(12.0,9.0)    #(6.0,4.0)\n",
    "mpl.rcParams['font.size']=18               #10 \n",
    "mpl.rcParams['savefig.dpi']= 200             #72 \n",
    "mpl.rcParams['axes.labelsize'] = 16\n",
    "mpl.rcParams['axes.labelsize'] = 16\n",
    "mpl.rcParams['xtick.labelsize'] = 12\n",
    "mpl.rcParams['ytick.labelsize'] = 12\n",
    "from matplotlib import rc\n",
    "\n",
    "colours = mpl.rcParams['axes.prop_cycle'].by_key()['color']\n"
   ]
  },
  {
   "cell_type": "markdown",
   "metadata": {},
   "source": [
    "## This notebook reads in Keith's abundances and Guy's asteroseismology to produce the tables for the paper."
   ]
  },
  {
   "cell_type": "code",
   "execution_count": 3,
   "metadata": {},
   "outputs": [],
   "source": [
    "fname_diff = \"../data/abundances/Pope_abundances_diff_arcturus.fits\"\n",
    "fname_nodiff = \"../data/abundances/Pope_abundances_nodiff.fits\""
   ]
  },
  {
   "cell_type": "code",
   "execution_count": 4,
   "metadata": {},
   "outputs": [],
   "source": [
    "diff = Table.read(fname_diff)\n",
    "diff.sort('Object')\n",
    "nodiff = Table.read(fname_nodiff)\n",
    "nodiff.sort('Object')"
   ]
  },
  {
   "cell_type": "markdown",
   "metadata": {},
   "source": [
    "How do abundances compare between the differential and non-differential methods? Not too badly. Many more elements lack differential abundances than absolute abundances so it looks like in the paper we shouldn't use the differential. Good to include in online data though."
   ]
  },
  {
   "cell_type": "code",
   "execution_count": 5,
   "metadata": {},
   "outputs": [],
   "source": [
    "# for j, key in enumerate(diff.keys()[1:]):\n",
    "#     if key[0]=='e':\n",
    "#         continue\n",
    "#     plt.figure(j)\n",
    "#     plt.plot(diff[key],nodiff[key],'.')\n",
    "#     plt.title(key)"
   ]
  },
  {
   "cell_type": "code",
   "execution_count": 6,
   "metadata": {},
   "outputs": [
    {
     "data": {
      "text/html": [
       "&lt;Table length=35&gt;\n",
       "<table id=\"table4748769040\" class=\"table-striped table-bordered table-condensed\">\n",
       "<thead><tr><th>Object</th><th>Ca_Fe</th><th>eCa_Fe</th><th>Mg_Fe</th><th>eMg_Fe</th><th>Si_Fe</th><th>eSi_Fe</th><th>Ti_Fe</th><th>eTi_Fe</th><th>O_Fe</th><th>eO_Fe</th><th>Al_Fe</th><th>eAl_Fe</th><th>Ba_Fe</th><th>eBa_Fe</th><th>Na_Fe</th><th>eNa_Fe</th><th>Ni_Fe</th><th>eNi_Fe</th><th>Mn_Fe</th><th>eMn_Fe</th><th>Co_Fe</th><th>eCo_Fe</th><th>Eu_Fe</th><th>eEu_Fe</th><th>La_Fe</th><th>eLa_Fe</th><th>Zr_Fe</th><th>eZr_Fe</th><th>Sr_Fe</th><th>eSr_Fe</th><th>Zn_Fe</th><th>eZn_Fe</th><th>Y_Fe</th><th>eY_Fe</th><th>Cr_Fe</th><th>eCr_Fe</th><th>V_Fe</th><th>eV_Fe</th><th>Cu_Fe</th><th>eCu_Fe</th><th>Sc_Fe</th><th>eSc_Fe</th></tr></thead>\n",
       "<thead><tr><th>str10</th><th>float64</th><th>float64</th><th>float64</th><th>float64</th><th>float64</th><th>float64</th><th>float64</th><th>float64</th><th>float64</th><th>float64</th><th>float64</th><th>float64</th><th>float64</th><th>float64</th><th>float64</th><th>float64</th><th>float64</th><th>float64</th><th>float64</th><th>float64</th><th>float64</th><th>float64</th><th>float64</th><th>float64</th><th>float64</th><th>float64</th><th>float64</th><th>float64</th><th>float64</th><th>float64</th><th>float64</th><th>float64</th><th>float64</th><th>float64</th><th>float64</th><th>float64</th><th>float64</th><th>float64</th><th>float64</th><th>float64</th><th>float64</th><th>float64</th></tr></thead>\n",
       "<tr><td>BD+36_3564</td><td>0.20550000000000068</td><td>0.021811959427664313</td><td>0.32699999999999996</td><td>0.029981933288751386</td><td>0.1030000000000002</td><td>0.03033791174238739</td><td>0.3414999999999999</td><td>0.039563195412588896</td><td>nan</td><td>nan</td><td>0.39749999999999996</td><td>0.008838834764831969</td><td>nan</td><td>nan</td><td>0.2600000000000007</td><td>0.07726769244837267</td><td>0.006000000000000227</td><td>0.04284999081677555</td><td>0.07750000000000057</td><td>0.0045961940777125235</td><td>0.1299999999999999</td><td>0.023192941522005114</td><td>0.24799999999999933</td><td>0.02768573639981425</td><td>-0.016499999999999737</td><td>0.0659359300760974</td><td>0.10200000000000031</td><td>0.021922773547158676</td><td>0.3440000000000003</td><td>0.11825713509129157</td><td>-0.28699999999999903</td><td>0.19772933239377738</td><td>-0.2739999999999996</td><td>0.015773296262988193</td><td>0.23000000000000043</td><td>0.003797614382740828</td><td>0.1535000000000002</td><td>0.03049898435435564</td><td>-0.04499999999999971</td><td>0.06190150947270998</td><td>0.17300000000000093</td><td>0.017790381816734174</td></tr>\n",
       "<tr><td>BD+39_3577</td><td>0.1330000000000009</td><td>0.024249415323230328</td><td>0.2150000000000003</td><td>0.03658925303282372</td><td>-0.10549999999999926</td><td>0.02174089847882709</td><td>0.08499999999999996</td><td>0.03879026485998592</td><td>nan</td><td>nan</td><td>0.20550000000000024</td><td>0.00954594154601844</td><td>0.3520000000000003</td><td>0.1010273157048059</td><td>0.41600000000000037</td><td>0.0</td><td>-0.051000000000000156</td><td>0.03328029088036782</td><td>-0.028999999999999027</td><td>0.05782989102787844</td><td>-0.015999999999999126</td><td>0.02072659732649556</td><td>-0.22100000000000009</td><td>0.04160228359116841</td><td>-0.254999999999999</td><td>0.015035759843588615</td><td>0.128000000000001</td><td>0.08221016968721083</td><td>nan</td><td>nan</td><td>-0.24099999999999877</td><td>0.7076482176901175</td><td>-0.4039999999999999</td><td>0.037289656991162025</td><td>0.1640000000000006</td><td>0.0952853444922145</td><td>0.010500000000000398</td><td>0.020276010901452025</td><td>-0.20599999999999952</td><td>0.012727922061357708</td><td>-0.12499999999999956</td><td>0.053405093390050375</td></tr>\n",
       "<tr><td>BD+43_3064</td><td>0.18600000000000083</td><td>0.042992624259758146</td><td>0.2110000000000003</td><td>0.03401960219246152</td><td>-0.013999999999999346</td><td>0.030231207814540438</td><td>0.28249999999999975</td><td>0.044954827587674044</td><td>nan</td><td>nan</td><td>0.3550000000000004</td><td>0.010606601717797986</td><td>nan</td><td>nan</td><td>0.4790000000000001</td><td>0.06424951361683594</td><td>0.052999999999999936</td><td>0.044591812612475384</td><td>0.21400000000000086</td><td>0.024748737341528947</td><td>0.1330000000000009</td><td>0.02184520148655853</td><td>0.28000000000000025</td><td>0.05847007781763251</td><td>0.14950000000000063</td><td>0.017140503930748237</td><td>0.3230000000000004</td><td>0.03883977342879325</td><td>0.24800000000000022</td><td>0.12460813576970005</td><td>nan</td><td>nan</td><td>-0.13999999999999968</td><td>0.051714601419715026</td><td>0.32200000000000095</td><td>0.013075280607427315</td><td>0.24100000000000055</td><td>0.034289644203321076</td><td>-0.15899999999999936</td><td>0.09666551723454563</td><td>0.13700000000000045</td><td>0.024837935349126893</td></tr>\n",
       "<tr><td>BD+43_3171</td><td>0.28550000000000075</td><td>0.027774123216385355</td><td>0.2570000000000001</td><td>0.06383866383313486</td><td>-0.0004999999999997229</td><td>0.06954906181969671</td><td>0.20650000000000013</td><td>0.05828622108614094</td><td>nan</td><td>nan</td><td>0.4225000000000003</td><td>0.012968712349342808</td><td>0.32650000000000023</td><td>0.17867480936046912</td><td>0.18350000000000044</td><td>0.24711535767734086</td><td>0.04100000000000037</td><td>0.05452977168483287</td><td>0.1095000000000006</td><td>0.0947523086789976</td><td>0.1385000000000005</td><td>0.05128187695268264</td><td>0.2134999999999998</td><td>0.04800520805079382</td><td>-0.057999999999999385</td><td>0.11110636795431662</td><td>0.3585000000000007</td><td>0.06505382386916242</td><td>nan</td><td>nan</td><td>-0.40499999999999936</td><td>0.05055813485483807</td><td>-0.3059999999999996</td><td>0.030052038200428254</td><td>0.2940000000000005</td><td>0.03995153313703977</td><td>0.12350000000000039</td><td>0.056319659089877294</td><td>0.017000000000000348</td><td>0.10812319362652953</td><td>0.1435000000000004</td><td>0.032129667788764645</td></tr>\n",
       "<tr><td>BD+43_3213</td><td>0.1880000000000006</td><td>0.02661522816679147</td><td>0.22599999999999998</td><td>0.07206097859790929</td><td>-0.1779999999999995</td><td>0.11026558846711877</td><td>0.2709999999999999</td><td>0.06893329102190833</td><td>nan</td><td>nan</td><td>0.37200000000000033</td><td>0.038890872965260226</td><td>nan</td><td>nan</td><td>0.6230000000000002</td><td>0.367428479435114</td><td>0.06199999999999983</td><td>0.10016957843798903</td><td>0.3340000000000005</td><td>0.06717514421272183</td><td>0.03300000000000036</td><td>0.05482902127837066</td><td>0.06299999999999972</td><td>0.04313930922024598</td><td>-0.11499999999999932</td><td>0.05232165474787235</td><td>0.487000000000001</td><td>0.10996476708473496</td><td>0.6430000000000002</td><td>0.4744625248636609</td><td>nan</td><td>nan</td><td>-0.06449999999999978</td><td>0.08874190103891151</td><td>0.3925000000000005</td><td>0.005303300858898993</td><td>0.07500000000000018</td><td>0.08904416992443058</td><td>-0.27899999999999947</td><td>0.11398026144907729</td><td>0.18450000000000033</td><td>0.04329651213392325</td></tr>\n",
       "<tr><td>BD+48_2955</td><td>0.22000000000000064</td><td>0.04557301915751775</td><td>0.20000000000000018</td><td>0.033181671440961395</td><td>0.0820000000000003</td><td>0.0363137689425762</td><td>0.29600000000000026</td><td>0.03848392521560137</td><td>nan</td><td>nan</td><td>0.30400000000000027</td><td>0.06945682111931137</td><td>nan</td><td>nan</td><td>0.23400000000000087</td><td>0.1416604655505548</td><td>0.054999999999999716</td><td>0.03847729042288454</td><td>0.0965000000000007</td><td>0.015909902576697294</td><td>0.11900000000000066</td><td>0.03888166993018395</td><td>0.2789999999999999</td><td>0.03877740966078058</td><td>0.24400000000000066</td><td>0.04978500652807026</td><td>0.3440000000000003</td><td>0.054751511394663874</td><td>nan</td><td>nan</td><td>nan</td><td>nan</td><td>-0.14699999999999935</td><td>0.04632891105994191</td><td>0.23200000000000065</td><td>0.0377011273041006</td><td>0.19800000000000018</td><td>0.03326683356953951</td><td>-0.04999999999999982</td><td>0.03704203018194335</td><td>0.15300000000000047</td><td>0.030223708855958882</td></tr>\n",
       "<tr><td>HD_174020</td><td>0.32800000000000074</td><td>0.029608850028327676</td><td>0.2270000000000003</td><td>0.04272507576079221</td><td>-0.06749999999999945</td><td>0.059702348114377995</td><td>0.29300000000000015</td><td>0.06687163207638183</td><td>nan</td><td>nan</td><td>0.39000000000000057</td><td>0.03252691193458137</td><td>nan</td><td>nan</td><td>0.2550000000000008</td><td>0.33131970964613644</td><td>0.05400000000000027</td><td>0.045502024789617006</td><td>0.2265000000000006</td><td>0.0236880771697494</td><td>0.09500000000000064</td><td>0.03875240987521974</td><td>0.1070000000000002</td><td>0.04197246120970274</td><td>0.02250000000000041</td><td>0.06817841942286433</td><td>nan</td><td>nan</td><td>0.37100000000000044</td><td>0.8856658512102631</td><td>-0.4779999999999993</td><td>1.1132325397238443</td><td>-0.1874999999999991</td><td>0.05965879545381374</td><td>0.4130000000000007</td><td>0.06363961030678948</td><td>0.25600000000000067</td><td>0.026113895666388026</td><td>-0.20099999999999962</td><td>0.1075487830741973</td><td>0.18100000000000094</td><td>0.02827077402835456</td></tr>\n",
       "<tr><td>HD_174829</td><td>0.15549999999999997</td><td>0.04290487092289863</td><td>0.19949999999999957</td><td>0.0637841653789279</td><td>0.04850000000000021</td><td>0.04647365840910227</td><td>0.19049999999999923</td><td>0.032254930172954235</td><td>nan</td><td>nan</td><td>0.28649999999999975</td><td>0.0106066017177983</td><td>nan</td><td>nan</td><td>0.3055000000000003</td><td>0.037393800238760114</td><td>-0.05750000000000011</td><td>0.0359089339885681</td><td>-0.020499999999999297</td><td>0.07008301955273916</td><td>0.05349999999999966</td><td>0.02032060810366223</td><td>0.14649999999999963</td><td>0.009148087231766001</td><td>0.12449999999999983</td><td>0.051649661179914694</td><td>0.0754999999999999</td><td>0.03085371938680971</td><td>nan</td><td>nan</td><td>-0.11649999999999983</td><td>0.13010764773832453</td><td>-0.24549999999999983</td><td>0.06052517554703989</td><td>0.16400000000000015</td><td>0.015076368097124744</td><td>0.012499999999999956</td><td>0.02309854191250964</td><td>-0.22949999999999982</td><td>0.03377814327287633</td><td>0.11749999999999972</td><td>0.02919511295724036</td></tr>\n",
       "<tr><td>HD_175740</td><td>0.12400000000000011</td><td>0.022052691004853683</td><td>0.07049999999999956</td><td>0.047968067991894354</td><td>-0.04800000000000004</td><td>0.022380547108792635</td><td>0.1444999999999994</td><td>0.030614571693884596</td><td>nan</td><td>nan</td><td>0.20899999999999963</td><td>0.007071067811865324</td><td>0.3039999999999994</td><td>0.0654562336108528</td><td>0.33999999999999986</td><td>0.028104303084258268</td><td>0.026999999999999247</td><td>0.04387794696544418</td><td>0.05799999999999983</td><td>0.01465403496449851</td><td>0.08499999999999996</td><td>0.023045651234372307</td><td>0.08699999999999974</td><td>0.07103300289302152</td><td>0.11699999999999999</td><td>0.011703117659964093</td><td>0.1819999999999995</td><td>0.024900763040517436</td><td>nan</td><td>nan</td><td>-0.16449999999999987</td><td>0.15662415203282046</td><td>-0.09350000000000058</td><td>0.07354962185490829</td><td>0.13450000000000006</td><td>0.03921495250539003</td><td>0.09149999999999991</td><td>0.017085074812277168</td><td>-0.15500000000000025</td><td>0.04305293898859337</td><td>0.08250000000000002</td><td>0.02889131934220613</td></tr>\n",
       "<tr><td>HD_175884</td><td>0.22850000000000037</td><td>0.02203816134698075</td><td>0.20249999999999968</td><td>0.0282155625466102</td><td>-0.00949999999999962</td><td>0.02911185325601929</td><td>0.3239999999999994</td><td>0.03485854747520531</td><td>nan</td><td>nan</td><td>0.3420000000000001</td><td>0.005303300858898993</td><td>nan</td><td>nan</td><td>0.45750000000000046</td><td>0.057854863107479365</td><td>0.03849999999999998</td><td>0.04810481918530084</td><td>0.13800000000000034</td><td>0.016617009357883763</td><td>0.09750000000000014</td><td>0.018643814972657657</td><td>0.18849999999999945</td><td>0.017541023345289765</td><td>0.13850000000000007</td><td>0.029869246307866616</td><td>0.2555000000000005</td><td>0.024894979413528334</td><td>nan</td><td>nan</td><td>-0.15299999999999958</td><td>0.1735947147812973</td><td>-0.2134999999999998</td><td>0.06802670064026332</td><td>0.2585000000000006</td><td>0.0398952331692601</td><td>0.20800000000000018</td><td>0.021881605624885767</td><td>-0.09750000000000014</td><td>0.052639233361523104</td><td>0.12950000000000017</td><td>0.02353279507925373</td></tr>\n",
       "<tr><td>...</td><td>...</td><td>...</td><td>...</td><td>...</td><td>...</td><td>...</td><td>...</td><td>...</td><td>...</td><td>...</td><td>...</td><td>...</td><td>...</td><td>...</td><td>...</td><td>...</td><td>...</td><td>...</td><td>...</td><td>...</td><td>...</td><td>...</td><td>...</td><td>...</td><td>...</td><td>...</td><td>...</td><td>...</td><td>...</td><td>...</td><td>...</td><td>...</td><td>...</td><td>...</td><td>...</td><td>...</td><td>...</td><td>...</td><td>...</td><td>...</td><td>...</td><td>...</td></tr>\n",
       "<tr><td>HD_182692</td><td>0.18700000000000072</td><td>0.027103710283116443</td><td>0.17950000000000044</td><td>0.0422072407517359</td><td>-0.1234999999999995</td><td>0.02770178494048512</td><td>0.2240000000000002</td><td>0.03836520836419356</td><td>nan</td><td>nan</td><td>0.35000000000000053</td><td>0.03252691193458137</td><td>0.13200000000000056</td><td>0.04775167245471313</td><td>0.38400000000000034</td><td>0.12367573529193183</td><td>0.025000000000000355</td><td>0.047303583373778366</td><td>0.22300000000000075</td><td>0.019026297590440302</td><td>0.1460000000000008</td><td>0.01592822823827227</td><td>0.01100000000000012</td><td>0.054467306707785726</td><td>0.056000000000000494</td><td>0.038140365755980905</td><td>0.20800000000000107</td><td>0.029173960992638606</td><td>nan</td><td>nan</td><td>-0.23999999999999932</td><td>1.3380378124328176</td><td>-0.20649999999999924</td><td>0.10146982310026985</td><td>0.14950000000000108</td><td>0.07151518632430458</td><td>0.24050000000000082</td><td>0.017221725464898644</td><td>-0.11499999999999932</td><td>0.057931632758572126</td><td>0.1800000000000006</td><td>0.032771550324883957</td></tr>\n",
       "<tr><td>HD_182694</td><td>0.10400000000000009</td><td>0.017270050076060292</td><td>0.10999999999999943</td><td>0.04086627125393599</td><td>-0.03699999999999992</td><td>0.02184541650374792</td><td>0.04899999999999949</td><td>0.0243730101505482</td><td>nan</td><td>nan</td><td>0.13899999999999935</td><td>0.0056568542494923844</td><td>nan</td><td>nan</td><td>0.31899999999999995</td><td>0.012581585603424395</td><td>-0.07100000000000062</td><td>0.0372716387666093</td><td>-0.08000000000000007</td><td>0.022395436042987705</td><td>0.0259999999999998</td><td>0.02873006978099756</td><td>0.16499999999999915</td><td>0.024903564001965684</td><td>0.1615000000000002</td><td>0.01978951742716329</td><td>0.16299999999999937</td><td>0.03980211049680662</td><td>nan</td><td>nan</td><td>-0.24149999999999983</td><td>0.07318555185280762</td><td>-0.11899999999999977</td><td>0.05031850554219598</td><td>0.04400000000000004</td><td>0.0348308412186671</td><td>-0.04700000000000015</td><td>0.01648113085018888</td><td>-0.26400000000000023</td><td>0.04415377170248943</td><td>0.09100000000000019</td><td>0.04662682014305659</td></tr>\n",
       "<tr><td>HD_183124</td><td>0.17250000000000076</td><td>0.02097467332990663</td><td>0.20650000000000013</td><td>0.035349790406108965</td><td>-0.020999999999999464</td><td>0.041388180456278595</td><td>0.1875</td><td>0.03211392999930095</td><td>nan</td><td>nan</td><td>0.2865000000000002</td><td>0.0021213203435597227</td><td>0.24600000000000044</td><td>0.05055813485483776</td><td>0.34750000000000014</td><td>0.021752820166249427</td><td>-0.0004999999999997229</td><td>0.04633838236214009</td><td>0.013500000000000512</td><td>0.037131398313835884</td><td>0.11150000000000038</td><td>0.01975609290819124</td><td>0.17249999999999943</td><td>0.050825682484350355</td><td>0.03550000000000031</td><td>0.06465920274794604</td><td>0.13750000000000018</td><td>0.03946948188157523</td><td>nan</td><td>nan</td><td>-0.18449999999999944</td><td>0.1682914139223983</td><td>-0.24350000000000005</td><td>0.03264845899885616</td><td>0.11650000000000027</td><td>0.039630125851427764</td><td>0.0950000000000002</td><td>0.018566875423015064</td><td>-0.22399999999999953</td><td>0.017324116139070388</td><td>0.10200000000000031</td><td>0.033977831825405765</td></tr>\n",
       "<tr><td>HD_185286</td><td>0.33500000000000085</td><td>0.020040080050107743</td><td>0.22299999999999986</td><td>0.03556635638418961</td><td>-0.036499999999999755</td><td>0.04121538952058244</td><td>0.3959999999999999</td><td>0.06424839758774213</td><td>nan</td><td>nan</td><td>0.4249999999999998</td><td>0.022627416997969538</td><td>nan</td><td>nan</td><td>0.5499999999999998</td><td>0.5326121360802812</td><td>0.11599999999999966</td><td>0.042892733960387085</td><td>0.2535000000000007</td><td>0.014495689014324353</td><td>0.13100000000000023</td><td>0.02865538684672179</td><td>0.17600000000000016</td><td>0.029676379496158246</td><td>0.1160000000000001</td><td>0.05044597977044357</td><td>0.5230000000000006</td><td>0.04562000860571131</td><td>0.3014999999999999</td><td>0.04843681451127866</td><td>nan</td><td>nan</td><td>-0.19299999999999962</td><td>0.08267555866155367</td><td>0.4590000000000005</td><td>0.010136567466356515</td><td>0.34299999999999997</td><td>0.02358270197621262</td><td>-0.10899999999999976</td><td>0.10143247445961277</td><td>0.2685000000000004</td><td>0.030553109119234503</td></tr>\n",
       "<tr><td>HD_185351</td><td>0.13300000000000045</td><td>0.025185274118170897</td><td>0.0804999999999998</td><td>0.05160823723875521</td><td>-0.0829999999999993</td><td>0.021006282129136692</td><td>0.19599999999999973</td><td>0.0344948184514718</td><td>nan</td><td>nan</td><td>0.2200000000000002</td><td>0.0024748737341531144</td><td>0.21150000000000002</td><td>0.08507425950091853</td><td>0.3775000000000004</td><td>0.013218953844413676</td><td>0.011499999999999844</td><td>0.03610482276506931</td><td>0.10550000000000104</td><td>0.018864035937514873</td><td>0.1535000000000002</td><td>0.02559723928262824</td><td>-0.05550000000000033</td><td>0.0600374882885685</td><td>0.12850000000000072</td><td>0.032124756808418135</td><td>0.28549999999999986</td><td>0.03922611375091847</td><td>nan</td><td>nan</td><td>-0.30949999999999944</td><td>0.10111626970967645</td><td>-0.16349999999999998</td><td>0.04634702660365604</td><td>0.15950000000000042</td><td>0.03768019207753594</td><td>0.17900000000000027</td><td>0.015426315500226745</td><td>-0.1744999999999992</td><td>0.030609850750419536</td><td>0.11950000000000038</td><td>0.04029159306636677</td></tr>\n",
       "<tr><td>HD_187217</td><td>0.16100000000000048</td><td>0.039780379434627866</td><td>0.2789999999999999</td><td>0.023498526720147597</td><td>-0.08699999999999974</td><td>0.029139272849922373</td><td>0.13900000000000023</td><td>0.04346477038915752</td><td>nan</td><td>nan</td><td>0.3195000000000001</td><td>0.02793071785686853</td><td>0.2110000000000003</td><td>0.13902585191251304</td><td>nan</td><td>nan</td><td>-0.030999999999999694</td><td>0.05805552897394394</td><td>-0.10499999999999954</td><td>0.09663831001710949</td><td>-0.026999999999999247</td><td>0.020327350200671918</td><td>nan</td><td>nan</td><td>-0.0739999999999994</td><td>0.0288300515955141</td><td>0.22300000000000075</td><td>0.04181769960196288</td><td>nan</td><td>nan</td><td>nan</td><td>nan</td><td>-0.37399999999999967</td><td>0.047287144913539275</td><td>0.27950000000000097</td><td>0.02831601799335492</td><td>0.10600000000000032</td><td>0.03426550328714239</td><td>-0.23399999999999954</td><td>0.024595994856133792</td><td>0.038000000000000256</td><td>0.05054567974358185</td></tr>\n",
       "<tr><td>HD_188537</td><td>0.11150000000000038</td><td>0.03855989809038324</td><td>0.27099999999999946</td><td>0.037582721262569584</td><td>0.01949999999999985</td><td>0.03328735495649971</td><td>0.10749999999999948</td><td>0.03903967693257719</td><td>nan</td><td>nan</td><td>0.2474999999999996</td><td>0.04944441323344857</td><td>0.2444999999999995</td><td>0.07457336991178563</td><td>nan</td><td>nan</td><td>0.04949999999999921</td><td>0.07340329621854591</td><td>0.10050000000000026</td><td>0.025860022056076123</td><td>0.11549999999999994</td><td>0.03721797741099853</td><td>0.19549999999999912</td><td>0.041894957930519505</td><td>0.14749999999999996</td><td>0.10139056600591602</td><td>0.2990000000000004</td><td>0.036097740580263396</td><td>nan</td><td>nan</td><td>0.31650000000000045</td><td>0.7810164450893463</td><td>-0.27449999999999974</td><td>0.09222837998183683</td><td>0.17149999999999999</td><td>0.0056568542494923844</td><td>0.10949999999999971</td><td>0.021068067072213998</td><td>-0.17499999999999982</td><td>0.04142368736604698</td><td>0.06400000000000006</td><td>0.04643512678996363</td></tr>\n",
       "<tr><td>HD_188629</td><td>0.3025000000000011</td><td>0.028373276598652707</td><td>0.2084999999999999</td><td>0.03199489842736227</td><td>-0.03899999999999926</td><td>0.06502965847581772</td><td>0.36850000000000005</td><td>0.06709853215795022</td><td>nan</td><td>nan</td><td>0.41100000000000003</td><td>0.039951533137040085</td><td>nan</td><td>nan</td><td>0.45750000000000046</td><td>0.32183798330837216</td><td>0.10449999999999982</td><td>0.056414439640928786</td><td>0.22100000000000097</td><td>0.006717514421272246</td><td>0.10350000000000037</td><td>0.024782670518277355</td><td>0.15050000000000008</td><td>0.029115073415672488</td><td>0.06100000000000039</td><td>0.07470222135251403</td><td>0.42850000000000055</td><td>0.011313708498984769</td><td>0.34250000000000025</td><td>0.22059167595355916</td><td>nan</td><td>nan</td><td>-0.040499999999999314</td><td>0.09687362902255701</td><td>0.3020000000000005</td><td>0.05904341622907665</td><td>0.31400000000000006</td><td>0.03776585759651169</td><td>-0.14849999999999985</td><td>0.08573533037785537</td><td>0.21550000000000047</td><td>0.04011491017712139</td></tr>\n",
       "<tr><td>HD_188875</td><td>0.18200000000000083</td><td>0.038652386012307756</td><td>0.2184999999999997</td><td>0.03428557547819572</td><td>-0.07249999999999934</td><td>0.03230274899435941</td><td>0.2945000000000002</td><td>0.038581390611849536</td><td>nan</td><td>nan</td><td>0.3285</td><td>0.018384776310850094</td><td>nan</td><td>nan</td><td>0.6145000000000005</td><td>1.0900865504628523</td><td>-0.02149999999999963</td><td>0.050014618449035014</td><td>0.23150000000000048</td><td>0.018384776310850094</td><td>0.08950000000000014</td><td>0.025576387616286674</td><td>0.19449999999999967</td><td>0.0679462103431825</td><td>0.19650000000000079</td><td>0.04572933276355557</td><td>0.2975000000000003</td><td>0.02961405071921094</td><td>nan</td><td>nan</td><td>0.3095000000000008</td><td>1.7105965881820295</td><td>-0.04049999999999976</td><td>0.07295589421013217</td><td>0.3260000000000005</td><td>0.07398426775335419</td><td>0.17550000000000043</td><td>0.018934835428842306</td><td>-0.2544999999999997</td><td>0.069307687564624</td><td>0.12700000000000022</td><td>0.03146312509495424</td></tr>\n",
       "<tr><td>HD_226754</td><td>0.3030000000000008</td><td>0.02383981101080299</td><td>0.3050000000000006</td><td>0.04196543093654571</td><td>0.03200000000000092</td><td>0.0420342122562086</td><td>0.39600000000000035</td><td>0.06409572196390392</td><td>nan</td><td>nan</td><td>0.47500000000000053</td><td>0.0652279656282488</td><td>0.4300000000000006</td><td>0.004242640687119445</td><td>0.4740000000000002</td><td>0.18465423769846157</td><td>0.18599999999999994</td><td>0.05382950863606319</td><td>0.3295000000000008</td><td>0.026516504294495594</td><td>0.2270000000000003</td><td>0.03217227678586037</td><td>0.2809999999999997</td><td>0.06845801633117923</td><td>-0.04849999999999932</td><td>0.06984849676263603</td><td>0.3440000000000003</td><td>0.040408513954363644</td><td>0.2610000000000001</td><td>0.13337259838512555</td><td>-0.22199999999999953</td><td>1.0691414780093418</td><td>-0.33049999999999935</td><td>0.039244426355853304</td><td>0.3840000000000008</td><td>0.06858935777509509</td><td>0.44950000000000045</td><td>0.035637863174812656</td><td>-0.02099999999999902</td><td>0.07374279625834644</td><td>0.3040000000000007</td><td>0.03823498858181933</td></tr>\n",
       "</table>"
      ],
      "text/plain": [
       "<Table length=35>\n",
       "  Object          Ca_Fe        ...        Sc_Fe                eSc_Fe       \n",
       "  str10          float64       ...       float64              float64       \n",
       "---------- ------------------- ... -------------------- --------------------\n",
       "BD+36_3564 0.20550000000000068 ...  0.17300000000000093 0.017790381816734174\n",
       "BD+39_3577  0.1330000000000009 ... -0.12499999999999956 0.053405093390050375\n",
       "BD+43_3064 0.18600000000000083 ...  0.13700000000000045 0.024837935349126893\n",
       "BD+43_3171 0.28550000000000075 ...   0.1435000000000004 0.032129667788764645\n",
       "BD+43_3213  0.1880000000000006 ...  0.18450000000000033  0.04329651213392325\n",
       "BD+48_2955 0.22000000000000064 ...  0.15300000000000047 0.030223708855958882\n",
       " HD_174020 0.32800000000000074 ...  0.18100000000000094  0.02827077402835456\n",
       " HD_174829 0.15549999999999997 ...  0.11749999999999972  0.02919511295724036\n",
       " HD_175740 0.12400000000000011 ...  0.08250000000000002  0.02889131934220613\n",
       " HD_175884 0.22850000000000037 ...  0.12950000000000017  0.02353279507925373\n",
       "       ...                 ... ...                  ...                  ...\n",
       " HD_182692 0.18700000000000072 ...   0.1800000000000006 0.032771550324883957\n",
       " HD_182694 0.10400000000000009 ...  0.09100000000000019  0.04662682014305659\n",
       " HD_183124 0.17250000000000076 ...  0.10200000000000031 0.033977831825405765\n",
       " HD_185286 0.33500000000000085 ...   0.2685000000000004 0.030553109119234503\n",
       " HD_185351 0.13300000000000045 ...  0.11950000000000038  0.04029159306636677\n",
       " HD_187217 0.16100000000000048 ... 0.038000000000000256  0.05054567974358185\n",
       " HD_188537 0.11150000000000038 ...  0.06400000000000006  0.04643512678996363\n",
       " HD_188629  0.3025000000000011 ...  0.21550000000000047  0.04011491017712139\n",
       " HD_188875 0.18200000000000083 ...  0.12700000000000022  0.03146312509495424\n",
       " HD_226754  0.3030000000000008 ...   0.3040000000000007  0.03823498858181933"
      ]
     },
     "execution_count": 6,
     "metadata": {},
     "output_type": "execute_result"
    }
   ],
   "source": [
    "nodiff"
   ]
  },
  {
   "cell_type": "code",
   "execution_count": 7,
   "metadata": {},
   "outputs": [
    {
     "name": "stdout",
     "output_type": "stream",
     "text": [
      "['Ca_Fe', 'Mg_Fe', 'Si_Fe', 'Ti_Fe', 'O_Fe', 'Al_Fe', 'Ba_Fe', 'Na_Fe', 'Ni_Fe', 'Mn_Fe', 'Co_Fe', 'Eu_Fe', 'La_Fe', 'Zr_Fe', 'Sr_Fe', 'Zn_Fe', 'Y_Fe', 'Cr_Fe', 'V_Fe', 'Cu_Fe', 'Sc_Fe']\n"
     ]
    }
   ],
   "source": [
    "elements = filter(lambda x: x[0]!='e', nodiff.keys()[1:])\n",
    "print elements"
   ]
  },
  {
   "cell_type": "markdown",
   "metadata": {},
   "source": [
    "### Create a string-formatted table merging abundances with their uncertainties appropriately."
   ]
  },
  {
   "cell_type": "code",
   "execution_count": 8,
   "metadata": {},
   "outputs": [],
   "source": [
    "newtab = Table([Column([str(obj).replace('_',' ') for obj in nodiff['Object']],name='Object')])\n",
    "\n",
    "for el in elements[:8]:\n",
    "    if el == 'O_Fe':\n",
    "        continue\n",
    "    col = nodiff[el]\n",
    "    ecol = nodiff['e%s' % el]\n",
    "    test = Column(['--' if 'nan' in str(col[j]) else '$%.2f \\pm %.2f$' % (col[j],ecol[j]) for j, x in enumerate(col)],name='[%s/Fe]' % el.replace('_Fe',''))\n",
    "#     test = Column(['$%.2f \\pm %.2f$' % (col[j],ecol[j]) for j, x in enumerate(col)],name=el.replace('_Fe',''))\n",
    "\n",
    "    newtab.add_column(test)\n",
    "    \n",
    "#     print el\n",
    "\n",
    "\n",
    "newtab2 = Table([Column([str(obj).replace('_',' ') for obj in nodiff['Object']],name='Object')])\n",
    "\n",
    "for el in elements[8:15]:\n",
    "    col = nodiff[el]\n",
    "    ecol = nodiff['e%s' % el]\n",
    "    test = Column(['--' if 'nan' in str(col[j]) else '$%.2f \\pm %.2f$' % (col[j],ecol[j]) for j, x in enumerate(col)],name='[%s/Fe]' % el.replace('_Fe',''))\n",
    "#     test = Column(['$%.2f \\pm %.2f$' % (col[j],ecol[j]) for j, x in enumerate(col)],name=el.replace('_Fe',''))\n",
    "\n",
    "    newtab2.add_column(test)\n",
    "    \n",
    "newtab3 = Table([Column([str(obj).replace('_',' ') for obj in nodiff['Object']],name='Object')])\n",
    "\n",
    "for el in elements[15:]:\n",
    "    col = nodiff[el]\n",
    "    ecol = nodiff['e%s' % el]\n",
    "    test = Column(['--' if 'nan' in str(col[j]) else '$%.2f \\pm %.2f$' % (col[j],ecol[j]) for j, x in enumerate(col)],name='[%s/Fe]' % el.replace('_Fe',''))\n",
    "#     test = Column(['$%.2f \\pm %.2f$' % (col[j],ecol[j]) for j, x in enumerate(col)],name=el.replace('_Fe',''))\n",
    "\n",
    "    newtab3.add_column(test)\n",
    "\n",
    "    \n",
    "# newtab_diff = Table([diff['Object']])\n",
    "\n",
    "# for el in elements:\n",
    "#     col = diff[el]\n",
    "#     ecol = diff['e%s' % el]\n",
    "#     test = Column(['--' if 'nan' in str(col[j]) else '%.2f $\\pm$ %.2f' % (col[j],ecol[j]) for j, x in enumerate(col)],name=el.replace('_Fe',''))\n",
    "# #     test = Column(['$%.2f \\pm %.2f$' % (col[j],ecol[j]) for j, x in enumerate(col)],name=el.replace('_Fe',''))\n",
    "\n",
    "#     newtab_diff.add_column(test)\n"
   ]
  },
  {
   "cell_type": "code",
   "execution_count": 9,
   "metadata": {},
   "outputs": [],
   "source": [
    "def oxford_join(string_list):\n",
    "    '''From https://stackoverflow.com/questions/19838976/grammatical-list-join-in-python'''\n",
    "    if len(string_list) < 1:\n",
    "        text = ''\n",
    "    elif len(string_list) == 1:\n",
    "        text = string_list[0]\n",
    "    elif len(string_list) == 2:\n",
    "        text = ' and '.join(string_list)\n",
    "    else:\n",
    "        text = ', '.join(string_list)\n",
    "        text = '{parts[0]}, and {parts[2]}'.format(parts=text.rpartition(', '))  # oxford comma\n",
    "    return text"
   ]
  },
  {
   "cell_type": "markdown",
   "metadata": {},
   "source": [
    "## Now produce three LaTeX tables to go into the paper directory."
   ]
  },
  {
   "cell_type": "code",
   "execution_count": 10,
   "metadata": {},
   "outputs": [],
   "source": [
    "latexdict = ascii.latex.latexdicts['AA'].copy()\n",
    "latexdict['tabletype']= 'table*'\n",
    "\n",
    "caption1 = r'Chemical abundances relative to iron for stars in the red giant sample as determined by BACCHUS, without differential line-by-line comparison to Arcturus, as described in Section~\\ref{spectroscopy}, for the elements %s. Dashes indicate elements for which abundances could not be reliably computed.' % oxford_join([el.replace('_Fe','') for el in filter(lambda x: x !='O_Fe',elements[0:8])])\n",
    "caption2 = r'Chemical abundances relative to iron for stars in the red giant sample as determined by BACCHUS, without differential line-by-line comparison to Arcturus, as described in Section~\\ref{spectroscopy}, for the elements %s. Dashes indicate elements for which abundances could not be reliably computed.' % oxford_join([el.replace('_Fe','') for el in elements[8:15]])\n",
    "caption3 = r'Chemical abundances relative to iron for stars in the red giant sample as determined by BACCHUS, without differential line-by-line comparison to Arcturus, as described in Section~\\ref{spectroscopy}, for the elements %s. Dashes indicate elements for which abundances could not be reliably computed.' % oxford_join([el.replace('_Fe','') for el in elements[15:]])\n",
    "\n",
    "caption1 = caption1+r'The catalogue of abundances for more elements continues in Tables~\\ref{elems2} and~\\ref{elems3}.'\n",
    "caption2 = caption2+r'The catalogue of abundances for more elements continues in Table~\\ref{elems3}.'\n",
    "\n",
    "\n",
    "newtab.write('../paper/abundances_1.tex',format='latex',latexdict=latexdict,caption=caption1+'\\label{elems1}',overwrite=True)\n",
    "newtab2.write('../paper/abundances_2.tex',format='latex',latexdict=latexdict,caption=caption2+'\\label{elems2}',overwrite=True)\n",
    "newtab3.write('../paper/abundances_3.tex',format='latex',latexdict=latexdict,caption=caption3+'\\label{elems3}',overwrite=True)"
   ]
  },
  {
   "cell_type": "markdown",
   "metadata": {},
   "source": [
    "### Now let's also do the stellar properties"
   ]
  },
  {
   "cell_type": "code",
   "execution_count": 11,
   "metadata": {},
   "outputs": [],
   "source": [
    "fname_merged =\"../data/abundances/final_pope_merged.fits\"\n",
    "astero_logg = Table.read('pope_asteroseismology.csv')\n",
    "merged = Table.read(fname_merged)\n",
    "merged.rename_column('RVerr','RV_err')\n",
    "merged.keys()\n",
    "merged.sort('Object')\n",
    "joint = join(merged,astero_logg,keys='Object')"
   ]
  },
  {
   "cell_type": "code",
   "execution_count": 12,
   "metadata": {},
   "outputs": [
    {
     "name": "stdout",
     "output_type": "stream",
     "text": [
      "6\n",
      "0\n"
     ]
    }
   ],
   "source": [
    "counter = []\n",
    "counter2 = []\n",
    "for obj in merged['Object']:\n",
    "    if obj not in astero_logg['Object']:\n",
    "#         print obj\n",
    "        counter.append(obj)\n",
    "for obj in astero_logg['Object']:\n",
    "    if obj not in merged['Object']:\n",
    "#         print obj\n",
    "        counter2.append(obj)\n",
    "\n",
    "print len(counter)\n",
    "print len(counter2)"
   ]
  },
  {
   "cell_type": "code",
   "execution_count": 13,
   "metadata": {},
   "outputs": [
    {
     "data": {
      "text/plain": [
       "['BD+43_3064', 'HD_179959', 'HD_185351', 'HD_187217', 'HD_188629', 'HD_188875']"
      ]
     },
     "execution_count": 13,
     "metadata": {},
     "output_type": "execute_result"
    }
   ],
   "source": [
    "counter"
   ]
  },
  {
   "cell_type": "code",
   "execution_count": 14,
   "metadata": {},
   "outputs": [
    {
     "data": {
      "text/html": [
       "&lt;Column name=&apos;Object&apos; dtype=&apos;str10&apos; length=34&gt;\n",
       "<table>\n",
       "<tr><td>BD+36_3564</td></tr>\n",
       "<tr><td>BD+39_3577</td></tr>\n",
       "<tr><td>BD+43_3171</td></tr>\n",
       "<tr><td>BD+43_3213</td></tr>\n",
       "<tr><td>BD+48_2955</td></tr>\n",
       "<tr><td>HD_174020</td></tr>\n",
       "<tr><td>HD_174829</td></tr>\n",
       "<tr><td>HD_175740</td></tr>\n",
       "<tr><td>HD_175740</td></tr>\n",
       "<tr><td>HD_175740</td></tr>\n",
       "<tr><td>HD_175740</td></tr>\n",
       "<tr><td>HD_175740</td></tr>\n",
       "<tr><td>...</td></tr>\n",
       "<tr><td>HD_181069</td></tr>\n",
       "<tr><td>HD_181097</td></tr>\n",
       "<tr><td>HD_181597</td></tr>\n",
       "<tr><td>HD_181778</td></tr>\n",
       "<tr><td>HD_181880</td></tr>\n",
       "<tr><td>HD_182531</td></tr>\n",
       "<tr><td>HD_182692</td></tr>\n",
       "<tr><td>HD_182694</td></tr>\n",
       "<tr><td>HD_183124</td></tr>\n",
       "<tr><td>HD_185286</td></tr>\n",
       "<tr><td>HD_188537</td></tr>\n",
       "<tr><td>HD_226754</td></tr>\n",
       "</table>"
      ],
      "text/plain": [
       "<Column name='Object' dtype='str10' length=34>\n",
       "BD+36_3564\n",
       "BD+39_3577\n",
       "BD+43_3171\n",
       "BD+43_3213\n",
       "BD+48_2955\n",
       " HD_174020\n",
       " HD_174829\n",
       " HD_175740\n",
       " HD_175740\n",
       " HD_175740\n",
       " HD_175740\n",
       " HD_175740\n",
       "       ...\n",
       " HD_181069\n",
       " HD_181097\n",
       " HD_181597\n",
       " HD_181778\n",
       " HD_181880\n",
       " HD_182531\n",
       " HD_182692\n",
       " HD_182694\n",
       " HD_183124\n",
       " HD_185286\n",
       " HD_188537\n",
       " HD_226754"
      ]
     },
     "execution_count": 14,
     "metadata": {},
     "output_type": "execute_result"
    }
   ],
   "source": [
    "astero_logg['Object']"
   ]
  },
  {
   "cell_type": "code",
   "execution_count": 15,
   "metadata": {},
   "outputs": [],
   "source": [
    "for j, obj in enumerate(astero_logg['Object']):\n",
    "    ind = merged['Object']==obj\n",
    "    merged[ind]['log_g'] = astero_logg['log_g'][j]\n",
    "    merged[ind]['log_g_err'] = astero_logg['log_g_err'][j]"
   ]
  },
  {
   "cell_type": "code",
   "execution_count": 16,
   "metadata": {},
   "outputs": [],
   "source": [
    "newtab = Table([Column([str(obj).replace('_',' ') for obj in joint['Object']],name='Object')])\n",
    "\n",
    "newkeys = ['RV', 'Teff', 'log_g', 'monh','vsini','SNRe']\n",
    "names = [r'RV',r'\\teff', r'\\logg',r'[M/H]',r'$V\\sin{i}$',r'SNR']\n",
    "units = [r'(km/s)', r'(K)', '','','(km/s)','']\n",
    "\n",
    "for k, key in enumerate(newkeys):\n",
    "    col = joint[key]\n",
    "    if key+'_err' in joint.keys():\n",
    "        ecol = joint['%s_err' % key]\n",
    "        if 'Teff' in key:\n",
    "            test = Column(['--' if 'nan' in str(col[j]) else '$%.0f \\pm %.0f$' % (col[j],ecol[j]) for j, x in enumerate(col)],name=names[k])\n",
    "        else:\n",
    "            test = Column(['--' if 'nan' in str(col[j]) else '$%.2f \\pm %.2f$' % (col[j],ecol[j]) for j, x in enumerate(col)],name=names[k])\n",
    "    else:\n",
    "        test = Column(['%.1f' % (col[j]) for j, x in enumerate(col)],name=names[k])\n",
    "    \n",
    "    newtab.add_column(test)\n"
   ]
  },
  {
   "cell_type": "code",
   "execution_count": 17,
   "metadata": {},
   "outputs": [
    {
     "data": {
      "text/html": [
       "&lt;Table length=34&gt;\n",
       "<table id=\"table4750467664\" class=\"table-striped table-bordered table-condensed\">\n",
       "<thead><tr><th>Object</th><th>RV</th><th>\\teff</th><th>\\logg</th><th>[M/H]</th><th>$V\\sin{i}$</th><th>SNR</th></tr></thead>\n",
       "<thead><tr><th>str10</th><th>str17</th><th>str13</th><th>str15</th><th>str16</th><th>str16</th><th>str5</th></tr></thead>\n",
       "<tr><td>BD+36 3564</td><td>$-77.84 \\pm 0.05$</td><td>$4301 \\pm 50$</td><td>$1.58 \\pm 0.01$</td><td>$-0.34 \\pm 0.08$</td><td>$5.14 \\pm 0.50$</td><td>71.8</td></tr>\n",
       "<tr><td>BD+39 3577</td><td>$-14.81 \\pm 0.07$</td><td>$5079 \\pm 50$</td><td>$2.03 \\pm 0.01$</td><td>$-0.11 \\pm 0.08$</td><td>$3.98 \\pm 0.50$</td><td>92.8</td></tr>\n",
       "<tr><td>BD+43 3171</td><td>$-16.32 \\pm 0.11$</td><td>$4072 \\pm 50$</td><td>$1.16 \\pm 0.01$</td><td>$-0.17 \\pm 0.08$</td><td>$5.68 \\pm 0.50$</td><td>68.6</td></tr>\n",
       "<tr><td>BD+43 3213</td><td>$-14.16 \\pm 0.16$</td><td>$4131 \\pm 50$</td><td>$1.27 \\pm 0.01$</td><td>$0.07 \\pm 0.08$</td><td>$6.24 \\pm 0.50$</td><td>57.3</td></tr>\n",
       "<tr><td>BD+48 2955</td><td>$1.66 \\pm 0.04$</td><td>$4344 \\pm 50$</td><td>$1.61 \\pm 0.01$</td><td>$-0.32 \\pm 0.08$</td><td>$4.78 \\pm 0.50$</td><td>31.7</td></tr>\n",
       "<tr><td>HD 174020</td><td>$-14.84 \\pm 0.08$</td><td>$4162 \\pm 50$</td><td>$1.26 \\pm 0.02$</td><td>$-0.10 \\pm 0.08$</td><td>$5.81 \\pm 0.50$</td><td>120.1</td></tr>\n",
       "<tr><td>HD 174829</td><td>$10.15 \\pm 0.03$</td><td>$4482 \\pm 50$</td><td>$1.78 \\pm 0.01$</td><td>$-0.40 \\pm 0.08$</td><td>$4.41 \\pm 0.50$</td><td>112.2</td></tr>\n",
       "<tr><td>HD 175740</td><td>$-8.82 \\pm 0.05$</td><td>$4973 \\pm 50$</td><td>$2.71 \\pm 0.01$</td><td>$-0.05 \\pm 0.08$</td><td>$3.66 \\pm 0.50$</td><td>264.0</td></tr>\n",
       "<tr><td>HD 175740</td><td>$-8.82 \\pm 0.05$</td><td>$4973 \\pm 50$</td><td>$2.71 \\pm 0.01$</td><td>$-0.05 \\pm 0.08$</td><td>$3.66 \\pm 0.50$</td><td>264.0</td></tr>\n",
       "<tr><td>HD 175740</td><td>$-8.82 \\pm 0.05$</td><td>$4973 \\pm 50$</td><td>$2.71 \\pm 0.01$</td><td>$-0.05 \\pm 0.08$</td><td>$3.66 \\pm 0.50$</td><td>264.0</td></tr>\n",
       "<tr><td>...</td><td>...</td><td>...</td><td>...</td><td>...</td><td>...</td><td>...</td></tr>\n",
       "<tr><td>HD 181597</td><td>$-13.06 \\pm 0.04$</td><td>$4751 \\pm 50$</td><td>$2.31 \\pm 0.00$</td><td>$-0.23 \\pm 0.08$</td><td>$2.23 \\pm 0.50$</td><td>161.8</td></tr>\n",
       "<tr><td>HD 181778</td><td>$-22.04 \\pm 0.06$</td><td>$4664 \\pm 50$</td><td>$2.25 \\pm 0.01$</td><td>$-0.19 \\pm 0.08$</td><td>$4.23 \\pm 0.50$</td><td>87.6</td></tr>\n",
       "<tr><td>HD 181880</td><td>$0.56 \\pm 0.08$</td><td>$4405 \\pm 50$</td><td>$1.70 \\pm 0.01$</td><td>$-0.30 \\pm 0.08$</td><td>$4.44 \\pm 0.50$</td><td>71.2</td></tr>\n",
       "<tr><td>HD 182531</td><td>$-7.34 \\pm 0.05$</td><td>$4413 \\pm 50$</td><td>$1.69 \\pm 0.01$</td><td>$-0.24 \\pm 0.08$</td><td>$4.39 \\pm 0.50$</td><td>71.4</td></tr>\n",
       "<tr><td>HD 182692</td><td>$-8.01 \\pm 0.05$</td><td>$4965 \\pm 50$</td><td>$2.55 \\pm 0.00$</td><td>$0.09 \\pm 0.08$</td><td>$3.40 \\pm 0.50$</td><td>72.8</td></tr>\n",
       "<tr><td>HD 182694</td><td>$-0.87 \\pm 0.06$</td><td>$5178 \\pm 50$</td><td>$2.76 \\pm 0.01$</td><td>$-0.12 \\pm 0.08$</td><td>$5.12 \\pm 0.50$</td><td>187.2</td></tr>\n",
       "<tr><td>HD 183124</td><td>$14.96 \\pm 0.01$</td><td>$4911 \\pm 50$</td><td>$2.50 \\pm 0.00$</td><td>$-0.15 \\pm 0.08$</td><td>$5.19 \\pm 0.50$</td><td>114.3</td></tr>\n",
       "<tr><td>HD 185286</td><td>$-13.70 \\pm 0.08$</td><td>$4301 \\pm 50$</td><td>$1.50 \\pm 0.01$</td><td>$-0.14 \\pm 0.08$</td><td>$5.16 \\pm 0.50$</td><td>135.6</td></tr>\n",
       "<tr><td>HD 188537</td><td>$-18.03 \\pm 0.15$</td><td>$4961 \\pm 50$</td><td>$2.03 \\pm 0.01$</td><td>$-0.08 \\pm 0.08$</td><td>$10.68 \\pm 0.50$</td><td>67.0</td></tr>\n",
       "<tr><td>HD 226754</td><td>$18.66 \\pm 0.10$</td><td>$4370 \\pm 50$</td><td>$1.75 \\pm 0.01$</td><td>$0.08 \\pm 0.08$</td><td>$4.78 \\pm 0.50$</td><td>62.5</td></tr>\n",
       "</table>"
      ],
      "text/plain": [
       "<Table length=34>\n",
       "  Object           RV            \\teff     ...    $V\\sin{i}$     SNR \n",
       "  str10          str17           str13     ...      str16        str5\n",
       "---------- ----------------- ------------- ... ---------------- -----\n",
       "BD+36 3564 $-77.84 \\pm 0.05$ $4301 \\pm 50$ ...  $5.14 \\pm 0.50$  71.8\n",
       "BD+39 3577 $-14.81 \\pm 0.07$ $5079 \\pm 50$ ...  $3.98 \\pm 0.50$  92.8\n",
       "BD+43 3171 $-16.32 \\pm 0.11$ $4072 \\pm 50$ ...  $5.68 \\pm 0.50$  68.6\n",
       "BD+43 3213 $-14.16 \\pm 0.16$ $4131 \\pm 50$ ...  $6.24 \\pm 0.50$  57.3\n",
       "BD+48 2955   $1.66 \\pm 0.04$ $4344 \\pm 50$ ...  $4.78 \\pm 0.50$  31.7\n",
       " HD 174020 $-14.84 \\pm 0.08$ $4162 \\pm 50$ ...  $5.81 \\pm 0.50$ 120.1\n",
       " HD 174829  $10.15 \\pm 0.03$ $4482 \\pm 50$ ...  $4.41 \\pm 0.50$ 112.2\n",
       " HD 175740  $-8.82 \\pm 0.05$ $4973 \\pm 50$ ...  $3.66 \\pm 0.50$ 264.0\n",
       " HD 175740  $-8.82 \\pm 0.05$ $4973 \\pm 50$ ...  $3.66 \\pm 0.50$ 264.0\n",
       " HD 175740  $-8.82 \\pm 0.05$ $4973 \\pm 50$ ...  $3.66 \\pm 0.50$ 264.0\n",
       "       ...               ...           ... ...              ...   ...\n",
       " HD 181597 $-13.06 \\pm 0.04$ $4751 \\pm 50$ ...  $2.23 \\pm 0.50$ 161.8\n",
       " HD 181778 $-22.04 \\pm 0.06$ $4664 \\pm 50$ ...  $4.23 \\pm 0.50$  87.6\n",
       " HD 181880   $0.56 \\pm 0.08$ $4405 \\pm 50$ ...  $4.44 \\pm 0.50$  71.2\n",
       " HD 182531  $-7.34 \\pm 0.05$ $4413 \\pm 50$ ...  $4.39 \\pm 0.50$  71.4\n",
       " HD 182692  $-8.01 \\pm 0.05$ $4965 \\pm 50$ ...  $3.40 \\pm 0.50$  72.8\n",
       " HD 182694  $-0.87 \\pm 0.06$ $5178 \\pm 50$ ...  $5.12 \\pm 0.50$ 187.2\n",
       " HD 183124  $14.96 \\pm 0.01$ $4911 \\pm 50$ ...  $5.19 \\pm 0.50$ 114.3\n",
       " HD 185286 $-13.70 \\pm 0.08$ $4301 \\pm 50$ ...  $5.16 \\pm 0.50$ 135.6\n",
       " HD 188537 $-18.03 \\pm 0.15$ $4961 \\pm 50$ ... $10.68 \\pm 0.50$  67.0\n",
       " HD 226754  $18.66 \\pm 0.10$ $4370 \\pm 50$ ...  $4.78 \\pm 0.50$  62.5"
      ]
     },
     "execution_count": 17,
     "metadata": {},
     "output_type": "execute_result"
    }
   ],
   "source": [
    "newtab"
   ]
  },
  {
   "cell_type": "code",
   "execution_count": 18,
   "metadata": {},
   "outputs": [],
   "source": [
    "latexdict = ascii.latex.latexdicts['AA'].copy()\n",
    "latexdict['tabletype']= 'table*'\n",
    "latexdict['units'] = dict(zip(names,units))\n",
    "\n",
    "caption = r'Fundamental stellar parameters for the red giant sample as determined jointly by asteroseismology (asteroseismic \\logg; Section~\\ref{asteroseismology}) and spectroscopy (%s; Section~\\ref{spectroscopy}.)' % oxford_join(names)  \n",
    "caption = caption+r'\\label{stellar_props}'\n",
    "newtab.write('../paper/stellar_props.tex',format='latex',latexdict=latexdict,caption=caption+'\\label{stellar_props}',overwrite=True)\n"
   ]
  },
  {
   "cell_type": "markdown",
   "metadata": {},
   "source": [
    "### Now let's look at the proper spectroscopy with Dnu measurements"
   ]
  },
  {
   "cell_type": "code",
   "execution_count": 19,
   "metadata": {},
   "outputs": [],
   "source": [
    "fname_seismic = \"../data/smear_Dnu.csv\"\n",
    "seismic = Table.read(fname_seismic)\n",
    "seismic.sort('Star_ID')"
   ]
  },
  {
   "cell_type": "code",
   "execution_count": 20,
   "metadata": {},
   "outputs": [
    {
     "data": {
      "text/html": [
       "&lt;Table length=35&gt;\n",
       "<table id=\"table4748770320\" class=\"table-striped table-bordered table-condensed\">\n",
       "<thead><tr><th>Star_ID</th><th>Dnu</th><th>Dnu_err</th><th>Numax</th><th>Numax_err</th><th>eps</th><th>eps_err</th></tr></thead>\n",
       "<thead><tr><th>str10</th><th>float64</th><th>float64</th><th>float64</th><th>float64</th><th>float64</th><th>float64</th></tr></thead>\n",
       "<tr><td>BD+36_3564</td><td>0.9490949804411055</td><td>0.030097283743239316</td><td>5.079062736733746</td><td>0.09882652247868091</td><td>0.8305746287171062</td><td>0.20003026391376488</td></tr>\n",
       "<tr><td>BD+39_3577</td><td>1.6836250688792482</td><td>0.01363988821142889</td><td>13.266855807051439</td><td>0.31633186319569034</td><td>0.7409609522947077</td><td>0.06299253167276896</td></tr>\n",
       "<tr><td>BD+42_3150</td><td>4.221788591943251</td><td>0.028504804862306103</td><td>38.315943379269186</td><td>0.9588694546996247</td><td>0.7013731801198373</td><td>0.07075600621249865</td></tr>\n",
       "<tr><td>BD+43_3171</td><td>0.41728859981040545</td><td>0.05318387492844148</td><td>1.984298734336489</td><td>0.05145104900196677</td><td>0.8040170562496404</td><td>0.17159665699501567</td></tr>\n",
       "<tr><td>BD+43_3213</td><td>0.48750734592283734</td><td>0.006958633078022336</td><td>2.5632797174106847</td><td>0.06325084146747773</td><td>1.0124195735754942</td><td>0.07326685394355063</td></tr>\n",
       "<tr><td>BD+48_2904</td><td>2.8511597676805804</td><td>0.010318892608438912</td><td>23.13453453354469</td><td>0.7225398099392429</td><td>0.8563054208127122</td><td>0.08052669688943252</td></tr>\n",
       "<tr><td>BD+48_2955</td><td>0.8953098233940573</td><td>0.0068208356847463585</td><td>5.440132725276065</td><td>0.08331498484403516</td><td>0.8105480979445374</td><td>0.052471147709803705</td></tr>\n",
       "<tr><td>HD_174020</td><td>0.5639183284003043</td><td>0.01603666749035637</td><td>2.47548965209216</td><td>0.09744999575175439</td><td>0.8926590744791576</td><td>0.08467569516842773</td></tr>\n",
       "<tr><td>HD_174829</td><td>1.2833572675283929</td><td>0.011357043983480081</td><td>7.9497984768617815</td><td>0.1571667547811646</td><td>0.7755393571480604</td><td>0.05755641850899791</td></tr>\n",
       "<tr><td>HD_175740</td><td>5.930230004063379</td><td>0.010423967130974505</td><td>64.33345016648104</td><td>0.781397165223729</td><td>1.0017574684895851</td><td>0.019432829648297706</td></tr>\n",
       "<tr><td>...</td><td>...</td><td>...</td><td>...</td><td>...</td><td>...</td><td>...</td></tr>\n",
       "<tr><td>HD_182354</td><td>2.6567259425373924</td><td>0.0116743978566671</td><td>24.73075125143719</td><td>0.3707943073028773</td><td>0.7424211095150425</td><td>0.041177248862450624</td></tr>\n",
       "<tr><td>HD_182531</td><td>1.0303790538910182</td><td>0.004200581130585748</td><td>6.465080945267556</td><td>0.08931624177636578</td><td>0.8644896897235024</td><td>0.027293960706728466</td></tr>\n",
       "<tr><td>HD_182692</td><td>4.656371955263934</td><td>0.010792609608257217</td><td>44.38373487371614</td><td>0.469132553990273</td><td>0.8736919472802216</td><td>0.022597153253640357</td></tr>\n",
       "<tr><td>HD_182694</td><td>5.71435782334927</td><td>0.014267235676153614</td><td>69.7756254063585</td><td>1.017847172490138</td><td>0.9395935999968813</td><td>0.2516523703726711</td></tr>\n",
       "<tr><td>HD_183124</td><td>4.3919882085523305</td><td>0.013079012313137814</td><td>39.585673622735754</td><td>0.2876104937870424</td><td>0.9451337192882556</td><td>0.027794156928306737</td></tr>\n",
       "<tr><td>HD_185286</td><td>0.7202161705442813</td><td>0.007066328212678815</td><td>4.226733266919384</td><td>0.10176701279630138</td><td>0.7275758136813686</td><td>0.08183138701360353</td></tr>\n",
       "<tr><td>HD_188537</td><td>1.5481552727523136</td><td>0.01087246922323641</td><td>13.402868450842114</td><td>0.3426745085090518</td><td>0.7178796532748889</td><td>0.06718021726784126</td></tr>\n",
       "<tr><td>HD_189636</td><td>2.9103268982809842</td><td>0.013248235493462875</td><td>25.970144308219286</td><td>0.7419635016983703</td><td>0.9683943365400706</td><td>0.03773314934951546</td></tr>\n",
       "<tr><td>HD_189750</td><td>4.156962281052604</td><td>0.03829971628489321</td><td>36.14219592398721</td><td>0.5754661116683394</td><td>0.9436460960784349</td><td>0.07974840612479843</td></tr>\n",
       "<tr><td>HD_226754</td><td>1.187709408421745</td><td>0.012942784192061485</td><td>7.40678483572143</td><td>0.18595980259156958</td><td>0.7353868227670696</td><td>0.07705968190684095</td></tr>\n",
       "</table>"
      ],
      "text/plain": [
       "<Table length=35>\n",
       " Star_ID           Dnu         ...        eps               eps_err       \n",
       "  str10          float64       ...      float64             float64       \n",
       "---------- ------------------- ... ------------------ --------------------\n",
       "BD+36_3564  0.9490949804411055 ... 0.8305746287171062  0.20003026391376488\n",
       "BD+39_3577  1.6836250688792482 ... 0.7409609522947077  0.06299253167276896\n",
       "BD+42_3150   4.221788591943251 ... 0.7013731801198373  0.07075600621249865\n",
       "BD+43_3171 0.41728859981040545 ... 0.8040170562496404  0.17159665699501567\n",
       "BD+43_3213 0.48750734592283734 ... 1.0124195735754942  0.07326685394355063\n",
       "BD+48_2904  2.8511597676805804 ... 0.8563054208127122  0.08052669688943252\n",
       "BD+48_2955  0.8953098233940573 ... 0.8105480979445374 0.052471147709803705\n",
       " HD_174020  0.5639183284003043 ... 0.8926590744791576  0.08467569516842773\n",
       " HD_174829  1.2833572675283929 ... 0.7755393571480604  0.05755641850899791\n",
       " HD_175740   5.930230004063379 ... 1.0017574684895851 0.019432829648297706\n",
       "       ...                 ... ...                ...                  ...\n",
       " HD_182354  2.6567259425373924 ... 0.7424211095150425 0.041177248862450624\n",
       " HD_182531  1.0303790538910182 ... 0.8644896897235024 0.027293960706728466\n",
       " HD_182692   4.656371955263934 ... 0.8736919472802216 0.022597153253640357\n",
       " HD_182694    5.71435782334927 ... 0.9395935999968813   0.2516523703726711\n",
       " HD_183124  4.3919882085523305 ... 0.9451337192882556 0.027794156928306737\n",
       " HD_185286  0.7202161705442813 ... 0.7275758136813686  0.08183138701360353\n",
       " HD_188537  1.5481552727523136 ... 0.7178796532748889  0.06718021726784126\n",
       " HD_189636  2.9103268982809842 ... 0.9683943365400706  0.03773314934951546\n",
       " HD_189750   4.156962281052604 ... 0.9436460960784349  0.07974840612479843\n",
       " HD_226754   1.187709408421745 ... 0.7353868227670696  0.07705968190684095"
      ]
     },
     "execution_count": 20,
     "metadata": {},
     "output_type": "execute_result"
    }
   ],
   "source": [
    "seismic"
   ]
  },
  {
   "cell_type": "code",
   "execution_count": 21,
   "metadata": {},
   "outputs": [],
   "source": [
    "newtab = Table([Column([str(obj).replace('_',' ') for obj in seismic['Star_ID']],name='Object')])\n",
    "\n",
    "newkeys = ['Dnu', 'Numax', 'eps']\n",
    "names = [r'\\Dnu',r'\\numax', r'$\\epsilon$']\n",
    "units = [r'(\\muHz)', r'(\\muHz)','']\n",
    "\n",
    "for k, key in enumerate(newkeys):\n",
    "    col = seismic[key]\n",
    "    if key+'_err' in seismic.keys():\n",
    "        ecol = seismic['%s_err' % key]\n",
    "        if 'Teff' in key:\n",
    "            test = Column(['--' if 'nan' in str(col[j]) else '$%.0f \\pm %.0f$' % (col[j],ecol[j]) for j, x in enumerate(col)],name=names[k])\n",
    "        else:\n",
    "            test = Column(['--' if 'nan' in str(col[j]) else '$%.2f \\pm %.2f$' % (col[j],ecol[j]) for j, x in enumerate(col)],name=names[k])\n",
    "    else:\n",
    "        test = Column(['%.1f' % (col[j]) for j, x in enumerate(col)],name=names[k])\n",
    "    \n",
    "    newtab.add_column(test)\n",
    "\n",
    "latexdict = ascii.latex.latexdicts['AA'].copy()\n",
    "latexdict['tabletype']= 'table'\n",
    "latexdict['units'] = dict(zip(names,units))\n",
    "\n",
    "caption = r'Bulk asteroseismic parameters %s for the red giant sample as discussed in Section~\\ref{asteroseismology}.' % oxford_join(names)  \n",
    "caption = caption+r'\\label{astero_table}'\n",
    "newtab.write('../paper/astero_table.tex',format='latex',latexdict=latexdict,caption=caption+'\\label{stellar_props}',overwrite=True)\n"
   ]
  },
  {
   "cell_type": "markdown",
   "metadata": {},
   "source": [
    "### Notes on individual stars from Guy Davies\n",
    "\n",
    "BD+39_388 - No secure detection.\n",
    "\n",
    "BD+43_306 - Big peaks but not consistent enough with RG pattern.\n",
    "\n",
    "HD_179959 - Pattern is too complicated - is this two stars??  Literature says no.\n",
    "\n",
    "HD_185351 - Odd mode envelope - No explanation.\n",
    "\n",
    "HD_187217 - No info on this star - maybe a double but very difficult to tell.\n",
    "\n",
    "HD_188639 - Too difficult to get a robust Dnu.\n",
    "\n",
    "HD_188875 -  Too difficult to get a robust Dnu.\n",
    "\n",
    "HD_188629 - Too difficult to get a robust Dnu.\n",
    "\n"
   ]
  },
  {
   "cell_type": "code",
   "execution_count": 22,
   "metadata": {},
   "outputs": [
    {
     "data": {
      "image/png": "[encoded data removed]",
      "text/plain": [
       "<Figure size 432x288 with 1 Axes>"
      ]
     },
     "metadata": {},
     "output_type": "display_data"
    }
   ],
   "source": [
    "# the stars follow the expected numax-Dnu relation\n",
    "plt.errorbar(seismic['Numax'],seismic['Dnu'],xerr=seismic['Numax_err'],yerr=seismic['Dnu_err'],linestyle='none')\n",
    "plt.xlabel(r'$\\nu_{max}$ ($\\mu$Hz)')\n",
    "plt.ylabel(r'$\\Delta\\nu$ ($\\mu$Hz)')\n",
    "plt.title('Asteroseismic Parameters')\n",
    "plt.xscale('log')\n",
    "plt.yscale('log')"
   ]
  },
  {
   "cell_type": "markdown",
   "metadata": {},
   "source": [
    "### Which ones are missing?"
   ]
  },
  {
   "cell_type": "code",
   "execution_count": 23,
   "metadata": {},
   "outputs": [],
   "source": [
    "badstars = ['BD+39_388','BD+43_306','HD_179959','HD_185351','HD_187217','HD_188639','HD_188875','HD_188629']\n",
    "notes = ['No secure detection','Not consistent with RG pattern','Possible contamination',r'\\citep{2017MNRAS.464.3713H}',\n",
    "         'Possible contamination or binary',r'Too difficult to get a robust \\Dnu',r'Too difficult to get a robust \\Dnu',\n",
    "         r'Too difficult to get a robust \\Dnu']\n",
    "\n",
    "notecol = [notes[j] if star in badstars else '' for j, star in enumerate(seismic['Star_ID'])]"
   ]
  },
  {
   "cell_type": "code",
   "execution_count": 24,
   "metadata": {},
   "outputs": [
    {
     "data": {
      "text/plain": [
       "array(['BD+39_388', 'BD+43_306', 'HD_179959', 'HD_185351', 'HD_187217',\n",
       "       'HD_188629', 'HD_188639', 'HD_188875'], dtype='|S9')"
      ]
     },
     "execution_count": 24,
     "metadata": {},
     "output_type": "execute_result"
    }
   ],
   "source": [
    "np.sort(badstars)"
   ]
  },
  {
   "cell_type": "code",
   "execution_count": 25,
   "metadata": {},
   "outputs": [
    {
     "name": "stdout",
     "output_type": "stream",
     "text": [
      "BD+43_3064\n",
      "HD_179959\n",
      "HD_185351\n",
      "HD_187217\n",
      "HD_188629\n",
      "HD_188875\n"
     ]
    }
   ],
   "source": [
    "for star in merged['Object']:\n",
    "    if star not in seismic['Star_ID']:\n",
    "        print star"
   ]
  },
  {
   "cell_type": "code",
   "execution_count": 26,
   "metadata": {},
   "outputs": [
    {
     "name": "stdout",
     "output_type": "stream",
     "text": [
      "BD+42_3150\n",
      "BD+48_2904\n",
      "HD_176209\n",
      "HD_182354\n",
      "HD_189636\n",
      "HD_189750\n"
     ]
    }
   ],
   "source": [
    "for star in seismic['Star_ID']:\n",
    "    if star not in merged['Object']:\n",
    "        print star"
   ]
  },
  {
   "cell_type": "code",
   "execution_count": null,
   "metadata": {},
   "outputs": [],
   "source": []
  },
  {
   "cell_type": "code",
   "execution_count": 27,
   "metadata": {},
   "outputs": [
    {
     "data": {
      "text/html": [
       "&lt;Column name=&apos;Object&apos; dtype=&apos;str10&apos; length=35&gt;\n",
       "<table>\n",
       "<tr><td>BD+36_3564</td></tr>\n",
       "<tr><td>BD+39_3577</td></tr>\n",
       "<tr><td>BD+43_3064</td></tr>\n",
       "<tr><td>BD+43_3171</td></tr>\n",
       "<tr><td>BD+43_3213</td></tr>\n",
       "<tr><td>BD+48_2955</td></tr>\n",
       "<tr><td>HD_174020</td></tr>\n",
       "<tr><td>HD_174829</td></tr>\n",
       "<tr><td>HD_175740</td></tr>\n",
       "<tr><td>HD_175884</td></tr>\n",
       "<tr><td>HD_178797</td></tr>\n",
       "<tr><td>HD_178910</td></tr>\n",
       "<tr><td>...</td></tr>\n",
       "<tr><td>HD_181880</td></tr>\n",
       "<tr><td>HD_182531</td></tr>\n",
       "<tr><td>HD_182692</td></tr>\n",
       "<tr><td>HD_182694</td></tr>\n",
       "<tr><td>HD_183124</td></tr>\n",
       "<tr><td>HD_185286</td></tr>\n",
       "<tr><td>HD_185351</td></tr>\n",
       "<tr><td>HD_187217</td></tr>\n",
       "<tr><td>HD_188537</td></tr>\n",
       "<tr><td>HD_188629</td></tr>\n",
       "<tr><td>HD_188875</td></tr>\n",
       "<tr><td>HD_226754</td></tr>\n",
       "</table>"
      ],
      "text/plain": [
       "<Column name='Object' dtype='str10' length=35>\n",
       "BD+36_3564\n",
       "BD+39_3577\n",
       "BD+43_3064\n",
       "BD+43_3171\n",
       "BD+43_3213\n",
       "BD+48_2955\n",
       " HD_174020\n",
       " HD_174829\n",
       " HD_175740\n",
       " HD_175884\n",
       " HD_178797\n",
       " HD_178910\n",
       "       ...\n",
       " HD_181880\n",
       " HD_182531\n",
       " HD_182692\n",
       " HD_182694\n",
       " HD_183124\n",
       " HD_185286\n",
       " HD_185351\n",
       " HD_187217\n",
       " HD_188537\n",
       " HD_188629\n",
       " HD_188875\n",
       " HD_226754"
      ]
     },
     "execution_count": 27,
     "metadata": {},
     "output_type": "execute_result"
    }
   ],
   "source": [
    "merged['Object']"
   ]
  },
  {
   "cell_type": "markdown",
   "metadata": {},
   "source": [
    "## Read the main catalogue"
   ]
  },
  {
   "cell_type": "code",
   "execution_count": 28,
   "metadata": {},
   "outputs": [],
   "source": [
    "fname_cat = '../data/catalogue.csv'\n",
    "cat = Table.read(fname_cat,format='ascii')\n",
    "cat.sort('kepmag')"
   ]
  },
  {
   "cell_type": "code",
   "execution_count": 29,
   "metadata": {},
   "outputs": [
    {
     "data": {
      "text/html": [
       "&lt;Table masked=True length=102&gt;\n",
       "<table id=\"table4785610576\" class=\"table-striped table-bordered table-condensed\">\n",
       "<thead><tr><th>Name</th><th>SpType</th><th>[Fe/H]</th><th>theta</th><th>Observed</th><th>Seasons</th><th>Teff</th><th>Log_G</th><th>E(B-V)</th><th>g</th><th>r</th><th>J</th><th>kepmag</th><th>Edge_Dist</th><th>Notes</th><th>Collaborators</th><th>Interferometry?</th><th>TRES?</th></tr></thead>\n",
       "<thead><tr><th>str10</th><th>str15</th><th>float64</th><th>float64</th><th>str29</th><th>int64</th><th>int64</th><th>float64</th><th>float64</th><th>float64</th><th>float64</th><th>float64</th><th>float64</th><th>int64</th><th>str84</th><th>str16</th><th>str3</th><th>str3</th></tr></thead>\n",
       "<tr><td>HD_185351</td><td>G9IIIbCN</td><td>0.16</td><td>1.156</td><td>LC:Q1-3 SC:Q16 under</td><td>4</td><td>--</td><td>--</td><td>--</td><td>6.091</td><td>5.176</td><td>3.654</td><td>5.034</td><td>59</td><td>RG: Retired A star</td><td>Hjorringgaard</td><td>--</td><td>Yes</td></tr>\n",
       "<tr><td>HD_186155</td><td>F5II-III</td><td>0.3</td><td>0.57</td><td>LC:Q1 under</td><td>4</td><td>--</td><td>--</td><td>--</td><td>5.44</td><td>5.065</td><td>4.419</td><td>5.055</td><td>66</td><td>three sharp peaks</td><td>--</td><td>--</td><td>--</td></tr>\n",
       "<tr><td>HD_175740</td><td>G8III</td><td>-0.1</td><td>1.035</td><td>unobserved</td><td>4</td><td>--</td><td>--</td><td>--</td><td>6.486</td><td>5.462</td><td>4.08</td><td>5.212</td><td>0</td><td>RG: suppressed l=1</td><td>Tim W, Guy, Cleo</td><td>Yes</td><td>Yes</td></tr>\n",
       "<tr><td>HD_184875</td><td>A2V</td><td>--</td><td>0.349</td><td>unobserved</td><td>4</td><td>--</td><td>--</td><td>--</td><td>5.399</td><td>5.337</td><td>5.128</td><td>5.403</td><td>0</td><td>Classical Pulsator</td><td>--</td><td>--</td><td>--</td></tr>\n",
       "<tr><td>14_Cyg</td><td>B9III</td><td>0.08</td><td>0.267</td><td>unobserved</td><td>4</td><td>--</td><td>--</td><td>--</td><td>5.334</td><td>5.394</td><td>5.365</td><td>5.49</td><td>0</td><td>contact binary, interesting ramp at low freq</td><td>--</td><td>--</td><td>--</td></tr>\n",
       "<tr><td>HD_189178</td><td>B5V</td><td>--</td><td>0.236</td><td>unobserved</td><td>4</td><td>--</td><td>--</td><td>--</td><td>5.356</td><td>5.448</td><td>5.595</td><td>5.552</td><td>0</td><td>Classical Pulsator</td><td>--</td><td>--</td><td>--</td></tr>\n",
       "<tr><td>HD_187372</td><td>M1III</td><td>--</td><td>2.693</td><td>unobserved</td><td>4</td><td>--</td><td>--</td><td>--</td><td>7.805</td><td>6.141</td><td>2.979</td><td>5.672</td><td>110</td><td>RG: low freq</td><td>--</td><td>--</td><td>--</td></tr>\n",
       "<tr><td>HD_182694</td><td>G7IIIa</td><td>-0.01</td><td>0.771</td><td>LC:Q2 under</td><td>4</td><td>--</td><td>--</td><td>--</td><td>6.76</td><td>5.86</td><td>4.437</td><td>5.722</td><td>137</td><td>RG</td><td>Tim W</td><td>Yes</td><td>--</td></tr>\n",
       "<tr><td>V380_Cyg</td><td>B1.1III+B2.5/3V</td><td>1.25</td><td>0.226</td><td>LC:Q11 SC:Q7 9 10 12-17 under</td><td>4</td><td>--</td><td>--</td><td>--</td><td>5.615</td><td>5.675</td><td>5.712</td><td>5.771</td><td>122</td><td>Eclipsing_binary</td><td>--</td><td>--</td><td>--</td></tr>\n",
       "<tr><td>HD_186121</td><td>M2III</td><td>--</td><td>3.429</td><td>unobserved</td><td>4</td><td>--</td><td>--</td><td>--</td><td>7.735</td><td>6.198</td><td>2.561</td><td>5.773</td><td>44</td><td>RG: low freq</td><td>--</td><td>--</td><td>--</td></tr>\n",
       "<tr><td>...</td><td>...</td><td>...</td><td>...</td><td>...</td><td>...</td><td>...</td><td>...</td><td>...</td><td>...</td><td>...</td><td>...</td><td>...</td><td>...</td><td>...</td><td>...</td><td>...</td><td>...</td></tr>\n",
       "<tr><td>V554_Lyr</td><td>0</td><td>--</td><td>--</td><td>unobserved</td><td>2</td><td>9887</td><td>4.309</td><td>0.051</td><td>7.97</td><td>8.248</td><td>8.266</td><td>8.179</td><td>0</td><td>Missing - alpha2 Cvn</td><td>--</td><td>--</td><td>--</td></tr>\n",
       "<tr><td>BD+47_2825</td><td>K0</td><td>--</td><td>--</td><td>unobserved</td><td>4</td><td>--</td><td>--</td><td>--</td><td>9.75</td><td>8.558</td><td>6.503</td><td>8.251</td><td>162</td><td>Not sure - classical?</td><td>--</td><td>--</td><td>--</td></tr>\n",
       "<tr><td>BD+39_3882</td><td>F5</td><td>--</td><td>--</td><td>unobserved</td><td>4</td><td>6241</td><td>4.186</td><td>0.02</td><td>8.463</td><td>8.192</td><td>7.36</td><td>8.259</td><td>0</td><td>bad light curve</td><td>--</td><td>--</td><td>--</td></tr>\n",
       "<tr><td>BD+43_3064</td><td>K5</td><td>--</td><td>--</td><td>unobserved</td><td>3</td><td>--</td><td>--</td><td>--</td><td>10.18</td><td>8.692</td><td>6.205</td><td>8.284</td><td>0</td><td>RG</td><td>--</td><td>--</td><td>--</td></tr>\n",
       "<tr><td>BD+43_3068</td><td>G0</td><td>--</td><td>--</td><td>unobserved</td><td>4</td><td>5506</td><td>4.394</td><td>0.011</td><td>8.754</td><td>8.254</td><td>7.181</td><td>8.308</td><td>0</td><td>not good</td><td>--</td><td>--</td><td>--</td></tr>\n",
       "<tr><td>BD+43_3213</td><td>K5</td><td>--</td><td>--</td><td>unobserved</td><td>4</td><td>--</td><td>--</td><td>--</td><td>10.425</td><td>8.775</td><td>5.821</td><td>8.311</td><td>127</td><td>RG: low freq</td><td>--</td><td>--</td><td>--</td></tr>\n",
       "<tr><td>BD+42_3150</td><td>K0</td><td>--</td><td>--</td><td>unobserved</td><td>4</td><td>4716</td><td>2.329</td><td>0.063</td><td>9.111</td><td>8.257</td><td>6.743</td><td>8.35</td><td>261</td><td>not sure</td><td>--</td><td>--</td><td>--</td></tr>\n",
       "<tr><td>BD+43_3171</td><td>M0</td><td>--</td><td>--</td><td>unobserved</td><td>4</td><td>--</td><td>--</td><td>--</td><td>10.412</td><td>8.818</td><td>5.904</td><td>8.373</td><td>332</td><td>RG: very low freq?</td><td>--</td><td>--</td><td>--</td></tr>\n",
       "<tr><td>BD+48_2904</td><td>K0</td><td>--</td><td>--</td><td>unobserved</td><td>4</td><td>4529</td><td>2.014</td><td>0.083</td><td>9.364</td><td>8.42</td><td>6.692</td><td>8.487</td><td>0</td><td>nothing</td><td>--</td><td>--</td><td>--</td></tr>\n",
       "<tr><td>BD+47_2891</td><td>K0</td><td>--</td><td>--</td><td>unobserved</td><td>2</td><td>--</td><td>--</td><td>--</td><td>10.081</td><td>8.962</td><td>6.99</td><td>8.68</td><td>--</td><td>nothing</td><td>--</td><td>--</td><td>--</td></tr>\n",
       "</table>"
      ],
      "text/plain": [
       "<Table masked=True length=102>\n",
       "   Name         SpType      [Fe/H] ...  Collaborators   Interferometry? TRES?\n",
       "  str10         str15      float64 ...      str16             str3       str3\n",
       "---------- --------------- ------- ... ---------------- --------------- -----\n",
       " HD_185351        G9IIIbCN    0.16 ...    Hjorringgaard              --   Yes\n",
       " HD_186155        F5II-III     0.3 ...               --              --    --\n",
       " HD_175740           G8III    -0.1 ... Tim W, Guy, Cleo             Yes   Yes\n",
       " HD_184875             A2V      -- ...               --              --    --\n",
       "    14_Cyg           B9III    0.08 ...               --              --    --\n",
       " HD_189178             B5V      -- ...               --              --    --\n",
       " HD_187372           M1III      -- ...               --              --    --\n",
       " HD_182694          G7IIIa   -0.01 ...            Tim W             Yes    --\n",
       "  V380_Cyg B1.1III+B2.5/3V    1.25 ...               --              --    --\n",
       " HD_186121           M2III      -- ...               --              --    --\n",
       "       ...             ...     ... ...              ...             ...   ...\n",
       "  V554_Lyr               0      -- ...               --              --    --\n",
       "BD+47_2825              K0      -- ...               --              --    --\n",
       "BD+39_3882              F5      -- ...               --              --    --\n",
       "BD+43_3064              K5      -- ...               --              --    --\n",
       "BD+43_3068              G0      -- ...               --              --    --\n",
       "BD+43_3213              K5      -- ...               --              --    --\n",
       "BD+42_3150              K0      -- ...               --              --    --\n",
       "BD+43_3171              M0      -- ...               --              --    --\n",
       "BD+48_2904              K0      -- ...               --              --    --\n",
       "BD+47_2891              K0      -- ...               --              --    --"
      ]
     },
     "execution_count": 29,
     "metadata": {},
     "output_type": "execute_result"
    }
   ],
   "source": [
    "cat"
   ]
  },
  {
   "cell_type": "code",
   "execution_count": 30,
   "metadata": {},
   "outputs": [
    {
     "name": "stdout",
     "output_type": "stream",
     "text": [
      "Clump Candidates: HD 181069, HD 182354, HD 183124, HD 182692, and HD 180658\n"
     ]
    }
   ],
   "source": [
    "print 'Clump Candidates:',oxford_join([name.replace('_',' ') for name in cat[np.array(['clump' in thing for thing in list(cat['Notes'].data.data[:])])]['Name']])"
   ]
  },
  {
   "cell_type": "markdown",
   "metadata": {},
   "source": [
    "### Now to get SIMBAD queries"
   ]
  },
  {
   "cell_type": "code",
   "execution_count": 31,
   "metadata": {},
   "outputs": [],
   "source": [
    "from astroquery.simbad import Simbad\n",
    "from astropy import coordinates as coord\n",
    "from astropy import units as u\n"
   ]
  },
  {
   "cell_type": "code",
   "execution_count": 32,
   "metadata": {},
   "outputs": [],
   "source": [
    "Simbad.reset_votable_fields()\n",
    "Simbad.add_votable_fields('sptype')\n",
    "sim = Simbad.query_objects(cat['Name'])\n",
    "sim.write('smear_intermediate.csv',overwrite=True)\n",
    "sim = Table.read('smear_intermediate.csv')\n",
    "c = coord.SkyCoord(ra=sim['RA'], dec=sim['DEC'],unit=(u.hourangle, u.deg), frame='icrs')\n"
   ]
  },
  {
   "cell_type": "code",
   "execution_count": 33,
   "metadata": {},
   "outputs": [
    {
     "name": "stderr",
     "output_type": "stream",
     "text": [
      "WARNING: AstropyDeprecationWarning: smear_simbad.csv already exists. Automatically overwriting ASCII files is deprecated. Use the argument 'overwrite=True' in the future. [astropy.io.ascii.ui]\n"
     ]
    }
   ],
   "source": [
    "new = Table([Column([cc.ra.deg for cc in c],name='RA',unit='deg',description='RA'),Column([cc.dec.deg for cc in c],name='Dec',unit='deg',description='Dec')],masked=False)\n",
    "new.write('smear_simbad.csv')"
   ]
  },
  {
   "cell_type": "markdown",
   "metadata": {},
   "source": [
    "We then use the gaia tap service at http://gaia.ari.uni-heidelberg.de/tap.html for crossmatch \n",
    "using the command\n",
    "\n",
    "SELECT bj.source_id, sm.ra, sm.dec, sm.phot_g_mean_mag, bj.r_est, bj.r_lo, bj.r_hi\n",
    "FROM gaiadr2_complements.geometric_distance as bj \n",
    "JOIN TAP_UPLOAD.smear AS sm ON sm.source_id = bj.source_id"
   ]
  },
  {
   "cell_type": "code",
   "execution_count": 34,
   "metadata": {},
   "outputs": [],
   "source": [
    "dists = Table.read('../data/gaia_dists.csv')\n",
    "# V2083_Cyg doesn't have a parallax\n",
    "dists.insert_row(38,\n",
    "                 vals={'source_id':2128480311802353536,'ra':292.818076238,'dec':47.481042633,\n",
    "                       'phot_g_mean_mag':6.81,'r_est':np.nan,'r_lo':np.nan,'r_hi':np.nan})"
   ]
  },
  {
   "cell_type": "code",
   "execution_count": 35,
   "metadata": {},
   "outputs": [
    {
     "data": {
      "text/plain": [
       "[<matplotlib.lines.Line2D at 0x11ddd9ad0>]"
      ]
     },
     "execution_count": 35,
     "metadata": {},
     "output_type": "execute_result"
    },
    {
     "data": {
      "image/png": "[encoded data removed]",
      "text/plain": [
       "<Figure size 432x288 with 1 Axes>"
      ]
     },
     "metadata": {},
     "output_type": "display_data"
    }
   ],
   "source": [
    "plt.plot(new['RA'])\n",
    "plt.plot(dists['ra'])\n",
    "# plt.xlim(35,45)"
   ]
  },
  {
   "cell_type": "code",
   "execution_count": 36,
   "metadata": {},
   "outputs": [
    {
     "data": {
      "text/plain": [
       "[<matplotlib.lines.Line2D at 0x11e286750>]"
      ]
     },
     "execution_count": 36,
     "metadata": {},
     "output_type": "execute_result"
    },
    {
     "data": {
      "image/png": "[encoded data removed]",
      "text/plain": [
       "<Figure size 432x288 with 1 Axes>"
      ]
     },
     "metadata": {},
     "output_type": "display_data"
    }
   ],
   "source": [
    "plt.plot(cat['kepmag'],dists['phot_g_mean_mag'])"
   ]
  },
  {
   "cell_type": "code",
   "execution_count": 37,
   "metadata": {},
   "outputs": [
    {
     "data": {
      "text/html": [
       "&lt;Table masked=True length=2&gt;\n",
       "<table id=\"table4801412176\" class=\"table-striped table-bordered table-condensed\">\n",
       "<thead><tr><th>Name</th><th>SpType</th><th>[Fe/H]</th><th>theta</th><th>Observed</th><th>Seasons</th><th>Teff</th><th>Log_G</th><th>E(B-V)</th><th>g</th><th>r</th><th>J</th><th>kepmag</th><th>Edge_Dist</th><th>Notes</th><th>Collaborators</th><th>Interferometry?</th><th>TRES?</th></tr></thead>\n",
       "<thead><tr><th>str10</th><th>str15</th><th>float64</th><th>float64</th><th>str29</th><th>int64</th><th>int64</th><th>float64</th><th>float64</th><th>float64</th><th>float64</th><th>float64</th><th>float64</th><th>int64</th><th>str84</th><th>str16</th><th>str3</th><th>str3</th></tr></thead>\n",
       "<tr><td>V547_Lyr</td><td>M4IIIa</td><td>--</td><td>--</td><td>unobserved</td><td>4</td><td>--</td><td>--</td><td>--</td><td>8.109</td><td>6.611</td><td>2.258</td><td>6.199</td><td>48</td><td>RG: low freq</td><td>--</td><td>--</td><td>--</td></tr>\n",
       "<tr><td>V398_Lyr</td><td>M3</td><td>--</td><td>--</td><td>unobserved</td><td>4</td><td>--</td><td>--</td><td>--</td><td>8.877</td><td>7.421</td><td>1.869</td><td>7.024</td><td>49</td><td>RG</td><td>--</td><td>--</td><td>--</td></tr>\n",
       "</table>"
      ],
      "text/plain": [
       "<Table masked=True length=2>\n",
       "  Name   SpType  [Fe/H]  theta  ... Collaborators Interferometry? TRES?\n",
       " str10   str15  float64 float64 ...     str16           str3       str3\n",
       "-------- ------ ------- ------- ... ------------- --------------- -----\n",
       "V547_Lyr M4IIIa      --      -- ...            --              --    --\n",
       "V398_Lyr     M3      --      -- ...            --              --    --"
      ]
     },
     "execution_count": 37,
     "metadata": {},
     "output_type": "execute_result"
    }
   ],
   "source": [
    "cat[np.abs(dists['phot_g_mean_mag']-cat['kepmag'])>0.75]#.sort(np.abs(dists['phot_g_mean_mag']-cat['kepmag']))"
   ]
  },
  {
   "cell_type": "code",
   "execution_count": 38,
   "metadata": {},
   "outputs": [
    {
     "data": {
      "text/html": [
       "&lt;Table length=2&gt;\n",
       "<table id=\"table4750396688\" class=\"table-striped table-bordered table-condensed\">\n",
       "<thead><tr><th>source_id</th><th>ra</th><th>dec</th><th>phot_g_mean_mag</th><th>r_est</th><th>r_lo</th><th>r_hi</th></tr></thead>\n",
       "<thead><tr><th>int64</th><th>float64</th><th>float64</th><th>float64</th><th>float64</th><th>float64</th><th>float64</th></tr></thead>\n",
       "<tr><td>2103815448491466496</td><td>285.0794350340927</td><td>40.683934166877044</td><td>5.227579</td><td>288.920092314708</td><td>276.921626546759</td><td>301.985143696241</td></tr>\n",
       "<tr><td>2100382189073830528</td><td>287.05494859817054</td><td>39.154894446731085</td><td>5.4027195</td><td>494.665556977779</td><td>464.050015806101</td><td>529.522722362535</td></tr>\n",
       "</table>"
      ],
      "text/plain": [
       "<Table length=2>\n",
       "     source_id              ra         ...       r_lo             r_hi      \n",
       "       int64             float64       ...     float64          float64     \n",
       "------------------- ------------------ ... ---------------- ----------------\n",
       "2103815448491466496  285.0794350340927 ... 276.921626546759 301.985143696241\n",
       "2100382189073830528 287.05494859817054 ... 464.050015806101 529.522722362535"
      ]
     },
     "execution_count": 38,
     "metadata": {},
     "output_type": "execute_result"
    }
   ],
   "source": [
    "dists[np.abs(dists['phot_g_mean_mag']-cat['kepmag'])>0.75]#.sort(np.abs(dists['phot_g_mean_mag']-cat['kepmag']))"
   ]
  },
  {
   "cell_type": "code",
   "execution_count": 39,
   "metadata": {},
   "outputs": [],
   "source": [
    "# var"
   ]
  },
  {
   "cell_type": "code",
   "execution_count": 278,
   "metadata": {},
   "outputs": [],
   "source": [
    "# newcat = cat.copy()\n",
    "brightkep = Table.read('../data/Bright_Kep_new.csv')\n",
    "var = Table.read('../data/variability.csv')\n",
    "newcat = join(cat,brightkep,keys='Name')\n",
    "newcat = join(newcat,var,keys='Name')\n",
    "newcat['SpType']=sim['SP_TYPE']\n",
    "# newcat.sort('kepmag')\n",
    "fname_spc = '../data/spc_giants.csv'\n",
    "spc_data = Table.read(fname_spc,format='ascii')\n",
    "\n",
    "newcat['TRES?'] = ['TRES' if obj in spc_data['Object'] else '--' for obj in newcat['Name']]\n",
    "\n",
    "for col in dists.columns:\n",
    "    newcat.add_column(dists[col])\n",
    "newcat = join(newcat,gaia['bp_rp','source_id'],keys='source_id',join_type=u'left')\n",
    "\n",
    "newcat.sort('Name')"
   ]
  },
  {
   "cell_type": "code",
   "execution_count": 279,
   "metadata": {},
   "outputs": [
    {
     "data": {
      "text/html": [
       "&lt;Table masked=True length=102&gt;\n",
       "<table id=\"table69265934800\" class=\"table-striped table-bordered table-condensed\">\n",
       "<thead><tr><th>Name</th><th>SpType</th><th>[Fe/H]</th><th>theta</th><th>Observed</th><th>Seasons</th><th>Teff</th><th>Log_G</th><th>E(B-V)</th><th>g</th><th>r</th><th>J</th><th>kepmag</th><th>Edge_Dist</th><th>Notes</th><th>Collaborators</th><th>Interferometry?</th><th>TRES?</th><th>Kepler_ID</th><th>Class</th><th>source_id</th><th>ra</th><th>dec</th><th>phot_g_mean_mag</th><th>r_est</th><th>r_lo</th><th>r_hi</th><th>bp_rp</th></tr></thead>\n",
       "<thead><tr><th>str10</th><th>str16</th><th>float64</th><th>float64</th><th>str29</th><th>int64</th><th>int64</th><th>float64</th><th>float64</th><th>float64</th><th>float64</th><th>float64</th><th>float64</th><th>int64</th><th>str84</th><th>str16</th><th>str3</th><th>str4</th><th>int64</th><th>str12</th><th>int64</th><th>float64</th><th>float64</th><th>float64</th><th>float64</th><th>float64</th><th>float64</th><th>float64</th></tr></thead>\n",
       "<tr><td>14_Cyg</td><td>G8.5IIIbFe-0.5</td><td>0.08</td><td>0.267</td><td>unobserved</td><td>4</td><td>--</td><td>--</td><td>--</td><td>5.334</td><td>5.394</td><td>5.365</td><td>5.49</td><td>0</td><td>contact binary, interesting ramp at low freq</td><td>--</td><td>--</td><td>--</td><td>7292420</td><td>EV</td><td>2078403295235690112</td><td>294.1576613499853</td><td>44.69448231480843</td><td>4.881522</td><td>41.2315213779136</td><td>41.0921558133897</td><td>41.3718185719601</td><td>1.0914998054504395</td></tr>\n",
       "<tr><td>BD+36_3564</td><td>F5II-III</td><td>--</td><td>--</td><td>unobserved</td><td>4</td><td>--</td><td>--</td><td>--</td><td>9.944</td><td>8.516</td><td>6.134</td><td>8.128</td><td>141</td><td>RG</td><td>--</td><td>--</td><td>TRES</td><td>1575741</td><td>RG</td><td>2079990268465009024</td><td>295.2096161867121</td><td>45.525456779018434</td><td>4.923168</td><td>50.6145097045851</td><td>50.1993792798511</td><td>51.0364389381494</td><td>0.5290617942810059</td></tr>\n",
       "<tr><td>BD+39_3577</td><td>G8III</td><td>--</td><td>--</td><td>unobserved</td><td>4</td><td>4870</td><td>2.513</td><td>0.057</td><td>8.819</td><td>8.062</td><td>6.636</td><td>8.131</td><td>217</td><td>RG</td><td>--</td><td>--</td><td>TRES</td><td>4989821</td><td>RG</td><td>2104485016711846656</td><td>283.71739473102826</td><td>41.602710757624294</td><td>5.152375</td><td>81.4820221791748</td><td>80.9011996865216</td><td>82.0710941761192</td><td>1.1712732315063477</td></tr>\n",
       "<tr><td>BD+39_3882</td><td>A2V</td><td>--</td><td>--</td><td>unobserved</td><td>4</td><td>6241</td><td>4.186</td><td>0.02</td><td>8.463</td><td>8.192</td><td>7.36</td><td>8.259</td><td>0</td><td>bad light curve</td><td>--</td><td>--</td><td>--</td><td>4850372</td><td>Irregular</td><td>2077737571001053312</td><td>293.6719373022101</td><td>42.41237709026624</td><td>5.2788925</td><td>172.612235076612</td><td>169.44660100199</td><td>175.896210554269</td><td>0.10666084289550781</td></tr>\n",
       "<tr><td>BD+42_3150</td><td>B9III</td><td>--</td><td>--</td><td>unobserved</td><td>4</td><td>4716</td><td>2.329</td><td>0.063</td><td>9.111</td><td>8.257</td><td>6.743</td><td>8.35</td><td>261</td><td>not sure</td><td>--</td><td>--</td><td>--</td><td>7091342</td><td>?</td><td>2077959092540451456</td><td>294.86048629287325</td><td>42.818403728771564</td><td>5.3699827</td><td>194.251074278231</td><td>187.684456735487</td><td>201.285145272043</td><td>-0.054938316345214844</td></tr>\n",
       "<tr><td>BD+42_3367</td><td>B5V</td><td>--</td><td>--</td><td>unobserved</td><td>4</td><td>--</td><td>--</td><td>--</td><td>9.468</td><td>7.756</td><td>4.983</td><td>7.271</td><td>269</td><td>RG: low freq</td><td>--</td><td>--</td><td>TRES</td><td>7447756</td><td>LPV</td><td>2073537612700605696</td><td>299.3078202055931</td><td>40.36782658479405</td><td>5.41016</td><td>347.305675377642</td><td>335.171242466141</td><td>360.335028693868</td><td>-0.10611104965209961</td></tr>\n",
       "<tr><td>BD+42_3393</td><td>M1III</td><td>--</td><td>--</td><td>unobserved</td><td>4</td><td>--</td><td>--</td><td>--</td><td>9.86</td><td>8.149</td><td>5.362</td><td>7.664</td><td>139</td><td>RG: low freq</td><td>--</td><td>--</td><td>TRES</td><td>6870455</td><td>LPV</td><td>2086614688589352320</td><td>296.8616409188027</td><td>47.907411183287465</td><td>5.3131795</td><td>306.448333808759</td><td>296.81195252011</td><td>316.719517500094</td><td>2.0472412109375</td></tr>\n",
       "<tr><td>BD+43_3064</td><td>G7IIIa</td><td>--</td><td>--</td><td>unobserved</td><td>3</td><td>--</td><td>--</td><td>--</td><td>10.18</td><td>8.692</td><td>6.205</td><td>8.284</td><td>0</td><td>RG</td><td>--</td><td>--</td><td>TRES</td><td>8075287</td><td>RG</td><td>2126062687590513408</td><td>290.98550746572874</td><td>43.38804749579175</td><td>5.598205</td><td>133.050386252205</td><td>132.342616816959</td><td>133.765630523913</td><td>1.06093168258667</td></tr>\n",
       "<tr><td>BD+43_3068</td><td>B1.1III+B2.5/3V:</td><td>--</td><td>--</td><td>unobserved</td><td>4</td><td>5506</td><td>4.394</td><td>0.011</td><td>8.754</td><td>8.254</td><td>7.181</td><td>8.308</td><td>0</td><td>not good</td><td>--</td><td>--</td><td>--</td><td>8006792</td><td>-</td><td>2073743839843579776</td><td>297.65551057522265</td><td>40.59972506473762</td><td>5.6319346</td><td>1044.67154927546</td><td>949.069840098863</td><td>1161.2897500675</td><td>-0.06196117401123047</td></tr>\n",
       "<tr><td>BD+43_3171</td><td>M3III</td><td>--</td><td>--</td><td>unobserved</td><td>4</td><td>--</td><td>--</td><td>--</td><td>10.412</td><td>8.818</td><td>5.904</td><td>8.373</td><td>332</td><td>RG: very low freq?</td><td>--</td><td>--</td><td>TRES</td><td>7810954</td><td>LPV</td><td>2078059800932315008</td><td>295.1714685950791</td><td>43.07782340429704</td><td>5.1762185</td><td>475.24965419503</td><td>444.587185040426</td><td>510.372799343944</td><td>2.249995231628418</td></tr>\n",
       "<tr><td>...</td><td>...</td><td>...</td><td>...</td><td>...</td><td>...</td><td>...</td><td>...</td><td>...</td><td>...</td><td>...</td><td>...</td><td>...</td><td>...</td><td>...</td><td>...</td><td>...</td><td>...</td><td>...</td><td>...</td><td>...</td><td>...</td><td>...</td><td>...</td><td>...</td><td>...</td><td>...</td><td>...</td></tr>\n",
       "<tr><td>HD_226754</td><td>--</td><td>--</td><td>--</td><td>unobserved</td><td>2</td><td>--</td><td>--</td><td>--</td><td>9.729</td><td>8.238</td><td>5.627</td><td>7.829</td><td>--</td><td>RG: poor quality</td><td>--</td><td>--</td><td>TRES</td><td>6234579</td><td>RG</td><td>2101290316961062400</td><td>288.82187096088387</td><td>40.11368586856005</td><td>8.092074</td><td>335.749513113855</td><td>331.237286508456</td><td>340.384110652163</td><td>-0.12909698486328125</td></tr>\n",
       "<tr><td>V2079_Cyg</td><td>K0</td><td>--</td><td>--</td><td>unobserved, alpha2 Cvn</td><td>4</td><td>--</td><td>--</td><td>--</td><td>6.921</td><td>7.059</td><td>7.331</td><td>7.174</td><td>93</td><td>Classical Pulsator</td><td>--</td><td>--</td><td>--</td><td>8818020</td><td>EV</td><td>2129162799284981760</td><td>291.08177124447565</td><td>47.4130247599545</td><td>8.236473</td><td>485.795395877119</td><td>478.718728562602</td><td>493.080555986296</td><td>1.3292078971862793</td></tr>\n",
       "<tr><td>V2083_Cyg</td><td>F5</td><td>--</td><td>--</td><td>unobserved EB</td><td>4</td><td>--</td><td>--</td><td>--</td><td>7.143</td><td>6.884</td><td>6.317</td><td>6.902</td><td>0</td><td>EB</td><td>--</td><td>--</td><td>--</td><td>10342012</td><td>EB</td><td>2076372669064227200</td><td>295.65231893691924</td><td>39.99781437523366</td><td>8.158849</td><td>143.266948083662</td><td>142.59154490081</td><td>143.94866508398</td><td>0.6163206100463867</td></tr>\n",
       "<tr><td>V380_Cyg</td><td>K5</td><td>1.25</td><td>0.226</td><td>LC:Q11 SC:Q7 9 10 12-17 under</td><td>4</td><td>--</td><td>--</td><td>--</td><td>5.615</td><td>5.675</td><td>5.712</td><td>5.771</td><td>122</td><td>Eclipsing_binary</td><td>--</td><td>--</td><td>--</td><td>5385723</td><td>EB</td><td>2117284053614333312</td><td>281.3657024307495</td><td>43.995236683395596</td><td>8.20331</td><td>641.029617229135</td><td>621.919910626924</td><td>661.328015894773</td><td>1.5986404418945312</td></tr>\n",
       "<tr><td>V398_Lyr</td><td>G0</td><td>--</td><td>--</td><td>unobserved</td><td>4</td><td>--</td><td>--</td><td>--</td><td>8.877</td><td>7.421</td><td>1.869</td><td>7.024</td><td>49</td><td>RG</td><td>--</td><td>--</td><td>TRES</td><td>4042516</td><td>RG</td><td>2117267079903573504</td><td>281.57417508745425</td><td>43.81556598527454</td><td>8.267944</td><td>53.7738365747513</td><td>53.6508736699958</td><td>53.8973543593231</td><td>0.8389477729797363</td></tr>\n",
       "<tr><td>V543_Lyr</td><td>K5</td><td>-0.05</td><td>--</td><td>unobserved bCep</td><td>4</td><td>--</td><td>--</td><td>--</td><td>6.037</td><td>6.182</td><td>6.477</td><td>6.299</td><td>0</td><td>Classical Pulsator</td><td>--</td><td>--</td><td>--</td><td>5429169</td><td>SPB</td><td>2102821524341578496</td><td>289.8924896223989</td><td>43.48010721400488</td><td>8.13925</td><td>948.76650655514</td><td>924.29038468176</td><td>974.549008379324</td><td>1.8757452964782715</td></tr>\n",
       "<tr><td>V546_Lyr</td><td>K0</td><td>--</td><td>--</td><td>unobserved</td><td>4</td><td>--</td><td>--</td><td>--</td><td>9.457</td><td>7.838</td><td>4.077</td><td>7.385</td><td>82</td><td>RG: low freq</td><td>--</td><td>--</td><td>TRES</td><td>6267345</td><td>LPV</td><td>2116742544137540608</td><td>281.25257984212334</td><td>42.6436414279837</td><td>8.31532</td><td>545.954282342101</td><td>516.819773786676</td><td>578.502581535217</td><td>1.2055773735046387</td></tr>\n",
       "<tr><td>V547_Lyr</td><td>M0</td><td>--</td><td>--</td><td>unobserved</td><td>4</td><td>--</td><td>--</td><td>--</td><td>8.109</td><td>6.611</td><td>2.258</td><td>6.199</td><td>48</td><td>RG: low freq</td><td>--</td><td>--</td><td>TRES</td><td>5429948</td><td>LPV</td><td>2105998150870718080</td><td>287.45698914447445</td><td>43.552258072724186</td><td>8.178079</td><td>751.476917005421</td><td>735.000815376891</td><td>768.694554141662</td><td>1.8577218055725098</td></tr>\n",
       "<tr><td>V554_Lyr</td><td>K0</td><td>--</td><td>--</td><td>unobserved</td><td>2</td><td>9887</td><td>4.309</td><td>0.051</td><td>7.97</td><td>8.248</td><td>8.266</td><td>8.179</td><td>0</td><td>Missing - alpha2 Cvn</td><td>--</td><td>--</td><td>--</td><td>5001462</td><td>a2cvn</td><td>2129676443013218304</td><td>292.57235027073966</td><td>48.65657535394386</td><td>8.439092</td><td>400.926312809394</td><td>395.619176599306</td><td>406.375153211787</td><td>1.3547544479370117</td></tr>\n",
       "<tr><td>V819_Cyg</td><td>K0</td><td>--</td><td>--</td><td>LC:Q14 16 17 under</td><td>4</td><td>--</td><td>--</td><td>--</td><td>6.15</td><td>6.27</td><td>6.481</td><td>6.381</td><td>178</td><td>sharp peaks</td><td>--</td><td>--</td><td>--</td><td>10618721</td><td>SPB</td><td>2128576003674178688</td><td>294.87270940492334</td><td>47.44682890349002</td><td>8.6254015</td><td>262.761110578283</td><td>261.121186033665</td><td>264.421392272191</td><td>1.2905669212341309</td></tr>\n",
       "</table>"
      ],
      "text/plain": [
       "<Table masked=True length=102>\n",
       "   Name         SpType       [Fe/H] ...       r_hi               bp_rp        \n",
       "  str10         str16       float64 ...     float64             float64       \n",
       "---------- ---------------- ------- ... ---------------- ---------------------\n",
       "    14_Cyg   G8.5IIIbFe-0.5    0.08 ... 41.3718185719601    1.0914998054504395\n",
       "BD+36_3564         F5II-III      -- ... 51.0364389381494    0.5290617942810059\n",
       "BD+39_3577            G8III      -- ... 82.0710941761192    1.1712732315063477\n",
       "BD+39_3882              A2V      -- ... 175.896210554269   0.10666084289550781\n",
       "BD+42_3150            B9III      -- ... 201.285145272043 -0.054938316345214844\n",
       "BD+42_3367              B5V      -- ... 360.335028693868  -0.10611104965209961\n",
       "BD+42_3393            M1III      -- ... 316.719517500094       2.0472412109375\n",
       "BD+43_3064           G7IIIa      -- ... 133.765630523913      1.06093168258667\n",
       "BD+43_3068 B1.1III+B2.5/3V:      -- ...  1161.2897500675  -0.06196117401123047\n",
       "BD+43_3171            M3III      -- ... 510.372799343944     2.249995231628418\n",
       "       ...              ...     ... ...              ...                   ...\n",
       " HD_226754               --      -- ... 340.384110652163  -0.12909698486328125\n",
       " V2079_Cyg               K0      -- ... 493.080555986296    1.3292078971862793\n",
       " V2083_Cyg               F5      -- ...  143.94866508398    0.6163206100463867\n",
       "  V380_Cyg               K5    1.25 ... 661.328015894773    1.5986404418945312\n",
       "  V398_Lyr               G0      -- ... 53.8973543593231    0.8389477729797363\n",
       "  V543_Lyr               K5   -0.05 ... 974.549008379324    1.8757452964782715\n",
       "  V546_Lyr               K0      -- ... 578.502581535217    1.2055773735046387\n",
       "  V547_Lyr               M0      -- ... 768.694554141662    1.8577218055725098\n",
       "  V554_Lyr               K0      -- ... 406.375153211787    1.3547544479370117\n",
       "  V819_Cyg               K0      -- ... 264.421392272191    1.2905669212341309"
      ]
     },
     "execution_count": 279,
     "metadata": {},
     "output_type": "execute_result"
    }
   ],
   "source": [
    "newcat"
   ]
  },
  {
   "cell_type": "code",
   "execution_count": 280,
   "metadata": {},
   "outputs": [
    {
     "data": {
      "text/plain": [
       "['Name',\n",
       " 'SpType',\n",
       " '[Fe/H]',\n",
       " 'theta',\n",
       " 'Observed',\n",
       " 'Seasons',\n",
       " 'Teff',\n",
       " 'Log_G',\n",
       " 'E(B-V)',\n",
       " 'g',\n",
       " 'r',\n",
       " 'J',\n",
       " 'kepmag',\n",
       " 'Edge_Dist',\n",
       " 'Notes',\n",
       " 'Collaborators',\n",
       " 'Interferometry?',\n",
       " 'TRES?',\n",
       " 'Kepler_ID',\n",
       " 'Class',\n",
       " 'source_id',\n",
       " 'ra',\n",
       " 'dec',\n",
       " 'phot_g_mean_mag',\n",
       " 'r_est',\n",
       " 'r_lo',\n",
       " 'r_hi',\n",
       " 'bp_rp']"
      ]
     },
     "execution_count": 280,
     "metadata": {},
     "output_type": "execute_result"
    }
   ],
   "source": [
    "newcat.keys()"
   ]
  },
  {
   "cell_type": "code",
   "execution_count": null,
   "metadata": {},
   "outputs": [],
   "source": []
  },
  {
   "cell_type": "code",
   "execution_count": 281,
   "metadata": {},
   "outputs": [],
   "source": [
    "# for l, ccat in enumerate([cat[:52],cat[52:]]):\n",
    "\n",
    "#     newtab = Table([Column([str(obj).replace('_',' ') for obj in ccat['Name']],name='Object')])\n",
    "\n",
    "#     newkeys = ['SpType','kepmag', 'Observed', 'Seasons','TRES?']\n",
    "#     names = [r'Spectral Type',r'$Kp$', r'Observed',r'Seasons','Spectroscopy']\n",
    "#     units = [r'(SIMBAD)', r'(mag)','','','']\n",
    "\n",
    "#     for k, key in enumerate(newkeys):\n",
    "#         col = ccat[key]\n",
    "#         if 'bs' in key:\n",
    "#             test = Column([entry.replace('under','') if 'under' in entry else 'unobserved' for entry in col],name=names[k])\n",
    "#         elif key != 'TRES?':\n",
    "#             test = Column(col.data,name=names[k])\n",
    "#         if key == 'TRES?':\n",
    "#             test = Column(['TRES' if newtab['Object'][j].replace(' ','_') in merged['Object'] else '--' for j,entry in enumerate(col)], name=names[k])\n",
    "#         newtab.add_column(test)\n",
    "    \n",
    "#     latexdict = ascii.latex.latexdicts['AA'].copy()\n",
    "#     latexdict['tabletype']= 'table*'\n",
    "#     latexdict['units'] = dict(zip(names,units))\n",
    "#     if l == 0:\n",
    "#         caption = r'The full set of underobserved and unobserved stars for which new light curves have been produced in this smear catalogue. Some objects, such as HD 185351, were observed in long cadence in some quarters and short cadence in others, and this is noted accordingly.' \n",
    "#         caption = caption+r'\\label{all_stars}'\n",
    "#         newtab.write('../paper/all_stars.tex',format='latex',latexdict=latexdict,caption=caption+'\\label{all_stars}',overwrite=True)\n",
    "#         print 'Written %s' % '../paper/all_stars.tex'\n",
    "#     else:\n",
    "#         latexdict['preamble'] = '\\contcaption{The full set of underobserved and unobserved stars for which new light curves have been produced in this smear catalogue.  \\label{all_stars_cont}}'\n",
    "#         newtab.write('../paper/all_stars2.tex',format='latex',latexdict=latexdict,overwrite=True)\n",
    "#         print 'Written %s' % '../paper/all_stars2.tex'\n"
   ]
  },
  {
   "cell_type": "code",
   "execution_count": 282,
   "metadata": {},
   "outputs": [],
   "source": [
    "# newcat.keys()"
   ]
  },
  {
   "cell_type": "code",
   "execution_count": 283,
   "metadata": {},
   "outputs": [
    {
     "ename": "IndexError",
     "evalue": "index 100 is out of bounds for axis 0 with size 100",
     "output_type": "error",
     "traceback": [
      "\u001b[0;31m---------------------------------------------------------------------------\u001b[0m",
      "\u001b[0;31mIndexError\u001b[0m                                Traceback (most recent call last)",
      "\u001b[0;32m<ipython-input-283-0690dc049c8c>\u001b[0m in \u001b[0;36m<module>\u001b[0;34m()\u001b[0m\n\u001b[0;32m----> 1\u001b[0;31m \u001b[0mtest\u001b[0m \u001b[0;34m=\u001b[0m \u001b[0;34m[\u001b[0m\u001b[0;36m1\u001b[0m \u001b[0;32mif\u001b[0m \u001b[0mnewtab\u001b[0m\u001b[0;34m[\u001b[0m\u001b[0;34m'Object'\u001b[0m\u001b[0;34m]\u001b[0m\u001b[0;34m[\u001b[0m\u001b[0mj\u001b[0m\u001b[0;34m]\u001b[0m\u001b[0;34m.\u001b[0m\u001b[0mreplace\u001b[0m\u001b[0;34m(\u001b[0m\u001b[0;34m' '\u001b[0m\u001b[0;34m,\u001b[0m\u001b[0;34m'_'\u001b[0m\u001b[0;34m)\u001b[0m \u001b[0;32min\u001b[0m \u001b[0mmerged\u001b[0m\u001b[0;34m[\u001b[0m\u001b[0;34m'Object'\u001b[0m\u001b[0;34m]\u001b[0m \u001b[0;32melse\u001b[0m \u001b[0;36m0\u001b[0m \u001b[0;32mfor\u001b[0m \u001b[0mj\u001b[0m\u001b[0;34m,\u001b[0m\u001b[0mentry\u001b[0m \u001b[0;32min\u001b[0m \u001b[0menumerate\u001b[0m\u001b[0;34m(\u001b[0m\u001b[0mnewcat\u001b[0m\u001b[0;34m[\u001b[0m\u001b[0;34m'TRES?'\u001b[0m\u001b[0;34m]\u001b[0m\u001b[0;34m)\u001b[0m\u001b[0;34m]\u001b[0m\u001b[0;34m\u001b[0m\u001b[0m\n\u001b[0m\u001b[1;32m      2\u001b[0m \u001b[0mnp\u001b[0m\u001b[0;34m.\u001b[0m\u001b[0msum\u001b[0m\u001b[0;34m(\u001b[0m\u001b[0mtest\u001b[0m\u001b[0;34m)\u001b[0m\u001b[0;34m\u001b[0m\u001b[0m\n",
      "\u001b[0;32mastropy/table/_column_mixins.pyx\u001b[0m in \u001b[0;36mastropy.table._column_mixins._ColumnGetitemShim.__getitem__\u001b[0;34m()\u001b[0m\n",
      "\u001b[0;32mastropy/table/_column_mixins.pyx\u001b[0m in \u001b[0;36mastropy.table._column_mixins.base_getitem\u001b[0;34m()\u001b[0m\n",
      "\u001b[0;32mastropy/table/_column_mixins.pyx\u001b[0m in \u001b[0;36mastropy.table._column_mixins.column_getitem\u001b[0;34m()\u001b[0m\n",
      "\u001b[0;31mIndexError\u001b[0m: index 100 is out of bounds for axis 0 with size 100"
     ]
    }
   ],
   "source": [
    "test = [1 if newtab['Object'][j].replace(' ','_') in merged['Object'] else 0 for j,entry in enumerate(newcat['TRES?'])]\n",
    "np.sum(test)"
   ]
  },
  {
   "cell_type": "code",
   "execution_count": 284,
   "metadata": {},
   "outputs": [
    {
     "name": "stdout",
     "output_type": "stream",
     "text": [
      "Written ../paper/all_stars.tex\n",
      "Written ../paper/all_stars2.tex\n"
     ]
    },
    {
     "name": "stderr",
     "output_type": "stream",
     "text": [
      "/anaconda2/lib/python2.7/site-packages/ipykernel_launcher.py:41: UserWarning: Warning: converting a masked element to nan.\n"
     ]
    }
   ],
   "source": [
    "for l, ccat in enumerate([newcat[:52],newcat[52:]]):\n",
    "\n",
    "    newtab = Table([Column([str(obj).replace('_',' ') for obj in ccat['Name']],name='Object')])\n",
    "\n",
    "    newkeys = ['Kepler_ID','SpType','kepmag', 'phot_g_mean_mag','bp_rp','r_est','TRES?','Class']\n",
    "    names = [r'KIC',r'Spectral Type',r'$Kp$',r'$G$',r'$Bp-Rp$',r'\\gaia Distance','TRES','Variability']\n",
    "    units = ['',r'(SIMBAD)', r'(mag)','(mag)',r'(mag)','(pc)','','Class']\n",
    "    \n",
    "    translator_class = {'LPV':'LPV',\n",
    "                        'RG':'RG',\n",
    "                        'GD/DS Hybrid':r'$\\gamma\\,\\text{Dor} /\\delta\\,\\text{Sct}$',\n",
    "                        'GD':r'$\\gamma\\,\\text{Dor}$',\n",
    "                        'DS':r'$\\delta\\,\\text{Sct}$',\n",
    "                        '?':'?',\n",
    "                        '-':r'--',\n",
    "                        'Hump & Spike':'H+S',\n",
    "                        'EV':'EV',\n",
    "                        'EB':'EB',\n",
    "                        'SPB':'SPB',\n",
    "                        'Irregular':'Irregular',\n",
    "                        'a2cvn':r'$\\alpha^2\\,\\text{CVn}$'\n",
    "                       }\n",
    "\n",
    "    for k, key in enumerate(newkeys):\n",
    "        col = ccat[key]\n",
    "        if 'RE' in key:\n",
    "            test = Column(['\\checkmark' if 'TRES' in entry else '--' for entry in col],name=names[k])\n",
    "        elif 'bs' in key:\n",
    "            test = Column([entry.replace('under','') if 'under' in entry else 'unobserved' for entry in col],name=names[k])\n",
    "        elif 'ype' in key:\n",
    "            test = Column(['--' if np.ma.is_masked(entry) else entry for entry in col],name=names[k])\n",
    "        elif 'est' in key:\n",
    "            upcol = ccat['r_hi']\n",
    "            downcol = ccat['r_lo']\n",
    "            test = Column(['--' if 'nan' in str(col[j]) else '$%.1f^{+%.1f}_{-%.1f}$' % (col[j],upcol[j]-col[j],col[j]-downcol[j]) for j, x in enumerate(col)],name=names[k])\n",
    "        elif key =='Class':\n",
    "            test = Column([translator_class[entry] for entry in col],name=names[k])\n",
    "        elif 'mag' in key:\n",
    "            test = Column(['%.3f' % d for d in col.data],name=names[k])\n",
    "        elif 'bp' in key:\n",
    "            test = Column(['%.3f' % d for d in col.data],name=names[k])\n",
    "        else:\n",
    "            test = Column(col.data,name=names[k])\n",
    "#         if key == 'TRES?':\n",
    "#             test = Column(['TRES' if newtab['Object'][j].replace(' ','_') in merged['Object'] else '--' for j,entry in enumerate(col)], name=names[k])\n",
    "        newtab.add_column(test)\n",
    "    \n",
    "    latexdict = ascii.latex.latexdicts['AA'].copy()\n",
    "    latexdict['tabletype']= 'table*'\n",
    "    latexdict['units'] = dict(zip(names,units))\n",
    "    if l == 0:\n",
    "        caption = r\"The full set of underobserved and unobserved stars for which new light curves have been produced in this smear catalogue. \\\n",
    "        Calibrated \\gaia distances are from \\citet{gaiadists}. \\\n",
    "        Some objects, such as HD~185351, were observed in long cadence in some quarters and short cadence in others, and this is noted accordingly. \\\n",
    "        The eclipsing binary V2083~Cyg was detected by \\gaia, but a parallax could not be obtained in DR2, possibly due to binary motion.\\\n",
    "        Variability classes are determined by inspection, having their usual abbreviations. \\\n",
    "        EV denotes an ellipsoidal variable, but some of these could be rotation and spot modulation.\\\n",
    "        $\\gamma\\,\\text{Dor} /\\delta\\,\\text{Sct}$ denotes a $\\gamma\\,\\text{Dor} /\\delta\\,\\text{Sct}$ hybrid, not uncertainty.\\\n",
    "        H+S denotes a `hump and spike' star.\\\n",
    "        Question marks indicate uncertainty, and dashes -- that no significant variability is observed.\" \n",
    "        caption = caption+r'\\label{all_stars}'\n",
    "        newtab.write('../paper/all_stars.tex',format='latex',latexdict=latexdict,caption=caption+'\\label{all_stars}',overwrite=True)\n",
    "        print 'Written %s' % '../paper/all_stars.tex'\n",
    "    else:\n",
    "        latexdict['preamble'] = '\\contcaption{The full set of underobserved and unobserved stars for which new light curves have been produced in this smear catalogue. Calibrated \\gaia distances are from \\citet{gaiadists}. \\label{all_stars_cont}}'\n",
    "        newtab.write('../paper/all_stars2.tex',format='latex',latexdict=latexdict,overwrite=True)\n",
    "        print 'Written %s' % '../paper/all_stars2.tex'\n",
    "        \n",
    "\n",
    "newtab = Table([Column([str(obj).replace('_',' ') for obj in newcat['Name']],name='Object')])\n",
    "\n",
    "newkeys = ['Kepler_ID','SpType','kepmag', 'phot_g_mean_mag','r_est','Observed', 'TRES?','Class']\n",
    "names = [r'KIC',r'Spectral Type',r'$Kp$',r'$G$',r'\\gaia Distance',r'Observed','Spectroscopy','Variability']\n",
    "units = ['',r'(SIMBAD)', r'(mag)','(mag)','(pc)','','','Class']\n",
    "\n",
    "for k, key in enumerate(newkeys):\n",
    "    col = newcat[key]\n",
    "    if 'bs' in key:\n",
    "        test = Column([entry.replace('under','') if 'under' in entry else 'unobserved' for entry in col],name=names[k])\n",
    "    elif 'ype' in key:\n",
    "        test = Column(['--' if np.ma.is_masked(entry) else entry for entry in col],name=names[k])\n",
    "    elif 'est' in key:\n",
    "        upcol = newcat['r_hi']\n",
    "        downcol = newcat['r_lo']\n",
    "        test = Column(['--' if 'nan' in str(col[j]) else '$%.1f^{+%.1f}_{-%.1f}$' % (col[j],upcol[j]-col[j],col[j]-downcol[j]) for j, x in enumerate(col)],name=names[k])\n",
    "    elif key =='Class':\n",
    "        test = Column([translator_class[entry] for entry in col],name=names[k])\n",
    "    elif 'mag' in key:\n",
    "        test = Column(['%.3f' % d for d in col.data],name=names[k])\n",
    "    elif 'bp' in key:\n",
    "        test = Column(['%.3f' % d for d in col.data],name=names[k])\n",
    "    else:\n",
    "        test = Column(col.data,name=names[k])\n",
    "#     if key == 'TRES?':\n",
    "#         test = Column(['TRES' if newtab['Object'][j].replace(' ','_') in merged['Object'] else '--' for j,entry in enumerate(col)], name=names[k])\n",
    "    newtab.add_column(test)\n",
    "\n",
    "latexdict = ascii.latex.latexdicts['AA'].copy()\n",
    "latexdict['tabletype']= 'table*'\n",
    "latexdict['units'] = dict(zip(names,units))\n"
   ]
  },
  {
   "cell_type": "code",
   "execution_count": 285,
   "metadata": {},
   "outputs": [],
   "source": [
    "col = ccat['r_est']\n",
    "upcol = ccat['r_hi']\n",
    "downcol = ccat['r_lo']\n",
    "test = Column(['--' if 'nan' in str(col[j]) else '$%.2f^{+%.2f}_{-%.2f}$' % (col[j],upcol[j]-col[j],col[j]-downcol[j]) for j, x in enumerate(col)])\n"
   ]
  },
  {
   "cell_type": "code",
   "execution_count": 208,
   "metadata": {},
   "outputs": [],
   "source": [
    "for_keith = newcat['Name','ra','dec']\n",
    "for_keith.write('star_coords_keith.csv')"
   ]
  },
  {
   "cell_type": "code",
   "execution_count": 50,
   "metadata": {},
   "outputs": [
    {
     "data": {
      "text/html": [
       "&lt;Table masked=True length=102&gt;\n",
       "<table id=\"table4742982672\" class=\"table-striped table-bordered table-condensed\">\n",
       "<thead><tr><th>Name</th><th>SpType</th><th>[Fe/H]</th><th>theta</th><th>Observed</th><th>Seasons</th><th>Teff</th><th>Log_G</th><th>E(B-V)</th><th>g</th><th>r</th><th>J</th><th>kepmag</th><th>Edge_Dist</th><th>Notes</th><th>Collaborators</th><th>Interferometry?</th><th>TRES?</th><th>Kepler_ID</th><th>Class</th><th>source_id</th><th>ra</th><th>dec</th><th>phot_g_mean_mag</th><th>r_est</th><th>r_lo</th><th>r_hi</th></tr></thead>\n",
       "<thead><tr><th>str10</th><th>str16</th><th>float64</th><th>float64</th><th>str29</th><th>int64</th><th>int64</th><th>float64</th><th>float64</th><th>float64</th><th>float64</th><th>float64</th><th>float64</th><th>int64</th><th>str84</th><th>str16</th><th>str3</th><th>str3</th><th>int64</th><th>str12</th><th>int64</th><th>float64</th><th>float64</th><th>float64</th><th>float64</th><th>float64</th><th>float64</th></tr></thead>\n",
       "<tr><td>HD_185351</td><td>K5</td><td>0.16</td><td>1.156</td><td>LC:Q1-3 SC:Q16 under</td><td>4</td><td>--</td><td>--</td><td>--</td><td>6.091</td><td>5.176</td><td>3.654</td><td>5.034</td><td>59</td><td>RG: Retired A star</td><td>Hjorringgaard</td><td>--</td><td>Yes</td><td>8566020</td><td>RG</td><td>2078403295235690112</td><td>294.1576613499853</td><td>44.69448231480843</td><td>4.881522</td><td>41.2315213779136</td><td>41.0921558133897</td><td>41.3718185719601</td></tr>\n",
       "<tr><td>HD_186155</td><td>G5</td><td>0.3</td><td>0.57</td><td>LC:Q1 under</td><td>4</td><td>--</td><td>--</td><td>--</td><td>5.44</td><td>5.065</td><td>4.419</td><td>5.055</td><td>66</td><td>three sharp peaks</td><td>--</td><td>--</td><td>--</td><td>9163520</td><td>EV</td><td>2079990268465009024</td><td>295.2096161867121</td><td>45.525456779018434</td><td>4.923168</td><td>50.6145097045851</td><td>50.1993792798511</td><td>51.0364389381494</td></tr>\n",
       "<tr><td>HD_175740</td><td>K0</td><td>-0.1</td><td>1.035</td><td>unobserved</td><td>4</td><td>--</td><td>--</td><td>--</td><td>6.486</td><td>5.462</td><td>4.08</td><td>5.212</td><td>0</td><td>RG: suppressed l=1</td><td>Tim W, Guy, Cleo</td><td>Yes</td><td>Yes</td><td>6265087</td><td>RG</td><td>2104485016711846656</td><td>283.71739473102826</td><td>41.602710757624294</td><td>5.152375</td><td>81.4820221791748</td><td>80.9011996865216</td><td>82.0710941761192</td></tr>\n",
       "<tr><td>HD_184875</td><td>B0III</td><td>--</td><td>0.349</td><td>unobserved</td><td>4</td><td>--</td><td>--</td><td>--</td><td>5.399</td><td>5.337</td><td>5.128</td><td>5.403</td><td>0</td><td>Classical Pulsator</td><td>--</td><td>--</td><td>--</td><td>6954647</td><td>EV/Rotation</td><td>2077737571001053312</td><td>293.6719373022101</td><td>42.41237709026624</td><td>5.2788925</td><td>172.612235076612</td><td>169.44660100199</td><td>175.896210554269</td></tr>\n",
       "<tr><td>14_Cyg</td><td>G8.5IIIbFe-0.5</td><td>0.08</td><td>0.267</td><td>unobserved</td><td>4</td><td>--</td><td>--</td><td>--</td><td>5.334</td><td>5.394</td><td>5.365</td><td>5.49</td><td>0</td><td>contact binary, interesting ramp at low freq</td><td>--</td><td>--</td><td>--</td><td>7292420</td><td>EV</td><td>2077959092540451456</td><td>294.86048629287325</td><td>42.818403728771564</td><td>5.3699827</td><td>194.251074278231</td><td>187.684456735487</td><td>201.285145272043</td></tr>\n",
       "<tr><td>HD_189178</td><td>K2</td><td>--</td><td>0.236</td><td>unobserved</td><td>4</td><td>--</td><td>--</td><td>--</td><td>5.356</td><td>5.448</td><td>5.595</td><td>5.552</td><td>0</td><td>Classical Pulsator</td><td>--</td><td>--</td><td>--</td><td>5219588</td><td>GD</td><td>2073537612700605696</td><td>299.3078202055931</td><td>40.36782658479405</td><td>5.41016</td><td>347.305675377642</td><td>335.171242466141</td><td>360.335028693868</td></tr>\n",
       "<tr><td>HD_187372</td><td>K5</td><td>--</td><td>2.693</td><td>unobserved</td><td>4</td><td>--</td><td>--</td><td>--</td><td>7.805</td><td>6.141</td><td>2.979</td><td>5.672</td><td>110</td><td>RG: low freq</td><td>--</td><td>--</td><td>--</td><td>10679281</td><td>LPV</td><td>2086614688589352320</td><td>296.8616409188027</td><td>47.907411183287465</td><td>5.3131795</td><td>306.448333808759</td><td>296.81195252011</td><td>316.719517500094</td></tr>\n",
       "<tr><td>HD_182694</td><td>K5</td><td>-0.01</td><td>0.771</td><td>LC:Q2 under</td><td>4</td><td>--</td><td>--</td><td>--</td><td>6.76</td><td>5.86</td><td>4.437</td><td>5.722</td><td>137</td><td>RG</td><td>Tim W</td><td>Yes</td><td>--</td><td>7680115</td><td>RG</td><td>2126062687590513408</td><td>290.98550746572874</td><td>43.38804749579175</td><td>5.598205</td><td>133.050386252205</td><td>132.342616816959</td><td>133.765630523913</td></tr>\n",
       "<tr><td>V380_Cyg</td><td>K5</td><td>1.25</td><td>0.226</td><td>LC:Q11 SC:Q7 9 10 12-17 under</td><td>4</td><td>--</td><td>--</td><td>--</td><td>5.615</td><td>5.675</td><td>5.712</td><td>5.771</td><td>122</td><td>Eclipsing_binary</td><td>--</td><td>--</td><td>--</td><td>5385723</td><td>EB</td><td>2073743839843579776</td><td>297.65551057522265</td><td>40.59972506473762</td><td>5.6319346</td><td>1044.67154927546</td><td>949.069840098863</td><td>1161.2897500675</td></tr>\n",
       "<tr><td>HD_186121</td><td>K5</td><td>--</td><td>3.429</td><td>unobserved</td><td>4</td><td>--</td><td>--</td><td>--</td><td>7.735</td><td>6.198</td><td>2.561</td><td>5.773</td><td>44</td><td>RG: low freq</td><td>--</td><td>--</td><td>--</td><td>7456762</td><td>LPV</td><td>2078059800932315008</td><td>295.1714685950791</td><td>43.07782340429704</td><td>5.1762185</td><td>475.24965419503</td><td>444.587185040426</td><td>510.372799343944</td></tr>\n",
       "<tr><td>...</td><td>...</td><td>...</td><td>...</td><td>...</td><td>...</td><td>...</td><td>...</td><td>...</td><td>...</td><td>...</td><td>...</td><td>...</td><td>...</td><td>...</td><td>...</td><td>...</td><td>...</td><td>...</td><td>...</td><td>...</td><td>...</td><td>...</td><td>...</td><td>...</td><td>...</td><td>...</td></tr>\n",
       "<tr><td>V554_Lyr</td><td>K0</td><td>--</td><td>--</td><td>unobserved</td><td>2</td><td>9887</td><td>4.309</td><td>0.051</td><td>7.97</td><td>8.248</td><td>8.266</td><td>8.179</td><td>0</td><td>Missing - alpha2 Cvn</td><td>--</td><td>--</td><td>--</td><td>5001462</td><td>a2cvn</td><td>2101290316961062400</td><td>288.82187096088387</td><td>40.11368586856005</td><td>8.092074</td><td>335.749513113855</td><td>331.237286508456</td><td>340.384110652163</td></tr>\n",
       "<tr><td>BD+47_2825</td><td>B2III</td><td>--</td><td>--</td><td>unobserved</td><td>4</td><td>--</td><td>--</td><td>--</td><td>9.75</td><td>8.558</td><td>6.503</td><td>8.251</td><td>162</td><td>Not sure - classical?</td><td>--</td><td>--</td><td>--</td><td>10337574</td><td>EB</td><td>2129162799284981760</td><td>291.08177124447565</td><td>47.4130247599545</td><td>8.236473</td><td>485.795395877119</td><td>478.718728562602</td><td>493.080555986296</td></tr>\n",
       "<tr><td>BD+39_3882</td><td>A2V</td><td>--</td><td>--</td><td>unobserved</td><td>4</td><td>6241</td><td>4.186</td><td>0.02</td><td>8.463</td><td>8.192</td><td>7.36</td><td>8.259</td><td>0</td><td>bad light curve</td><td>--</td><td>--</td><td>--</td><td>4850372</td><td>Irregular</td><td>2076372669064227200</td><td>295.65231893691924</td><td>39.99781437523366</td><td>8.158849</td><td>143.266948083662</td><td>142.59154490081</td><td>143.94866508398</td></tr>\n",
       "<tr><td>BD+43_3064</td><td>G7IIIa</td><td>--</td><td>--</td><td>unobserved</td><td>3</td><td>--</td><td>--</td><td>--</td><td>10.18</td><td>8.692</td><td>6.205</td><td>8.284</td><td>0</td><td>RG</td><td>--</td><td>--</td><td>--</td><td>8075287</td><td>RG</td><td>2117284053614333312</td><td>281.3657024307495</td><td>43.995236683395596</td><td>8.20331</td><td>641.029617229135</td><td>621.919910626924</td><td>661.328015894773</td></tr>\n",
       "<tr><td>BD+43_3068</td><td>B1.1III+B2.5/3V:</td><td>--</td><td>--</td><td>unobserved</td><td>4</td><td>5506</td><td>4.394</td><td>0.011</td><td>8.754</td><td>8.254</td><td>7.181</td><td>8.308</td><td>0</td><td>not good</td><td>--</td><td>--</td><td>--</td><td>8006792</td><td>-</td><td>2117267079903573504</td><td>281.57417508745425</td><td>43.81556598527454</td><td>8.267944</td><td>53.7738365747513</td><td>53.6508736699958</td><td>53.8973543593231</td></tr>\n",
       "<tr><td>BD+43_3213</td><td>A5III</td><td>--</td><td>--</td><td>unobserved</td><td>4</td><td>--</td><td>--</td><td>--</td><td>10.425</td><td>8.775</td><td>5.821</td><td>8.311</td><td>127</td><td>RG: low freq</td><td>--</td><td>--</td><td>--</td><td>7747499</td><td>LPV</td><td>2102821524341578496</td><td>289.8924896223989</td><td>43.48010721400488</td><td>8.13925</td><td>948.76650655514</td><td>924.29038468176</td><td>974.549008379324</td></tr>\n",
       "<tr><td>BD+42_3150</td><td>B9III</td><td>--</td><td>--</td><td>unobserved</td><td>4</td><td>4716</td><td>2.329</td><td>0.063</td><td>9.111</td><td>8.257</td><td>6.743</td><td>8.35</td><td>261</td><td>not sure</td><td>--</td><td>--</td><td>--</td><td>7091342</td><td>?</td><td>2116742544137540608</td><td>281.25257984212334</td><td>42.6436414279837</td><td>8.31532</td><td>545.954282342101</td><td>516.819773786676</td><td>578.502581535217</td></tr>\n",
       "<tr><td>BD+43_3171</td><td>M3III</td><td>--</td><td>--</td><td>unobserved</td><td>4</td><td>--</td><td>--</td><td>--</td><td>10.412</td><td>8.818</td><td>5.904</td><td>8.373</td><td>332</td><td>RG: very low freq?</td><td>--</td><td>--</td><td>--</td><td>7810954</td><td>LPV</td><td>2105998150870718080</td><td>287.45698914447445</td><td>43.552258072724186</td><td>8.178079</td><td>751.476917005421</td><td>735.000815376891</td><td>768.694554141662</td></tr>\n",
       "<tr><td>BD+48_2904</td><td>K5</td><td>--</td><td>--</td><td>unobserved</td><td>4</td><td>4529</td><td>2.014</td><td>0.083</td><td>9.364</td><td>8.42</td><td>6.692</td><td>8.487</td><td>0</td><td>nothing</td><td>--</td><td>--</td><td>--</td><td>11085556</td><td>RG</td><td>2129676443013218304</td><td>292.57235027073966</td><td>48.65657535394386</td><td>8.439092</td><td>400.926312809394</td><td>395.619176599306</td><td>406.375153211787</td></tr>\n",
       "<tr><td>BD+47_2891</td><td>K1III</td><td>--</td><td>--</td><td>unobserved</td><td>2</td><td>--</td><td>--</td><td>--</td><td>10.081</td><td>8.962</td><td>6.99</td><td>8.68</td><td>--</td><td>nothing</td><td>--</td><td>--</td><td>--</td><td>10347606</td><td>RG</td><td>2128576003674178688</td><td>294.87270940492334</td><td>47.44682890349002</td><td>8.6254015</td><td>262.761110578283</td><td>261.121186033665</td><td>264.421392272191</td></tr>\n",
       "</table>"
      ],
      "text/plain": [
       "<Table masked=True length=102>\n",
       "   Name         SpType       [Fe/H] ...       r_lo             r_hi      \n",
       "  str10         str16       float64 ...     float64          float64     \n",
       "---------- ---------------- ------- ... ---------------- ----------------\n",
       " HD_185351               K5    0.16 ... 41.0921558133897 41.3718185719601\n",
       " HD_186155               G5     0.3 ... 50.1993792798511 51.0364389381494\n",
       " HD_175740               K0    -0.1 ... 80.9011996865216 82.0710941761192\n",
       " HD_184875            B0III      -- ...  169.44660100199 175.896210554269\n",
       "    14_Cyg   G8.5IIIbFe-0.5    0.08 ... 187.684456735487 201.285145272043\n",
       " HD_189178               K2      -- ... 335.171242466141 360.335028693868\n",
       " HD_187372               K5      -- ...  296.81195252011 316.719517500094\n",
       " HD_182694               K5   -0.01 ... 132.342616816959 133.765630523913\n",
       "  V380_Cyg               K5    1.25 ... 949.069840098863  1161.2897500675\n",
       " HD_186121               K5      -- ... 444.587185040426 510.372799343944\n",
       "       ...              ...     ... ...              ...              ...\n",
       "  V554_Lyr               K0      -- ... 331.237286508456 340.384110652163\n",
       "BD+47_2825            B2III      -- ... 478.718728562602 493.080555986296\n",
       "BD+39_3882              A2V      -- ...  142.59154490081  143.94866508398\n",
       "BD+43_3064           G7IIIa      -- ... 621.919910626924 661.328015894773\n",
       "BD+43_3068 B1.1III+B2.5/3V:      -- ... 53.6508736699958 53.8973543593231\n",
       "BD+43_3213            A5III      -- ...  924.29038468176 974.549008379324\n",
       "BD+42_3150            B9III      -- ... 516.819773786676 578.502581535217\n",
       "BD+43_3171            M3III      -- ... 735.000815376891 768.694554141662\n",
       "BD+48_2904               K5      -- ... 395.619176599306 406.375153211787\n",
       "BD+47_2891            K1III      -- ... 261.121186033665 264.421392272191"
      ]
     },
     "execution_count": 50,
     "metadata": {},
     "output_type": "execute_result"
    }
   ],
   "source": [
    "newcat"
   ]
  },
  {
   "cell_type": "markdown",
   "metadata": {},
   "source": [
    "## Now make an HR diagram"
   ]
  },
  {
   "cell_type": "code",
   "execution_count": 189,
   "metadata": {},
   "outputs": [],
   "source": [
    "# import sys\n",
    "# reload(sys)\n",
    "# sys.setdefaultencoding('utf8')\n",
    "\n",
    "# gaia = Table.read('SingleSource[FILE=smear_simbad.csv].vot',format='votable')\n",
    "# reload(sys)\n",
    "gaia = Table.read('gaia.csv') # this is a rewriting of the votable SingleSource[FILE=smear_simbad.csv].vot, which Python 2.7 doesn't like to read"
   ]
  },
  {
   "cell_type": "code",
   "execution_count": 191,
   "metadata": {},
   "outputs": [],
   "source": [
    "bp, rp, gg = gaia['phot_bp_mean_mag'], gaia['phot_rp_mean_mag'], gaia['phot_g_mean_mag']\n",
    "gaia['bp'], gaia['rp'],gaia['gg'] = bp, rp, gg\n",
    "gaia['bp_rp'] = bp-rp"
   ]
  },
  {
   "cell_type": "code",
   "execution_count": 45,
   "metadata": {},
   "outputs": [],
   "source": [
    "def abs_mag(app_mag,dist):\n",
    "    return app_mag - 5.*(np.log10(dist) - 1.)"
   ]
  },
  {
   "cell_type": "code",
   "execution_count": 46,
   "metadata": {},
   "outputs": [
    {
     "data": {
      "text/plain": [
       "71.39072222295582"
      ]
     },
     "execution_count": 46,
     "metadata": {},
     "output_type": "execute_result"
    }
   ],
   "source": [
    "snrs = dists['r_est']/((dists['r_hi']-dists['r_lo'])/2.)\n",
    "np.nanmedian(snrs)"
   ]
  },
  {
   "cell_type": "code",
   "execution_count": 47,
   "metadata": {},
   "outputs": [],
   "source": [
    "abs_gg = abs_mag(gg,dists['r_est'])\n",
    "gaia['abs_gg'] = abs_gg\n",
    "abs_gg_hi = abs_mag(gg,dists['r_hi'])\n",
    "abs_gg_lo = abs_mag(gg,dists['r_lo'])"
   ]
  },
  {
   "cell_type": "code",
   "execution_count": 48,
   "metadata": {},
   "outputs": [],
   "source": [
    "errorbars = np.zeros((2,np.size(abs_gg)))\n",
    "errorbars[0,:] = abs_gg_hi-abs_gg\n",
    "errorbars[1,:] = abs_gg-abs_gg_lo"
   ]
  },
  {
   "cell_type": "code",
   "execution_count": 49,
   "metadata": {},
   "outputs": [
    {
     "data": {
      "text/plain": [
       "<matplotlib.legend.Legend at 0x11b124210>"
      ]
     },
     "execution_count": 49,
     "metadata": {},
     "output_type": "execute_result"
    },
    {
     "data": {
      "image/png": "[encoded data removed]",
      "text/plain": [
       "<Figure size 432x288 with 1 Axes>"
      ]
     },
     "metadata": {},
     "output_type": "display_data"
    }
   ],
   "source": [
    "rc('text', usetex=False)\n",
    "m = newtab['Spectroscopy']!='--'\n",
    "plt.errorbar(bp[m]-rp[m],abs_gg[m],yerr=errorbars[:,m],fmt='.',color=colours[1],label=r'Smear Campaign (with spectra)',markersize=10)\n",
    "plt.errorbar(bp[~m]-rp[~m],abs_gg[~m],yerr=errorbars[:,~m],fmt='.',color=colours[2],label=r'Smear Campaign (no spectra)',markersize=10)\n",
    "plt.gca().invert_yaxis()\n",
    "plt.xlabel(r'$Bp-Rp$')\n",
    "plt.ylabel(r'Absolute $G$')\n",
    "plt.legend()"
   ]
  },
  {
   "cell_type": "markdown",
   "metadata": {},
   "source": [
    "Now we want to use Megan Bedell's Gaia-Kepler crossmatch to situate these in the broader colour-magnitude diagram"
   ]
  },
  {
   "cell_type": "code",
   "execution_count": 50,
   "metadata": {},
   "outputs": [],
   "source": [
    "kep_data = Table.read('../data/kepler_dr2_4arcsec.fits', format='fits')\n"
   ]
  },
  {
   "cell_type": "code",
   "execution_count": 51,
   "metadata": {},
   "outputs": [],
   "source": [
    "kep_data['abs_gmag'] = kep_data['phot_g_mean_mag'] - \\\n",
    "                            5.*(np.log10(kep_data['r_est']) - 1.)\n",
    "kep_data['abs_gmag'].unit = u.mag"
   ]
  },
  {
   "cell_type": "code",
   "execution_count": 52,
   "metadata": {},
   "outputs": [
    {
     "data": {
      "image/png": "[encoded data removed]",
      "text/plain": [
       "<Figure size 432x288 with 1 Axes>"
      ]
     },
     "metadata": {},
     "output_type": "display_data"
    }
   ],
   "source": [
    "filter = (kep_data['phot_g_mean_mag'] <= 18.) & (kep_data['parallax'] > 0.1)\n",
    "filter = (kep_data['phot_g_mean_mag'] <= 18.) & (kep_data['parallax_over_error'] > 25)\n",
    "\n",
    "plt.scatter(kep_data['bp_rp'][filter], kep_data['abs_gmag'][filter], alpha=0.15, color='k', s=1,label='All Kepler')\n",
    "m = newtab['Spectroscopy']!='--'\n",
    "plt.errorbar(bp[m]-rp[m],abs_gg[m],yerr=errorbars[:,m],fmt='.',color=colours[1],label=r'Smear + spectra',markersize=10)\n",
    "plt.errorbar(bp[~m]-rp[~m],abs_gg[~m],yerr=errorbars[:,~m],fmt='.',color=colours[2],label=r'Smear (no spectra)',markersize=10)\n",
    "\n",
    "plt.xlabel('Gaia $Bp-Rp$', fontsize=14)\n",
    "plt.ylabel(r'Absolute $G$ mag', fontsize=14)\n",
    "plt.ylim([13,-6])\n",
    "plt.xlim([-0.5,4.1])\n",
    "plt.legend()\n",
    "plt.title(r'Smear Stars in the Gaia Colour-Magnitude Diagram',y=1.01,fontsize=14)\n",
    "# plt.axvline(0.95) # separate giants and dwarfs \n",
    "plt.savefig('../paper/gaia_kepler_hr.png',bbox_inches='tight')"
   ]
  },
  {
   "cell_type": "code",
   "execution_count": 369,
   "metadata": {},
   "outputs": [
    {
     "name": "stdout",
     "output_type": "stream",
     "text": [
      "64 giants 38 dwarfs 102 total\n"
     ]
    }
   ],
   "source": [
    "giants = (bp-rp>0.95)\n",
    "dwarfs = (bp-rp<0.95)\n",
    "print giants.sum(),'giants', dwarfs.sum(),'dwarfs',giants.sum()+dwarfs.sum(),'total'\n",
    "# np.savetxt('giants.txt',cat['Name'][giants])\n",
    "# np.savetxt('dwarfs.txt',cat['Name'][dwarfs])"
   ]
  },
  {
   "cell_type": "code",
   "execution_count": 370,
   "metadata": {},
   "outputs": [
    {
     "name": "stderr",
     "output_type": "stream",
     "text": [
      "WARNING: AstropyDeprecationWarning: giants.txt already exists. Automatically overwriting ASCII files is deprecated. Use the argument 'overwrite=True' in the future. [astropy.io.ascii.ui]\n",
      "WARNING: AstropyDeprecationWarning: dwarfs.txt already exists. Automatically overwriting ASCII files is deprecated. Use the argument 'overwrite=True' in the future. [astropy.io.ascii.ui]\n"
     ]
    }
   ],
   "source": [
    "test = Table({'Giants':cat['Name'][giants].data.data.astype('S10')})\n",
    "test.write('giants.txt',format='ascii')\n",
    "\n",
    "test = Table({'dwarfs':cat['Name'][dwarfs].data.data.astype('S10')})\n",
    "test.write('dwarfs.txt',format='ascii')"
   ]
  },
  {
   "cell_type": "code",
   "execution_count": 79,
   "metadata": {},
   "outputs": [],
   "source": [
    "for name in cat['Name'][giants][:1]:\n",
    "    fname_pgram = '../data/periodograms/'+name+'_smear_combined.full.clip.fft'\n",
    "    pgram = Table.read(fname_pgram,format='ascii')"
   ]
  },
  {
   "cell_type": "markdown",
   "metadata": {},
   "source": [
    "## Now compare to Hypatia"
   ]
  },
  {
   "cell_type": "code",
   "execution_count": 364,
   "metadata": {},
   "outputs": [],
   "source": [
    "Simbad.reset_votable_fields()\n",
    "Simbad.add_votable_fields('ids')\n",
    "sim = Simbad.query_objects(cat['Name'])\n",
    "ids = sim['IDS']"
   ]
  },
  {
   "cell_type": "code",
   "execution_count": 365,
   "metadata": {},
   "outputs": [],
   "source": [
    "import re\n",
    "hips = []\n",
    "for eyedee in ids:\n",
    "    m = re.search('\\|HIP  (.+?)\\|',str(eyedee))\n",
    "    if m:\n",
    "        found = m.group(1)\n",
    "#     print found\n",
    "    hips.append(found)"
   ]
  },
  {
   "cell_type": "code",
   "execution_count": 366,
   "metadata": {},
   "outputs": [],
   "source": [
    "hinkel = Table.read('../data/hypatia-03082018.csv')"
   ]
  },
  {
   "cell_type": "code",
   "execution_count": 367,
   "metadata": {},
   "outputs": [
    {
     "name": "stdout",
     "output_type": "stream",
     "text": [
      "96459 HD 185351\n",
      "92831 HD 175740\n"
     ]
    }
   ],
   "source": [
    "in_hyp = []\n",
    "for j, hip in enumerate(hips):\n",
    "    if int(hip) in hinkel['f_hip']:\n",
    "        print hip, sim['MAIN_ID'][j]\n",
    "        in_hyp.append((hip,sim['MAIN_ID'][j]))"
   ]
  },
  {
   "cell_type": "code",
   "execution_count": 368,
   "metadata": {},
   "outputs": [
    {
     "data": {
      "text/plain": [
       "[('96459', 'HD 185351'), ('92831', 'HD 175740')]"
      ]
     },
     "execution_count": 368,
     "metadata": {},
     "output_type": "execute_result"
    }
   ],
   "source": [
    "in_hyp"
   ]
  },
  {
   "cell_type": "code",
   "execution_count": 85,
   "metadata": {},
   "outputs": [],
   "source": [
    "# sim"
   ]
  },
  {
   "cell_type": "code",
   "execution_count": 361,
   "metadata": {},
   "outputs": [],
   "source": [
    "# import altair as alt\n",
    "import pandas as pd"
   ]
  },
  {
   "cell_type": "code",
   "execution_count": 362,
   "metadata": {},
   "outputs": [],
   "source": [
    "pdg = gaia.to_pandas()\n",
    "pdg.assign(bprp=pdg.bp - pdg.rp);\n",
    "pdg.insert(len(pdg.columns), 'bprp', pd.Series(pdg.bp-pdg.rp, index=pdg.index))\n",
    "pdg.insert(len(pdg.columns), 'name', pd.Series(sim['MAIN_ID'], index=pdg.index))\n",
    "spec = ['TRES' if sp==1 else 'No  Spectra' for sp in newtab['Spectroscopy']!='--']\n",
    "pdg.insert(len(pdg.columns), 'Spectroscopy', pd.Series(spec, index=pdg.index))\n",
    "pdg.insert(len(pdg.columns), 'SpType', pd.Series(newcat['SpType'], index=pdg.index))\n",
    "\n",
    "# pdkep = kep_data.to_pandas()"
   ]
  },
  {
   "cell_type": "code",
   "execution_count": 88,
   "metadata": {},
   "outputs": [],
   "source": [
    "# pdg.name[pdg.bprp<1]"
   ]
  },
  {
   "cell_type": "code",
   "execution_count": 89,
   "metadata": {},
   "outputs": [],
   "source": [
    "# # background = alt.Chart(pdkep).mark_point().encode(\n",
    "# #     x='bp_rp',\n",
    "# #     y='abs_gmag').properties(alpha=0.2)\n",
    "# xrange = (-0.5,4.1)\n",
    "# yrange = (13,-6)\n",
    "\n",
    "# smear_chart = alt.Chart(pdg).mark_circle().encode(\n",
    "#     alt.X('bprp',scale=alt.Scale(domain=xrange,clamp=True)),\n",
    "#     alt.Y('abs_gg',scale=alt.Scale(domain=yrange,clamp=True)),\n",
    "#     tooltip='name',\n",
    "#     color='Spectroscopy',\n",
    "#     size=alt.value(42)\n",
    "# )\n"
   ]
  },
  {
   "cell_type": "code",
   "execution_count": 90,
   "metadata": {},
   "outputs": [],
   "source": [
    "# smear_chart"
   ]
  },
  {
   "cell_type": "code",
   "execution_count": 91,
   "metadata": {},
   "outputs": [],
   "source": [
    "# background = alt.Chart(pdkep).mark_rect().encode(\n",
    "#     alt.X('bp_rp',scale=alt.Scale(domain=xrange,clamp=True),bins=alt.Bin(maxbins=50)),\n",
    "#     alt.Y('abs_gmag',scale=alt.Scale(domain=yrange,clamp=True),bins=alt.Bin(maxbins=50))\n",
    "# )\n"
   ]
  },
  {
   "cell_type": "code",
   "execution_count": null,
   "metadata": {},
   "outputs": [],
   "source": []
  },
  {
   "cell_type": "markdown",
   "metadata": {},
   "source": [
    "### The *Kepler* dataset is too big for Altair. But not for Bokeh - let's copy from at demo.ipynb from github.com/megbedell/gaia-kepler.fun"
   ]
  },
  {
   "cell_type": "code",
   "execution_count": 357,
   "metadata": {},
   "outputs": [],
   "source": [
    "from bokeh.plotting import *\n",
    "from bokeh.io import output_notebook\n",
    "from bokeh.models import OpenURL, Circle, HoverTool, PanTool, BoxZoomTool, ResetTool, SaveTool, TapTool, WheelZoomTool\n",
    "from bokeh.util.hex import hexbin\n",
    "from bokeh.transform import linear_cmap, factor_cmap\n",
    "from bokeh.palettes import Spectral6\n",
    "reset_output()\n",
    "output_file(\"cmd_smear.html\")\n",
    "# output_notebook()"
   ]
  },
  {
   "cell_type": "code",
   "execution_count": 358,
   "metadata": {},
   "outputs": [
    {
     "ename": "NameError",
     "evalue": "name 'kep_data' is not defined",
     "output_type": "error",
     "traceback": [
      "\u001b[0;31m---------------------------------------------------------------------------\u001b[0m",
      "\u001b[0;31mNameError\u001b[0m                                 Traceback (most recent call last)",
      "\u001b[0;32m<ipython-input-358-e4515f31856a>\u001b[0m in \u001b[0;36m<module>\u001b[0;34m()\u001b[0m\n\u001b[0;32m----> 1\u001b[0;31m \u001b[0mfilter1\u001b[0m \u001b[0;34m=\u001b[0m \u001b[0;34m(\u001b[0m\u001b[0mkep_data\u001b[0m\u001b[0;34m[\u001b[0m\u001b[0;34m'phot_g_mean_mag'\u001b[0m\u001b[0;34m]\u001b[0m \u001b[0;34m<=\u001b[0m \u001b[0;36m18.\u001b[0m\u001b[0;34m)\u001b[0m \u001b[0;34m&\u001b[0m \u001b[0;34m(\u001b[0m\u001b[0mkep_data\u001b[0m\u001b[0;34m[\u001b[0m\u001b[0;34m'parallax_over_error'\u001b[0m\u001b[0;34m]\u001b[0m \u001b[0;34m>\u001b[0m \u001b[0;36m25\u001b[0m\u001b[0;34m)\u001b[0m\u001b[0;34m\u001b[0m\u001b[0m\n\u001b[0m\u001b[1;32m      2\u001b[0m \u001b[0mfilter2\u001b[0m \u001b[0;34m=\u001b[0m \u001b[0;34m(\u001b[0m\u001b[0mkep_data\u001b[0m\u001b[0;34m[\u001b[0m\u001b[0;34m'planet?'\u001b[0m\u001b[0;34m]\u001b[0m \u001b[0;34m==\u001b[0m \u001b[0;34m'conf'\u001b[0m\u001b[0;34m)\u001b[0m \u001b[0;34m&\u001b[0m \u001b[0mfilter1\u001b[0m\u001b[0;34m\u001b[0m\u001b[0m\n\u001b[1;32m      3\u001b[0m \u001b[0;34m\u001b[0m\u001b[0m\n\u001b[1;32m      4\u001b[0m \u001b[0mfilter2\u001b[0m \u001b[0;34m=\u001b[0m \u001b[0mfilter1\u001b[0m\u001b[0;34m\u001b[0m\u001b[0m\n\u001b[1;32m      5\u001b[0m \u001b[0;34m\u001b[0m\u001b[0m\n",
      "\u001b[0;31mNameError\u001b[0m: name 'kep_data' is not defined"
     ]
    }
   ],
   "source": [
    "filter1 = (kep_data['phot_g_mean_mag'] <= 18.) & (kep_data['parallax_over_error'] > 25)\n",
    "filter2 = (kep_data['planet?'] == 'conf') & filter1\n",
    "\n",
    "filter2 = filter1 \n",
    "\n",
    "thin = 4\n",
    "\n",
    "source = ColumnDataSource(\n",
    "    data=dict(\n",
    "        kepid=kep_data[filter2]['kepid'].data.data[::thin],\n",
    "        kepmag=kep_data[filter2]['kepmag'].data.data[::thin],\n",
    "        bp_rp=kep_data[filter2]['bp_rp'].data.data[::thin],\n",
    "        abs_gmag=kep_data[filter2]['abs_gmag'].data.data[::thin],\n",
    "        mass=kep_data[filter2]['mass'].data.data[::thin],\n",
    "        radius=kep_data[filter2]['radius'].data.data[::thin]\n",
    "        )\n",
    "    )\n",
    "\n",
    "source_smear = ColumnDataSource(\n",
    "    data=dict(\n",
    "        name=pdg.name.values,\n",
    "        abs_gmag=pdg.abs_gg.values,\n",
    "        bp_rp=pdg.bprp.values,\n",
    "        spec=pdg.Spectroscopy.values,\n",
    "        sptype=pdg.SpType.values\n",
    "        )\n",
    "    )\n"
   ]
  },
  {
   "cell_type": "code",
   "execution_count": 363,
   "metadata": {},
   "outputs": [
    {
     "ename": "AttributeError",
     "evalue": "'DataFrame' object has no attribute 'abs_gg'",
     "output_type": "error",
     "traceback": [
      "\u001b[0;31m---------------------------------------------------------------------------\u001b[0m",
      "\u001b[0;31mAttributeError\u001b[0m                            Traceback (most recent call last)",
      "\u001b[0;32m<ipython-input-363-0cae15799539>\u001b[0m in \u001b[0;36m<module>\u001b[0;34m()\u001b[0m\n\u001b[1;32m      1\u001b[0m dict(\n\u001b[1;32m      2\u001b[0m         \u001b[0mname\u001b[0m\u001b[0;34m=\u001b[0m\u001b[0mpdg\u001b[0m\u001b[0;34m.\u001b[0m\u001b[0mname\u001b[0m\u001b[0;34m.\u001b[0m\u001b[0mvalues\u001b[0m\u001b[0;34m,\u001b[0m\u001b[0;34m\u001b[0m\u001b[0m\n\u001b[0;32m----> 3\u001b[0;31m         \u001b[0mabs_gmag\u001b[0m\u001b[0;34m=\u001b[0m\u001b[0mpdg\u001b[0m\u001b[0;34m.\u001b[0m\u001b[0mabs_gg\u001b[0m\u001b[0;34m.\u001b[0m\u001b[0mvalues\u001b[0m\u001b[0;34m,\u001b[0m\u001b[0;34m\u001b[0m\u001b[0m\n\u001b[0m\u001b[1;32m      4\u001b[0m         \u001b[0mbp_rp\u001b[0m\u001b[0;34m=\u001b[0m\u001b[0mpdg\u001b[0m\u001b[0;34m.\u001b[0m\u001b[0mbprp\u001b[0m\u001b[0;34m.\u001b[0m\u001b[0mvalues\u001b[0m\u001b[0;34m,\u001b[0m\u001b[0;34m\u001b[0m\u001b[0m\n\u001b[1;32m      5\u001b[0m         \u001b[0mspec\u001b[0m\u001b[0;34m=\u001b[0m\u001b[0mpdg\u001b[0m\u001b[0;34m.\u001b[0m\u001b[0mSpectroscopy\u001b[0m\u001b[0;34m.\u001b[0m\u001b[0mvalues\u001b[0m\u001b[0;34m,\u001b[0m\u001b[0;34m\u001b[0m\u001b[0m\n",
      "\u001b[0;32m/anaconda2/lib/python2.7/site-packages/pandas/core/generic.pyc\u001b[0m in \u001b[0;36m__getattr__\u001b[0;34m(self, name)\u001b[0m\n\u001b[1;32m   4370\u001b[0m             \u001b[0;32mif\u001b[0m \u001b[0mself\u001b[0m\u001b[0;34m.\u001b[0m\u001b[0m_info_axis\u001b[0m\u001b[0;34m.\u001b[0m\u001b[0m_can_hold_identifiers_and_holds_name\u001b[0m\u001b[0;34m(\u001b[0m\u001b[0mname\u001b[0m\u001b[0;34m)\u001b[0m\u001b[0;34m:\u001b[0m\u001b[0;34m\u001b[0m\u001b[0m\n\u001b[1;32m   4371\u001b[0m                 \u001b[0;32mreturn\u001b[0m \u001b[0mself\u001b[0m\u001b[0;34m[\u001b[0m\u001b[0mname\u001b[0m\u001b[0;34m]\u001b[0m\u001b[0;34m\u001b[0m\u001b[0m\n\u001b[0;32m-> 4372\u001b[0;31m             \u001b[0;32mreturn\u001b[0m \u001b[0mobject\u001b[0m\u001b[0;34m.\u001b[0m\u001b[0m__getattribute__\u001b[0m\u001b[0;34m(\u001b[0m\u001b[0mself\u001b[0m\u001b[0;34m,\u001b[0m \u001b[0mname\u001b[0m\u001b[0;34m)\u001b[0m\u001b[0;34m\u001b[0m\u001b[0m\n\u001b[0m\u001b[1;32m   4373\u001b[0m \u001b[0;34m\u001b[0m\u001b[0m\n\u001b[1;32m   4374\u001b[0m     \u001b[0;32mdef\u001b[0m \u001b[0m__setattr__\u001b[0m\u001b[0;34m(\u001b[0m\u001b[0mself\u001b[0m\u001b[0;34m,\u001b[0m \u001b[0mname\u001b[0m\u001b[0;34m,\u001b[0m \u001b[0mvalue\u001b[0m\u001b[0;34m)\u001b[0m\u001b[0;34m:\u001b[0m\u001b[0;34m\u001b[0m\u001b[0m\n",
      "\u001b[0;31mAttributeError\u001b[0m: 'DataFrame' object has no attribute 'abs_gg'"
     ]
    }
   ],
   "source": [
    "dict(\n",
    "        name=pdg.name.values,\n",
    "        abs_gmag=pdg.abs_gg.values,\n",
    "        bp_rp=pdg.bprp.values,\n",
    "        spec=pdg.Spectroscopy.values,\n",
    "        sptype=pdg.SpType.values\n",
    "        )"
   ]
  },
  {
   "cell_type": "code",
   "execution_count": 70,
   "metadata": {},
   "outputs": [
    {
     "name": "stderr",
     "output_type": "stream",
     "text": [
      "/anaconda2/lib/python2.7/site-packages/bokeh/models/mappers.py:82: UserWarning: Palette length does not match number of factors. ['No  Spectra' 'TRES' 'No  Spectra' 'No  Spectra' 'No  Spectra'\n",
      " 'No  Spectra' 'TRES' 'TRES' 'TRES' 'No  Spectra' 'No  Spectra' 'TRES'\n",
      " 'TRES' 'TRES' 'No  Spectra' 'No  Spectra' 'No  Spectra' 'No  Spectra'\n",
      " 'No  Spectra' 'TRES' 'TRES' 'No  Spectra' 'TRES' 'No  Spectra'\n",
      " 'No  Spectra' 'TRES' 'No  Spectra' 'TRES' 'No  Spectra' 'No  Spectra'\n",
      " 'No  Spectra' 'No  Spectra' 'No  Spectra' 'No  Spectra' 'No  Spectra'\n",
      " 'No  Spectra' 'No  Spectra' 'No  Spectra' 'No  Spectra' 'TRES'\n",
      " 'No  Spectra' 'No  Spectra' 'No  Spectra' 'No  Spectra' 'No  Spectra'\n",
      " 'No  Spectra' 'No  Spectra' 'No  Spectra' 'No  Spectra' 'No  Spectra'\n",
      " 'TRES' 'TRES' 'No  Spectra' 'TRES' 'No  Spectra' 'No  Spectra'\n",
      " 'No  Spectra' 'No  Spectra' 'TRES' 'No  Spectra' 'No  Spectra'\n",
      " 'No  Spectra' 'No  Spectra' 'TRES' 'No  Spectra' 'No  Spectra'\n",
      " 'No  Spectra' 'TRES' 'No  Spectra' 'No  Spectra' 'TRES' 'TRES' 'TRES'\n",
      " 'TRES' 'TRES' 'TRES' 'TRES' 'No  Spectra' 'TRES' 'TRES' 'No  Spectra'\n",
      " 'No  Spectra' 'No  Spectra' 'No  Spectra' 'TRES' 'TRES' 'No  Spectra'\n",
      " 'No  Spectra' 'No  Spectra' 'TRES' 'No  Spectra' 'TRES' 'No  Spectra'\n",
      " 'TRES' 'No  Spectra' 'No  Spectra'] will be assigned to `nan_color` gray\n",
      "  warnings.warn(\"Palette length does not match number of factors. %s will be assigned to `nan_color` %s\" % (extra_factors, self.nan_color))\n"
     ]
    },
    {
     "name": "stdout",
     "output_type": "stream",
     "text": [
      "CPU times: user 954 ms, sys: 47.3 ms, total: 1 s\n",
      "Wall time: 1.14 s\n"
     ]
    }
   ],
   "source": [
    "%%time\n",
    "xrange = (-0.5,4.1)\n",
    "yrange = (13,-6)\n",
    "\n",
    "fig = figure(tools=\"wheel_zoom,pan,reset\",x_range=xrange,\n",
    "        y_range=yrange,title=\"Smear Stars in the Gaia Colour-Magnitude Diagram\")   \n",
    "kep_render = fig.circle('bp_rp','abs_gmag', source=source, size=4, name='KICs',color='black',alpha=0.2)\n",
    "\n",
    "smear_render = fig.circle('bp_rp','abs_gmag', source=source_smear, size=10, name='Smear',\n",
    "                          color=factor_cmap('spec',palette=Spectral6,factors=pdg.Spectroscopy.values),legend='spec')\n",
    "hover = HoverTool(renderers=[smear_render],\n",
    "                    tooltips=[\n",
    "        (\"Name\", \"@name\"),\n",
    "        (\"Sp. Type\",\"@sptype\"),\n",
    "        (\"Abs. G mag\",\"@abs_gmag\"),\n",
    "        (\"Bp-Rp\",\"@bp_rp\")\n",
    "                            ]\n",
    "    )\n",
    "fig.add_tools(hover)\n",
    "fig.legend.orientation = \"vertical\"\n",
    "fig.legend.location = \"bottom_left\"\n",
    "\n",
    "fig.xaxis.axis_label = 'Gaia Bp-Rp (mag)'\n",
    "fig.yaxis.axis_label = 'Gaia Abs. G Mag'\n",
    "fig.xaxis.axis_label_text_font_size = '14pt'\n",
    "fig.xaxis.major_label_text_font_size = '12pt'\n",
    "fig.yaxis.axis_label_text_font_size = '14pt'   \n",
    "fig.yaxis.major_label_text_font_size = '12pt' \n",
    "# save(fig)\n",
    "show(fig)\n"
   ]
  },
  {
   "cell_type": "code",
   "execution_count": 92,
   "metadata": {},
   "outputs": [],
   "source": [
    "# for j, star in enumerate(pdg.name.values):\n",
    "#     print j, star, pdg.abs_gg.values[j]"
   ]
  },
  {
   "cell_type": "markdown",
   "metadata": {},
   "source": [
    "### Let's see if Hipparcos parallaxes differ from Gaia"
   ]
  },
  {
   "cell_type": "code",
   "execution_count": 93,
   "metadata": {},
   "outputs": [],
   "source": [
    "Simbad.reset_votable_fields()\n",
    "Simbad.add_votable_fields('parallax')\n",
    "sim = Simbad.query_objects(cat['Name'])\n",
    "hip_par = sim['PLX_VALUE']\n"
   ]
  },
  {
   "cell_type": "code",
   "execution_count": 94,
   "metadata": {},
   "outputs": [],
   "source": [
    "from astroquery.esasky import ESASky\n",
    "esasky = ESASky()\n"
   ]
  },
  {
   "cell_type": "code",
   "execution_count": 95,
   "metadata": {},
   "outputs": [
    {
     "name": "stdout",
     "output_type": "stream",
     "text": [
      "0 96459\n",
      "1 96825\n",
      "2 92831\n",
      "3 96288\n",
      "4 96693\n",
      "5 98194\n",
      "6 97372\n",
      "7 95352\n",
      "8 97634\n",
      "9 96805\n",
      "10 98383\n",
      "11 97774\n",
      "12 94890\n",
      "13 96449\n",
      "14 98058\n",
      "15 92713\n",
      "16 93309\n",
      "17 92891\n",
      "18 94799\n",
      "19 94351\n",
      "20 93177\n",
      "21 95245\n",
      "22 92599\n",
      "23 97845\n",
      "24 95673\n",
      "25 97304\n",
      "26 95534\n",
      "27 98610\n",
      "28 94781\n",
      "29 93210\n",
      "30 92156\n",
      "31 94659\n",
      "32 95056\n",
      "33 92116\n",
      "34 96252\n",
      "35 93749\n",
      "36 94977\n",
      "37 92869\n",
      "38 96011\n",
      "39 98071\n",
      "40 95524\n",
      "41 93204\n",
      "42 94923\n",
      "43 96517\n",
      "44 96887\n",
      "45 92455\n",
      "46 93989\n"
     ]
    },
    {
     "ename": "ConnectionError",
     "evalue": "('Connection aborted.', BadStatusLine(\"''\",))",
     "output_type": "error",
     "traceback": [
      "\u001b[0;31m---------------------------------------------------------------------------\u001b[0m",
      "\u001b[0;31mConnectionError\u001b[0m                           Traceback (most recent call last)",
      "\u001b[0;32m<ipython-input-95-4583c494ddeb>\u001b[0m in \u001b[0;36m<module>\u001b[0;34m()\u001b[0m\n\u001b[1;32m      2\u001b[0m \u001b[0;32mfor\u001b[0m \u001b[0mj\u001b[0m\u001b[0;34m,\u001b[0m \u001b[0mhip\u001b[0m \u001b[0;32min\u001b[0m \u001b[0menumerate\u001b[0m\u001b[0;34m(\u001b[0m\u001b[0mhips\u001b[0m\u001b[0;34m)\u001b[0m\u001b[0;34m:\u001b[0m\u001b[0;34m\u001b[0m\u001b[0m\n\u001b[1;32m      3\u001b[0m     \u001b[0;32mprint\u001b[0m \u001b[0mj\u001b[0m\u001b[0;34m,\u001b[0m \u001b[0mhip\u001b[0m\u001b[0;34m\u001b[0m\u001b[0m\n\u001b[0;32m----> 4\u001b[0;31m     \u001b[0mdummy\u001b[0m \u001b[0;34m=\u001b[0m \u001b[0mesasky\u001b[0m\u001b[0;34m.\u001b[0m\u001b[0mquery_object_catalogs\u001b[0m\u001b[0;34m(\u001b[0m\u001b[0;34m'HIP'\u001b[0m\u001b[0;34m+\u001b[0m\u001b[0mstr\u001b[0m\u001b[0;34m(\u001b[0m\u001b[0mhip\u001b[0m\u001b[0;34m)\u001b[0m\u001b[0;34m,\u001b[0m\u001b[0mcatalogs\u001b[0m\u001b[0;34m=\u001b[0m\u001b[0;34m'HIPPARCOS-2'\u001b[0m\u001b[0;34m)\u001b[0m\u001b[0;34m[\u001b[0m\u001b[0;36m0\u001b[0m\u001b[0;34m]\u001b[0m\u001b[0;34m\u001b[0m\u001b[0m\n\u001b[0m\u001b[1;32m      5\u001b[0m     \u001b[0mhippar\u001b[0m\u001b[0;34m.\u001b[0m\u001b[0mappend\u001b[0m\u001b[0;34m(\u001b[0m\u001b[0mdummy\u001b[0m\u001b[0;34m[\u001b[0m\u001b[0;34m'plx'\u001b[0m\u001b[0;34m]\u001b[0m\u001b[0;34m.\u001b[0m\u001b[0mdata\u001b[0m\u001b[0;34m.\u001b[0m\u001b[0mdata\u001b[0m\u001b[0;34m[\u001b[0m\u001b[0;36m0\u001b[0m\u001b[0;34m]\u001b[0m\u001b[0;34m)\u001b[0m\u001b[0;34m\u001b[0m\u001b[0m\n",
      "\u001b[0;32m/anaconda2/lib/python2.7/site-packages/astroquery/esasky/core.pyc\u001b[0m in \u001b[0;36mquery_object_catalogs\u001b[0;34m(self, position, catalogs, row_limit, get_query_payload, cache)\u001b[0m\n\u001b[1;32m    178\u001b[0m                                           \u001b[0mrow_limit\u001b[0m\u001b[0;34m=\u001b[0m\u001b[0mrow_limit\u001b[0m\u001b[0;34m,\u001b[0m\u001b[0;34m\u001b[0m\u001b[0m\n\u001b[1;32m    179\u001b[0m                                           \u001b[0mget_query_payload\u001b[0m\u001b[0;34m=\u001b[0m\u001b[0mget_query_payload\u001b[0m\u001b[0;34m,\u001b[0m\u001b[0;34m\u001b[0m\u001b[0m\n\u001b[0;32m--> 180\u001b[0;31m                                           cache=cache)\n\u001b[0m\u001b[1;32m    181\u001b[0m \u001b[0;34m\u001b[0m\u001b[0m\n\u001b[1;32m    182\u001b[0m     def query_region_maps(self, position, radius, missions=__ALL_STRING,\n",
      "\u001b[0;32m/anaconda2/lib/python2.7/site-packages/astroquery/esasky/core.pyc\u001b[0m in \u001b[0;36mquery_region_catalogs\u001b[0;34m(self, position, radius, catalogs, row_limit, get_query_payload, cache)\u001b[0m\n\u001b[1;32m    302\u001b[0m                                           \u001b[0mcoordinates\u001b[0m\u001b[0;34m,\u001b[0m \u001b[0msanitized_radius\u001b[0m\u001b[0;34m,\u001b[0m\u001b[0;34m\u001b[0m\u001b[0m\n\u001b[1;32m    303\u001b[0m                                           \u001b[0msanitized_row_limit\u001b[0m\u001b[0;34m,\u001b[0m\u001b[0;34m\u001b[0m\u001b[0m\n\u001b[0;32m--> 304\u001b[0;31m                                           get_query_payload, cache)\n\u001b[0m\u001b[1;32m    305\u001b[0m \u001b[0;34m\u001b[0m\u001b[0m\n\u001b[1;32m    306\u001b[0m         \u001b[0;32mif\u001b[0m \u001b[0;34m(\u001b[0m\u001b[0mget_query_payload\u001b[0m\u001b[0;34m)\u001b[0m\u001b[0;34m:\u001b[0m\u001b[0;34m\u001b[0m\u001b[0m\n",
      "\u001b[0;32m/anaconda2/lib/python2.7/site-packages/astroquery/esasky/core.pyc\u001b[0m in \u001b[0;36m_store_query_result_catalogs\u001b[0;34m(self, query_result, catalogs, coordinates, radius, row_limit, get_query_payload, cache)\u001b[0m\n\u001b[1;32m    731\u001b[0m             catalog_table = self._query_region_catalog(coordinates, radius,\n\u001b[1;32m    732\u001b[0m                                                        \u001b[0mcatalog\u001b[0m\u001b[0;34m,\u001b[0m \u001b[0mrow_limit\u001b[0m\u001b[0;34m,\u001b[0m\u001b[0;34m\u001b[0m\u001b[0m\n\u001b[0;32m--> 733\u001b[0;31m                                                        get_query_payload, cache)\n\u001b[0m\u001b[1;32m    734\u001b[0m             \u001b[0;32mif\u001b[0m \u001b[0;34m(\u001b[0m\u001b[0mlen\u001b[0m\u001b[0;34m(\u001b[0m\u001b[0mcatalog_table\u001b[0m\u001b[0;34m)\u001b[0m \u001b[0;34m>\u001b[0m \u001b[0;36m0\u001b[0m\u001b[0;34m)\u001b[0m\u001b[0;34m:\u001b[0m\u001b[0;34m\u001b[0m\u001b[0m\n\u001b[1;32m    735\u001b[0m                 \u001b[0mquery_result\u001b[0m\u001b[0;34m[\u001b[0m\u001b[0mcatalog\u001b[0m\u001b[0;34m.\u001b[0m\u001b[0mupper\u001b[0m\u001b[0;34m(\u001b[0m\u001b[0;34m)\u001b[0m\u001b[0;34m]\u001b[0m \u001b[0;34m=\u001b[0m \u001b[0mcatalog_table\u001b[0m\u001b[0;34m\u001b[0m\u001b[0m\n",
      "\u001b[0;32m/anaconda2/lib/python2.7/site-packages/astroquery/esasky/core.pyc\u001b[0m in \u001b[0;36m_query_region_catalog\u001b[0;34m(self, coordinates, radius, catalog_name, row_limit, get_query_payload, cache)\u001b[0m\n\u001b[1;32m    646\u001b[0m     def _query_region_catalog(self, coordinates, radius, catalog_name, row_limit,\n\u001b[1;32m    647\u001b[0m                               get_query_payload, cache):\n\u001b[0;32m--> 648\u001b[0;31m         \u001b[0mcatalog_tap_name\u001b[0m \u001b[0;34m=\u001b[0m \u001b[0mself\u001b[0m\u001b[0;34m.\u001b[0m\u001b[0m_find_catalog_tap_table_name\u001b[0m\u001b[0;34m(\u001b[0m\u001b[0mcatalog_name\u001b[0m\u001b[0;34m)\u001b[0m\u001b[0;34m\u001b[0m\u001b[0m\n\u001b[0m\u001b[1;32m    649\u001b[0m         query = self._build_catalog_query(coordinates, radius, row_limit,\n\u001b[1;32m    650\u001b[0m                                           self._find_catalog_parameters(catalog_tap_name))\n",
      "\u001b[0;32m/anaconda2/lib/python2.7/site-packages/astroquery/esasky/core.pyc\u001b[0m in \u001b[0;36m_find_catalog_tap_table_name\u001b[0;34m(self, mission_name)\u001b[0m\n\u001b[1;32m    756\u001b[0m     \u001b[0;32mdef\u001b[0m \u001b[0m_find_catalog_tap_table_name\u001b[0m\u001b[0;34m(\u001b[0m\u001b[0mself\u001b[0m\u001b[0;34m,\u001b[0m \u001b[0mmission_name\u001b[0m\u001b[0;34m)\u001b[0m\u001b[0;34m:\u001b[0m\u001b[0;34m\u001b[0m\u001b[0m\n\u001b[1;32m    757\u001b[0m         return self._find_mission_tap_table_name(\n\u001b[0;32m--> 758\u001b[0;31m             \u001b[0mself\u001b[0m\u001b[0;34m.\u001b[0m\u001b[0m_fetch_and_parse_json\u001b[0m\u001b[0;34m(\u001b[0m\u001b[0mself\u001b[0m\u001b[0;34m.\u001b[0m\u001b[0m__CATALOGS_STRING\u001b[0m\u001b[0;34m)\u001b[0m\u001b[0;34m,\u001b[0m\u001b[0;34m\u001b[0m\u001b[0m\n\u001b[0m\u001b[1;32m    759\u001b[0m             mission_name)\n\u001b[1;32m    760\u001b[0m \u001b[0;34m\u001b[0m\u001b[0m\n",
      "\u001b[0;32m/anaconda2/lib/python2.7/site-packages/astroquery/esasky/core.pyc\u001b[0m in \u001b[0;36m_fetch_and_parse_json\u001b[0;34m(self, object_name)\u001b[0m\n\u001b[1;32m    779\u001b[0m             \u001b[0murl\u001b[0m\u001b[0;34m,\u001b[0m\u001b[0;34m\u001b[0m\u001b[0m\n\u001b[1;32m    780\u001b[0m             \u001b[0mcache\u001b[0m\u001b[0;34m=\u001b[0m\u001b[0mFalse\u001b[0m\u001b[0;34m,\u001b[0m\u001b[0;34m\u001b[0m\u001b[0m\n\u001b[0;32m--> 781\u001b[0;31m             headers=self._get_header())\n\u001b[0m\u001b[1;32m    782\u001b[0m         \u001b[0mstring_response\u001b[0m \u001b[0;34m=\u001b[0m \u001b[0mresponse\u001b[0m\u001b[0;34m.\u001b[0m\u001b[0mcontent\u001b[0m\u001b[0;34m.\u001b[0m\u001b[0mdecode\u001b[0m\u001b[0;34m(\u001b[0m\u001b[0;34m'utf-8'\u001b[0m\u001b[0;34m)\u001b[0m\u001b[0;34m\u001b[0m\u001b[0m\n\u001b[1;32m    783\u001b[0m         \u001b[0mjson_response\u001b[0m \u001b[0;34m=\u001b[0m \u001b[0mjson\u001b[0m\u001b[0;34m.\u001b[0m\u001b[0mloads\u001b[0m\u001b[0;34m(\u001b[0m\u001b[0mstring_response\u001b[0m\u001b[0;34m)\u001b[0m\u001b[0;34m\u001b[0m\u001b[0m\n",
      "\u001b[0;32m/anaconda2/lib/python2.7/site-packages/astroquery/query.pyc\u001b[0m in \u001b[0;36m_request\u001b[0;34m(self, method, url, params, data, headers, files, save, savedir, timeout, cache, stream, auth, continuation, verify)\u001b[0m\n\u001b[1;32m    195\u001b[0m                 \u001b[0;32mwith\u001b[0m \u001b[0msuspend_cache\u001b[0m\u001b[0;34m(\u001b[0m\u001b[0mself\u001b[0m\u001b[0;34m)\u001b[0m\u001b[0;34m:\u001b[0m\u001b[0;34m\u001b[0m\u001b[0m\n\u001b[1;32m    196\u001b[0m                     response = query.request(self._session, stream=stream,\n\u001b[0;32m--> 197\u001b[0;31m                                              auth=auth, verify=verify)\n\u001b[0m\u001b[1;32m    198\u001b[0m             \u001b[0;32melse\u001b[0m\u001b[0;34m:\u001b[0m\u001b[0;34m\u001b[0m\u001b[0m\n\u001b[1;32m    199\u001b[0m                 \u001b[0mresponse\u001b[0m \u001b[0;34m=\u001b[0m \u001b[0mquery\u001b[0m\u001b[0;34m.\u001b[0m\u001b[0mfrom_cache\u001b[0m\u001b[0;34m(\u001b[0m\u001b[0mself\u001b[0m\u001b[0;34m.\u001b[0m\u001b[0mcache_location\u001b[0m\u001b[0;34m)\u001b[0m\u001b[0;34m\u001b[0m\u001b[0m\n",
      "\u001b[0;32m/anaconda2/lib/python2.7/site-packages/astroquery/query.pyc\u001b[0m in \u001b[0;36mrequest\u001b[0;34m(self, session, cache_location, stream, auth, verify)\u001b[0m\n\u001b[1;32m     59\u001b[0m                                \u001b[0mdata\u001b[0m\u001b[0;34m=\u001b[0m\u001b[0mself\u001b[0m\u001b[0;34m.\u001b[0m\u001b[0mdata\u001b[0m\u001b[0;34m,\u001b[0m \u001b[0mheaders\u001b[0m\u001b[0;34m=\u001b[0m\u001b[0mself\u001b[0m\u001b[0;34m.\u001b[0m\u001b[0mheaders\u001b[0m\u001b[0;34m,\u001b[0m\u001b[0;34m\u001b[0m\u001b[0m\n\u001b[1;32m     60\u001b[0m                                \u001b[0mfiles\u001b[0m\u001b[0;34m=\u001b[0m\u001b[0mself\u001b[0m\u001b[0;34m.\u001b[0m\u001b[0mfiles\u001b[0m\u001b[0;34m,\u001b[0m \u001b[0mtimeout\u001b[0m\u001b[0;34m=\u001b[0m\u001b[0mself\u001b[0m\u001b[0;34m.\u001b[0m\u001b[0mtimeout\u001b[0m\u001b[0;34m,\u001b[0m\u001b[0;34m\u001b[0m\u001b[0m\n\u001b[0;32m---> 61\u001b[0;31m                                stream=stream, auth=auth, verify=verify)\n\u001b[0m\u001b[1;32m     62\u001b[0m \u001b[0;34m\u001b[0m\u001b[0m\n\u001b[1;32m     63\u001b[0m     \u001b[0;32mdef\u001b[0m \u001b[0mhash\u001b[0m\u001b[0;34m(\u001b[0m\u001b[0mself\u001b[0m\u001b[0;34m)\u001b[0m\u001b[0;34m:\u001b[0m\u001b[0;34m\u001b[0m\u001b[0m\n",
      "\u001b[0;32m/Users/benjaminpope/.local/lib/python2.7/site-packages/requests/sessions.pyc\u001b[0m in \u001b[0;36mrequest\u001b[0;34m(self, method, url, params, data, headers, cookies, files, auth, timeout, allow_redirects, proxies, hooks, stream, verify, cert, json)\u001b[0m\n\u001b[1;32m    510\u001b[0m         }\n\u001b[1;32m    511\u001b[0m         \u001b[0msend_kwargs\u001b[0m\u001b[0;34m.\u001b[0m\u001b[0mupdate\u001b[0m\u001b[0;34m(\u001b[0m\u001b[0msettings\u001b[0m\u001b[0;34m)\u001b[0m\u001b[0;34m\u001b[0m\u001b[0m\n\u001b[0;32m--> 512\u001b[0;31m         \u001b[0mresp\u001b[0m \u001b[0;34m=\u001b[0m \u001b[0mself\u001b[0m\u001b[0;34m.\u001b[0m\u001b[0msend\u001b[0m\u001b[0;34m(\u001b[0m\u001b[0mprep\u001b[0m\u001b[0;34m,\u001b[0m \u001b[0;34m**\u001b[0m\u001b[0msend_kwargs\u001b[0m\u001b[0;34m)\u001b[0m\u001b[0;34m\u001b[0m\u001b[0m\n\u001b[0m\u001b[1;32m    513\u001b[0m \u001b[0;34m\u001b[0m\u001b[0m\n\u001b[1;32m    514\u001b[0m         \u001b[0;32mreturn\u001b[0m \u001b[0mresp\u001b[0m\u001b[0;34m\u001b[0m\u001b[0m\n",
      "\u001b[0;32m/Users/benjaminpope/.local/lib/python2.7/site-packages/requests/sessions.pyc\u001b[0m in \u001b[0;36msend\u001b[0;34m(self, request, **kwargs)\u001b[0m\n\u001b[1;32m    620\u001b[0m \u001b[0;34m\u001b[0m\u001b[0m\n\u001b[1;32m    621\u001b[0m         \u001b[0;31m# Send the request\u001b[0m\u001b[0;34m\u001b[0m\u001b[0;34m\u001b[0m\u001b[0m\n\u001b[0;32m--> 622\u001b[0;31m         \u001b[0mr\u001b[0m \u001b[0;34m=\u001b[0m \u001b[0madapter\u001b[0m\u001b[0;34m.\u001b[0m\u001b[0msend\u001b[0m\u001b[0;34m(\u001b[0m\u001b[0mrequest\u001b[0m\u001b[0;34m,\u001b[0m \u001b[0;34m**\u001b[0m\u001b[0mkwargs\u001b[0m\u001b[0;34m)\u001b[0m\u001b[0;34m\u001b[0m\u001b[0m\n\u001b[0m\u001b[1;32m    623\u001b[0m \u001b[0;34m\u001b[0m\u001b[0m\n\u001b[1;32m    624\u001b[0m         \u001b[0;31m# Total elapsed time of the request (approximately)\u001b[0m\u001b[0;34m\u001b[0m\u001b[0;34m\u001b[0m\u001b[0m\n",
      "\u001b[0;32m/Users/benjaminpope/.local/lib/python2.7/site-packages/requests/adapters.pyc\u001b[0m in \u001b[0;36msend\u001b[0;34m(self, request, stream, timeout, verify, cert, proxies)\u001b[0m\n\u001b[1;32m    493\u001b[0m \u001b[0;34m\u001b[0m\u001b[0m\n\u001b[1;32m    494\u001b[0m         \u001b[0;32mexcept\u001b[0m \u001b[0;34m(\u001b[0m\u001b[0mProtocolError\u001b[0m\u001b[0;34m,\u001b[0m \u001b[0msocket\u001b[0m\u001b[0;34m.\u001b[0m\u001b[0merror\u001b[0m\u001b[0;34m)\u001b[0m \u001b[0;32mas\u001b[0m \u001b[0merr\u001b[0m\u001b[0;34m:\u001b[0m\u001b[0;34m\u001b[0m\u001b[0m\n\u001b[0;32m--> 495\u001b[0;31m             \u001b[0;32mraise\u001b[0m \u001b[0mConnectionError\u001b[0m\u001b[0;34m(\u001b[0m\u001b[0merr\u001b[0m\u001b[0;34m,\u001b[0m \u001b[0mrequest\u001b[0m\u001b[0;34m=\u001b[0m\u001b[0mrequest\u001b[0m\u001b[0;34m)\u001b[0m\u001b[0;34m\u001b[0m\u001b[0m\n\u001b[0m\u001b[1;32m    496\u001b[0m \u001b[0;34m\u001b[0m\u001b[0m\n\u001b[1;32m    497\u001b[0m         \u001b[0;32mexcept\u001b[0m \u001b[0mMaxRetryError\u001b[0m \u001b[0;32mas\u001b[0m \u001b[0me\u001b[0m\u001b[0;34m:\u001b[0m\u001b[0;34m\u001b[0m\u001b[0m\n",
      "\u001b[0;31mConnectionError\u001b[0m: ('Connection aborted.', BadStatusLine(\"''\",))"
     ]
    }
   ],
   "source": [
    "hippar = []\n",
    "for j, hip in enumerate(hips):\n",
    "    print j, hip\n",
    "    dummy = esasky.query_object_catalogs('HIP'+str(hip),catalogs='HIPPARCOS-2')[0]\n",
    "    hippar.append(dummy['plx'].data.data[0])"
   ]
  },
  {
   "cell_type": "code",
   "execution_count": null,
   "metadata": {},
   "outputs": [],
   "source": [
    "parallaxes_hip = np.array(hippar)"
   ]
  },
  {
   "cell_type": "code",
   "execution_count": null,
   "metadata": {},
   "outputs": [],
   "source": [
    "plt.plot(gaia['phot_g_mean_mag'],gaia['parallax']/parallaxes_hip,'.',markersize=12,label='Gaia/Hipparcos')\n",
    "plt.axhline(1.,color=colours[1],label='1')\n",
    "plt.legend()\n",
    "plt.xlabel(r'Gaia $G$ mag')\n",
    "plt.ylabel('Parallax Ratio')\n",
    "plt.title('Comparison of Gaia and Hipparcos Parallaxes',y=1.01)\n",
    "plt.savefig('gaiavship.png')"
   ]
  },
  {
   "cell_type": "code",
   "execution_count": null,
   "metadata": {},
   "outputs": [],
   "source": [
    "plt.plot(gaia['parallax'],parallaxes_hip,'.')\n",
    "plt.plot(gaia['parallax'],gaia['parallax'],'-')"
   ]
  },
  {
   "cell_type": "code",
   "execution_count": null,
   "metadata": {},
   "outputs": [],
   "source": [
    "plt.hist(gaia['parallax']/parallaxes_hip,bins=20);\n",
    "plt.axvline(1,color=colours[2])"
   ]
  },
  {
   "cell_type": "markdown",
   "metadata": {},
   "source": [
    "### Now let's check everything against the Bright_Kep overall bright kepler catalogue"
   ]
  },
  {
   "cell_type": "code",
   "execution_count": 64,
   "metadata": {},
   "outputs": [],
   "source": [
    "# import sys\n",
    "# reload(sys)\n",
    "# sys.setdefaultencoding('utf8')\n",
    "\n",
    "brightkep = Table.read('../data/Bright_Kep_new.csv')\n",
    "# reload(sys)\n"
   ]
  },
  {
   "cell_type": "code",
   "execution_count": 65,
   "metadata": {},
   "outputs": [],
   "source": [
    "brightkep.sort('Name')"
   ]
  },
  {
   "cell_type": "code",
   "execution_count": 67,
   "metadata": {},
   "outputs": [
    {
     "data": {
      "text/html": [
       "&lt;Table masked=True length=102&gt;\n",
       "<table id=\"table4669821328\" class=\"table-striped table-bordered table-condensed\">\n",
       "<thead><tr><th>Name</th><th>SpType</th><th>[Fe/H]</th><th>theta</th><th>Observed</th><th>Seasons</th><th>Teff</th><th>Log_G</th><th>E(B-V)</th><th>g</th><th>r</th><th>J</th><th>kepmag</th><th>Edge_Dist</th><th>Notes</th><th>Collaborators</th><th>Interferometry?</th><th>TRES?</th><th>Kepler_ID</th></tr></thead>\n",
       "<thead><tr><th>str10</th><th>str15</th><th>float64</th><th>float64</th><th>str29</th><th>int64</th><th>int64</th><th>float64</th><th>float64</th><th>float64</th><th>float64</th><th>float64</th><th>float64</th><th>int64</th><th>str84</th><th>str16</th><th>str3</th><th>str3</th><th>int64</th></tr></thead>\n",
       "<tr><td>14_Cyg</td><td>B9III</td><td>0.08</td><td>0.267</td><td>unobserved</td><td>4</td><td>--</td><td>--</td><td>--</td><td>5.334</td><td>5.394</td><td>5.365</td><td>5.49</td><td>0</td><td>contact binary, interesting ramp at low freq</td><td>--</td><td>--</td><td>--</td><td>7292420</td></tr>\n",
       "<tr><td>BD+36_3564</td><td>K5</td><td>--</td><td>--</td><td>unobserved</td><td>4</td><td>--</td><td>--</td><td>--</td><td>9.944</td><td>8.516</td><td>6.134</td><td>8.128</td><td>141</td><td>RG</td><td>--</td><td>--</td><td>--</td><td>1575741</td></tr>\n",
       "<tr><td>BD+39_3577</td><td>G5</td><td>--</td><td>--</td><td>unobserved</td><td>4</td><td>4870</td><td>2.513</td><td>0.057</td><td>8.819</td><td>8.062</td><td>6.636</td><td>8.131</td><td>217</td><td>RG</td><td>--</td><td>--</td><td>--</td><td>4989821</td></tr>\n",
       "<tr><td>BD+39_3882</td><td>F5</td><td>--</td><td>--</td><td>unobserved</td><td>4</td><td>6241</td><td>4.186</td><td>0.02</td><td>8.463</td><td>8.192</td><td>7.36</td><td>8.259</td><td>0</td><td>bad light curve</td><td>--</td><td>--</td><td>--</td><td>4850372</td></tr>\n",
       "<tr><td>BD+42_3150</td><td>K0</td><td>--</td><td>--</td><td>unobserved</td><td>4</td><td>4716</td><td>2.329</td><td>0.063</td><td>9.111</td><td>8.257</td><td>6.743</td><td>8.35</td><td>261</td><td>not sure</td><td>--</td><td>--</td><td>--</td><td>7091342</td></tr>\n",
       "<tr><td>BD+42_3367</td><td>M0</td><td>--</td><td>--</td><td>unobserved</td><td>4</td><td>--</td><td>--</td><td>--</td><td>9.468</td><td>7.756</td><td>4.983</td><td>7.271</td><td>269</td><td>RG: low freq</td><td>--</td><td>--</td><td>--</td><td>7447756</td></tr>\n",
       "<tr><td>BD+42_3393</td><td>K5</td><td>--</td><td>--</td><td>unobserved</td><td>4</td><td>--</td><td>--</td><td>--</td><td>9.86</td><td>8.149</td><td>5.362</td><td>7.664</td><td>139</td><td>RG: low freq</td><td>--</td><td>--</td><td>--</td><td>6870455</td></tr>\n",
       "<tr><td>BD+43_3064</td><td>K5</td><td>--</td><td>--</td><td>unobserved</td><td>3</td><td>--</td><td>--</td><td>--</td><td>10.18</td><td>8.692</td><td>6.205</td><td>8.284</td><td>0</td><td>RG</td><td>--</td><td>--</td><td>--</td><td>8075287</td></tr>\n",
       "<tr><td>BD+43_3068</td><td>G0</td><td>--</td><td>--</td><td>unobserved</td><td>4</td><td>5506</td><td>4.394</td><td>0.011</td><td>8.754</td><td>8.254</td><td>7.181</td><td>8.308</td><td>0</td><td>not good</td><td>--</td><td>--</td><td>--</td><td>8006792</td></tr>\n",
       "<tr><td>BD+43_3171</td><td>M0</td><td>--</td><td>--</td><td>unobserved</td><td>4</td><td>--</td><td>--</td><td>--</td><td>10.412</td><td>8.818</td><td>5.904</td><td>8.373</td><td>332</td><td>RG: very low freq?</td><td>--</td><td>--</td><td>--</td><td>7810954</td></tr>\n",
       "<tr><td>...</td><td>...</td><td>...</td><td>...</td><td>...</td><td>...</td><td>...</td><td>...</td><td>...</td><td>...</td><td>...</td><td>...</td><td>...</td><td>...</td><td>...</td><td>...</td><td>...</td><td>...</td><td>...</td></tr>\n",
       "<tr><td>HD_226754</td><td>K2</td><td>--</td><td>--</td><td>unobserved</td><td>2</td><td>--</td><td>--</td><td>--</td><td>9.729</td><td>8.238</td><td>5.627</td><td>7.829</td><td>--</td><td>RG: poor quality</td><td>--</td><td>--</td><td>--</td><td>6234579</td></tr>\n",
       "<tr><td>V2079_Cyg</td><td>B8V</td><td>--</td><td>--</td><td>unobserved, alpha2 Cvn</td><td>4</td><td>--</td><td>--</td><td>--</td><td>6.921</td><td>7.059</td><td>7.331</td><td>7.174</td><td>93</td><td>Classical Pulsator</td><td>--</td><td>--</td><td>--</td><td>8818020</td></tr>\n",
       "<tr><td>V2083_Cyg</td><td>A3</td><td>--</td><td>--</td><td>unobserved EB</td><td>4</td><td>--</td><td>--</td><td>--</td><td>7.143</td><td>6.884</td><td>6.317</td><td>6.902</td><td>0</td><td>EB</td><td>--</td><td>--</td><td>--</td><td>10342012</td></tr>\n",
       "<tr><td>V380_Cyg</td><td>B1.1III+B2.5/3V</td><td>1.25</td><td>0.226</td><td>LC:Q11 SC:Q7 9 10 12-17 under</td><td>4</td><td>--</td><td>--</td><td>--</td><td>5.615</td><td>5.675</td><td>5.712</td><td>5.771</td><td>122</td><td>Eclipsing_binary</td><td>--</td><td>--</td><td>--</td><td>5385723</td></tr>\n",
       "<tr><td>V398_Lyr</td><td>M3</td><td>--</td><td>--</td><td>unobserved</td><td>4</td><td>--</td><td>--</td><td>--</td><td>8.877</td><td>7.421</td><td>1.869</td><td>7.024</td><td>49</td><td>RG</td><td>--</td><td>--</td><td>--</td><td>4042516</td></tr>\n",
       "<tr><td>V543_Lyr</td><td>B3V</td><td>-0.05</td><td>--</td><td>unobserved bCep</td><td>4</td><td>--</td><td>--</td><td>--</td><td>6.037</td><td>6.182</td><td>6.477</td><td>6.299</td><td>0</td><td>Classical Pulsator</td><td>--</td><td>--</td><td>--</td><td>5429169</td></tr>\n",
       "<tr><td>V546_Lyr</td><td>M-</td><td>--</td><td>--</td><td>unobserved</td><td>4</td><td>--</td><td>--</td><td>--</td><td>9.457</td><td>7.838</td><td>4.077</td><td>7.385</td><td>82</td><td>RG: low freq</td><td>--</td><td>--</td><td>--</td><td>6267345</td></tr>\n",
       "<tr><td>V547_Lyr</td><td>M4IIIa</td><td>--</td><td>--</td><td>unobserved</td><td>4</td><td>--</td><td>--</td><td>--</td><td>8.109</td><td>6.611</td><td>2.258</td><td>6.199</td><td>48</td><td>RG: low freq</td><td>--</td><td>--</td><td>--</td><td>5429948</td></tr>\n",
       "<tr><td>V554_Lyr</td><td>0</td><td>--</td><td>--</td><td>unobserved</td><td>2</td><td>9887</td><td>4.309</td><td>0.051</td><td>7.97</td><td>8.248</td><td>8.266</td><td>8.179</td><td>0</td><td>Missing - alpha2 Cvn</td><td>--</td><td>--</td><td>--</td><td>5001462</td></tr>\n",
       "<tr><td>V819_Cyg</td><td>B0.5IIIn</td><td>--</td><td>--</td><td>LC:Q14 16 17 under</td><td>4</td><td>--</td><td>--</td><td>--</td><td>6.15</td><td>6.27</td><td>6.481</td><td>6.381</td><td>178</td><td>sharp peaks</td><td>--</td><td>--</td><td>--</td><td>10618721</td></tr>\n",
       "</table>"
      ],
      "text/plain": [
       "<Table masked=True length=102>\n",
       "   Name         SpType      [Fe/H]  theta  ... Interferometry? TRES? Kepler_ID\n",
       "  str10         str15      float64 float64 ...       str3       str3   int64  \n",
       "---------- --------------- ------- ------- ... --------------- ----- ---------\n",
       "    14_Cyg           B9III    0.08   0.267 ...              --    --   7292420\n",
       "BD+36_3564              K5      --      -- ...              --    --   1575741\n",
       "BD+39_3577              G5      --      -- ...              --    --   4989821\n",
       "BD+39_3882              F5      --      -- ...              --    --   4850372\n",
       "BD+42_3150              K0      --      -- ...              --    --   7091342\n",
       "BD+42_3367              M0      --      -- ...              --    --   7447756\n",
       "BD+42_3393              K5      --      -- ...              --    --   6870455\n",
       "BD+43_3064              K5      --      -- ...              --    --   8075287\n",
       "BD+43_3068              G0      --      -- ...              --    --   8006792\n",
       "BD+43_3171              M0      --      -- ...              --    --   7810954\n",
       "       ...             ...     ...     ... ...             ...   ...       ...\n",
       " HD_226754              K2      --      -- ...              --    --   6234579\n",
       " V2079_Cyg             B8V      --      -- ...              --    --   8818020\n",
       " V2083_Cyg              A3      --      -- ...              --    --  10342012\n",
       "  V380_Cyg B1.1III+B2.5/3V    1.25   0.226 ...              --    --   5385723\n",
       "  V398_Lyr              M3      --      -- ...              --    --   4042516\n",
       "  V543_Lyr             B3V   -0.05      -- ...              --    --   5429169\n",
       "  V546_Lyr              M-      --      -- ...              --    --   6267345\n",
       "  V547_Lyr          M4IIIa      --      -- ...              --    --   5429948\n",
       "  V554_Lyr               0      --      -- ...              --    --   5001462\n",
       "  V819_Cyg        B0.5IIIn      --      -- ...              --    --  10618721"
      ]
     },
     "execution_count": 67,
     "metadata": {},
     "output_type": "execute_result"
    }
   ],
   "source": [
    "test = join(cat,brightkep,keys='Name')\n",
    "test.sort('Name')\n",
    "test"
   ]
  },
  {
   "cell_type": "code",
   "execution_count": 42,
   "metadata": {},
   "outputs": [
    {
     "data": {
      "text/html": [
       "&lt;Table masked=True length=102&gt;\n",
       "<table id=\"table4618870608\" class=\"table-striped table-bordered table-condensed\">\n",
       "<thead><tr><th>Name</th><th>SpType</th><th>[Fe/H]</th><th>theta</th><th>Observed</th><th>Seasons</th><th>Teff</th><th>Log_G</th><th>E(B-V)</th><th>g</th><th>r</th><th>J</th><th>kepmag</th><th>Edge_Dist</th><th>Notes</th><th>Collaborators</th><th>Interferometry?</th><th>TRES?</th></tr></thead>\n",
       "<thead><tr><th>str10</th><th>str15</th><th>float64</th><th>float64</th><th>str29</th><th>int64</th><th>int64</th><th>float64</th><th>float64</th><th>float64</th><th>float64</th><th>float64</th><th>float64</th><th>int64</th><th>str84</th><th>str16</th><th>str3</th><th>str3</th></tr></thead>\n",
       "<tr><td>HD_185351</td><td>G9IIIbCN</td><td>0.16</td><td>1.156</td><td>LC:Q1-3 SC:Q16 under</td><td>4</td><td>--</td><td>--</td><td>--</td><td>6.091</td><td>5.176</td><td>3.654</td><td>5.034</td><td>59</td><td>RG: Retired A star</td><td>Hjorringgaard</td><td>--</td><td>Yes</td></tr>\n",
       "<tr><td>HD_186155</td><td>F5II-III</td><td>0.3</td><td>0.57</td><td>LC:Q1 under</td><td>4</td><td>--</td><td>--</td><td>--</td><td>5.44</td><td>5.065</td><td>4.419</td><td>5.055</td><td>66</td><td>three sharp peaks</td><td>--</td><td>--</td><td>--</td></tr>\n",
       "<tr><td>HD_175740</td><td>G8III</td><td>-0.1</td><td>1.035</td><td>unobserved</td><td>4</td><td>--</td><td>--</td><td>--</td><td>6.486</td><td>5.462</td><td>4.08</td><td>5.212</td><td>0</td><td>RG: suppressed l=1</td><td>Tim W, Guy, Cleo</td><td>Yes</td><td>Yes</td></tr>\n",
       "<tr><td>HD_184875</td><td>A2V</td><td>--</td><td>0.349</td><td>unobserved</td><td>4</td><td>--</td><td>--</td><td>--</td><td>5.399</td><td>5.337</td><td>5.128</td><td>5.403</td><td>0</td><td>Classical Pulsator</td><td>--</td><td>--</td><td>--</td></tr>\n",
       "<tr><td>14_Cyg</td><td>B9III</td><td>0.08</td><td>0.267</td><td>unobserved</td><td>4</td><td>--</td><td>--</td><td>--</td><td>5.334</td><td>5.394</td><td>5.365</td><td>5.49</td><td>0</td><td>contact binary, interesting ramp at low freq</td><td>--</td><td>--</td><td>--</td></tr>\n",
       "<tr><td>HD_189178</td><td>B5V</td><td>--</td><td>0.236</td><td>unobserved</td><td>4</td><td>--</td><td>--</td><td>--</td><td>5.356</td><td>5.448</td><td>5.595</td><td>5.552</td><td>0</td><td>Classical Pulsator</td><td>--</td><td>--</td><td>--</td></tr>\n",
       "<tr><td>HD_187372</td><td>M1III</td><td>--</td><td>2.693</td><td>unobserved</td><td>4</td><td>--</td><td>--</td><td>--</td><td>7.805</td><td>6.141</td><td>2.979</td><td>5.672</td><td>110</td><td>RG: low freq</td><td>--</td><td>--</td><td>--</td></tr>\n",
       "<tr><td>HD_182694</td><td>G7IIIa</td><td>-0.01</td><td>0.771</td><td>LC:Q2 under</td><td>4</td><td>--</td><td>--</td><td>--</td><td>6.76</td><td>5.86</td><td>4.437</td><td>5.722</td><td>137</td><td>RG</td><td>Tim W</td><td>Yes</td><td>--</td></tr>\n",
       "<tr><td>V380_Cyg</td><td>B1.1III+B2.5/3V</td><td>1.25</td><td>0.226</td><td>LC:Q11 SC:Q7 9 10 12-17 under</td><td>4</td><td>--</td><td>--</td><td>--</td><td>5.615</td><td>5.675</td><td>5.712</td><td>5.771</td><td>122</td><td>Eclipsing_binary</td><td>--</td><td>--</td><td>--</td></tr>\n",
       "<tr><td>HD_186121</td><td>M2III</td><td>--</td><td>3.429</td><td>unobserved</td><td>4</td><td>--</td><td>--</td><td>--</td><td>7.735</td><td>6.198</td><td>2.561</td><td>5.773</td><td>44</td><td>RG: low freq</td><td>--</td><td>--</td><td>--</td></tr>\n",
       "<tr><td>...</td><td>...</td><td>...</td><td>...</td><td>...</td><td>...</td><td>...</td><td>...</td><td>...</td><td>...</td><td>...</td><td>...</td><td>...</td><td>...</td><td>...</td><td>...</td><td>...</td><td>...</td></tr>\n",
       "<tr><td>V554_Lyr</td><td>0</td><td>--</td><td>--</td><td>unobserved</td><td>2</td><td>9887</td><td>4.309</td><td>0.051</td><td>7.97</td><td>8.248</td><td>8.266</td><td>8.179</td><td>0</td><td>Missing - alpha2 Cvn</td><td>--</td><td>--</td><td>--</td></tr>\n",
       "<tr><td>BD+47_2825</td><td>K0</td><td>--</td><td>--</td><td>unobserved</td><td>4</td><td>--</td><td>--</td><td>--</td><td>9.75</td><td>8.558</td><td>6.503</td><td>8.251</td><td>162</td><td>Not sure - classical?</td><td>--</td><td>--</td><td>--</td></tr>\n",
       "<tr><td>BD+39_3882</td><td>F5</td><td>--</td><td>--</td><td>unobserved</td><td>4</td><td>6241</td><td>4.186</td><td>0.02</td><td>8.463</td><td>8.192</td><td>7.36</td><td>8.259</td><td>0</td><td>bad light curve</td><td>--</td><td>--</td><td>--</td></tr>\n",
       "<tr><td>BD+43_3064</td><td>K5</td><td>--</td><td>--</td><td>unobserved</td><td>3</td><td>--</td><td>--</td><td>--</td><td>10.18</td><td>8.692</td><td>6.205</td><td>8.284</td><td>0</td><td>RG</td><td>--</td><td>--</td><td>--</td></tr>\n",
       "<tr><td>BD+43_3068</td><td>G0</td><td>--</td><td>--</td><td>unobserved</td><td>4</td><td>5506</td><td>4.394</td><td>0.011</td><td>8.754</td><td>8.254</td><td>7.181</td><td>8.308</td><td>0</td><td>not good</td><td>--</td><td>--</td><td>--</td></tr>\n",
       "<tr><td>BD+43_3213</td><td>K5</td><td>--</td><td>--</td><td>unobserved</td><td>4</td><td>--</td><td>--</td><td>--</td><td>10.425</td><td>8.775</td><td>5.821</td><td>8.311</td><td>127</td><td>RG: low freq</td><td>--</td><td>--</td><td>--</td></tr>\n",
       "<tr><td>BD+42_3150</td><td>K0</td><td>--</td><td>--</td><td>unobserved</td><td>4</td><td>4716</td><td>2.329</td><td>0.063</td><td>9.111</td><td>8.257</td><td>6.743</td><td>8.35</td><td>261</td><td>not sure</td><td>--</td><td>--</td><td>--</td></tr>\n",
       "<tr><td>BD+43_3171</td><td>M0</td><td>--</td><td>--</td><td>unobserved</td><td>4</td><td>--</td><td>--</td><td>--</td><td>10.412</td><td>8.818</td><td>5.904</td><td>8.373</td><td>332</td><td>RG: very low freq?</td><td>--</td><td>--</td><td>--</td></tr>\n",
       "<tr><td>BD+48_2904</td><td>K0</td><td>--</td><td>--</td><td>unobserved</td><td>4</td><td>4529</td><td>2.014</td><td>0.083</td><td>9.364</td><td>8.42</td><td>6.692</td><td>8.487</td><td>0</td><td>nothing</td><td>--</td><td>--</td><td>--</td></tr>\n",
       "<tr><td>BD+47_2891</td><td>K0</td><td>--</td><td>--</td><td>unobserved</td><td>2</td><td>--</td><td>--</td><td>--</td><td>10.081</td><td>8.962</td><td>6.99</td><td>8.68</td><td>--</td><td>nothing</td><td>--</td><td>--</td><td>--</td></tr>\n",
       "</table>"
      ],
      "text/plain": [
       "<Table masked=True length=102>\n",
       "   Name         SpType      [Fe/H] ...  Collaborators   Interferometry? TRES?\n",
       "  str10         str15      float64 ...      str16             str3       str3\n",
       "---------- --------------- ------- ... ---------------- --------------- -----\n",
       " HD_185351        G9IIIbCN    0.16 ...    Hjorringgaard              --   Yes\n",
       " HD_186155        F5II-III     0.3 ...               --              --    --\n",
       " HD_175740           G8III    -0.1 ... Tim W, Guy, Cleo             Yes   Yes\n",
       " HD_184875             A2V      -- ...               --              --    --\n",
       "    14_Cyg           B9III    0.08 ...               --              --    --\n",
       " HD_189178             B5V      -- ...               --              --    --\n",
       " HD_187372           M1III      -- ...               --              --    --\n",
       " HD_182694          G7IIIa   -0.01 ...            Tim W             Yes    --\n",
       "  V380_Cyg B1.1III+B2.5/3V    1.25 ...               --              --    --\n",
       " HD_186121           M2III      -- ...               --              --    --\n",
       "       ...             ...     ... ...              ...             ...   ...\n",
       "  V554_Lyr               0      -- ...               --              --    --\n",
       "BD+47_2825              K0      -- ...               --              --    --\n",
       "BD+39_3882              F5      -- ...               --              --    --\n",
       "BD+43_3064              K5      -- ...               --              --    --\n",
       "BD+43_3068              G0      -- ...               --              --    --\n",
       "BD+43_3213              K5      -- ...               --              --    --\n",
       "BD+42_3150              K0      -- ...               --              --    --\n",
       "BD+43_3171              M0      -- ...               --              --    --\n",
       "BD+48_2904              K0      -- ...               --              --    --\n",
       "BD+47_2891              K0      -- ...               --              --    --"
      ]
     },
     "execution_count": 42,
     "metadata": {},
     "output_type": "execute_result"
    }
   ],
   "source": [
    "cat"
   ]
  },
  {
   "cell_type": "code",
   "execution_count": 97,
   "metadata": {},
   "outputs": [],
   "source": [
    "pdcat, pdbr = cat.to_pandas(), brightkep.to_pandas()"
   ]
  },
  {
   "cell_type": "code",
   "execution_count": 99,
   "metadata": {},
   "outputs": [],
   "source": [
    "# pdcat.join(pdbr,on='Name')"
   ]
  },
  {
   "cell_type": "markdown",
   "metadata": {},
   "source": [
    "### find missing files"
   ]
  },
  {
   "cell_type": "code",
   "execution_count": 103,
   "metadata": {},
   "outputs": [],
   "source": [
    "import glob\n",
    "filenames = (glob.glob(\"../data/lcs/*.csv\"))\n"
   ]
  },
  {
   "cell_type": "code",
   "execution_count": 104,
   "metadata": {},
   "outputs": [
    {
     "name": "stdout",
     "output_type": "stream",
     "text": [
      "['../data/lcs/V543_Lyr_smear_combined.csv']\n"
     ]
    }
   ],
   "source": [
    "test = glob.glob(\"../data/lcs/V543_Lyr_smear_combined.csv\")\n",
    "print test"
   ]
  },
  {
   "cell_type": "code",
   "execution_count": 109,
   "metadata": {},
   "outputs": [],
   "source": [
    "for name in cat['Name']:\n",
    "    test = glob.glob(\"../data/lcs/%s_smear_combined.csv\" % name)\n",
    "#     print name, test"
   ]
  },
  {
   "cell_type": "code",
   "execution_count": 108,
   "metadata": {},
   "outputs": [],
   "source": [
    "# brightkep['Kepler_ID'].pprint(max_lines=230)"
   ]
  },
  {
   "cell_type": "code",
   "execution_count": 107,
   "metadata": {},
   "outputs": [
    {
     "name": "stdout",
     "output_type": "stream",
     "text": [
      "0\n"
     ]
    }
   ],
   "source": [
    "names_in = []\n",
    "for name in cat['Name']:\n",
    "    if name not in brightkep['Name']:\n",
    "        print name\n",
    "        names_in.append(name)\n",
    "        \n",
    "print len(names_in)"
   ]
  },
  {
   "cell_type": "code",
   "execution_count": 110,
   "metadata": {},
   "outputs": [],
   "source": [
    "# brightkep['Name'].pprint(max_lines=230)"
   ]
  },
  {
   "cell_type": "markdown",
   "metadata": {},
   "source": [
    "###  Load stellar variability classes"
   ]
  },
  {
   "cell_type": "code",
   "execution_count": 139,
   "metadata": {},
   "outputs": [],
   "source": [
    "var = Table.read('../data/variability.csv')"
   ]
  },
  {
   "cell_type": "code",
   "execution_count": 140,
   "metadata": {},
   "outputs": [],
   "source": [
    "for name in cat['Name']:\n",
    "    if name not in var['Name']:\n",
    "        print name"
   ]
  },
  {
   "cell_type": "code",
   "execution_count": 141,
   "metadata": {},
   "outputs": [
    {
     "data": {
      "text/html": [
       "&lt;Table masked=True length=1&gt;\n",
       "<table id=\"table5115804176\" class=\"table-striped table-bordered table-condensed\">\n",
       "<thead><tr><th>Name</th><th>SpType</th><th>[Fe/H]</th><th>theta</th><th>Observed</th><th>Seasons</th><th>Teff</th><th>Log_G</th><th>E(B-V)</th><th>g</th><th>r</th><th>J</th><th>kepmag</th><th>Edge_Dist</th><th>Notes</th><th>Collaborators</th><th>Interferometry?</th><th>TRES?</th><th>Kepler_ID</th><th>source_id</th><th>ra</th><th>dec</th><th>phot_g_mean_mag</th><th>r_est</th><th>r_lo</th><th>r_hi</th></tr></thead>\n",
       "<thead><tr><th>str10</th><th>str16</th><th>float64</th><th>float64</th><th>str29</th><th>int64</th><th>int64</th><th>float64</th><th>float64</th><th>float64</th><th>float64</th><th>float64</th><th>float64</th><th>int64</th><th>str84</th><th>str16</th><th>str3</th><th>str3</th><th>int64</th><th>int64</th><th>float64</th><th>float64</th><th>float64</th><th>float64</th><th>float64</th><th>float64</th></tr></thead>\n",
       "<tr><td>BD+42_3150</td><td>B9III</td><td>--</td><td>--</td><td>unobserved</td><td>4</td><td>4716</td><td>2.329</td><td>0.063</td><td>9.111</td><td>8.257</td><td>6.743</td><td>8.35</td><td>261</td><td>not sure</td><td>--</td><td>--</td><td>--</td><td>7091342</td><td>2116742544137540608</td><td>281.25257984212334</td><td>42.6436414279837</td><td>8.31532</td><td>545.954282342101</td><td>516.819773786676</td><td>578.502581535217</td></tr>\n",
       "</table>"
      ],
      "text/plain": [
       "<Table masked=True length=1>\n",
       "   Name    SpType  [Fe/H] ...      r_est             r_lo             r_hi      \n",
       "  str10    str16  float64 ...     float64          float64          float64     \n",
       "---------- ------ ------- ... ---------------- ---------------- ----------------\n",
       "BD+42_3150  B9III      -- ... 545.954282342101 516.819773786676 578.502581535217"
      ]
     },
     "execution_count": 141,
     "metadata": {},
     "output_type": "execute_result"
    }
   ],
   "source": [
    "newcat[newcat['Name']=='BD+42_3150']"
   ]
  },
  {
   "cell_type": "code",
   "execution_count": 142,
   "metadata": {},
   "outputs": [
    {
     "data": {
      "text/html": [
       "&lt;MaskedColumn name=&apos;Name&apos; dtype=&apos;str10&apos; length=102&gt;\n",
       "<table>\n",
       "<tr><td>HD_185351</td></tr>\n",
       "<tr><td>HD_186155</td></tr>\n",
       "<tr><td>HD_175740</td></tr>\n",
       "<tr><td>HD_184875</td></tr>\n",
       "<tr><td>14_Cyg</td></tr>\n",
       "<tr><td>HD_189178</td></tr>\n",
       "<tr><td>HD_187372</td></tr>\n",
       "<tr><td>HD_182694</td></tr>\n",
       "<tr><td>V380_Cyg</td></tr>\n",
       "<tr><td>HD_186121</td></tr>\n",
       "<tr><td>HD_189684</td></tr>\n",
       "<tr><td>HD_188252</td></tr>\n",
       "<tr><td>...</td></tr>\n",
       "<tr><td>BD+36_3564</td></tr>\n",
       "<tr><td>BD+39_3577</td></tr>\n",
       "<tr><td>V554_Lyr</td></tr>\n",
       "<tr><td>BD+47_2825</td></tr>\n",
       "<tr><td>BD+39_3882</td></tr>\n",
       "<tr><td>BD+43_3064</td></tr>\n",
       "<tr><td>BD+43_3068</td></tr>\n",
       "<tr><td>BD+43_3213</td></tr>\n",
       "<tr><td>BD+42_3150</td></tr>\n",
       "<tr><td>BD+43_3171</td></tr>\n",
       "<tr><td>BD+48_2904</td></tr>\n",
       "<tr><td>BD+47_2891</td></tr>\n",
       "</table>"
      ],
      "text/plain": [
       "<MaskedColumn name='Name' dtype='str10' length=102>\n",
       " HD_185351\n",
       " HD_186155\n",
       " HD_175740\n",
       " HD_184875\n",
       "    14_Cyg\n",
       " HD_189178\n",
       " HD_187372\n",
       " HD_182694\n",
       "  V380_Cyg\n",
       " HD_186121\n",
       " HD_189684\n",
       " HD_188252\n",
       "       ...\n",
       "BD+36_3564\n",
       "BD+39_3577\n",
       "  V554_Lyr\n",
       "BD+47_2825\n",
       "BD+39_3882\n",
       "BD+43_3064\n",
       "BD+43_3068\n",
       "BD+43_3213\n",
       "BD+42_3150\n",
       "BD+43_3171\n",
       "BD+48_2904\n",
       "BD+47_2891"
      ]
     },
     "execution_count": 142,
     "metadata": {},
     "output_type": "execute_result"
    }
   ],
   "source": []
  },
  {
   "cell_type": "markdown",
   "metadata": {},
   "source": [
    "## Apogee"
   ]
  },
  {
   "cell_type": "code",
   "execution_count": 210,
   "metadata": {},
   "outputs": [],
   "source": [
    "fname_apogee = '../data/Pope_APOGEEDR14.fits'\n",
    "apogee = Table.read(fname_apogee)"
   ]
  },
  {
   "cell_type": "code",
   "execution_count": 235,
   "metadata": {},
   "outputs": [],
   "source": [
    "for j, name in enumerate(apogee['Name']):\n",
    "    apogee['Name'][j] = name.replace(' ','')\n",
    "apogee['Object']=apogee['Name']\n"
   ]
  },
  {
   "cell_type": "code",
   "execution_count": 239,
   "metadata": {},
   "outputs": [
    {
     "data": {
      "text/html": [
       "&lt;Column name=&apos;Object&apos; dtype=&apos;str10&apos; length=8&gt;\n",
       "<table>\n",
       "<tr><td>HD_175884</td></tr>\n",
       "<tr><td>HD_180312</td></tr>\n",
       "<tr><td>HD_180312</td></tr>\n",
       "<tr><td>HD_180475</td></tr>\n",
       "<tr><td>HD_181069</td></tr>\n",
       "<tr><td>HD_181778</td></tr>\n",
       "<tr><td>HD_182531</td></tr>\n",
       "<tr><td>HD_226754</td></tr>\n",
       "</table>"
      ],
      "text/plain": [
       "<Column name='Object' dtype='str10' length=8>\n",
       "HD_175884\n",
       "HD_180312\n",
       "HD_180312\n",
       "HD_180475\n",
       "HD_181069\n",
       "HD_181778\n",
       "HD_182531\n",
       "HD_226754"
      ]
     },
     "execution_count": 239,
     "metadata": {},
     "output_type": "execute_result"
    }
   ],
   "source": [
    "apogee_seismic = join(apogee,astero_logg,keys='Object')\n",
    "apogee_seismic['Object']"
   ]
  },
  {
   "cell_type": "code",
   "execution_count": 250,
   "metadata": {},
   "outputs": [
    {
     "data": {
      "text/html": [
       "&lt;Table length=8&gt;\n",
       "<table id=\"table4804930320\" class=\"table-striped table-bordered table-condensed\">\n",
       "<thead><tr><th>Name</th><th>X_H [26]</th></tr></thead>\n",
       "<thead><tr><th>str10</th><th>float32</th></tr></thead>\n",
       "<tr><td>HD_175884</td><td>-9999.0 .. -9999.0</td></tr>\n",
       "<tr><td>HD_180312</td><td>-9999.0 .. -9999.0</td></tr>\n",
       "<tr><td>HD_180312</td><td>-9999.0 .. -9999.0</td></tr>\n",
       "<tr><td>HD_180475</td><td>-9999.0 .. -9999.0</td></tr>\n",
       "<tr><td>HD_181069</td><td>-9999.0 .. -9999.0</td></tr>\n",
       "<tr><td>HD_181778</td><td>-9999.0 .. -9999.0</td></tr>\n",
       "<tr><td>HD_182531</td><td>-9999.0 .. -9999.0</td></tr>\n",
       "<tr><td>HD_226754</td><td>-9999.0 .. -9999.0</td></tr>\n",
       "</table>"
      ],
      "text/plain": [
       "<Table length=8>\n",
       "   Name        X_H [26]     \n",
       "  str10        float32      \n",
       "--------- ------------------\n",
       "HD_175884 -9999.0 .. -9999.0\n",
       "HD_180312 -9999.0 .. -9999.0\n",
       "HD_180312 -9999.0 .. -9999.0\n",
       "HD_180475 -9999.0 .. -9999.0\n",
       "HD_181069 -9999.0 .. -9999.0\n",
       "HD_181778 -9999.0 .. -9999.0\n",
       "HD_182531 -9999.0 .. -9999.0\n",
       "HD_226754 -9999.0 .. -9999.0"
      ]
     },
     "execution_count": 250,
     "metadata": {},
     "output_type": "execute_result"
    }
   ],
   "source": [
    "apogee_seismic['Name','X_H']"
   ]
  },
  {
   "cell_type": "code",
   "execution_count": 249,
   "metadata": {},
   "outputs": [
    {
     "data": {
      "text/plain": [
       "['Name',\n",
       " 'ra_1',\n",
       " 'dec_1',\n",
       " 'APSTAR_ID',\n",
       " 'TARGET_ID',\n",
       " 'ASPCAP_ID',\n",
       " 'FILE',\n",
       " 'APOGEE_ID',\n",
       " 'TELESCOPE',\n",
       " 'LOCATION_ID',\n",
       " 'FIELD',\n",
       " 'J',\n",
       " 'J_ERR',\n",
       " 'H',\n",
       " 'H_ERR',\n",
       " 'K',\n",
       " 'K_ERR',\n",
       " 'RA_2',\n",
       " 'DEC_2',\n",
       " 'GLON',\n",
       " 'GLAT',\n",
       " 'APOGEE_TARGET1',\n",
       " 'APOGEE_TARGET2',\n",
       " 'APOGEE_TARGET3',\n",
       " 'TARGFLAGS',\n",
       " 'SURVEY',\n",
       " 'NINST',\n",
       " 'NVISITS',\n",
       " 'COMBTYPE',\n",
       " 'COMMISS',\n",
       " 'SNR',\n",
       " 'STARFLAG',\n",
       " 'STARFLAGS',\n",
       " 'ANDFLAG',\n",
       " 'ANDFLAGS',\n",
       " 'VHELIO_AVG',\n",
       " 'VSCATTER',\n",
       " 'VERR',\n",
       " 'VERR_MED',\n",
       " 'OBSVHELIO_AVG',\n",
       " 'OBSVSCATTER',\n",
       " 'OBSVERR',\n",
       " 'OBSVERR_MED',\n",
       " 'SYNTHVHELIO_AVG',\n",
       " 'SYNTHVSCATTER',\n",
       " 'SYNTHVERR',\n",
       " 'SYNTHVERR_MED',\n",
       " 'RV_TEFF',\n",
       " 'RV_LOGG',\n",
       " 'RV_FEH',\n",
       " 'RV_ALPHA',\n",
       " 'RV_CARB',\n",
       " 'RV_CCFWHM',\n",
       " 'RV_AUTOFWHM',\n",
       " 'SYNTHSCATTER',\n",
       " 'STABLERV_CHI2',\n",
       " 'STABLERV_RCHI2',\n",
       " 'CHI2_THRESHOLD',\n",
       " 'STABLERV_CHI2_PROB',\n",
       " 'APOGEE2_TARGET1',\n",
       " 'APOGEE2_TARGET2',\n",
       " 'APOGEE2_TARGET3',\n",
       " 'MEANFIB',\n",
       " 'SIGFIB',\n",
       " 'SNREV',\n",
       " 'APSTAR_VERSION',\n",
       " 'ASPCAP_VERSION',\n",
       " 'RESULTS_VERSION',\n",
       " 'EXTRATARG',\n",
       " 'MIN_H',\n",
       " 'MAX_H',\n",
       " 'MIN_JK',\n",
       " 'MAX_JK',\n",
       " 'PARAM',\n",
       " 'FPARAM',\n",
       " 'PARAM_COV',\n",
       " 'FPARAM_COV',\n",
       " 'TEFF',\n",
       " 'TEFF_ERR',\n",
       " 'LOGG',\n",
       " 'LOGG_ERR',\n",
       " 'VMICRO',\n",
       " 'VMACRO',\n",
       " 'VSINI',\n",
       " 'M_H',\n",
       " 'M_H_ERR',\n",
       " 'ALPHA_M',\n",
       " 'ALPHA_M_ERR',\n",
       " 'ASPCAP_CHI2',\n",
       " 'ASPCAP_CLASS',\n",
       " 'ASPCAPFLAG',\n",
       " 'ASPCAPFLAGS',\n",
       " 'PARAMFLAG',\n",
       " 'FELEM',\n",
       " 'FELEM_ERR',\n",
       " 'X_H',\n",
       " 'X_H_ERR',\n",
       " 'X_M',\n",
       " 'X_M_ERR',\n",
       " 'C_FE',\n",
       " 'CI_FE',\n",
       " 'N_FE',\n",
       " 'O_FE',\n",
       " 'NA_FE',\n",
       " 'MG_FE',\n",
       " 'AL_FE',\n",
       " 'SI_FE',\n",
       " 'P_FE',\n",
       " 'S_FE',\n",
       " 'K_FE',\n",
       " 'CA_FE',\n",
       " 'TI_FE',\n",
       " 'TIII_FE',\n",
       " 'V_FE',\n",
       " 'CR_FE',\n",
       " 'MN_FE',\n",
       " 'FE_H',\n",
       " 'CO_FE',\n",
       " 'NI_FE',\n",
       " 'CU_FE',\n",
       " 'GE_FE',\n",
       " 'RB_FE',\n",
       " 'Y_FE',\n",
       " 'ND_FE',\n",
       " 'C_FE_ERR',\n",
       " 'CI_FE_ERR',\n",
       " 'N_FE_ERR',\n",
       " 'O_FE_ERR',\n",
       " 'NA_FE_ERR',\n",
       " 'MG_FE_ERR',\n",
       " 'AL_FE_ERR',\n",
       " 'SI_FE_ERR',\n",
       " 'P_FE_ERR',\n",
       " 'S_FE_ERR',\n",
       " 'K_FE_ERR',\n",
       " 'CA_FE_ERR',\n",
       " 'TI_FE_ERR',\n",
       " 'TIII_FE_ERR',\n",
       " 'V_FE_ERR',\n",
       " 'CR_FE_ERR',\n",
       " 'MN_FE_ERR',\n",
       " 'FE_H_ERR',\n",
       " 'CO_FE_ERR',\n",
       " 'NI_FE_ERR',\n",
       " 'CU_FE_ERR',\n",
       " 'GE_FE_ERR',\n",
       " 'RB_FE_ERR',\n",
       " 'Y_FE_ERR',\n",
       " 'ND_FE_ERR',\n",
       " 'C_FE_FLAG',\n",
       " 'CI_FE_FLAG',\n",
       " 'N_FE_FLAG',\n",
       " 'O_FE_FLAG',\n",
       " 'NA_FE_FLAG',\n",
       " 'MG_FE_FLAG',\n",
       " 'AL_FE_FLAG',\n",
       " 'SI_FE_FLAG',\n",
       " 'P_FE_FLAG',\n",
       " 'S_FE_FLAG',\n",
       " 'K_FE_FLAG',\n",
       " 'CA_FE_FLAG',\n",
       " 'TI_FE_FLAG',\n",
       " 'TIII_FE_FLAG',\n",
       " 'V_FE_FLAG',\n",
       " 'CR_FE_FLAG',\n",
       " 'MN_FE_FLAG',\n",
       " 'FE_H_FLAG',\n",
       " 'CO_FE_FLAG',\n",
       " 'NI_FE_FLAG',\n",
       " 'CU_FE_FLAG',\n",
       " 'GE_FE_FLAG',\n",
       " 'RB_FE_FLAG',\n",
       " 'Y_FE_FLAG',\n",
       " 'ND_FE_FLAG',\n",
       " 'ELEM_CHI2',\n",
       " 'ELEMFLAG',\n",
       " 'REDUCTION_ID',\n",
       " 'SRC_H',\n",
       " 'WASH_M',\n",
       " 'WASH_M_ERR',\n",
       " 'WASH_T2',\n",
       " 'WASH_T2_ERR',\n",
       " 'DDO51',\n",
       " 'DDO51_ERR',\n",
       " 'IRAC_3_6',\n",
       " 'IRAC_3_6_ERR',\n",
       " 'IRAC_4_5',\n",
       " 'IRAC_4_5_ERR',\n",
       " 'IRAC_5_8',\n",
       " 'IRAC_5_8_ERR',\n",
       " 'IRAC_8_0',\n",
       " 'IRAC_8_0_ERR',\n",
       " 'WISE_4_5',\n",
       " 'WISE_4_5_ERR',\n",
       " 'TARG_4_5',\n",
       " 'TARG_4_5_ERR',\n",
       " 'AK_TARG',\n",
       " 'AK_TARG_METHOD',\n",
       " 'AK_WISE',\n",
       " 'SFD_EBV',\n",
       " 'WASH_DDO51_GIANT_FLAG',\n",
       " 'WASH_DDO51_STAR_FLAG',\n",
       " 'PMRA',\n",
       " 'PMDEC',\n",
       " 'PM_SRC',\n",
       " 'ALL_VISITS',\n",
       " 'VISITS',\n",
       " 'ALL_VISIT_PK',\n",
       " 'VISIT_PK',\n",
       " 'FPARAM_CLASS',\n",
       " 'CHI2_CLASS',\n",
       " 'Separation',\n",
       " 'Object',\n",
       " 'log_g_err',\n",
       " 'numax_err',\n",
       " 'numax',\n",
       " 'log_g']"
      ]
     },
     "execution_count": 249,
     "metadata": {},
     "output_type": "execute_result"
    }
   ],
   "source": [
    "apogee_seismic.keys()"
   ]
  },
  {
   "cell_type": "code",
   "execution_count": 232,
   "metadata": {},
   "outputs": [],
   "source": [
    "apogee_var = join(apogee,var,keys='Name')"
   ]
  },
  {
   "cell_type": "code",
   "execution_count": 233,
   "metadata": {},
   "outputs": [
    {
     "data": {
      "text/html": [
       "&lt;Table length=23&gt;\n",
       "<table id=\"table4810186064\" class=\"table-striped table-bordered table-condensed\">\n",
       "<thead><tr><th>Name</th><th>Class</th></tr></thead>\n",
       "<thead><tr><th>str10</th><th>str12</th></tr></thead>\n",
       "<tr><td>BD+42_3150</td><td>?</td></tr>\n",
       "<tr><td>BD+42_3367</td><td>LPV</td></tr>\n",
       "<tr><td>BD+43_3068</td><td>-</td></tr>\n",
       "<tr><td>BD+48_2904</td><td>RG</td></tr>\n",
       "<tr><td>HD_175466</td><td>LPV</td></tr>\n",
       "<tr><td>HD_175841</td><td>GD/DS Hybrid</td></tr>\n",
       "<tr><td>HD_175884</td><td>RG</td></tr>\n",
       "<tr><td>HD_178090</td><td>LPV</td></tr>\n",
       "<tr><td>HD_179395</td><td>EV</td></tr>\n",
       "<tr><td>HD_180312</td><td>RG</td></tr>\n",
       "<tr><td>...</td><td>...</td></tr>\n",
       "<tr><td>HD_181778</td><td>RG</td></tr>\n",
       "<tr><td>HD_182354</td><td>RG</td></tr>\n",
       "<tr><td>HD_182531</td><td>RG</td></tr>\n",
       "<tr><td>HD_183203</td><td>LPV</td></tr>\n",
       "<tr><td>HD_184147</td><td>EV</td></tr>\n",
       "<tr><td>HD_184787</td><td>Hump &amp; Spike</td></tr>\n",
       "<tr><td>HD_184788</td><td>?</td></tr>\n",
       "<tr><td>HD_184875</td><td>EV</td></tr>\n",
       "<tr><td>HD_185117</td><td>LPV</td></tr>\n",
       "<tr><td>HD_226754</td><td>RG</td></tr>\n",
       "</table>"
      ],
      "text/plain": [
       "<Table length=23>\n",
       "   Name       Class    \n",
       "  str10       str12    \n",
       "---------- ------------\n",
       "BD+42_3150            ?\n",
       "BD+42_3367          LPV\n",
       "BD+43_3068            -\n",
       "BD+48_2904           RG\n",
       " HD_175466          LPV\n",
       " HD_175841 GD/DS Hybrid\n",
       " HD_175884           RG\n",
       " HD_178090          LPV\n",
       " HD_179395           EV\n",
       " HD_180312           RG\n",
       "       ...          ...\n",
       " HD_181778           RG\n",
       " HD_182354           RG\n",
       " HD_182531           RG\n",
       " HD_183203          LPV\n",
       " HD_184147           EV\n",
       " HD_184787 Hump & Spike\n",
       " HD_184788            ?\n",
       " HD_184875           EV\n",
       " HD_185117          LPV\n",
       " HD_226754           RG"
      ]
     },
     "execution_count": 233,
     "metadata": {},
     "output_type": "execute_result"
    }
   ],
   "source": [
    "apogee_var['Name','Class']"
   ]
  },
  {
   "cell_type": "code",
   "execution_count": 237,
   "metadata": {},
   "outputs": [
    {
     "data": {
      "text/html": [
       "&lt;Table length=8&gt;\n",
       "<table id=\"table4804929936\" class=\"table-striped table-bordered table-condensed\">\n",
       "<thead><tr><th>Name</th><th>ra_1</th><th>dec_1</th><th>APSTAR_ID</th><th>TARGET_ID</th><th>ASPCAP_ID</th><th>FILE</th><th>APOGEE_ID</th><th>TELESCOPE</th><th>LOCATION_ID</th><th>FIELD</th><th>J</th><th>J_ERR</th><th>H</th><th>H_ERR</th><th>K</th><th>K_ERR</th><th>RA_2</th><th>DEC_2</th><th>GLON</th><th>GLAT</th><th>APOGEE_TARGET1</th><th>APOGEE_TARGET2</th><th>APOGEE_TARGET3</th><th>TARGFLAGS</th><th>SURVEY</th><th>NINST [3]</th><th>NVISITS</th><th>COMBTYPE</th><th>COMMISS</th><th>SNR</th><th>STARFLAG</th><th>STARFLAGS</th><th>ANDFLAG</th><th>ANDFLAGS</th><th>VHELIO_AVG</th><th>VSCATTER</th><th>VERR</th><th>VERR_MED</th><th>OBSVHELIO_AVG</th><th>OBSVSCATTER</th><th>OBSVERR</th><th>OBSVERR_MED</th><th>SYNTHVHELIO_AVG</th><th>SYNTHVSCATTER</th><th>SYNTHVERR</th><th>SYNTHVERR_MED</th><th>RV_TEFF</th><th>RV_LOGG</th><th>RV_FEH</th><th>RV_ALPHA</th><th>RV_CARB</th><th>RV_CCFWHM</th><th>RV_AUTOFWHM</th><th>SYNTHSCATTER</th><th>STABLERV_CHI2 [2]</th><th>STABLERV_RCHI2 [2]</th><th>CHI2_THRESHOLD [2]</th><th>STABLERV_CHI2_PROB [2]</th><th>APOGEE2_TARGET1</th><th>APOGEE2_TARGET2</th><th>APOGEE2_TARGET3</th><th>MEANFIB</th><th>SIGFIB</th><th>SNREV</th><th>APSTAR_VERSION</th><th>ASPCAP_VERSION</th><th>RESULTS_VERSION</th><th>EXTRATARG</th><th>MIN_H</th><th>MAX_H</th><th>MIN_JK</th><th>MAX_JK</th><th>PARAM [9]</th><th>FPARAM [9]</th><th>PARAM_COV [81]</th><th>FPARAM_COV [81]</th><th>TEFF</th><th>TEFF_ERR</th><th>LOGG</th><th>LOGG_ERR</th><th>VMICRO</th><th>VMACRO</th><th>VSINI</th><th>M_H</th><th>M_H_ERR</th><th>ALPHA_M</th><th>ALPHA_M_ERR</th><th>ASPCAP_CHI2</th><th>ASPCAP_CLASS</th><th>ASPCAPFLAG</th><th>ASPCAPFLAGS</th><th>PARAMFLAG [9]</th><th>FELEM [26]</th><th>FELEM_ERR [26]</th><th>X_H [26]</th><th>X_H_ERR [26]</th><th>X_M [26]</th><th>X_M_ERR [26]</th><th>C_FE</th><th>CI_FE</th><th>N_FE</th><th>O_FE</th><th>NA_FE</th><th>MG_FE</th><th>AL_FE</th><th>SI_FE</th><th>P_FE</th><th>S_FE</th><th>K_FE</th><th>CA_FE</th><th>TI_FE</th><th>TIII_FE</th><th>V_FE</th><th>CR_FE</th><th>MN_FE</th><th>FE_H</th><th>CO_FE</th><th>NI_FE</th><th>CU_FE</th><th>GE_FE</th><th>RB_FE</th><th>Y_FE</th><th>ND_FE</th><th>C_FE_ERR</th><th>CI_FE_ERR</th><th>N_FE_ERR</th><th>O_FE_ERR</th><th>NA_FE_ERR</th><th>MG_FE_ERR</th><th>AL_FE_ERR</th><th>SI_FE_ERR</th><th>P_FE_ERR</th><th>S_FE_ERR</th><th>K_FE_ERR</th><th>CA_FE_ERR</th><th>TI_FE_ERR</th><th>TIII_FE_ERR</th><th>V_FE_ERR</th><th>CR_FE_ERR</th><th>MN_FE_ERR</th><th>FE_H_ERR</th><th>CO_FE_ERR</th><th>NI_FE_ERR</th><th>CU_FE_ERR</th><th>GE_FE_ERR</th><th>RB_FE_ERR</th><th>Y_FE_ERR</th><th>ND_FE_ERR</th><th>C_FE_FLAG</th><th>CI_FE_FLAG</th><th>N_FE_FLAG</th><th>O_FE_FLAG</th><th>NA_FE_FLAG</th><th>MG_FE_FLAG</th><th>AL_FE_FLAG</th><th>SI_FE_FLAG</th><th>P_FE_FLAG</th><th>S_FE_FLAG</th><th>K_FE_FLAG</th><th>CA_FE_FLAG</th><th>TI_FE_FLAG</th><th>TIII_FE_FLAG</th><th>V_FE_FLAG</th><th>CR_FE_FLAG</th><th>MN_FE_FLAG</th><th>FE_H_FLAG</th><th>CO_FE_FLAG</th><th>NI_FE_FLAG</th><th>CU_FE_FLAG</th><th>GE_FE_FLAG</th><th>RB_FE_FLAG</th><th>Y_FE_FLAG</th><th>ND_FE_FLAG</th><th>ELEM_CHI2 [26]</th><th>ELEMFLAG [26]</th><th>REDUCTION_ID</th><th>SRC_H</th><th>WASH_M</th><th>WASH_M_ERR</th><th>WASH_T2</th><th>WASH_T2_ERR</th><th>DDO51</th><th>DDO51_ERR</th><th>IRAC_3_6</th><th>IRAC_3_6_ERR</th><th>IRAC_4_5</th><th>IRAC_4_5_ERR</th><th>IRAC_5_8</th><th>IRAC_5_8_ERR</th><th>IRAC_8_0</th><th>IRAC_8_0_ERR</th><th>WISE_4_5</th><th>WISE_4_5_ERR</th><th>TARG_4_5</th><th>TARG_4_5_ERR</th><th>AK_TARG</th><th>AK_TARG_METHOD</th><th>AK_WISE</th><th>SFD_EBV</th><th>WASH_DDO51_GIANT_FLAG</th><th>WASH_DDO51_STAR_FLAG</th><th>PMRA</th><th>PMDEC</th><th>PM_SRC</th><th>ALL_VISITS</th><th>VISITS</th><th>ALL_VISIT_PK [50]</th><th>VISIT_PK [50]</th><th>FPARAM_CLASS [207]</th><th>CHI2_CLASS [23]</th><th>Separation</th><th>Object</th><th>log_g_err</th><th>numax_err</th><th>numax</th><th>log_g</th></tr></thead>\n",
       "<thead><tr><th></th><th></th><th></th><th></th><th></th><th></th><th></th><th></th><th></th><th></th><th></th><th></th><th></th><th></th><th></th><th></th><th></th><th></th><th></th><th></th><th></th><th></th><th></th><th></th><th></th><th></th><th></th><th></th><th></th><th></th><th></th><th></th><th></th><th></th><th></th><th></th><th></th><th></th><th></th><th></th><th></th><th></th><th></th><th></th><th></th><th></th><th></th><th></th><th></th><th></th><th></th><th></th><th></th><th></th><th></th><th></th><th></th><th></th><th></th><th></th><th></th><th></th><th></th><th></th><th></th><th></th><th></th><th></th><th></th><th></th><th></th><th></th><th></th><th></th><th></th><th></th><th></th><th></th><th></th><th></th><th></th><th></th><th></th><th></th><th></th><th></th><th></th><th></th><th></th><th></th><th></th><th></th><th></th><th></th><th></th><th></th><th></th><th></th><th></th><th></th><th></th><th></th><th></th><th></th><th></th><th></th><th></th><th></th><th></th><th></th><th></th><th></th><th></th><th></th><th></th><th></th><th></th><th></th><th></th><th></th><th></th><th></th><th></th><th></th><th></th><th></th><th></th><th></th><th></th><th></th><th></th><th></th><th></th><th></th><th></th><th></th><th></th><th></th><th></th><th></th><th></th><th></th><th></th><th></th><th></th><th></th><th></th><th></th><th></th><th></th><th></th><th></th><th></th><th></th><th></th><th></th><th></th><th></th><th></th><th></th><th></th><th></th><th></th><th></th><th></th><th></th><th></th><th></th><th></th><th></th><th></th><th></th><th></th><th></th><th></th><th></th><th></th><th></th><th></th><th></th><th></th><th></th><th></th><th></th><th></th><th></th><th></th><th></th><th></th><th></th><th></th><th></th><th></th><th></th><th></th><th></th><th></th><th></th><th></th><th></th><th></th><th></th><th></th><th></th><th></th><th></th><th></th><th></th><th></th><th></th><th></th><th>arcsec</th><th></th><th></th><th></th><th></th><th></th></tr></thead>\n",
       "<thead><tr><th>str10</th><th>float64</th><th>float64</th><th>str45</th><th>str34</th><th>str46</th><th>str38</th><th>str18</th><th>str8</th><th>int16</th><th>str16</th><th>float32</th><th>float32</th><th>float32</th><th>float32</th><th>float32</th><th>float32</th><th>float64</th><th>float64</th><th>float64</th><th>float64</th><th>int32</th><th>int32</th><th>int32</th><th>str140</th><th>str14</th><th>int32</th><th>int32</th><th>int32</th><th>int16</th><th>float32</th><th>int32</th><th>str165</th><th>int32</th><th>str74</th><th>float32</th><th>float32</th><th>float32</th><th>float32</th><th>float32</th><th>float32</th><th>float32</th><th>float32</th><th>float32</th><th>float32</th><th>float32</th><th>float32</th><th>float32</th><th>float32</th><th>float32</th><th>float32</th><th>float32</th><th>float32</th><th>float32</th><th>float32</th><th>float32</th><th>float32</th><th>float32</th><th>float32</th><th>int32</th><th>int32</th><th>int32</th><th>float32</th><th>float32</th><th>float32</th><th>str5</th><th>str4</th><th>str6</th><th>int16</th><th>float32</th><th>float32</th><th>float32</th><th>float32</th><th>float32</th><th>float32</th><th>float32</th><th>float32</th><th>float32</th><th>float32</th><th>float32</th><th>float32</th><th>float32</th><th>float32</th><th>float32</th><th>float32</th><th>float32</th><th>float32</th><th>float32</th><th>float32</th><th>str5</th><th>int32</th><th>str183</th><th>int32</th><th>float32</th><th>float32</th><th>float32</th><th>float32</th><th>float32</th><th>float32</th><th>float32</th><th>float32</th><th>float32</th><th>float32</th><th>float32</th><th>float32</th><th>float32</th><th>float32</th><th>float32</th><th>float32</th><th>float32</th><th>float32</th><th>float32</th><th>float32</th><th>float32</th><th>float32</th><th>float32</th><th>float32</th><th>float32</th><th>float32</th><th>float32</th><th>float32</th><th>float32</th><th>float32</th><th>float32</th><th>float32</th><th>float32</th><th>float32</th><th>float32</th><th>float32</th><th>float32</th><th>float32</th><th>float32</th><th>float32</th><th>float32</th><th>float32</th><th>float32</th><th>float32</th><th>float32</th><th>float32</th><th>float32</th><th>float32</th><th>float32</th><th>float32</th><th>float32</th><th>float32</th><th>float32</th><th>float32</th><th>float32</th><th>float32</th><th>int32</th><th>int32</th><th>int32</th><th>int32</th><th>int32</th><th>int32</th><th>int32</th><th>int32</th><th>int32</th><th>int32</th><th>int32</th><th>int32</th><th>int32</th><th>int32</th><th>int32</th><th>int32</th><th>int32</th><th>int32</th><th>int32</th><th>int32</th><th>int32</th><th>int32</th><th>int32</th><th>int32</th><th>int32</th><th>float32</th><th>int32</th><th>str23</th><th>str12</th><th>float32</th><th>float32</th><th>float32</th><th>float32</th><th>float32</th><th>float32</th><th>float32</th><th>float32</th><th>float32</th><th>float32</th><th>float32</th><th>float32</th><th>float32</th><th>float32</th><th>float32</th><th>float32</th><th>float32</th><th>float32</th><th>float32</th><th>str17</th><th>float32</th><th>float32</th><th>int16</th><th>int16</th><th>float32</th><th>float32</th><th>str20</th><th>str845</th><th>str804</th><th>int32</th><th>int32</th><th>float32</th><th>float32</th><th>float64</th><th>str10</th><th>float64</th><th>float64</th><th>float64</th><th>float64</th></tr></thead>\n",
       "<tr><td>HD_175884</td><td>298.25514641840573</td><td>47.807689665544785</td><td>apogee.apo25m.s.stars.4402.2M19530125+4748276</td><td>4402.2M19530125+4748276</td><td>apogee.apo25m.s.l31c.2.4402.2M19530125+4748276</td><td>apStar-r8-2M19530125+4748276.fits</td><td>2M19530125+4748276</td><td>apo25m</td><td>4402</td><td>K09_081+11</td><td>6.481</td><td>0.021</td><td>6.596</td><td>0.021</td><td>6.616</td><td>0.016</td><td>298.255213</td><td>47.807667</td><td>81.7715759188</td><td>10.3202094388</td><td>-2147483584</td><td>-2147483136</td><td>0</td><td>APOGEE_NO_DERED,APOGEE_TELLURIC</td><td>apogee</td><td>0 .. 0</td><td>5</td><td>0</td><td>0</td><td>1309.05</td><td>458752</td><td>SUSPECT_RV_COMBINATION,SUSPECT_BROAD_LINES,BAD_RV_COMBINATION</td><td>0</td><td></td><td>-62.8967</td><td>5.49141</td><td>0.168871</td><td>0.365909</td><td>-62.8967</td><td>5.49141</td><td>0.168871</td><td>0.365909</td><td>-61.9353</td><td>16.6779</td><td>0.170934</td><td>0.365177</td><td>15000.0</td><td>3.5</td><td>-1.0</td><td>0.0</td><td>0.0</td><td>647.365</td><td>319.708</td><td>18.2659</td><td>1278.6969 .. 5635.81</td><td>17.879436 .. 37.536015</td><td>18.466919 .. 18.466919</td><td>0.0 .. 0.0</td><td>0</td><td>0</td><td>0</td><td>164.944</td><td>18.8997</td><td>1880.799</td><td>stars</td><td>l31c</td><td>l31c.2</td><td>20</td><td>-9999.0</td><td>9999.0</td><td>-9999.0</td><td>9999.0</td><td>-9999.0 .. 0.0</td><td>5958.2 .. 0.0</td><td>-9999.0 .. 0.0</td><td>815.51 .. 0.0</td><td>-9999.0</td><td>-9999.0</td><td>-9999.0</td><td>-9999.0</td><td>3.7908797</td><td>1.0</td><td>93.58365</td><td>-9999.0</td><td>-9999.0</td><td>-9999.0</td><td>-9999.0</td><td>0.9913783</td><td>GKd_c</td><td>1115701897</td><td>TEFF_WARN,M_H_WARN,STAR_WARN,COLORTE_WARN,VSINI_WARN,STAR_BAD,COLORTE_BAD,VSINI_BAD</td><td>256 .. 65536</td><td>-2.2037 .. -1.2812</td><td>0.049475245 .. 0.51741666</td><td>-9999.0 .. -9999.0</td><td>-9999.0 .. -9999.0</td><td>-9999.0 .. -9999.0</td><td>-9999.0 .. -9999.0</td><td>-9999.0</td><td>-9999.0</td><td>-9999.0</td><td>-9999.0</td><td>-9999.0</td><td>-9999.0</td><td>-9999.0</td><td>-9999.0</td><td>-9999.0</td><td>-9999.0</td><td>-9999.0</td><td>-9999.0</td><td>-9999.0</td><td>-9999.0</td><td>-9999.0</td><td>-9999.0</td><td>-9999.0</td><td>-9999.0</td><td>-9999.0</td><td>-9999.0</td><td>-9999.0</td><td>-9999.0</td><td>-9999.0</td><td>-9999.0</td><td>-9999.0</td><td>-9999.0</td><td>-9999.0</td><td>-9999.0</td><td>-9999.0</td><td>-9999.0</td><td>-9999.0</td><td>-9999.0</td><td>-9999.0</td><td>-9999.0</td><td>-9999.0</td><td>-9999.0</td><td>-9999.0</td><td>-9999.0</td><td>-9999.0</td><td>-9999.0</td><td>-9999.0</td><td>-9999.0</td><td>-9999.0</td><td>-9999.0</td><td>-9999.0</td><td>-9999.0</td><td>-9999.0</td><td>-9999.0</td><td>-9999.0</td><td>-9999.0</td><td>0</td><td>256</td><td>0</td><td>0</td><td>256</td><td>0</td><td>0</td><td>0</td><td>0</td><td>256</td><td>0</td><td>256</td><td>256</td><td>256</td><td>256</td><td>0</td><td>257</td><td>0</td><td>0</td><td>0</td><td>256</td><td>0</td><td>0</td><td>257</td><td>0</td><td>1.0349158 .. 0.017450182</td><td>0 .. 0</td><td>2M19530125+4748276</td><td>2MASS</td><td>-9999.99</td><td>-9999.99</td><td>-9999.99</td><td>-9999.99</td><td>-9999.99</td><td>-9999.99</td><td>-9999.99</td><td>-9999.99</td><td>-9999.99</td><td>-9999.99</td><td>-9999.99</td><td>-9999.99</td><td>-9999.99</td><td>-9999.99</td><td>6.653</td><td>0.022</td><td>6.678</td><td>0.0</td><td>-0.1578958</td><td>RJCE_WISE_OPS</td><td>-0.098225705</td><td>0.18664694</td><td>-1</td><td>1</td><td>-7.3</td><td>-7.6</td><td>NOMAD</td><td>r8-5225-56066-154,r8-5225-56067-154,r8-5225-56068-154,r8-6989-56615-153,r8-6991-56616-196,r8-7557-56849-159,r8-7557-57503-208,r8-9022-57528-154,r8-9023-57529-201,r8-9023-57530-201</td><td>r8-5225-56066-154,r8-5225-56067-154,r8-5225-56068-154,r8-6989-56615-153,r8-6991-56616-196</td><td>934158 .. -1</td><td>934158 .. -1</td><td>5937.1 .. -9999.0</td><td>1.2592443 .. -9999.0</td><td>0.18048147604726403</td><td>HD_175884</td><td>0.00710350806941885</td><td>0.11448949128041812</td><td>7.070009372700724</td><td>1.7318952143872037</td></tr>\n",
       "<tr><td>HD_180312</td><td>283.8569085302235</td><td>40.17716142468002</td><td>apogee.apo25m.s.stars.4410.2M18552564+4010377</td><td>4410.2M18552564+4010377</td><td>apogee.apo25m.s.l31c.2.4410.2M18552564+4010377</td><td>apStar-r8-2M18552564+4010377.fits</td><td>2M18552564+4010377</td><td>apo25m</td><td>4410</td><td>K13_071+16</td><td>6.492</td><td>0.02</td><td>6.503</td><td>0.015</td><td>6.486</td><td>0.018</td><td>283.85687</td><td>40.177151</td><td>70.1500777705</td><td>16.4002251844</td><td>-2147483584</td><td>-2147483136</td><td>0</td><td>APOGEE_NO_DERED,APOGEE_TELLURIC</td><td>apogee</td><td>0 .. 0</td><td>1</td><td>0</td><td>0</td><td>853.967</td><td>132096</td><td>PERSIST_MED,SUSPECT_BROAD_LINES</td><td>1024</td><td>PERSIST_MED</td><td>-7.70196</td><td>0.0</td><td>0.123475</td><td>0.123475</td><td>-7.70196</td><td>0.0</td><td>0.123475</td><td>0.123475</td><td>-8.36262</td><td>0.0</td><td>0.132358</td><td>0.132358</td><td>6500.0</td><td>3.0</td><td>-2.5</td><td>0.0</td><td>0.0</td><td>225.535</td><td>116.716</td><td>0.0</td><td>-1.0 .. -1.0</td><td>-1.0 .. -1.0</td><td>-1.0 .. -1.0</td><td>-1.0 .. -1.0</td><td>0</td><td>0</td><td>0</td><td>93.0</td><td>0.0</td><td>1027.0828</td><td>stars</td><td>l31c</td><td>l31c.2</td><td>20</td><td>-9999.0</td><td>9999.0</td><td>-9999.0</td><td>9999.0</td><td>-9999.0 .. 0.0</td><td>7852.6 .. 0.0</td><td>-9999.0 .. 0.0</td><td>156.72 .. 0.0</td><td>-9999.0</td><td>-9999.0</td><td>-9999.0</td><td>-9999.0</td><td>0.8943407</td><td>1.0</td><td>92.725685</td><td>-9999.0</td><td>-9999.0</td><td>-9999.0</td><td>-9999.0</td><td>6.962417</td><td>Fd_b</td><td>1082146944</td><td>STAR_WARN,VSINI_WARN,STAR_BAD,VSINI_BAD</td><td>0 .. 65536</td><td>-2.3206 .. 0.74851</td><td>0.024347689 .. 0.3866911</td><td>-9999.0 .. -9999.0</td><td>-9999.0 .. -9999.0</td><td>-9999.0 .. -9999.0</td><td>-9999.0 .. -9999.0</td><td>-9999.0</td><td>-9999.0</td><td>-9999.0</td><td>-9999.0</td><td>-9999.0</td><td>-9999.0</td><td>-9999.0</td><td>-9999.0</td><td>-9999.0</td><td>-9999.0</td><td>-9999.0</td><td>-9999.0</td><td>-9999.0</td><td>-9999.0</td><td>-9999.0</td><td>-9999.0</td><td>-9999.0</td><td>-9999.0</td><td>-9999.0</td><td>-9999.0</td><td>-9999.0</td><td>-9999.0</td><td>-9999.0</td><td>-9999.0</td><td>-9999.0</td><td>-9999.0</td><td>-9999.0</td><td>-9999.0</td><td>-9999.0</td><td>-9999.0</td><td>-9999.0</td><td>-9999.0</td><td>-9999.0</td><td>-9999.0</td><td>-9999.0</td><td>-9999.0</td><td>-9999.0</td><td>-9999.0</td><td>-9999.0</td><td>-9999.0</td><td>-9999.0</td><td>-9999.0</td><td>-9999.0</td><td>-9999.0</td><td>-9999.0</td><td>-9999.0</td><td>-9999.0</td><td>-9999.0</td><td>-9999.0</td><td>-9999.0</td><td>0</td><td>0</td><td>0</td><td>0</td><td>0</td><td>0</td><td>0</td><td>0</td><td>0</td><td>256</td><td>0</td><td>256</td><td>256</td><td>256</td><td>256</td><td>0</td><td>0</td><td>0</td><td>256</td><td>256</td><td>0</td><td>257</td><td>0</td><td>0</td><td>257</td><td>6.7544503 .. 0.10138647</td><td>0 .. 257</td><td>2M18552564+4010377</td><td>2MASS</td><td>-9999.99</td><td>-9999.99</td><td>-9999.99</td><td>-9999.99</td><td>-9999.99</td><td>-9999.99</td><td>-9999.99</td><td>-9999.99</td><td>-9999.99</td><td>-9999.99</td><td>-9999.99</td><td>-9999.99</td><td>-9999.99</td><td>-9999.99</td><td>6.427</td><td>0.023</td><td>6.462</td><td>0.0</td><td>-0.044982105</td><td>RJCE_WISE_PARTSKY</td><td>0.023867758</td><td>0.14832419</td><td>-1</td><td>1</td><td>0.4</td><td>1.3</td><td>NOMAD</td><td>r8-5557-55874-093,r8-8575-57141-118</td><td>r8-5557-55874-093</td><td>840680 .. -1</td><td>840680 .. -1</td><td>5999.0 .. -9999.0</td><td>11.235698 .. -9999.0</td><td>0.11242940063422249</td><td>HD_180312</td><td>0.003559072926059287</td><td>0.27691535428600456</td><td>33.844980704291366</td><td>2.4325951600557465</td></tr>\n",
       "<tr><td>HD_180312</td><td>283.8569085302235</td><td>40.17716142468002</td><td>apogee.apo25m.s.stars.4410.2M18552564+4010377</td><td>4410.2M18552564+4010377</td><td>apogee.apo25m.s.l31c.2.4410.2M18552564+4010377</td><td>apStar-r8-2M18552564+4010377.fits</td><td>2M18552564+4010377</td><td>apo25m</td><td>4410</td><td>K13_071+16</td><td>6.492</td><td>0.02</td><td>6.503</td><td>0.015</td><td>6.486</td><td>0.018</td><td>283.85687</td><td>40.177151</td><td>70.1500777705</td><td>16.4002251844</td><td>-2147483584</td><td>-2147483136</td><td>0</td><td>APOGEE_NO_DERED,APOGEE_TELLURIC</td><td>apogee</td><td>0 .. 0</td><td>1</td><td>0</td><td>0</td><td>853.967</td><td>132096</td><td>PERSIST_MED,SUSPECT_BROAD_LINES</td><td>1024</td><td>PERSIST_MED</td><td>-7.70196</td><td>0.0</td><td>0.123475</td><td>0.123475</td><td>-7.70196</td><td>0.0</td><td>0.123475</td><td>0.123475</td><td>-8.36262</td><td>0.0</td><td>0.132358</td><td>0.132358</td><td>6500.0</td><td>3.0</td><td>-2.5</td><td>0.0</td><td>0.0</td><td>225.535</td><td>116.716</td><td>0.0</td><td>-1.0 .. -1.0</td><td>-1.0 .. -1.0</td><td>-1.0 .. -1.0</td><td>-1.0 .. -1.0</td><td>0</td><td>0</td><td>0</td><td>93.0</td><td>0.0</td><td>1027.0828</td><td>stars</td><td>l31c</td><td>l31c.2</td><td>20</td><td>-9999.0</td><td>9999.0</td><td>-9999.0</td><td>9999.0</td><td>-9999.0 .. 0.0</td><td>7852.6 .. 0.0</td><td>-9999.0 .. 0.0</td><td>156.72 .. 0.0</td><td>-9999.0</td><td>-9999.0</td><td>-9999.0</td><td>-9999.0</td><td>0.8943407</td><td>1.0</td><td>92.725685</td><td>-9999.0</td><td>-9999.0</td><td>-9999.0</td><td>-9999.0</td><td>6.962417</td><td>Fd_b</td><td>1082146944</td><td>STAR_WARN,VSINI_WARN,STAR_BAD,VSINI_BAD</td><td>0 .. 65536</td><td>-2.3206 .. 0.74851</td><td>0.024347689 .. 0.3866911</td><td>-9999.0 .. -9999.0</td><td>-9999.0 .. -9999.0</td><td>-9999.0 .. -9999.0</td><td>-9999.0 .. -9999.0</td><td>-9999.0</td><td>-9999.0</td><td>-9999.0</td><td>-9999.0</td><td>-9999.0</td><td>-9999.0</td><td>-9999.0</td><td>-9999.0</td><td>-9999.0</td><td>-9999.0</td><td>-9999.0</td><td>-9999.0</td><td>-9999.0</td><td>-9999.0</td><td>-9999.0</td><td>-9999.0</td><td>-9999.0</td><td>-9999.0</td><td>-9999.0</td><td>-9999.0</td><td>-9999.0</td><td>-9999.0</td><td>-9999.0</td><td>-9999.0</td><td>-9999.0</td><td>-9999.0</td><td>-9999.0</td><td>-9999.0</td><td>-9999.0</td><td>-9999.0</td><td>-9999.0</td><td>-9999.0</td><td>-9999.0</td><td>-9999.0</td><td>-9999.0</td><td>-9999.0</td><td>-9999.0</td><td>-9999.0</td><td>-9999.0</td><td>-9999.0</td><td>-9999.0</td><td>-9999.0</td><td>-9999.0</td><td>-9999.0</td><td>-9999.0</td><td>-9999.0</td><td>-9999.0</td><td>-9999.0</td><td>-9999.0</td><td>-9999.0</td><td>0</td><td>0</td><td>0</td><td>0</td><td>0</td><td>0</td><td>0</td><td>0</td><td>0</td><td>256</td><td>0</td><td>256</td><td>256</td><td>256</td><td>256</td><td>0</td><td>0</td><td>0</td><td>256</td><td>256</td><td>0</td><td>257</td><td>0</td><td>0</td><td>257</td><td>6.7544503 .. 0.10138647</td><td>0 .. 257</td><td>2M18552564+4010377</td><td>2MASS</td><td>-9999.99</td><td>-9999.99</td><td>-9999.99</td><td>-9999.99</td><td>-9999.99</td><td>-9999.99</td><td>-9999.99</td><td>-9999.99</td><td>-9999.99</td><td>-9999.99</td><td>-9999.99</td><td>-9999.99</td><td>-9999.99</td><td>-9999.99</td><td>6.427</td><td>0.023</td><td>6.462</td><td>0.0</td><td>-0.044982105</td><td>RJCE_WISE_PARTSKY</td><td>0.023867758</td><td>0.14832419</td><td>-1</td><td>1</td><td>0.4</td><td>1.3</td><td>NOMAD</td><td>r8-5557-55874-093,r8-8575-57141-118</td><td>r8-5557-55874-093</td><td>840680 .. -1</td><td>840680 .. -1</td><td>5999.0 .. -9999.0</td><td>11.235698 .. -9999.0</td><td>0.11242940063422249</td><td>HD_180312</td><td>0.0035611095692105062</td><td>0.27691535428600456</td><td>33.844980704291366</td><td>2.4328298230639755</td></tr>\n",
       "<tr><td>HD_180475</td><td>292.818076238</td><td>47.481042633</td><td>apogee.apo25m.s.stars.4400.2M19311634+4728522</td><td>4400.2M19311634+4728522</td><td>apogee.apo25m.s.l31c.2.4400.2M19311634+4728522</td><td>apStar-r8-2M19311634+4728522.fits</td><td>2M19311634+4728522</td><td>apo25m</td><td>4400</td><td>K05_080+14</td><td>6.317</td><td>0.018</td><td>6.276</td><td>0.016</td><td>6.244</td><td>0.018</td><td>292.818122</td><td>47.481194</td><td>79.7488120072</td><td>13.4189291231</td><td>-2147483584</td><td>-2147483136</td><td>0</td><td>APOGEE_NO_DERED,APOGEE_TELLURIC</td><td>apogee</td><td>0 .. 0</td><td>2</td><td>0</td><td>0</td><td>778.944</td><td>131073</td><td>BAD_PIXELS,SUSPECT_BROAD_LINES</td><td>1</td><td>BAD_PIXELS</td><td>-9.15986</td><td>0.441107</td><td>0.2167</td><td>0.29747</td><td>-6.59413</td><td>1.18116</td><td>0.186288</td><td>0.250023</td><td>-2.71323</td><td>1.40404</td><td>0.169519</td><td>0.234435</td><td>6500.0</td><td>4.0</td><td>-1.5</td><td>0.0</td><td>0.0</td><td>188.302</td><td>21.6744</td><td>0.222886</td><td>-1.0 .. -1.0</td><td>-1.0 .. -1.0</td><td>-1.0 .. -1.0</td><td>-1.0 .. -1.0</td><td>0</td><td>0</td><td>0</td><td>-1.0</td><td>-1.0</td><td>-1.0</td><td>stars</td><td>l31c</td><td>l31c.2</td><td>4</td><td>-9999.0</td><td>9999.0</td><td>-9999.0</td><td>9999.0</td><td>-9999.0 .. -9999.0</td><td>-9999.0 .. -9999.0</td><td>-9999.0 .. -9999.0</td><td>-9999.0 .. -9999.0</td><td>-9999.0</td><td>-9999.0</td><td>-9999.0</td><td>-9999.0</td><td>-9999.0</td><td>-9999.0</td><td>-9999.0</td><td>-9999.0</td><td>-9999.0</td><td>-9999.0</td><td>-9999.0</td><td>0.0</td><td></td><td>-2147483648</td><td>NO_ASPCAP_RESULT</td><td>0 .. 0</td><td>-9999.0 .. -9999.0</td><td>-9999.0 .. -9999.0</td><td>-9999.0 .. -9999.0</td><td>-9999.0 .. -9999.0</td><td>-9999.0 .. -9999.0</td><td>-9999.0 .. -9999.0</td><td>-9999.0</td><td>-9999.0</td><td>-9999.0</td><td>-9999.0</td><td>-9999.0</td><td>-9999.0</td><td>-9999.0</td><td>-9999.0</td><td>-9999.0</td><td>-9999.0</td><td>-9999.0</td><td>-9999.0</td><td>-9999.0</td><td>-9999.0</td><td>-9999.0</td><td>-9999.0</td><td>-9999.0</td><td>-9999.0</td><td>-9999.0</td><td>-9999.0</td><td>-9999.0</td><td>-9999.0</td><td>-9999.0</td><td>-9999.0</td><td>-9999.0</td><td>-9999.0</td><td>-9999.0</td><td>-9999.0</td><td>-9999.0</td><td>-9999.0</td><td>-9999.0</td><td>-9999.0</td><td>-9999.0</td><td>-9999.0</td><td>-9999.0</td><td>-9999.0</td><td>-9999.0</td><td>-9999.0</td><td>-9999.0</td><td>-9999.0</td><td>-9999.0</td><td>-9999.0</td><td>-9999.0</td><td>-9999.0</td><td>-9999.0</td><td>-9999.0</td><td>-9999.0</td><td>-9999.0</td><td>-9999.0</td><td>-9999.0</td><td>0</td><td>0</td><td>0</td><td>0</td><td>0</td><td>0</td><td>0</td><td>0</td><td>0</td><td>0</td><td>0</td><td>0</td><td>0</td><td>0</td><td>0</td><td>0</td><td>0</td><td>0</td><td>0</td><td>0</td><td>0</td><td>0</td><td>0</td><td>0</td><td>0</td><td>0.0 .. 0.0</td><td>0 .. 0</td><td>2M19311634+4728522</td><td>2MASS</td><td>-9999.99</td><td>-9999.99</td><td>-9999.99</td><td>-9999.99</td><td>-9999.99</td><td>-9999.99</td><td>-9999.99</td><td>-9999.99</td><td>-9999.99</td><td>-9999.99</td><td>-9999.99</td><td>-9999.99</td><td>-9999.99</td><td>-9999.99</td><td>6.178</td><td>0.025</td><td>6.27</td><td>0.0</td><td>-0.07711197</td><td>RJCE_WISE_OPS</td><td>0.044064045</td><td>0.122175105</td><td>-1</td><td>1</td><td>-13.2</td><td>-37.6</td><td>NOMAD</td><td>r8-5223-55844-142,r8-6098-56438-129,r8-6098-56439-129,r8-6098-56442-129</td><td>r8-5223-55844-142,r8-6098-56442-129</td><td>897041 .. -1</td><td>897041 .. -1</td><td>0.0 .. 0.0</td><td>0.0 .. 0.0</td><td>0.5561793487593878</td><td>HD_180475</td><td>0.009573107203645199</td><td>0.09517904267184185</td><td>4.335662370014836</td><td>1.5161330743582986</td></tr>\n",
       "<tr><td>HD_181069</td><td>289.7421750517987</td><td>40.36050447896313</td><td>apogee.apo25m.s.stars.4465.2M19185810+4021377</td><td>4465.2M19185810+4021377</td><td>apogee.apo25m.s.l31c.2.4465.2M19185810+4021377</td><td>apStar-r8-2M19185810+4021377.fits</td><td>2M19185810+4021377</td><td>apo25m</td><td>4465</td><td>K17_072+13</td><td>6.738</td><td>0.021</td><td>6.778</td><td>0.065</td><td>6.737</td><td>0.016</td><td>289.742089</td><td>40.360481</td><td>72.1776448083</td><td>12.3584970987</td><td>-2147483584</td><td>-2147483136</td><td>0</td><td>APOGEE_NO_DERED,APOGEE_TELLURIC</td><td>apogee</td><td>0 .. 0</td><td>4</td><td>1</td><td>0</td><td>715.233</td><td>197120</td><td>PERSIST_HIGH,SUSPECT_RV_COMBINATION,SUSPECT_BROAD_LINES</td><td>512</td><td>PERSIST_HIGH</td><td>-12.0199</td><td>4.2929</td><td>0.186783</td><td>0.379876</td><td>-7.77908</td><td>5.89882</td><td>0.162661</td><td>0.344736</td><td>-5.69602</td><td>6.92612</td><td>0.138115</td><td>0.332376</td><td>8000.0</td><td>4.0</td><td>-1.0</td><td>0.0</td><td>0.0</td><td>603.341</td><td>109.687</td><td>9.75057</td><td>399.9852 .. 24760.793</td><td>11.546792 .. 90.84931</td><td>16.266323 .. 16.266323</td><td>0.0 .. 0.0</td><td>0</td><td>0</td><td>0</td><td>43.3182</td><td>8.8459</td><td>1186.9948</td><td>stars</td><td>l31c</td><td>l31c.2</td><td>20</td><td>-9999.0</td><td>9999.0</td><td>-9999.0</td><td>9999.0</td><td>-9999.0 .. 0.0</td><td>7981.1 .. 0.0</td><td>-9999.0 .. 0.0</td><td>119.45 .. 0.0</td><td>-9999.0</td><td>-9999.0</td><td>-9999.0</td><td>-9999.0</td><td>0.93032354</td><td>1.0</td><td>93.99396</td><td>-9999.0</td><td>-9999.0</td><td>-9999.0</td><td>-9999.0</td><td>2.4861653</td><td>Fd_b</td><td>1082212481</td><td>TEFF_WARN,STAR_WARN,VSINI_WARN,TEFF_BAD,STAR_BAD,VSINI_BAD</td><td>257 .. 65536</td><td>-0.78932 .. -2.3489</td><td>0.030171344 .. 2.3845544</td><td>-9999.0 .. -9999.0</td><td>-9999.0 .. -9999.0</td><td>-9999.0 .. -9999.0</td><td>-9999.0 .. -9999.0</td><td>-9999.0</td><td>-9999.0</td><td>-9999.0</td><td>-9999.0</td><td>-9999.0</td><td>-9999.0</td><td>-9999.0</td><td>-9999.0</td><td>-9999.0</td><td>-9999.0</td><td>-9999.0</td><td>-9999.0</td><td>-9999.0</td><td>-9999.0</td><td>-9999.0</td><td>-9999.0</td><td>-9999.0</td><td>-9999.0</td><td>-9999.0</td><td>-9999.0</td><td>-9999.0</td><td>-9999.0</td><td>-9999.0</td><td>-9999.0</td><td>-9999.0</td><td>-9999.0</td><td>-9999.0</td><td>-9999.0</td><td>-9999.0</td><td>-9999.0</td><td>-9999.0</td><td>-9999.0</td><td>-9999.0</td><td>-9999.0</td><td>-9999.0</td><td>-9999.0</td><td>-9999.0</td><td>-9999.0</td><td>-9999.0</td><td>-9999.0</td><td>-9999.0</td><td>-9999.0</td><td>-9999.0</td><td>-9999.0</td><td>-9999.0</td><td>-9999.0</td><td>-9999.0</td><td>-9999.0</td><td>-9999.0</td><td>-9999.0</td><td>0</td><td>0</td><td>0</td><td>0</td><td>0</td><td>0</td><td>0</td><td>0</td><td>0</td><td>0</td><td>0</td><td>0</td><td>0</td><td>256</td><td>0</td><td>0</td><td>256</td><td>0</td><td>0</td><td>0</td><td>256</td><td>0</td><td>257</td><td>0</td><td>0</td><td>2.2219281 .. 1.4458392</td><td>0 .. 0</td><td>2M19185810+4021377</td><td>2MASS</td><td>-9999.99</td><td>-9999.99</td><td>-9999.99</td><td>-9999.99</td><td>-9999.99</td><td>-9999.99</td><td>-9999.99</td><td>-9999.99</td><td>-9999.99</td><td>-9999.99</td><td>-9999.99</td><td>-9999.99</td><td>-9999.99</td><td>-9999.99</td><td>6.719</td><td>0.021</td><td>6.743</td><td>0.021</td><td>-0.013770141</td><td>RJCE_WISE_ALLSKY</td><td>0.008262013</td><td>0.15440038</td><td>-1</td><td>1</td><td>7.6</td><td>7.0</td><td>NOMAD</td><td>r8-6094-56364-033,r8-6094-56438-040,r8-6997-56456-051,r8-6997-56457-051,r8-8107-57529-039</td><td>r8-6094-56364-033,r8-6094-56438-040,r8-6997-56456-051,r8-6997-56457-051</td><td>872919 .. -1</td><td>872919 .. -1</td><td>5997.9 .. -9999.0</td><td>7.1576424 .. -9999.0</td><td>0.2507293518181009</td><td>HD_181069</td><td>0.0033497269134373973</td><td>0.32031121623780684</td><td>41.45967428360941</td><td>2.517716826592933</td></tr>\n",
       "<tr><td>HD_181778</td><td>291.50507875058656</td><td>45.01311217226868</td><td>apogee.apo25m.s.stars.4461.2M19260121+4500471</td><td>4461.2M19260121+4500471</td><td>apogee.apo25m.s.l31c.2.4461.2M19260121+4500471</td><td>apStar-r8-2M19260121+4500471.fits</td><td>2M19260121+4500471</td><td>apo25m</td><td>4461</td><td>K11_076+13</td><td>7.331</td><td>0.02</td><td>7.464</td><td>0.023</td><td>7.534</td><td>0.023</td><td>291.505044</td><td>45.013084</td><td>77.0582482473</td><td>13.1750681345</td><td>-2147483584</td><td>-2147483136</td><td>0</td><td>APOGEE_NO_DERED,APOGEE_TELLURIC</td><td>apogee</td><td>0 .. 0</td><td>2</td><td>0</td><td>0</td><td>850.974</td><td>65536</td><td>SUSPECT_RV_COMBINATION</td><td>0</td><td></td><td>8.58756</td><td>0.620748</td><td>0.279187</td><td>0.415016</td><td>8.58756</td><td>0.620748</td><td>0.279187</td><td>0.415016</td><td>9.59047</td><td>5.77328</td><td>0.356006</td><td>0.527727</td><td>14000.0</td><td>5.0</td><td>-1.0</td><td>0.0</td><td>0.0</td><td>21856.0</td><td>35886.4</td><td>6.39402</td><td>-1.0 .. -1.0</td><td>-1.0 .. -1.0</td><td>-1.0 .. -1.0</td><td>-1.0 .. -1.0</td><td>0</td><td>0</td><td>0</td><td>181.115</td><td>33.9411</td><td>886.2418</td><td>stars</td><td>l31c</td><td>l31c.2</td><td>4</td><td>-9999.0</td><td>9999.0</td><td>-9999.0</td><td>9999.0</td><td>-9999.0 .. 0.0</td><td>7467.9 .. 0.0</td><td>-9999.0 .. 0.0</td><td>401.75 .. 0.0</td><td>-9999.0</td><td>-9999.0</td><td>-9999.0</td><td>-9999.0</td><td>1.1802635</td><td>1.0</td><td>94.145584</td><td>-9999.0</td><td>-9999.0</td><td>-9999.0</td><td>-9999.0</td><td>1.858703</td><td>Fd_c</td><td>1082278546</td><td>LOGG_WARN,ALPHA_M_WARN,STAR_WARN,COLORTE_WARN,VSINI_WARN,LOGG_BAD,STAR_BAD,VSINI_BAD</td><td>0 .. 65536</td><td>-2.0741 .. -0.46779</td><td>0.055198733 .. 0.44844174</td><td>-9999.0 .. -9999.0</td><td>-9999.0 .. -9999.0</td><td>-9999.0 .. -9999.0</td><td>-9999.0 .. -9999.0</td><td>-9999.0</td><td>-9999.0</td><td>-9999.0</td><td>-9999.0</td><td>-9999.0</td><td>-9999.0</td><td>-9999.0</td><td>-9999.0</td><td>-9999.0</td><td>-9999.0</td><td>-9999.0</td><td>-9999.0</td><td>-9999.0</td><td>-9999.0</td><td>-9999.0</td><td>-9999.0</td><td>-9999.0</td><td>-9999.0</td><td>-9999.0</td><td>-9999.0</td><td>-9999.0</td><td>-9999.0</td><td>-9999.0</td><td>-9999.0</td><td>-9999.0</td><td>-9999.0</td><td>-9999.0</td><td>-9999.0</td><td>-9999.0</td><td>-9999.0</td><td>-9999.0</td><td>-9999.0</td><td>-9999.0</td><td>-9999.0</td><td>-9999.0</td><td>-9999.0</td><td>-9999.0</td><td>-9999.0</td><td>-9999.0</td><td>-9999.0</td><td>-9999.0</td><td>-9999.0</td><td>-9999.0</td><td>-9999.0</td><td>-9999.0</td><td>-9999.0</td><td>-9999.0</td><td>-9999.0</td><td>-9999.0</td><td>-9999.0</td><td>0</td><td>256</td><td>0</td><td>0</td><td>0</td><td>257</td><td>0</td><td>0</td><td>0</td><td>0</td><td>0</td><td>0</td><td>0</td><td>0</td><td>0</td><td>0</td><td>0</td><td>0</td><td>0</td><td>257</td><td>256</td><td>257</td><td>0</td><td>0</td><td>0</td><td>1.9691101 .. 0.005362903</td><td>0 .. 0</td><td>2M19260121+4500471</td><td>2MASS</td><td>-9999.99</td><td>-9999.99</td><td>-9999.99</td><td>-9999.99</td><td>-9999.99</td><td>-9999.99</td><td>-9999.99</td><td>-9999.99</td><td>-9999.99</td><td>-9999.99</td><td>-9999.99</td><td>-9999.99</td><td>-9999.99</td><td>-9999.99</td><td>7.591</td><td>0.02</td><td>7.581</td><td>0.02</td><td>-0.15330565</td><td>RJCE_WISE_ALLSKY</td><td>-0.16248587</td><td>0.119257875</td><td>-1</td><td>1</td><td>3.0</td><td>6.3</td><td>NOMAD</td><td>r8-6090-56365-207,r8-6090-56366-207,r8-6907-56413-159,r8-7560-56849-208,r8-7560-56933-160,r8-8675-57515-177,r8-8675-57516-177,r8-8675-57517-177,r8-8675-57518-177</td><td>r8-6090-56365-207,r8-6907-56413-159</td><td>884380 .. -1</td><td>884380 .. -1</td><td>5994.6 .. -9999.0</td><td>2.7330654 .. -9999.0</td><td>0.13456500929129192</td><td>HD_181778</td><td>0.005536276973393749</td><td>0.2890841908432127</td><td>22.857314085832392</td><td>2.250984883948595</td></tr>\n",
       "<tr><td>HD_182531</td><td>292.7545789841315</td><td>46.3318017009639</td><td>apogee.apo25m.s.stars.4403.2M19310109+4619544</td><td>4403.2M19310109+4619544</td><td>apogee.apo25m.s.l31c.2.4403.2M19310109+4619544</td><td>apStar-r8-2M19310109+4619544.fits</td><td>2M19310109+4619544</td><td>apo25m</td><td>4403</td><td>K10_079+12</td><td>7.131</td><td>0.026</td><td>7.206</td><td>0.016</td><td>7.161</td><td>0.018</td><td>292.754577</td><td>46.331802</td><td>78.6664438645</td><td>12.9579972009</td><td>-2013134784</td><td>-2147483136</td><td>0</td><td>APOGEE_NO_DERED,APOGEE_ANCILLARY,APOGEE_KEPLER_SEISMO,APOGEE_TELLURIC</td><td>apogee</td><td>0 .. 0</td><td>2</td><td>1</td><td>0</td><td>1079.21</td><td>0</td><td></td><td>0</td><td></td><td>23.7757</td><td>1.7683</td><td>0.214994</td><td>0.304272</td><td>19.1453</td><td>2.49269</td><td>0.285386</td><td>0.404075</td><td>23.7757</td><td>1.7683</td><td>0.214994</td><td>0.304272</td><td>9000.0</td><td>5.0</td><td>-1.0</td><td>0.0</td><td>0.0</td><td>3321.05</td><td>12721.6</td><td>0.724394</td><td>-1.0 .. -1.0</td><td>-1.0 .. -1.0</td><td>-1.0 .. -1.0</td><td>-1.0 .. -1.0</td><td>0</td><td>0</td><td>0</td><td>228.101</td><td>4.24264</td><td>1106.0819</td><td>stars</td><td>l31c</td><td>l31c.2</td><td>20</td><td>-9999.0</td><td>9999.0</td><td>-9999.0</td><td>9999.0</td><td>-9999.0 .. 0.0</td><td>7996.5 .. 0.0</td><td>-9999.0 .. 0.0</td><td>205.08 .. 0.0</td><td>-9999.0</td><td>-9999.0</td><td>-9999.0</td><td>-9999.0</td><td>3.0991313</td><td>1.0</td><td>94.21065</td><td>-9999.0</td><td>-9999.0</td><td>-9999.0</td><td>-9999.0</td><td>2.086796</td><td>Fd_c</td><td>1082212995</td><td>TEFF_WARN,LOGG_WARN,STAR_WARN,COLORTE_WARN,VSINI_WARN,TEFF_BAD,STAR_BAD,VSINI_BAD</td><td>257 .. 65536</td><td>-1.3319 .. -0.52801</td><td>0.03568053 .. 0.6441273</td><td>-9999.0 .. -9999.0</td><td>-9999.0 .. -9999.0</td><td>-9999.0 .. -9999.0</td><td>-9999.0 .. -9999.0</td><td>-9999.0</td><td>-9999.0</td><td>-9999.0</td><td>-9999.0</td><td>-9999.0</td><td>-9999.0</td><td>-9999.0</td><td>-9999.0</td><td>-9999.0</td><td>-9999.0</td><td>-9999.0</td><td>-9999.0</td><td>-9999.0</td><td>-9999.0</td><td>-9999.0</td><td>-9999.0</td><td>-9999.0</td><td>-9999.0</td><td>-9999.0</td><td>-9999.0</td><td>-9999.0</td><td>-9999.0</td><td>-9999.0</td><td>-9999.0</td><td>-9999.0</td><td>-9999.0</td><td>-9999.0</td><td>-9999.0</td><td>-9999.0</td><td>-9999.0</td><td>-9999.0</td><td>-9999.0</td><td>-9999.0</td><td>-9999.0</td><td>-9999.0</td><td>-9999.0</td><td>-9999.0</td><td>-9999.0</td><td>-9999.0</td><td>-9999.0</td><td>-9999.0</td><td>-9999.0</td><td>-9999.0</td><td>-9999.0</td><td>-9999.0</td><td>-9999.0</td><td>-9999.0</td><td>-9999.0</td><td>-9999.0</td><td>-9999.0</td><td>0</td><td>257</td><td>0</td><td>0</td><td>0</td><td>256</td><td>0</td><td>0</td><td>0</td><td>256</td><td>0</td><td>0</td><td>0</td><td>256</td><td>0</td><td>0</td><td>0</td><td>0</td><td>0</td><td>256</td><td>0</td><td>256</td><td>0</td><td>256</td><td>0</td><td>1.8801824 .. 0.031812657</td><td>0 .. 0</td><td>2M19310109+4619544</td><td>2MASS</td><td>-9999.99</td><td>-9999.99</td><td>-9999.99</td><td>-9999.99</td><td>-9999.99</td><td>-9999.99</td><td>-9999.99</td><td>-9999.99</td><td>-9999.99</td><td>-9999.99</td><td>-9999.99</td><td>-9999.99</td><td>-9999.99</td><td>-9999.99</td><td>7.219</td><td>0.019</td><td>7.23</td><td>0.0</td><td>-0.10465216</td><td>RJCE_WISE_OPS</td><td>-0.057834007</td><td>0.09169887</td><td>-1</td><td>1</td><td>3.0</td><td>3.0</td><td>KIC</td><td>r8-5844-56027-225,r8-6934-56439-231,r8-7558-56931-225,r8-7558-57264-220,r8-7558-57293-274,r8-8476-57113-232,r8-8476-57121-238,r8-8476-57469-237,r8-8476-57554-237,r8-8579-57172-220,r8-8579-57174-220,r8-8579-57178-238,r8-8579-57496-219,r8-8579-57528-219,r8-8629-57319-285,r8-8674-57519-225,r8-8674-57520-225,r8-8674-57521-225,r8-8674-57522-225,r8-8674-57524-225,r8-8674-57561-237</td><td>r8-5844-56027-225,r8-6934-56439-231</td><td>896475 .. -1</td><td>896475 .. -1</td><td>5993.9 .. -9999.0</td><td>5.618624 .. -9999.0</td><td>0.005048140697843383</td><td>HD_182531</td><td>0.005971532240527539</td><td>0.08931624177636578</td><td>6.465080945267556</td><td>1.6904686307461039</td></tr>\n",
       "<tr><td>HD_226754</td><td>288.82187096088387</td><td>40.11368586856005</td><td>apogee.apo25m.s.stars.4465.2M19151723+4006492</td><td>4465.2M19151723+4006492</td><td>apogee.apo25m.s.l31c.2.4465.2M19151723+4006492</td><td>apStar-r8-2M19151723+4006492.fits</td><td>2M19151723+4006492</td><td>apo25m</td><td>4465</td><td>K17_072+13</td><td>8.266</td><td>0.018</td><td>8.374</td><td>0.017</td><td>8.385</td><td>0.017</td><td>288.821828</td><td>40.113667</td><td>71.6441692414</td><td>12.8908769612</td><td>-2147483584</td><td>-2147483136</td><td>0</td><td>APOGEE_NO_DERED,APOGEE_TELLURIC</td><td>apogee</td><td>0 .. 0</td><td>4</td><td>1</td><td>0</td><td>342.153</td><td>66048</td><td>PERSIST_HIGH,SUSPECT_RV_COMBINATION</td><td>512</td><td>PERSIST_HIGH</td><td>0.308871</td><td>4.82199</td><td>0.466604</td><td>0.855877</td><td>3.15712</td><td>4.97622</td><td>0.431345</td><td>0.805373</td><td>2.42042</td><td>10.6795</td><td>0.308324</td><td>0.581799</td><td>10000.0</td><td>5.0</td><td>-1.0</td><td>0.0</td><td>0.0</td><td>3175.91</td><td>33216.9</td><td>9.12873</td><td>102.65887 .. 1011.15625</td><td>5.8497543 .. 18.358978</td><td>16.266323 .. 16.266323</td><td>0.0 .. 0.0</td><td>0</td><td>0</td><td>0</td><td>22.4746</td><td>25.7747</td><td>423.78525</td><td>stars</td><td>l31c</td><td>l31c.2</td><td>20</td><td>-9999.0</td><td>9999.0</td><td>-9999.0</td><td>9999.0</td><td>-9999.0 .. 0.0</td><td>7991.9 .. 0.0</td><td>-9999.0 .. 0.0</td><td>282.84 .. 0.0</td><td>-9999.0</td><td>-9999.0</td><td>-9999.0</td><td>-9999.0</td><td>1.8990657</td><td>1.0</td><td>93.49751</td><td>-9999.0</td><td>-9999.0</td><td>-9999.0</td><td>-9999.0</td><td>2.1644123</td><td>Fd_a</td><td>1082212499</td><td>TEFF_WARN,LOGG_WARN,ALPHA_M_WARN,STAR_WARN,VSINI_WARN,TEFF_BAD,STAR_BAD,VSINI_BAD</td><td>257 .. 65536</td><td>-1.4235 .. 0.095678</td><td>0.054494955 .. 0.41149727</td><td>-9999.0 .. -9999.0</td><td>-9999.0 .. -9999.0</td><td>-9999.0 .. -9999.0</td><td>-9999.0 .. -9999.0</td><td>-9999.0</td><td>-9999.0</td><td>-9999.0</td><td>-9999.0</td><td>-9999.0</td><td>-9999.0</td><td>-9999.0</td><td>-9999.0</td><td>-9999.0</td><td>-9999.0</td><td>-9999.0</td><td>-9999.0</td><td>-9999.0</td><td>-9999.0</td><td>-9999.0</td><td>-9999.0</td><td>-9999.0</td><td>-9999.0</td><td>-9999.0</td><td>-9999.0</td><td>-9999.0</td><td>-9999.0</td><td>-9999.0</td><td>-9999.0</td><td>-9999.0</td><td>-9999.0</td><td>-9999.0</td><td>-9999.0</td><td>-9999.0</td><td>-9999.0</td><td>-9999.0</td><td>-9999.0</td><td>-9999.0</td><td>-9999.0</td><td>-9999.0</td><td>-9999.0</td><td>-9999.0</td><td>-9999.0</td><td>-9999.0</td><td>-9999.0</td><td>-9999.0</td><td>-9999.0</td><td>-9999.0</td><td>-9999.0</td><td>-9999.0</td><td>-9999.0</td><td>-9999.0</td><td>-9999.0</td><td>-9999.0</td><td>-9999.0</td><td>0</td><td>0</td><td>0</td><td>0</td><td>0</td><td>257</td><td>0</td><td>0</td><td>0</td><td>0</td><td>0</td><td>0</td><td>0</td><td>0</td><td>0</td><td>0</td><td>0</td><td>0</td><td>256</td><td>257</td><td>256</td><td>257</td><td>0</td><td>0</td><td>0</td><td>1.7399229 .. 0.01131879</td><td>0 .. 0</td><td>2M19151723+4006492</td><td>2MASS</td><td>-9999.99</td><td>-9999.99</td><td>-9999.99</td><td>-9999.99</td><td>-9999.99</td><td>-9999.99</td><td>-9999.99</td><td>-9999.99</td><td>-9999.99</td><td>-9999.99</td><td>-9999.99</td><td>-9999.99</td><td>-9999.99</td><td>-9999.99</td><td>8.44</td><td>0.019</td><td>8.433</td><td>0.02</td><td>-0.10006201</td><td>RJCE_WISE_ALLSKY</td><td>-0.10648798</td><td>0.13106051</td><td>-1</td><td>1</td><td>2.1</td><td>-0.8</td><td>NOMAD</td><td>r8-6094-56364-009,r8-6094-56438-057,r8-6997-56456-004,r8-6997-56457-004,r8-8107-57529-003</td><td>r8-6094-56364-009,r8-6094-56438-057,r8-6997-56456-004,r8-6997-56457-004</td><td>867178 .. -1</td><td>867178 .. -1</td><td>5998.0 .. -9999.0</td><td>4.5494614 .. -9999.0</td><td>0.13639581014978772</td><td>HD_226754</td><td>0.010835759895991075</td><td>0.18595980259156958</td><td>7.40678483572143</td><td>1.7474807322710402</td></tr>\n",
       "</table>"
      ],
      "text/plain": [
       "<Table length=8>\n",
       "   Name          ra_1        ...       numax              log_g       \n",
       "                             ...                                      \n",
       "  str10        float64       ...      float64            float64      \n",
       "--------- ------------------ ... ------------------ ------------------\n",
       "HD_175884 298.25514641840573 ...  7.070009372700724 1.7318952143872037\n",
       "HD_180312  283.8569085302235 ... 33.844980704291366 2.4325951600557465\n",
       "HD_180312  283.8569085302235 ... 33.844980704291366 2.4328298230639755\n",
       "HD_180475      292.818076238 ...  4.335662370014836 1.5161330743582986\n",
       "HD_181069  289.7421750517987 ...  41.45967428360941  2.517716826592933\n",
       "HD_181778 291.50507875058656 ... 22.857314085832392  2.250984883948595\n",
       "HD_182531  292.7545789841315 ...  6.465080945267556 1.6904686307461039\n",
       "HD_226754 288.82187096088387 ...   7.40678483572143 1.7474807322710402"
      ]
     },
     "execution_count": 237,
     "metadata": {},
     "output_type": "execute_result"
    }
   ],
   "source": []
  },
  {
   "cell_type": "markdown",
   "metadata": {},
   "source": [
    "### Make a Venn diagram\n"
   ]
  },
  {
   "cell_type": "code",
   "execution_count": 286,
   "metadata": {},
   "outputs": [],
   "source": [
    "from matplotlib_venn import venn2, venn3, venn3_circles\n"
   ]
  },
  {
   "cell_type": "code",
   "execution_count": 331,
   "metadata": {},
   "outputs": [],
   "source": [
    "seismic_names = set(seismic['Star_ID'])\n",
    "seismic_names.remove('HD_189636')\n",
    "seismic_names.add('HD_189636A') # typo star make A\n",
    "spec_names = set(spc_data['Object'][spc_data['Object']!='HD_176466']) # typo star remove\n",
    "all_names = set(newcat['Name'])\n",
    "giants_names = set(cat['Name'][giants].data.data.astype('S10'))\n",
    "dwarf_names = set(cat['Name'][dwarfs].data.data.astype('S10'))"
   ]
  },
  {
   "cell_type": "code",
   "execution_count": 377,
   "metadata": {},
   "outputs": [],
   "source": [
    "def label_by_id(label, ID):\n",
    "    num = v.get_label_by_id(ID).get_text() \n",
    "    v.get_label_by_id(ID).set_text(label+\"\\n\"+num)\n",
    "\n",
    "\n",
    "labels = ('Asteroseismology','Spectroscopy','All Stars')\n"
   ]
  },
  {
   "cell_type": "code",
   "execution_count": 378,
   "metadata": {},
   "outputs": [
    {
     "data": {
      "image/png": "[encoded data removed]",
      "text/plain": [
       "<Figure size 864x648 with 1 Axes>"
      ]
     },
     "metadata": {},
     "output_type": "display_data"
    }
   ],
   "source": [
    "v = venn3([seismic_names,spec_names,all_names],set_labels=labels,alpha=0.2)\n",
    "lbl = v.get_label_by_id('001')\n",
    "x, y = lbl.get_position()\n",
    "lbl.set_position((x, y-0.1))  # Or whatever\n",
    "\n",
    "venn3_circles([seismic_names,spec_names,all_names],linewidth=0.5);\n",
    "plt.savefig('../paper/venn.png')"
   ]
  },
  {
   "cell_type": "code",
   "execution_count": 297,
   "metadata": {},
   "outputs": [
    {
     "name": "stdout",
     "output_type": "stream",
     "text": [
      "Spectroscopy: HD_176466 not in main catalogue\n",
      "Asteroseismology: HD_189636 not in main catalogue\n"
     ]
    }
   ],
   "source": [
    "for name in spec_names:\n",
    "    if name not in all_names:\n",
    "        print 'Spectroscopy:',name,'not in main catalogue'\n",
    "\n",
    "for name in seismic_names:\n",
    "    if name not in all_names:\n",
    "        print 'Asteroseismology:',name,'not in main catalogue'"
   ]
  },
  {
   "cell_type": "code",
   "execution_count": 322,
   "metadata": {},
   "outputs": [
    {
     "data": {
      "text/html": [
       "&lt;Table length=1&gt;\n",
       "<table id=\"table69283051344\" class=\"table-striped table-bordered table-condensed\">\n",
       "<thead><tr><th>Star_ID</th><th>Dnu</th><th>Dnu_err</th><th>Numax</th><th>Numax_err</th><th>eps</th><th>eps_err</th></tr></thead>\n",
       "<thead><tr><th>str10</th><th>float64</th><th>float64</th><th>float64</th><th>float64</th><th>float64</th><th>float64</th></tr></thead>\n",
       "<tr><td>HD_189636</td><td>2.9103268982809842</td><td>0.013248235493462875</td><td>25.970144308219286</td><td>0.7419635016983703</td><td>0.9683943365400706</td><td>0.03773314934951546</td></tr>\n",
       "</table>"
      ],
      "text/plain": [
       "<Table length=1>\n",
       " Star_ID         Dnu         ...        eps               eps_err      \n",
       "  str10        float64       ...      float64             float64      \n",
       "--------- ------------------ ... ------------------ -------------------\n",
       "HD_189636 2.9103268982809842 ... 0.9683943365400706 0.03773314934951546"
      ]
     },
     "execution_count": 322,
     "metadata": {},
     "output_type": "execute_result"
    }
   ],
   "source": [
    "seismic[seismic['Star_ID']=='HD_189636']"
   ]
  },
  {
   "cell_type": "code",
   "execution_count": 323,
   "metadata": {},
   "outputs": [
    {
     "data": {
      "text/html": [
       "&lt;Table length=62&gt;\n",
       "<table id=\"table69283052560\" class=\"table-striped table-bordered table-condensed\">\n",
       "<thead><tr><th>Object</th><th>BJD_TDB</th><th>RV</th><th>RVerr</th><th>Teff</th><th>Teff_err</th><th>logg</th><th>logg_err</th><th>monh</th><th>monh_err</th><th>vsini</th><th>vsini_err</th><th>CCF</th><th>SNRe</th><th>n_aps</th><th>exptime</th><th>spectro</th><th>res</th><th>method</th></tr></thead>\n",
       "<thead><tr><th>str10</th><th>float64</th><th>float64</th><th>float64</th><th>float64</th><th>int64</th><th>float64</th><th>float64</th><th>float64</th><th>float64</th><th>float64</th><th>float64</th><th>float64</th><th>float64</th><th>int64</th><th>float64</th><th>str4</th><th>str1</th><th>str6</th></tr></thead>\n",
       "<tr><td>BD+36_3564</td><td>2457674.606693</td><td>-77.842</td><td>0.051</td><td>4300.66</td><td>50</td><td>2.064</td><td>0.1</td><td>-0.345</td><td>0.08</td><td>5.14</td><td>0.5</td><td>0.9805</td><td>71.8</td><td>3</td><td>250.0</td><td>tres</td><td>m</td><td>SPC2.9</td></tr>\n",
       "<tr><td>BD+39_3577</td><td>2457670.59009</td><td>-14.809</td><td>0.07</td><td>5079.32</td><td>50</td><td>2.995</td><td>0.1</td><td>-0.114</td><td>0.08</td><td>3.98</td><td>0.5</td><td>0.9886</td><td>92.8</td><td>3</td><td>220.0</td><td>tres</td><td>m</td><td>SPC2.9</td></tr>\n",
       "<tr><td>BD+42_3367</td><td>2457675.581459</td><td>-11.29</td><td>0.165</td><td>4057.12</td><td>50</td><td>2.011</td><td>0.1</td><td>-0.134</td><td>0.08</td><td>7.04</td><td>0.5</td><td>0.9642</td><td>78.2</td><td>3</td><td>180.0</td><td>tres</td><td>m</td><td>SPC2.9</td></tr>\n",
       "<tr><td>BD+42_3393</td><td>2457675.584472</td><td>22.165</td><td>0.117</td><td>4100.16</td><td>50</td><td>1.917</td><td>0.1</td><td>-0.214</td><td>0.08</td><td>6.7</td><td>0.5</td><td>0.97</td><td>69.5</td><td>3</td><td>200.0</td><td>tres</td><td>m</td><td>SPC2.9</td></tr>\n",
       "<tr><td>BD+43_3064</td><td>2457670.597634</td><td>-13.649</td><td>0.063</td><td>4266.04</td><td>50</td><td>2.031</td><td>0.1</td><td>-0.206</td><td>0.08</td><td>5.17</td><td>0.5</td><td>0.9791</td><td>69.2</td><td>3</td><td>250.0</td><td>tres</td><td>m</td><td>SPC2.9</td></tr>\n",
       "<tr><td>BD+43_3171</td><td>2457671.586446</td><td>-16.325</td><td>0.108</td><td>4071.77</td><td>50</td><td>2.025</td><td>0.1</td><td>-0.167</td><td>0.08</td><td>5.68</td><td>0.5</td><td>0.9717</td><td>68.6</td><td>3</td><td>250.0</td><td>tres</td><td>m</td><td>SPC2.9</td></tr>\n",
       "<tr><td>BD+43_3213</td><td>2457673.586228</td><td>-14.163</td><td>0.162</td><td>4131.24</td><td>50</td><td>2.074</td><td>0.1</td><td>0.073</td><td>0.08</td><td>6.24</td><td>0.5</td><td>0.9716</td><td>57.3</td><td>3</td><td>220.0</td><td>tres</td><td>m</td><td>SPC2.9</td></tr>\n",
       "<tr><td>BD+48_2955</td><td>2457676.593673</td><td>1.661</td><td>0.045</td><td>4344.0</td><td>50</td><td>2.106</td><td>0.1</td><td>-0.323</td><td>0.08</td><td>4.78</td><td>0.5</td><td>0.9742</td><td>31.7</td><td>3</td><td>45.0</td><td>tres</td><td>m</td><td>SPC2.9</td></tr>\n",
       "<tr><td>HD_174020</td><td>2457670.580448</td><td>-14.835</td><td>0.077</td><td>4161.69</td><td>50</td><td>1.973</td><td>0.1</td><td>-0.1</td><td>0.08</td><td>5.81</td><td>0.5</td><td>0.977</td><td>120.1</td><td>3</td><td>200.0</td><td>tres</td><td>m</td><td>SPC2.9</td></tr>\n",
       "<tr><td>HD_174676</td><td>2457670.59381</td><td>-33.975</td><td>0.631</td><td>4057.85</td><td>50</td><td>2.64</td><td>0.1</td><td>-0.023</td><td>0.08</td><td>9.12</td><td>0.5</td><td>0.9343</td><td>72.5</td><td>3</td><td>220.0</td><td>tres</td><td>m</td><td>SPC2.9</td></tr>\n",
       "<tr><td>...</td><td>...</td><td>...</td><td>...</td><td>...</td><td>...</td><td>...</td><td>...</td><td>...</td><td>...</td><td>...</td><td>...</td><td>...</td><td>...</td><td>...</td><td>...</td><td>...</td><td>...</td><td>...</td></tr>\n",
       "<tr><td>HD_187372</td><td>2457676.590755</td><td>3.86</td><td>0.213</td><td>4028.31</td><td>50</td><td>2.119</td><td>0.1</td><td>-0.075</td><td>0.08</td><td>7.06</td><td>0.5</td><td>0.9625</td><td>77.7</td><td>3</td><td>45.0</td><td>tres</td><td>m</td><td>SPC2.9</td></tr>\n",
       "<tr><td>HD_188537</td><td>2457677.568327</td><td>-18.029</td><td>0.152</td><td>4960.57</td><td>50</td><td>2.411</td><td>0.1</td><td>-0.084</td><td>0.08</td><td>10.68</td><td>0.5</td><td>0.9849</td><td>67.0</td><td>3</td><td>135.0</td><td>tres</td><td>m</td><td>SPC2.9</td></tr>\n",
       "<tr><td>HD_188629</td><td>2457677.572408</td><td>10.967</td><td>0.084</td><td>4227.17</td><td>50</td><td>2.008</td><td>0.1</td><td>-0.1</td><td>0.08</td><td>5.53</td><td>0.5</td><td>0.9762</td><td>51.3</td><td>3</td><td>180.0</td><td>tres</td><td>m</td><td>SPC2.9</td></tr>\n",
       "<tr><td>HD_188875</td><td>2457646.802336</td><td>-13.706</td><td>0.079</td><td>4472.76</td><td>50</td><td>1.949</td><td>0.1</td><td>-0.172</td><td>0.08</td><td>7.07</td><td>0.5</td><td>0.9809</td><td>143.2</td><td>3</td><td>120.0</td><td>tres</td><td>m</td><td>SPC2.9</td></tr>\n",
       "<tr><td>HD_188875</td><td>2457677.575731</td><td>-13.722</td><td>0.061</td><td>4467.04</td><td>50</td><td>1.936</td><td>0.1</td><td>-0.187</td><td>0.08</td><td>7.08</td><td>0.5</td><td>0.9803</td><td>78.3</td><td>3</td><td>70.0</td><td>tres</td><td>m</td><td>SPC2.9</td></tr>\n",
       "<tr><td>HD_190149</td><td>2457677.583546</td><td>-28.262</td><td>0.184</td><td>4030.96</td><td>50</td><td>2.06</td><td>0.1</td><td>-0.093</td><td>0.08</td><td>6.69</td><td>0.5</td><td>0.9643</td><td>104.6</td><td>3</td><td>180.0</td><td>tres</td><td>m</td><td>SPC2.9</td></tr>\n",
       "<tr><td>HD_226754</td><td>2457677.579291</td><td>18.655</td><td>0.102</td><td>4370.17</td><td>50</td><td>2.363</td><td>0.1</td><td>0.081</td><td>0.08</td><td>4.78</td><td>0.5</td><td>0.9795</td><td>62.5</td><td>3</td><td>240.0</td><td>tres</td><td>m</td><td>SPC2.9</td></tr>\n",
       "<tr><td>V398_Lyr</td><td>2457671.570308</td><td>68.565</td><td>39.733</td><td>4114.4</td><td>73</td><td>3.457</td><td>0.125</td><td>0.5</td><td>0.08</td><td>77.89</td><td>0.5</td><td>0.874</td><td>81.8</td><td>3</td><td>90.0</td><td>tres</td><td>m</td><td>SPC2.9</td></tr>\n",
       "<tr><td>V546_Lyr</td><td>2457671.574686</td><td>-7.448</td><td>0.649</td><td>4053.32</td><td>50</td><td>2.669</td><td>0.1</td><td>0.195</td><td>0.08</td><td>9.32</td><td>0.5</td><td>0.9339</td><td>72.5</td><td>3</td><td>100.0</td><td>tres</td><td>m</td><td>SPC2.9</td></tr>\n",
       "<tr><td>V547_Lyr</td><td>2457671.566258</td><td>-5.513</td><td>1.383</td><td>4055.1</td><td>50</td><td>2.728</td><td>0.1</td><td>0.327</td><td>0.08</td><td>12.6</td><td>0.5</td><td>0.9219</td><td>130.0</td><td>3</td><td>90.0</td><td>tres</td><td>m</td><td>SPC2.9</td></tr>\n",
       "</table>"
      ],
      "text/plain": [
       "<Table length=62>\n",
       "  Object      BJD_TDB        RV    RVerr  ... exptime spectro res  method\n",
       "  str10       float64     float64 float64 ... float64   str4  str1  str6 \n",
       "---------- -------------- ------- ------- ... ------- ------- ---- ------\n",
       "BD+36_3564 2457674.606693 -77.842   0.051 ...   250.0    tres    m SPC2.9\n",
       "BD+39_3577  2457670.59009 -14.809    0.07 ...   220.0    tres    m SPC2.9\n",
       "BD+42_3367 2457675.581459  -11.29   0.165 ...   180.0    tres    m SPC2.9\n",
       "BD+42_3393 2457675.584472  22.165   0.117 ...   200.0    tres    m SPC2.9\n",
       "BD+43_3064 2457670.597634 -13.649   0.063 ...   250.0    tres    m SPC2.9\n",
       "BD+43_3171 2457671.586446 -16.325   0.108 ...   250.0    tres    m SPC2.9\n",
       "BD+43_3213 2457673.586228 -14.163   0.162 ...   220.0    tres    m SPC2.9\n",
       "BD+48_2955 2457676.593673   1.661   0.045 ...    45.0    tres    m SPC2.9\n",
       " HD_174020 2457670.580448 -14.835   0.077 ...   200.0    tres    m SPC2.9\n",
       " HD_174676  2457670.59381 -33.975   0.631 ...   220.0    tres    m SPC2.9\n",
       "       ...            ...     ...     ... ...     ...     ...  ...    ...\n",
       " HD_187372 2457676.590755    3.86   0.213 ...    45.0    tres    m SPC2.9\n",
       " HD_188537 2457677.568327 -18.029   0.152 ...   135.0    tres    m SPC2.9\n",
       " HD_188629 2457677.572408  10.967   0.084 ...   180.0    tres    m SPC2.9\n",
       " HD_188875 2457646.802336 -13.706   0.079 ...   120.0    tres    m SPC2.9\n",
       " HD_188875 2457677.575731 -13.722   0.061 ...    70.0    tres    m SPC2.9\n",
       " HD_190149 2457677.583546 -28.262   0.184 ...   180.0    tres    m SPC2.9\n",
       " HD_226754 2457677.579291  18.655   0.102 ...   240.0    tres    m SPC2.9\n",
       "  V398_Lyr 2457671.570308  68.565  39.733 ...    90.0    tres    m SPC2.9\n",
       "  V546_Lyr 2457671.574686  -7.448   0.649 ...   100.0    tres    m SPC2.9\n",
       "  V547_Lyr 2457671.566258  -5.513   1.383 ...    90.0    tres    m SPC2.9"
      ]
     },
     "execution_count": 323,
     "metadata": {},
     "output_type": "execute_result"
    }
   ],
   "source": [
    "spc_data[spc_data['Object']!='HD_176466']"
   ]
  },
  {
   "cell_type": "code",
   "execution_count": 316,
   "metadata": {},
   "outputs": [
    {
     "data": {
      "text/html": [
       "&lt;Table length=63&gt;\n",
       "<table id=\"table69266070288\" class=\"table-striped table-bordered table-condensed\">\n",
       "<thead><tr><th>Object</th><th>BJD_TDB</th><th>RV</th><th>RVerr</th><th>Teff</th><th>Teff_err</th><th>logg</th><th>logg_err</th><th>monh</th><th>monh_err</th><th>vsini</th><th>vsini_err</th><th>CCF</th><th>SNRe</th><th>n_aps</th><th>exptime</th><th>spectro</th><th>res</th><th>method</th></tr></thead>\n",
       "<thead><tr><th>str10</th><th>float64</th><th>float64</th><th>float64</th><th>float64</th><th>int64</th><th>float64</th><th>float64</th><th>float64</th><th>float64</th><th>float64</th><th>float64</th><th>float64</th><th>float64</th><th>int64</th><th>float64</th><th>str4</th><th>str1</th><th>str6</th></tr></thead>\n",
       "<tr><td>BD+36_3564</td><td>2457674.606693</td><td>-77.842</td><td>0.051</td><td>4300.66</td><td>50</td><td>2.064</td><td>0.1</td><td>-0.345</td><td>0.08</td><td>5.14</td><td>0.5</td><td>0.9805</td><td>71.8</td><td>3</td><td>250.0</td><td>tres</td><td>m</td><td>SPC2.9</td></tr>\n",
       "<tr><td>BD+39_3577</td><td>2457670.59009</td><td>-14.809</td><td>0.07</td><td>5079.32</td><td>50</td><td>2.995</td><td>0.1</td><td>-0.114</td><td>0.08</td><td>3.98</td><td>0.5</td><td>0.9886</td><td>92.8</td><td>3</td><td>220.0</td><td>tres</td><td>m</td><td>SPC2.9</td></tr>\n",
       "<tr><td>BD+42_3367</td><td>2457675.581459</td><td>-11.29</td><td>0.165</td><td>4057.12</td><td>50</td><td>2.011</td><td>0.1</td><td>-0.134</td><td>0.08</td><td>7.04</td><td>0.5</td><td>0.9642</td><td>78.2</td><td>3</td><td>180.0</td><td>tres</td><td>m</td><td>SPC2.9</td></tr>\n",
       "<tr><td>BD+42_3393</td><td>2457675.584472</td><td>22.165</td><td>0.117</td><td>4100.16</td><td>50</td><td>1.917</td><td>0.1</td><td>-0.214</td><td>0.08</td><td>6.7</td><td>0.5</td><td>0.97</td><td>69.5</td><td>3</td><td>200.0</td><td>tres</td><td>m</td><td>SPC2.9</td></tr>\n",
       "<tr><td>BD+43_3064</td><td>2457670.597634</td><td>-13.649</td><td>0.063</td><td>4266.04</td><td>50</td><td>2.031</td><td>0.1</td><td>-0.206</td><td>0.08</td><td>5.17</td><td>0.5</td><td>0.9791</td><td>69.2</td><td>3</td><td>250.0</td><td>tres</td><td>m</td><td>SPC2.9</td></tr>\n",
       "<tr><td>BD+43_3171</td><td>2457671.586446</td><td>-16.325</td><td>0.108</td><td>4071.77</td><td>50</td><td>2.025</td><td>0.1</td><td>-0.167</td><td>0.08</td><td>5.68</td><td>0.5</td><td>0.9717</td><td>68.6</td><td>3</td><td>250.0</td><td>tres</td><td>m</td><td>SPC2.9</td></tr>\n",
       "<tr><td>BD+43_3213</td><td>2457673.586228</td><td>-14.163</td><td>0.162</td><td>4131.24</td><td>50</td><td>2.074</td><td>0.1</td><td>0.073</td><td>0.08</td><td>6.24</td><td>0.5</td><td>0.9716</td><td>57.3</td><td>3</td><td>220.0</td><td>tres</td><td>m</td><td>SPC2.9</td></tr>\n",
       "<tr><td>BD+48_2955</td><td>2457676.593673</td><td>1.661</td><td>0.045</td><td>4344.0</td><td>50</td><td>2.106</td><td>0.1</td><td>-0.323</td><td>0.08</td><td>4.78</td><td>0.5</td><td>0.9742</td><td>31.7</td><td>3</td><td>45.0</td><td>tres</td><td>m</td><td>SPC2.9</td></tr>\n",
       "<tr><td>HD_174020</td><td>2457670.580448</td><td>-14.835</td><td>0.077</td><td>4161.69</td><td>50</td><td>1.973</td><td>0.1</td><td>-0.1</td><td>0.08</td><td>5.81</td><td>0.5</td><td>0.977</td><td>120.1</td><td>3</td><td>200.0</td><td>tres</td><td>m</td><td>SPC2.9</td></tr>\n",
       "<tr><td>HD_174676</td><td>2457670.59381</td><td>-33.975</td><td>0.631</td><td>4057.85</td><td>50</td><td>2.64</td><td>0.1</td><td>-0.023</td><td>0.08</td><td>9.12</td><td>0.5</td><td>0.9343</td><td>72.5</td><td>3</td><td>220.0</td><td>tres</td><td>m</td><td>SPC2.9</td></tr>\n",
       "<tr><td>...</td><td>...</td><td>...</td><td>...</td><td>...</td><td>...</td><td>...</td><td>...</td><td>...</td><td>...</td><td>...</td><td>...</td><td>...</td><td>...</td><td>...</td><td>...</td><td>...</td><td>...</td><td>...</td></tr>\n",
       "<tr><td>HD_187372</td><td>2457676.590755</td><td>3.86</td><td>0.213</td><td>4028.31</td><td>50</td><td>2.119</td><td>0.1</td><td>-0.075</td><td>0.08</td><td>7.06</td><td>0.5</td><td>0.9625</td><td>77.7</td><td>3</td><td>45.0</td><td>tres</td><td>m</td><td>SPC2.9</td></tr>\n",
       "<tr><td>HD_188537</td><td>2457677.568327</td><td>-18.029</td><td>0.152</td><td>4960.57</td><td>50</td><td>2.411</td><td>0.1</td><td>-0.084</td><td>0.08</td><td>10.68</td><td>0.5</td><td>0.9849</td><td>67.0</td><td>3</td><td>135.0</td><td>tres</td><td>m</td><td>SPC2.9</td></tr>\n",
       "<tr><td>HD_188629</td><td>2457677.572408</td><td>10.967</td><td>0.084</td><td>4227.17</td><td>50</td><td>2.008</td><td>0.1</td><td>-0.1</td><td>0.08</td><td>5.53</td><td>0.5</td><td>0.9762</td><td>51.3</td><td>3</td><td>180.0</td><td>tres</td><td>m</td><td>SPC2.9</td></tr>\n",
       "<tr><td>HD_188875</td><td>2457646.802336</td><td>-13.706</td><td>0.079</td><td>4472.76</td><td>50</td><td>1.949</td><td>0.1</td><td>-0.172</td><td>0.08</td><td>7.07</td><td>0.5</td><td>0.9809</td><td>143.2</td><td>3</td><td>120.0</td><td>tres</td><td>m</td><td>SPC2.9</td></tr>\n",
       "<tr><td>HD_188875</td><td>2457677.575731</td><td>-13.722</td><td>0.061</td><td>4467.04</td><td>50</td><td>1.936</td><td>0.1</td><td>-0.187</td><td>0.08</td><td>7.08</td><td>0.5</td><td>0.9803</td><td>78.3</td><td>3</td><td>70.0</td><td>tres</td><td>m</td><td>SPC2.9</td></tr>\n",
       "<tr><td>HD_190149</td><td>2457677.583546</td><td>-28.262</td><td>0.184</td><td>4030.96</td><td>50</td><td>2.06</td><td>0.1</td><td>-0.093</td><td>0.08</td><td>6.69</td><td>0.5</td><td>0.9643</td><td>104.6</td><td>3</td><td>180.0</td><td>tres</td><td>m</td><td>SPC2.9</td></tr>\n",
       "<tr><td>HD_226754</td><td>2457677.579291</td><td>18.655</td><td>0.102</td><td>4370.17</td><td>50</td><td>2.363</td><td>0.1</td><td>0.081</td><td>0.08</td><td>4.78</td><td>0.5</td><td>0.9795</td><td>62.5</td><td>3</td><td>240.0</td><td>tres</td><td>m</td><td>SPC2.9</td></tr>\n",
       "<tr><td>V398_Lyr</td><td>2457671.570308</td><td>68.565</td><td>39.733</td><td>4114.4</td><td>73</td><td>3.457</td><td>0.125</td><td>0.5</td><td>0.08</td><td>77.89</td><td>0.5</td><td>0.874</td><td>81.8</td><td>3</td><td>90.0</td><td>tres</td><td>m</td><td>SPC2.9</td></tr>\n",
       "<tr><td>V546_Lyr</td><td>2457671.574686</td><td>-7.448</td><td>0.649</td><td>4053.32</td><td>50</td><td>2.669</td><td>0.1</td><td>0.195</td><td>0.08</td><td>9.32</td><td>0.5</td><td>0.9339</td><td>72.5</td><td>3</td><td>100.0</td><td>tres</td><td>m</td><td>SPC2.9</td></tr>\n",
       "<tr><td>V547_Lyr</td><td>2457671.566258</td><td>-5.513</td><td>1.383</td><td>4055.1</td><td>50</td><td>2.728</td><td>0.1</td><td>0.327</td><td>0.08</td><td>12.6</td><td>0.5</td><td>0.9219</td><td>130.0</td><td>3</td><td>90.0</td><td>tres</td><td>m</td><td>SPC2.9</td></tr>\n",
       "</table>"
      ],
      "text/plain": [
       "<Table length=63>\n",
       "  Object      BJD_TDB        RV    RVerr  ... exptime spectro res  method\n",
       "  str10       float64     float64 float64 ... float64   str4  str1  str6 \n",
       "---------- -------------- ------- ------- ... ------- ------- ---- ------\n",
       "BD+36_3564 2457674.606693 -77.842   0.051 ...   250.0    tres    m SPC2.9\n",
       "BD+39_3577  2457670.59009 -14.809    0.07 ...   220.0    tres    m SPC2.9\n",
       "BD+42_3367 2457675.581459  -11.29   0.165 ...   180.0    tres    m SPC2.9\n",
       "BD+42_3393 2457675.584472  22.165   0.117 ...   200.0    tres    m SPC2.9\n",
       "BD+43_3064 2457670.597634 -13.649   0.063 ...   250.0    tres    m SPC2.9\n",
       "BD+43_3171 2457671.586446 -16.325   0.108 ...   250.0    tres    m SPC2.9\n",
       "BD+43_3213 2457673.586228 -14.163   0.162 ...   220.0    tres    m SPC2.9\n",
       "BD+48_2955 2457676.593673   1.661   0.045 ...    45.0    tres    m SPC2.9\n",
       " HD_174020 2457670.580448 -14.835   0.077 ...   200.0    tres    m SPC2.9\n",
       " HD_174676  2457670.59381 -33.975   0.631 ...   220.0    tres    m SPC2.9\n",
       "       ...            ...     ...     ... ...     ...     ...  ...    ...\n",
       " HD_187372 2457676.590755    3.86   0.213 ...    45.0    tres    m SPC2.9\n",
       " HD_188537 2457677.568327 -18.029   0.152 ...   135.0    tres    m SPC2.9\n",
       " HD_188629 2457677.572408  10.967   0.084 ...   180.0    tres    m SPC2.9\n",
       " HD_188875 2457646.802336 -13.706   0.079 ...   120.0    tres    m SPC2.9\n",
       " HD_188875 2457677.575731 -13.722   0.061 ...    70.0    tres    m SPC2.9\n",
       " HD_190149 2457677.583546 -28.262   0.184 ...   180.0    tres    m SPC2.9\n",
       " HD_226754 2457677.579291  18.655   0.102 ...   240.0    tres    m SPC2.9\n",
       "  V398_Lyr 2457671.570308  68.565  39.733 ...    90.0    tres    m SPC2.9\n",
       "  V546_Lyr 2457671.574686  -7.448   0.649 ...   100.0    tres    m SPC2.9\n",
       "  V547_Lyr 2457671.566258  -5.513   1.383 ...    90.0    tres    m SPC2.9"
      ]
     },
     "execution_count": 316,
     "metadata": {},
     "output_type": "execute_result"
    }
   ],
   "source": [
    "spc_data"
   ]
  },
  {
   "cell_type": "code",
   "execution_count": 320,
   "metadata": {},
   "outputs": [
    {
     "data": {
      "text/html": [
       "&lt;Table length=35&gt;\n",
       "<table id=\"table4808046928\" class=\"table-striped table-bordered table-condensed\">\n",
       "<thead><tr><th>Star_ID</th><th>Dnu</th><th>Dnu_err</th><th>Numax</th><th>Numax_err</th><th>eps</th><th>eps_err</th></tr></thead>\n",
       "<thead><tr><th>str10</th><th>float64</th><th>float64</th><th>float64</th><th>float64</th><th>float64</th><th>float64</th></tr></thead>\n",
       "<tr><td>BD+36_3564</td><td>0.9490949804411055</td><td>0.030097283743239316</td><td>5.079062736733746</td><td>0.09882652247868091</td><td>0.8305746287171062</td><td>0.20003026391376488</td></tr>\n",
       "<tr><td>BD+39_3577</td><td>1.6836250688792482</td><td>0.01363988821142889</td><td>13.266855807051439</td><td>0.31633186319569034</td><td>0.7409609522947077</td><td>0.06299253167276896</td></tr>\n",
       "<tr><td>BD+42_3150</td><td>4.221788591943251</td><td>0.028504804862306103</td><td>38.315943379269186</td><td>0.9588694546996247</td><td>0.7013731801198373</td><td>0.07075600621249865</td></tr>\n",
       "<tr><td>BD+43_3171</td><td>0.41728859981040545</td><td>0.05318387492844148</td><td>1.984298734336489</td><td>0.05145104900196677</td><td>0.8040170562496404</td><td>0.17159665699501567</td></tr>\n",
       "<tr><td>BD+43_3213</td><td>0.48750734592283734</td><td>0.006958633078022336</td><td>2.5632797174106847</td><td>0.06325084146747773</td><td>1.0124195735754942</td><td>0.07326685394355063</td></tr>\n",
       "<tr><td>BD+48_2904</td><td>2.8511597676805804</td><td>0.010318892608438912</td><td>23.13453453354469</td><td>0.7225398099392429</td><td>0.8563054208127122</td><td>0.08052669688943252</td></tr>\n",
       "<tr><td>BD+48_2955</td><td>0.8953098233940573</td><td>0.0068208356847463585</td><td>5.440132725276065</td><td>0.08331498484403516</td><td>0.8105480979445374</td><td>0.052471147709803705</td></tr>\n",
       "<tr><td>HD_174020</td><td>0.5639183284003043</td><td>0.01603666749035637</td><td>2.47548965209216</td><td>0.09744999575175439</td><td>0.8926590744791576</td><td>0.08467569516842773</td></tr>\n",
       "<tr><td>HD_174829</td><td>1.2833572675283929</td><td>0.011357043983480081</td><td>7.9497984768617815</td><td>0.1571667547811646</td><td>0.7755393571480604</td><td>0.05755641850899791</td></tr>\n",
       "<tr><td>HD_175740</td><td>5.930230004063379</td><td>0.010423967130974505</td><td>64.33345016648104</td><td>0.781397165223729</td><td>1.0017574684895851</td><td>0.019432829648297706</td></tr>\n",
       "<tr><td>...</td><td>...</td><td>...</td><td>...</td><td>...</td><td>...</td><td>...</td></tr>\n",
       "<tr><td>HD_182354</td><td>2.6567259425373924</td><td>0.0116743978566671</td><td>24.73075125143719</td><td>0.3707943073028773</td><td>0.7424211095150425</td><td>0.041177248862450624</td></tr>\n",
       "<tr><td>HD_182531</td><td>1.0303790538910182</td><td>0.004200581130585748</td><td>6.465080945267556</td><td>0.08931624177636578</td><td>0.8644896897235024</td><td>0.027293960706728466</td></tr>\n",
       "<tr><td>HD_182692</td><td>4.656371955263934</td><td>0.010792609608257217</td><td>44.38373487371614</td><td>0.469132553990273</td><td>0.8736919472802216</td><td>0.022597153253640357</td></tr>\n",
       "<tr><td>HD_182694</td><td>5.71435782334927</td><td>0.014267235676153614</td><td>69.7756254063585</td><td>1.017847172490138</td><td>0.9395935999968813</td><td>0.2516523703726711</td></tr>\n",
       "<tr><td>HD_183124</td><td>4.3919882085523305</td><td>0.013079012313137814</td><td>39.585673622735754</td><td>0.2876104937870424</td><td>0.9451337192882556</td><td>0.027794156928306737</td></tr>\n",
       "<tr><td>HD_185286</td><td>0.7202161705442813</td><td>0.007066328212678815</td><td>4.226733266919384</td><td>0.10176701279630138</td><td>0.7275758136813686</td><td>0.08183138701360353</td></tr>\n",
       "<tr><td>HD_188537</td><td>1.5481552727523136</td><td>0.01087246922323641</td><td>13.402868450842114</td><td>0.3426745085090518</td><td>0.7178796532748889</td><td>0.06718021726784126</td></tr>\n",
       "<tr><td>HD_189636</td><td>2.9103268982809842</td><td>0.013248235493462875</td><td>25.970144308219286</td><td>0.7419635016983703</td><td>0.9683943365400706</td><td>0.03773314934951546</td></tr>\n",
       "<tr><td>HD_189750</td><td>4.156962281052604</td><td>0.03829971628489321</td><td>36.14219592398721</td><td>0.5754661116683394</td><td>0.9436460960784349</td><td>0.07974840612479843</td></tr>\n",
       "<tr><td>HD_226754</td><td>1.187709408421745</td><td>0.012942784192061485</td><td>7.40678483572143</td><td>0.18595980259156958</td><td>0.7353868227670696</td><td>0.07705968190684095</td></tr>\n",
       "</table>"
      ],
      "text/plain": [
       "<Table length=35>\n",
       " Star_ID           Dnu         ...        eps               eps_err       \n",
       "  str10          float64       ...      float64             float64       \n",
       "---------- ------------------- ... ------------------ --------------------\n",
       "BD+36_3564  0.9490949804411055 ... 0.8305746287171062  0.20003026391376488\n",
       "BD+39_3577  1.6836250688792482 ... 0.7409609522947077  0.06299253167276896\n",
       "BD+42_3150   4.221788591943251 ... 0.7013731801198373  0.07075600621249865\n",
       "BD+43_3171 0.41728859981040545 ... 0.8040170562496404  0.17159665699501567\n",
       "BD+43_3213 0.48750734592283734 ... 1.0124195735754942  0.07326685394355063\n",
       "BD+48_2904  2.8511597676805804 ... 0.8563054208127122  0.08052669688943252\n",
       "BD+48_2955  0.8953098233940573 ... 0.8105480979445374 0.052471147709803705\n",
       " HD_174020  0.5639183284003043 ... 0.8926590744791576  0.08467569516842773\n",
       " HD_174829  1.2833572675283929 ... 0.7755393571480604  0.05755641850899791\n",
       " HD_175740   5.930230004063379 ... 1.0017574684895851 0.019432829648297706\n",
       "       ...                 ... ...                ...                  ...\n",
       " HD_182354  2.6567259425373924 ... 0.7424211095150425 0.041177248862450624\n",
       " HD_182531  1.0303790538910182 ... 0.8644896897235024 0.027293960706728466\n",
       " HD_182692   4.656371955263934 ... 0.8736919472802216 0.022597153253640357\n",
       " HD_182694    5.71435782334927 ... 0.9395935999968813   0.2516523703726711\n",
       " HD_183124  4.3919882085523305 ... 0.9451337192882556 0.027794156928306737\n",
       " HD_185286  0.7202161705442813 ... 0.7275758136813686  0.08183138701360353\n",
       " HD_188537  1.5481552727523136 ... 0.7178796532748889  0.06718021726784126\n",
       " HD_189636  2.9103268982809842 ... 0.9683943365400706  0.03773314934951546\n",
       " HD_189750   4.156962281052604 ... 0.9436460960784349  0.07974840612479843\n",
       " HD_226754   1.187709408421745 ... 0.7353868227670696  0.07705968190684095"
      ]
     },
     "execution_count": 320,
     "metadata": {},
     "output_type": "execute_result"
    }
   ],
   "source": [
    "seismic"
   ]
  },
  {
   "cell_type": "code",
   "execution_count": 355,
   "metadata": {},
   "outputs": [
    {
     "data": {
      "text/html": [
       "&lt;Table masked=True length=64&gt;\n",
       "<table id=\"table69284479440\" class=\"table-striped table-bordered table-condensed\">\n",
       "<thead><tr><th>input_position</th><th>distance</th><th>source_id</th><th>designation</th><th>ra</th><th>dec</th><th>l</th><th>b</th><th>ecl_lon</th><th>ecl_lat</th><th>parallax</th><th>pmra</th><th>pmdec</th><th>phot_g_mean_mag</th><th>phot_bp_mean_mag</th><th>phot_rp_mean_mag</th><th>ra_error</th><th>dec_error</th><th>parallax_error</th><th>pmra_error</th><th>pmdec_error</th><th>a_g_percentile_lower</th><th>a_g_percentile_upper</th><th>a_g_val</th><th>astrometric_chi2_al</th><th>astrometric_excess_noise</th><th>astrometric_excess_noise_sig</th><th>astrometric_gof_al</th><th>astrometric_matched_observations</th><th>astrometric_n_bad_obs_al</th><th>astrometric_n_good_obs_al</th><th>astrometric_n_obs_ac</th><th>astrometric_n_obs_al</th><th>astrometric_params_solved</th><th>astrometric_primary_flag</th><th>astrometric_pseudo_colour</th><th>astrometric_pseudo_colour_error</th><th>astrometric_sigma5d_max</th><th>astrometric_weight_al</th><th>bp_g</th><th>bp_rp</th><th>dec_parallax_corr</th><th>dec_pmdec_corr</th><th>dec_pmra_corr</th><th>duplicated_source</th><th>e_bp_min_rp_percentile_lower</th><th>e_bp_min_rp_percentile_upper</th><th>e_bp_min_rp_val</th><th>flame_flags</th><th>frame_rotator_object_type</th><th>g_rp</th><th>lum_percentile_lower</th><th>lum_percentile_upper</th><th>lum_val</th><th>matched_observations</th><th>mean_varpi_factor_al</th><th>parallax_over_error</th><th>parallax_pmdec_corr</th><th>parallax_pmra_corr</th><th>phot_bp_mean_flux</th><th>phot_bp_mean_flux_error</th><th>phot_bp_mean_flux_over_error</th><th>phot_bp_n_obs</th><th>phot_bp_rp_excess_factor</th><th>phot_g_mean_flux</th><th>phot_g_mean_flux_error</th><th>phot_g_mean_flux_over_error</th><th>phot_g_n_obs</th><th>phot_proc_mode</th><th>phot_rp_mean_flux</th><th>phot_rp_mean_flux_error</th><th>phot_rp_mean_flux_over_error</th><th>phot_rp_n_obs</th><th>phot_variable_flag</th><th>pmra_pmdec_corr</th><th>priam_flags</th><th>ra_dec_corr</th><th>radial_velocity</th><th>radial_velocity_error</th><th>radius_percentile_lower</th><th>radius_percentile_upper</th><th>radius_val</th><th>random_index</th><th>ra_parallax_corr</th><th>ra_pmdec_corr</th><th>ra_pmra_corr</th><th>ref_epoch</th><th>rv_nb_transits</th><th>rv_template_fe_h</th><th>rv_template_logg</th><th>rv_template_teff</th><th>solution_id</th><th>teff_percentile_lower</th><th>teff_percentile_upper</th><th>teff_val</th><th>visibility_periods_used</th><th>other_ids</th><th>bp</th><th>rp</th><th>gg</th></tr></thead>\n",
       "<thead><tr><th>str37</th><th>float64</th><th>int64</th><th>str28</th><th>float64</th><th>float64</th><th>float64</th><th>float64</th><th>float64</th><th>float64</th><th>float64</th><th>float64</th><th>float64</th><th>float64</th><th>float64</th><th>float64</th><th>float64</th><th>float64</th><th>float64</th><th>float64</th><th>float64</th><th>float64</th><th>float64</th><th>float64</th><th>float64</th><th>float64</th><th>float64</th><th>float64</th><th>int64</th><th>int64</th><th>int64</th><th>int64</th><th>int64</th><th>int64</th><th>str5</th><th>float64</th><th>float64</th><th>float64</th><th>float64</th><th>float64</th><th>float64</th><th>float64</th><th>float64</th><th>float64</th><th>str5</th><th>float64</th><th>float64</th><th>float64</th><th>int64</th><th>int64</th><th>float64</th><th>float64</th><th>float64</th><th>float64</th><th>int64</th><th>float64</th><th>float64</th><th>float64</th><th>float64</th><th>float64</th><th>float64</th><th>float64</th><th>int64</th><th>float64</th><th>float64</th><th>float64</th><th>float64</th><th>int64</th><th>int64</th><th>float64</th><th>float64</th><th>float64</th><th>int64</th><th>str13</th><th>float64</th><th>int64</th><th>float64</th><th>float64</th><th>float64</th><th>float64</th><th>float64</th><th>float64</th><th>int64</th><th>float64</th><th>float64</th><th>float64</th><th>float64</th><th>int64</th><th>float64</th><th>float64</th><th>float64</th><th>int64</th><th>float64</th><th>float64</th><th>float64</th><th>int64</th><th>str28</th><th>float64</th><th>float64</th><th>float64</th></tr></thead>\n",
       "<tr><td>294.1582345833333,44.69493333333333</td><td>0.0006078377994890612</td><td>2078403295235690112</td><td>Gaia DR2 2078403295235690112</td><td>294.1576613499853</td><td>44.69448231480843</td><td>77.61644228870902</td><td>11.347387231165781</td><td>312.6951645881019</td><td>64.59420975655614</td><td>24.22482944765907</td><td>-94.64522002443373</td><td>-104.75776590172211</td><td>4.881522178649902</td><td>5.411072254180908</td><td>4.319572448730469</td><td>0.0679459077063868</td><td>0.07933510146610871</td><td>0.08163753405368554</td><td>0.144007252142095</td><td>0.14911525962800476</td><td>--</td><td>--</td><td>--</td><td>4063.948486328125</td><td>0.4425878915059835</td><td>84.67939116325037</td><td>51.48613357543945</td><td>33</td><td>36</td><td>252</td><td>288</td><td>288</td><td>31</td><td>True</td><td>1.610029015012789</td><td>0.02095372703733317</td><td>0.08374776691198349</td><td>4.706881999969482</td><td>0.5295500755310059</td><td>1.0914998054504395</td><td>0.2728261947631836</td><td>-0.31833821535110474</td><td>0.004560244269669056</td><td>False</td><td>--</td><td>--</td><td>--</td><td>200111</td><td>0</td><td>0.5619497299194336</td><td>15.493436813354492</td><td>15.640565872192383</td><td>15.567001342773438</td><td>40</td><td>0.031114432960748672</td><td>296.7364196777344</td><td>-0.15687263011932373</td><td>-0.1756175309419632</td><td>94651233.39013226</td><td>150453.04320468716</td><td>629.108154296875</td><td>29</td><td>1.1650108098983765</td><td>210250677.1209011</td><td>464806.81637667125</td><td>452.33990478515625</td><td>303</td><td>0</td><td>150293078.18931442</td><td>514633.6024309169</td><td>292.03900146484375</td><td>30</td><td>NOT_AVAILABLE</td><td>-0.040227338671684265</td><td>100001</td><td>0.025878285989165306</td><td>-5.769665696259143</td><td>0.13974042319840518</td><td>5.160460948944092</td><td>5.359276294708252</td><td>5.2223615646362305</td><td>664503610</td><td>0.19855426251888275</td><td>0.015638379380106926</td><td>-0.2254740297794342</td><td>2015.5</td><td>12</td><td>0.0</td><td>3.5</td><td>5000.0</td><td>1635721458409799680</td><td>4952.5</td><td>5047.0</td><td>5017.0</td><td>16</td><td>--</td><td>5.411072254180908</td><td>4.319572448730469</td><td>4.881522178649902</td></tr>\n",
       "<tr><td>283.71740624999995,41.60272027777778</td><td>1.2838448064014493e-05</td><td>2104485016711846656</td><td>Gaia DR2 2104485016711846656</td><td>283.71739473102826</td><td>41.602710757624294</td><td>71.4923869942412</td><td>17.02513595743053</td><td>293.781794973918</td><td>63.913772864725594</td><td>12.244833540188248</td><td>-2.0592122135317004</td><td>-2.234456162507609</td><td>5.152375221252441</td><td>5.713494777679443</td><td>4.542221546173096</td><td>0.0746271862594925</td><td>0.08187324395302796</td><td>0.08743913230075259</td><td>0.1583566628482975</td><td>0.16373111684533725</td><td>0.01600000075995922</td><td>2.0546998977661133</td><td>0.12349999696016312</td><td>3682.174560546875</td><td>0.4560450882099821</td><td>80.4190493959865</td><td>49.04123306274414</td><td>29</td><td>37</td><td>226</td><td>263</td><td>263</td><td>31</td><td>True</td><td>1.580862759186532</td><td>0.023309707278737626</td><td>0.09210244566202164</td><td>4.486745834350586</td><td>0.561119556427002</td><td>1.1712732315063477</td><td>0.19855299592018127</td><td>-0.10736927390098572</td><td>-0.2078498899936676</td><td>False</td><td>0.007699999958276749</td><td>0.78329998254776</td><td>0.07000000029802322</td><td>200111</td><td>0</td><td>0.6101536750793457</td><td>49.45500564575195</td><td>50.35214614868164</td><td>49.9035758972168</td><td>39</td><td>-0.05350300669670105</td><td>140.0383758544922</td><td>-0.13507765531539917</td><td>-0.19763730466365814</td><td>71640289.11442596</td><td>86329.88058459002</td><td>829.843505859375</td><td>23</td><td>1.1845608949661255</td><td>163831077.08958966</td><td>333712.70794782834</td><td>490.9344787597656</td><td>258</td><td>0</td><td>122427599.54842605</td><td>319766.1634627304</td><td>382.86602783203125</td><td>26</td><td>NOT_AVAILABLE</td><td>-0.12076300382614136</td><td>100001</td><td>-0.11883782595396042</td><td>-9.51921435700056</td><td>0.1333296836813992</td><td>9.444290161132812</td><td>10.519526481628418</td><td>10.166876792907715</td><td>926242814</td><td>-0.10166304558515549</td><td>-0.1595667451620102</td><td>0.06054360046982765</td><td>2015.5</td><td>10</td><td>0.0</td><td>3.0</td><td>4750.0</td><td>1635721458409799680</td><td>4730.0</td><td>4992.0</td><td>4811.33349609375</td><td>16</td><td>--</td><td>5.713494777679443</td><td>4.542221546173096</td><td>5.152375221252441</td></tr>\n",
       "<tr><td>296.86178874999996,47.90757305555555</td><td>0.00018979613869543016</td><td>2086614688589352320</td><td>Gaia DR2 2086614688589352320</td><td>296.8616409188027</td><td>47.907411183287465</td><td>81.40196025458344</td><td>11.187443565317814</td><td>320.07404836998796</td><td>66.73684976182663</td><td>3.240142377215638</td><td>-23.02928418428443</td><td>-37.62791854380299</td><td>5.3131794929504395</td><td>6.416778564453125</td><td>4.369537353515625</td><td>0.08451650583364254</td><td>0.09692947858453899</td><td>0.10501733003123698</td><td>0.20104667039390092</td><td>0.15630381494195575</td><td>--</td><td>--</td><td>--</td><td>3667.122802734375</td><td>0.4667427642788658</td><td>86.60007168822067</td><td>49.13201141357422</td><td>26</td><td>29</td><td>206</td><td>235</td><td>235</td><td>31</td><td>True</td><td>1.403964814083539</td><td>0.02614318963995247</td><td>0.10967396944761276</td><td>4.254617214202881</td><td>1.1035990715026855</td><td>2.0472412109375</td><td>0.4999784827232361</td><td>-0.23709836602210999</td><td>-0.2174569070339203</td><td>False</td><td>--</td><td>--</td><td>--</td><td>200111</td><td>0</td><td>0.9436421394348145</td><td>865.5391845703125</td><td>935.4420166015625</td><td>900.4906005859375</td><td>43</td><td>0.0173806045204401</td><td>30.85340690612793</td><td>-0.09481682628393173</td><td>-0.3056759238243103</td><td>37483826.86159181</td><td>127737.25400616786</td><td>293.44476318359375</td><td>24</td><td>1.281284213066101</td><td>141277983.778631</td><td>284272.8342140308</td><td>496.9802551269531</td><td>281</td><td>0</td><td>143533420.3414888</td><td>691769.7756191072</td><td>207.48727416992188</td><td>24</td><td>NOT_AVAILABLE</td><td>0.15156243741512299</td><td>100001</td><td>0.027760636061429977</td><td>-2.7286190303720206</td><td>0.9006770802026384</td><td>51.73421096801758</td><td>69.88921356201172</td><td>63.27229690551758</td><td>1378027912</td><td>-0.08059822022914886</td><td>-0.05321916192770004</td><td>-0.030610399320721626</td><td>2015.5</td><td>10</td><td>0.0</td><td>4.5</td><td>3800.0</td><td>1635721458409799680</td><td>3782.169921875</td><td>4395.9951171875</td><td>3975.02001953125</td><td>14</td><td>--</td><td>6.416778564453125</td><td>4.369537353515625</td><td>5.3131794929504395</td></tr>\n",
       "<tr><td>290.9854195833333,43.38816722222222</td><td>0.00013569539415898878</td><td>2126062687590513408</td><td>Gaia DR2 2126062687590513408</td><td>290.98550746572874</td><td>43.38804749579175</td><td>75.38756753153905</td><td>12.81536720436449</td><td>306.6912271485165</td><td>64.17769651026336</td><td>7.487345315775855</td><td>14.805610611185559</td><td>-27.867540912875537</td><td>5.598205089569092</td><td>6.088229179382324</td><td>5.027297496795654</td><td>0.03394790278724416</td><td>0.03725307951271302</td><td>0.03989128603499463</td><td>0.07730282217965018</td><td>0.08495840445258639</td><td>--</td><td>--</td><td>--</td><td>1021.4724731445312</td><td>0.19475376178794507</td><td>16.30381636316658</td><td>20.551225662231445</td><td>32</td><td>36</td><td>241</td><td>277</td><td>277</td><td>31</td><td>True</td><td>1.5640647156504235</td><td>0.00983906022559338</td><td>0.05897272005677223</td><td>23.73131561279297</td><td>0.4900240898132324</td><td>1.06093168258667</td><td>0.13448846340179443</td><td>-0.030317647382616997</td><td>-0.2234654724597931</td><td>False</td><td>--</td><td>--</td><td>--</td><td>200111</td><td>0</td><td>0.5709075927734375</td><td>82.8391342163086</td><td>84.15052032470703</td><td>83.49482727050781</td><td>39</td><td>0.12084554135799408</td><td>187.69375610351562</td><td>-0.26594939827919006</td><td>-0.1535620391368866</td><td>50729858.30632462</td><td>74697.33440202689</td><td>679.1387939453125</td><td>27</td><td>1.1876239776611328</td><td>108658626.56872779</td><td>103515.37876616507</td><td>1049.685791015625</td><td>299</td><td>0</td><td>78315729.99876736</td><td>353336.2276405853</td><td>221.646484375</td><td>28</td><td>NOT_AVAILABLE</td><td>-0.2348947674036026</td><td>100001</td><td>-0.1743295043706894</td><td>-1.4654951955456612</td><td>0.14465616522801672</td><td>11.164580345153809</td><td>12.11862564086914</td><td>11.894688606262207</td><td>11519770</td><td>0.1743381768465042</td><td>-0.2604195773601532</td><td>0.23245273530483246</td><td>2015.5</td><td>15</td><td>0.0</td><td>3.0</td><td>5000.0</td><td>1635721458409799680</td><td>5012.0400390625</td><td>5221.79736328125</td><td>5059.0</td><td>16</td><td>Gaia DR1 2126062687590513408</td><td>6.088229179382324</td><td>5.027297496795654</td><td>5.598205089569092</td></tr>\n",
       "<tr><td>295.1714583333333,43.077826944444446</td><td>8.289418297784255e-06</td><td>2078059800932315008</td><td>Gaia DR2 2078059800932315008</td><td>295.1714685950791</td><td>43.07782340429704</td><td>76.50226988428935</td><td>9.951534429189994</td><td>312.85608432593733</td><td>62.821570858545954</td><td>2.0911955781559834</td><td>1.6860309363876564</td><td>-0.8466561268222375</td><td>5.176218509674072</td><td>6.447803497314453</td><td>4.197808265686035</td><td>0.12492722476867654</td><td>0.14380838659227907</td><td>0.14114678942345177</td><td>0.2726656156855452</td><td>0.2862319290785514</td><td>--</td><td>--</td><td>--</td><td>17712.388671875</td><td>0.8860326436709755</td><td>336.51807848209756</td><td>105.86166381835938</td><td>35</td><td>28</td><td>280</td><td>308</td><td>308</td><td>31</td><td>True</td><td>1.355794259530816</td><td>0.03881503678791938</td><td>0.15225626528263092</td><td>1.1569468975067139</td><td>1.2715849876403809</td><td>2.249995231628418</td><td>0.036844655871391296</td><td>-0.36750975251197815</td><td>-0.03718186914920807</td><td>False</td><td>--</td><td>--</td><td>--</td><td>200111</td><td>0</td><td>0.9784102439880371</td><td>2622.6806640625</td><td>3069.13037109375</td><td>2845.905517578125</td><td>45</td><td>-0.015951767563819885</td><td>14.815750122070312</td><td>-0.08457505702972412</td><td>-0.19583584368228912</td><td>36427879.02982009</td><td>213935.07126219725</td><td>170.275390625</td><td>28</td><td>1.2763124704360962</td><td>160272426.1715665</td><td>360588.66918875935</td><td>444.4743957519531</td><td>334</td><td>1</td><td>168129817.5690342</td><td>927339.4301873699</td><td>181.3034210205078</td><td>30</td><td>NOT_AVAILABLE</td><td>-0.09151484817266464</td><td>100002</td><td>-0.008682247251272202</td><td>-5.808241538458474</td><td>0.15427410828345006</td><td>88.67244720458984</td><td>139.5567626953125</td><td>126.00572967529297</td><td>1320498492</td><td>0.002102837897837162</td><td>-0.05572172626852989</td><td>-0.07201014459133148</td><td>2015.5</td><td>11</td><td>0.0</td><td>4.5</td><td>3700.0</td><td>1635721458409799680</td><td>3568.666748046875</td><td>4477.0</td><td>3755.66015625</td><td>15</td><td>Gaia DR1 2078059796627458048</td><td>6.447803497314453</td><td>4.197808265686035</td><td>5.176218509674072</td></tr>\n",
       "<tr><td>289.65780083333334,49.56945416666667</td><td>0.00021321644379784557</td><td>2132637359106746880</td><td>Gaia DR2 2132637359106746880</td><td>289.65794320520115</td><td>49.56964635438381</td><td>80.82280617383076</td><td>16.18667158957375</td><td>310.2679809947662</td><td>70.27363622862438</td><td>7.3358842226758085</td><td>21.43321973317679</td><td>44.60496637654717</td><td>5.985134124755859</td><td>6.586767673492432</td><td>5.303562641143799</td><td>0.018192438430126703</td><td>0.020050739067914804</td><td>0.018621918507222928</td><td>0.03885182472188151</td><td>0.03991736222202502</td><td>0.07190000265836716</td><td>1.598099946975708</td><td>0.24400000274181366</td><td>562.2174072265625</td><td>0.0</td><td>0.0</td><td>10.698431015014648</td><td>31</td><td>25</td><td>248</td><td>273</td><td>273</td><td>31</td><td>True</td><td>1.5243357668598914</td><td>0.005216751817435487</td><td>0.038845211267471313</td><td>356.59759521484375</td><td>0.6016335487365723</td><td>1.2832050323486328</td><td>0.240804061293602</td><td>-0.4377937316894531</td><td>0.23998907208442688</td><td>False</td><td>0.033900000154972076</td><td>0.8410999774932861</td><td>0.09719999879598618</td><td>200111</td><td>0</td><td>0.6815714836120605</td><td>66.68854522705078</td><td>67.34380340576172</td><td>67.01617431640625</td><td>39</td><td>-0.025184018537402153</td><td>393.9381408691406</td><td>-0.043297916650772095</td><td>-0.1146552637219429</td><td>32051487.872203484</td><td>69906.56804512948</td><td>458.4903564453125</td><td>27</td><td>1.2193524837493896</td><td>76083861.67892632</td><td>41038.80228268017</td><td>1853.9493408203125</td><td>303</td><td>1</td><td>60721558.797108956</td><td>86512.96567160015</td><td>701.8781127929688</td><td>31</td><td>NOT_AVAILABLE</td><td>-0.24524913728237152</td><td>100002</td><td>-0.31588563323020935</td><td>-13.369804375238928</td><td>0.1701281273304971</td><td>11.873438835144043</td><td>12.578242301940918</td><td>12.416509628295898</td><td>1033199707</td><td>-0.009646335616707802</td><td>0.2812345623970032</td><td>-0.34842395782470703</td><td>2015.5</td><td>13</td><td>0.0</td><td>4.5</td><td>4750.0</td><td>1635721458409799680</td><td>4656.517578125</td><td>4792.72998046875</td><td>4686.74658203125</td><td>15</td><td>Gaia DR1 2132637354808756480</td><td>6.586767673492432</td><td>5.303562641143799</td><td>5.985134124755859</td></tr>\n",
       "<tr><td>294.1350820833333,43.706112222222224</td><td>1.87499504811286e-05</td><td>2078199335828818432</td><td>Gaia DR2 2078199335828818432</td><td>294.13507559317327</td><td>43.706094068747554</td><td>76.7128742341566</td><td>10.91016968810977</td><td>311.8151582653377</td><td>63.68323487178158</td><td>3.7671970486710435</td><td>-1.141437294328922</td><td>-4.221390752657511</td><td>6.055302143096924</td><td>6.866953372955322</td><td>5.2216877937316895</td><td>0.04140611234782255</td><td>0.05546878700329436</td><td>0.05474094702380488</td><td>0.08561663945789057</td><td>0.08813358567101674</td><td>0.1378999948501587</td><td>0.9661999940872192</td><td>0.41200000047683716</td><td>1976.6939697265625</td><td>0.2503931552624585</td><td>28.728867259525167</td><td>33.601688385009766</td><td>29</td><td>10</td><td>242</td><td>252</td><td>252</td><td>31</td><td>True</td><td>1.4312891319100292</td><td>0.014706403666855484</td><td>0.055510107427835464</td><td>13.86475944519043</td><td>0.8116512298583984</td><td>1.6452655792236328</td><td>0.4819817841053009</td><td>-0.34626510739326477</td><td>-0.10682794451713562</td><td>False</td><td>0.06530000269412994</td><td>0.6604999899864197</td><td>0.22849999368190765</td><td>200111</td><td>0</td><td>0.8336143493652344</td><td>301.251953125</td><td>313.2540283203125</td><td>307.25299072265625</td><td>36</td><td>-0.052784621715545654</td><td>68.81863403320312</td><td>-0.18103337287902832</td><td>-0.18711288273334503</td><td>24761330.271879043</td><td>54125.14433703247</td><td>457.4829406738281</td><td>25</td><td>1.2652275562286377</td><td>71322315.1103165</td><td>40158.61193037399</td><td>1776.0155029296875</td><td>273</td><td>1</td><td>65477628.5448393</td><td>156368.30196268074</td><td>418.7397766113281</td><td>29</td><td>NOT_AVAILABLE</td><td>-0.10888555645942688</td><td>100002</td><td>-0.0987902581691742</td><td>-0.4783455588726264</td><td>3.009951657834278</td><td>30.19133758544922</td><td>36.06245040893555</td><td>34.379581451416016</td><td>1648908192</td><td>0.03538795933127403</td><td>-0.016529878601431847</td><td>-0.1668456494808197</td><td>2015.5</td><td>10</td><td>0.0</td><td>4.5</td><td>4250.0</td><td>1635721458409799680</td><td>4024.13671875</td><td>4398.0400390625</td><td>4121.4501953125</td><td>15</td><td>Gaia DR1 2078199331524975488</td><td>6.866953372955322</td><td>5.2216877937316895</td><td>6.055302143096924</td></tr>\n",
       "<tr><td>298.91921,40.17289944444444</td><td>2.6617533132998732e-05</td><td>2073542697941496320</td><td>Gaia DR2 2073542697941496320</td><td>298.91923682053795</td><td>40.1729164298875</td><td>75.33293042183368</td><td>6.086353484128554</td><td>315.9838088390804</td><td>59.08221804050165</td><td>1.4342284523899904</td><td>4.7425759236472125</td><td>3.8989358990275784</td><td>6.0910420417785645</td><td>6.864473342895508</td><td>5.280002117156982</td><td>0.020700876754353368</td><td>0.027681564646106337</td><td>0.02580241444968789</td><td>0.04049875376327659</td><td>0.04919022578343631</td><td>--</td><td>--</td><td>--</td><td>476.0967712402344</td><td>0.0</td><td>1.9053957292782993e-15</td><td>9.347301483154297</td><td>26</td><td>4</td><td>223</td><td>227</td><td>227</td><td>31</td><td>True</td><td>1.474550611229556</td><td>0.0074204343594867555</td><td>0.03981129452586174</td><td>334.4869384765625</td><td>0.7734313011169434</td><td>1.5844712257385254</td><td>0.23283696174621582</td><td>-0.5516040325164795</td><td>-0.1773829609155655</td><td>False</td><td>--</td><td>--</td><td>--</td><td>200111</td><td>0</td><td>0.811039924621582</td><td>1833.692138671875</td><td>1948.72265625</td><td>1891.2073974609375</td><td>33</td><td>0.09740234911441803</td><td>55.58504867553711</td><td>-0.10678358376026154</td><td>-0.2707548141479492</td><td>24817956.592192966</td><td>32823.59943502996</td><td>756.1010131835938</td><td>30</td><td>1.258774995803833</td><td>69012783.32063784</td><td>27305.49549135875</td><td>2527.43212890625</td><td>265</td><td>0</td><td>62053611.72283802</td><td>107148.85307080104</td><td>579.1346435546875</td><td>26</td><td>NOT_AVAILABLE</td><td>0.03366612643003464</td><td>100001</td><td>0.16294296085834503</td><td>-13.845334356525752</td><td>0.15841913683593475</td><td>74.27850341796875</td><td>85.48876190185547</td><td>79.55921173095703</td><td>1043492255</td><td>0.26700904965400696</td><td>-0.17013832926750183</td><td>-0.3026966154575348</td><td>2015.5</td><td>13</td><td>0.0</td><td>4.5</td><td>4250.0</td><td>1635721458409799680</td><td>4116.77001953125</td><td>4416.51318359375</td><td>4267.4248046875</td><td>15</td><td>Gaia DR1 2073542693631929088</td><td>6.864473342895508</td><td>5.280002117156982</td><td>6.0910420417785645</td></tr>\n",
       "<tr><td>285.07942333333335,40.6839975</td><td>6.395164192096614e-05</td><td>2103815448491466496</td><td>Gaia DR2 2103815448491466496</td><td>285.0794350340927</td><td>40.683934166877044</td><td>71.00448595083816</td><td>15.730138304951492</td><td>295.5610232481278</td><td>62.79142807307092</td><td>3.4427806499619007</td><td>2.052623614226718</td><td>-14.731001971588883</td><td>5.227579116821289</td><td>6.822383880615234</td><td>4.097596168518066</td><td>0.11941891556351691</td><td>0.13711587033361314</td><td>0.1485660419149978</td><td>0.26308610899763735</td><td>0.271430885744766</td><td>--</td><td>--</td><td>--</td><td>13669.5859375</td><td>0.85987687814941</td><td>308.7802005824524</td><td>94.06004333496094</td><td>36</td><td>45</td><td>271</td><td>316</td><td>316</td><td>31</td><td>True</td><td>1.3312441320935722</td><td>0.04138964452572648</td><td>0.14042706787586212</td><td>1.2685575485229492</td><td>1.5948047637939453</td><td>2.724787712097168</td><td>0.19094203412532806</td><td>-0.17941896617412567</td><td>-0.07276015728712082</td><td>False</td><td>--</td><td>--</td><td>--</td><td>200111</td><td>0</td><td>1.1299829483032227</td><td>1101.8680419921875</td><td>1217.8321533203125</td><td>1159.85009765625</td><td>43</td><td>-0.10118626058101654</td><td>23.173402786254883</td><td>-0.1697838455438614</td><td>-0.23965413868427277</td><td>25798932.80659752</td><td>143402.38885477875</td><td>179.9058837890625</td><td>27</td><td>1.3749548196792603</td><td>152867301.40286762</td><td>363237.83575284976</td><td>420.8463134765625</td><td>326</td><td>0</td><td>184386698.19215178</td><td>1067423.5066587164</td><td>172.73995971679688</td><td>27</td><td>NOT_AVAILABLE</td><td>-0.05986706539988518</td><td>100001</td><td>-0.10458201169967651</td><td>--</td><td>--</td><td>76.83080291748047</td><td>95.27164459228516</td><td>89.96736145019531</td><td>789690256</td><td>0.053114619106054306</td><td>-0.032036662101745605</td><td>-0.0694001168012619</td><td>2015.5</td><td>0</td><td>--</td><td>--</td><td>--</td><td>1635721458409799680</td><td>3451.0</td><td>3842.900146484375</td><td>3551.27490234375</td><td>15</td><td>--</td><td>6.822383880615234</td><td>4.097596168518066</td><td>5.227579116821289</td></tr>\n",
       "<tr><td>283.89887208333334,42.060274166666666</td><td>0.00020047672113300818</td><td>2104876786449045504</td><td>Gaia DR2 2104876786449045504</td><td>283.8989586393001</td><td>42.06046406463718</td><td>71.98975802050664</td><td>17.066596298139963</td><td>294.31250729120853</td><td>64.33113519832722</td><td>4.157817462428139</td><td>14.90787703373072</td><td>44.068178499137886</td><td>6.14410400390625</td><td>6.837636947631836</td><td>5.389760971069336</td><td>0.02036930751336745</td><td>0.023544447140963966</td><td>0.025291339615037073</td><td>0.04480716757339521</td><td>0.04192632885819682</td><td>0.1420000046491623</td><td>1.2282999753952026</td><td>0.43470001220703125</td><td>692.4314575195312</td><td>0.059576602305484824</td><td>1.712750604873751</td><td>14.240690231323242</td><td>29</td><td>16</td><td>237</td><td>253</td><td>253</td><td>31</td><td>True</td><td>1.4800695333126554</td><td>0.006714491500426858</td><td>0.03372157737612724</td><td>138.93704223632812</td><td>0.6935329437255859</td><td>1.4478759765625</td><td>0.40908604860305786</td><td>-0.2806706130504608</td><td>-0.03335995972156525</td><td>False</td><td>0.08399999886751175</td><td>0.8101000189781189</td><td>0.20399999618530273</td><td>200111</td><td>0</td><td>0.7543430328369141</td><td>204.70077514648438</td><td>208.98757934570312</td><td>206.84417724609375</td><td>35</td><td>0.020222291350364685</td><td>164.39688110351562</td><td>-0.1627579778432846</td><td>-0.1516379863023758</td><td>25439030.133816645</td><td>64137.582110623516</td><td>396.6322021484375</td><td>27</td><td>1.2404879331588745</td><td>65721091.72483976</td><td>22219.773832534138</td><td>2957.77490234375</td><td>255</td><td>0</td><td>56087189.66654328</td><td>101282.49292412009</td><td>553.7698364257812</td><td>28</td><td>NOT_AVAILABLE</td><td>-0.02087634615600109</td><td>100001</td><td>-0.0096461595967412</td><td>-39.04672063676426</td><td>0.7701123327503049</td><td>24.555866241455078</td><td>26.52875518798828</td><td>25.45335578918457</td><td>1555552007</td><td>0.07030260562896729</td><td>0.017759285867214203</td><td>-0.17739923298358917</td><td>2015.5</td><td>15</td><td>0.0</td><td>4.5</td><td>4500.0</td><td>1635721458409799680</td><td>4249.89990234375</td><td>4417.32666015625</td><td>4338.75</td><td>17</td><td>Gaia DR1 2104876782149717760</td><td>6.837636947631836</td><td>5.389760971069336</td><td>6.14410400390625</td></tr>\n",
       "<tr><td>...</td><td>...</td><td>...</td><td>...</td><td>...</td><td>...</td><td>...</td><td>...</td><td>...</td><td>...</td><td>...</td><td>...</td><td>...</td><td>...</td><td>...</td><td>...</td><td>...</td><td>...</td><td>...</td><td>...</td><td>...</td><td>...</td><td>...</td><td>...</td><td>...</td><td>...</td><td>...</td><td>...</td><td>...</td><td>...</td><td>...</td><td>...</td><td>...</td><td>...</td><td>...</td><td>...</td><td>...</td><td>...</td><td>...</td><td>...</td><td>...</td><td>...</td><td>...</td><td>...</td><td>...</td><td>...</td><td>...</td><td>...</td><td>...</td><td>...</td><td>...</td><td>...</td><td>...</td><td>...</td><td>...</td><td>...</td><td>...</td><td>...</td><td>...</td><td>...</td><td>...</td><td>...</td><td>...</td><td>...</td><td>...</td><td>...</td><td>...</td><td>...</td><td>...</td><td>...</td><td>...</td><td>...</td><td>...</td><td>...</td><td>...</td><td>...</td><td>...</td><td>...</td><td>...</td><td>...</td><td>...</td><td>...</td><td>...</td><td>...</td><td>...</td><td>...</td><td>...</td><td>...</td><td>...</td><td>...</td><td>...</td><td>...</td><td>...</td><td>...</td><td>...</td><td>...</td><td>...</td><td>...</td><td>...</td><td>...</td></tr>\n",
       "<tr><td>299.71525458333326,47.36207805555556</td><td>7.513237207276723e-05</td><td>2085638116106991872</td><td>Gaia DR2 2085638116106991872</td><td>299.71519755187916</td><td>47.36201361552514</td><td>81.87619464255093</td><td>9.244098326731125</td><td>323.64679523714597</td><td>65.36098749224189</td><td>2.6282910743810337</td><td>-9.027986084911014</td><td>-15.01173723016424</td><td>8.023957252502441</td><td>8.632373809814453</td><td>7.316652774810791</td><td>0.02643036165615088</td><td>0.030968438774809027</td><td>0.03357105403566695</td><td>0.05689226019472846</td><td>0.058035807224090435</td><td>0.0357000008225441</td><td>1.016800045967102</td><td>0.1412000060081482</td><td>291.04779052734375</td><td>0.0</td><td>0.0</td><td>3.7041423320770264</td><td>24</td><td>2</td><td>212</td><td>214</td><td>214</td><td>31</td><td>False</td><td>1.5009324800923627</td><td>0.007874683362779512</td><td>0.041061799973249435</td><td>75.375</td><td>0.6084165573120117</td><td>1.315721035003662</td><td>0.4120347499847412</td><td>-0.006710754241794348</td><td>-0.031215237453579903</td><td>False</td><td>0.015300000086426735</td><td>0.41679999232292175</td><td>0.06769999861717224</td><td>200111</td><td>0</td><td>0.7073044776916504</td><td>76.6510238647461</td><td>79.73526763916016</td><td>78.19314575195312</td><td>29</td><td>0.006824093405157328</td><td>78.29039764404297</td><td>0.08661144226789474</td><td>-0.15988902747631073</td><td>4870859.675490572</td><td>5687.6507090122595</td><td>856.3922119140625</td><td>22</td><td>1.235870361328125</td><td>11634916.843934152</td><td>3434.2020079613344</td><td>3387.95361328125</td><td>232</td><td>0</td><td>9508389.810410412</td><td>16768.099111606592</td><td>567.0523681640625</td><td>22</td><td>NOT_AVAILABLE</td><td>0.11516282707452774</td><td>100001</td><td>0.01793236844241619</td><td>-4.502608160124729</td><td>0.13703086053658206</td><td>12.155625343322754</td><td>13.626821517944336</td><td>13.034625053405762</td><td>150644720</td><td>0.06283034384250641</td><td>0.04430878534913063</td><td>-0.040439024567604065</td><td>2015.5</td><td>13</td><td>0.0</td><td>3.0</td><td>5000.0</td><td>1635721458409799680</td><td>4649.66015625</td><td>4923.0</td><td>4754.10986328125</td><td>15</td><td>Gaia DR1 2085638111806368000</td><td>8.632373809814453</td><td>7.316652774810791</td><td>8.023957252502441</td></tr>\n",
       "<tr><td>291.8926695833333,37.117995</td><td>8.273941591549024e-05</td><td>2051728490311183744</td><td>Gaia DR2 2051728490311183744</td><td>291.8927082115298</td><td>37.118071792280254</td><td>69.96590264396387</td><td>9.424295746419563</td><td>304.12143800348804</td><td>57.991983859604076</td><td>1.8000448927805006</td><td>7.145821679503919</td><td>17.79354641537056</td><td>8.04062271118164</td><td>8.787210464477539</td><td>7.243119716644287</td><td>0.025991114819196522</td><td>0.034401257531550336</td><td>0.037611501816492435</td><td>0.05409691275385186</td><td>0.05747650597883894</td><td>0.2240000069141388</td><td>1.802899956703186</td><td>0.6072999835014343</td><td>282.09234619140625</td><td>0.0</td><td>0.0</td><td>3.0255725383758545</td><td>25</td><td>2</td><td>219</td><td>221</td><td>221</td><td>31</td><td>False</td><td>1.4818933207824483</td><td>0.00867538861033275</td><td>0.038664981722831726</td><td>150.32923889160156</td><td>0.7465877532958984</td><td>1.544090747833252</td><td>0.5003819465637207</td><td>-0.11519566178321838</td><td>-0.34279870986938477</td><td>False</td><td>0.11420000344514847</td><td>0.9330999851226807</td><td>0.23999999463558197</td><td>200111</td><td>0</td><td>0.7975029945373535</td><td>196.62908935546875</td><td>209.26138305664062</td><td>202.9452362060547</td><td>30</td><td>0.02272263541817665</td><td>47.85889434814453</td><td>-0.035904061049222946</td><td>-0.3128770887851715</td><td>4223485.057587202</td><td>4597.67917781283</td><td>918.6123657226562</td><td>26</td><td>1.2566354274749756</td><td>11457697.266494371</td><td>4765.808543422341</td><td>2404.1455078125</td><td>235</td><td>0</td><td>10174663.773383457</td><td>12646.731789160222</td><td>804.5291137695312</td><td>26</td><td>NOT_AVAILABLE</td><td>-0.06330115348100662</td><td>100001</td><td>0.08307240158319473</td><td>-78.21071301124742</td><td>0.1210221428807107</td><td>25.85036849975586</td><td>27.608951568603516</td><td>26.485462188720703</td><td>992351098</td><td>0.2478531450033188</td><td>-0.21401168406009674</td><td>-0.23895107209682465</td><td>2015.5</td><td>11</td><td>0.0</td><td>4.5</td><td>4250.0</td><td>1635721458409799680</td><td>4146.16015625</td><td>4284.8701171875</td><td>4233.18505859375</td><td>15</td><td>Gaia DR1 2051728486009394048</td><td>8.787210464477539</td><td>7.243119716644287</td><td>8.04062271118164</td></tr>\n",
       "<tr><td>283.83340625,40.13883361111111</td><td>1.9239117691022665e-05</td><td>2103507894472422656</td><td>Gaia DR2 2103507894472422656</td><td>283.83342916553494</td><td>40.138841563671775</td><td>70.10611122590436</td><td>16.40238012616388</td><td>293.2900560580871</td><td>62.464135090690434</td><td>3.1801058234460924</td><td>4.039455965033023</td><td>1.7943058408453174</td><td>8.089526176452637</td><td>8.60220718383789</td><td>7.468379497528076</td><td>0.02192026855402956</td><td>0.028721755748313517</td><td>0.02740393453014274</td><td>0.04748832450862115</td><td>0.059922780875226865</td><td>0.006000000052154064</td><td>1.4421000480651855</td><td>0.05130000039935112</td><td>315.28369140625</td><td>0.0</td><td>0.0</td><td>4.0862860679626465</td><td>26</td><td>3</td><td>224</td><td>227</td><td>227</td><td>31</td><td>True</td><td>1.5470921946562735</td><td>0.007418427116895725</td><td>0.044391825795173645</td><td>108.2729263305664</td><td>0.5126810073852539</td><td>1.1338276863098145</td><td>0.12278817594051361</td><td>-0.33486878871917725</td><td>-0.034142185002565384</td><td>False</td><td>0.0034000000450760126</td><td>0.9352999925613403</td><td>0.023000000044703484</td><td>200111</td><td>0</td><td>0.6211466789245605</td><td>46.51093292236328</td><td>47.856712341308594</td><td>47.18382263183594</td><td>31</td><td>0.10847517102956772</td><td>116.04559326171875</td><td>-0.019002048298716545</td><td>-0.15371385216712952</td><td>5008092.395257447</td><td>6352.800060993192</td><td>788.328369140625</td><td>28</td><td>1.2121162414550781</td><td>10953068.378854213</td><td>4560.615466836758</td><td>2401.66455078125</td><td>244</td><td>0</td><td>8268300.2457834445</td><td>11244.514870608255</td><td>735.3185424804688</td><td>27</td><td>NOT_AVAILABLE</td><td>-0.03372091427445412</td><td>100001</td><td>-0.027644982561469078</td><td>-15.134306578519674</td><td>0.13586503178173492</td><td>9.009239196777344</td><td>9.394206047058105</td><td>9.1373872756958</td><td>886228013</td><td>-0.023745613172650337</td><td>-0.017462605610489845</td><td>-0.09639526903629303</td><td>2015.5</td><td>17</td><td>0.0</td><td>4.5</td><td>5000.0</td><td>1635721458409799680</td><td>4935.65234375</td><td>5040.0</td><td>5004.533203125</td><td>17</td><td>Gaia DR1 2103507890173906688</td><td>8.60220718383789</td><td>7.468379497528076</td><td>8.089526176452637</td></tr>\n",
       "<tr><td>291.0817929166666,47.41309805555555</td><td>7.474844013865456e-05</td><td>2129162799284981760</td><td>Gaia DR2 2129162799284981760</td><td>291.08177124447565</td><td>47.4130247599545</td><td>79.17175397724124</td><td>14.453044621505219</td><td>310.356535067168</td><td>67.91993630327437</td><td>2.030123338147501</td><td>-3.4299894382599803</td><td>-17.029704160410404</td><td>8.236473083496094</td><td>8.858222961425781</td><td>7.529015064239502</td><td>0.026880864267099683</td><td>0.027291888527697847</td><td>0.030192226882378593</td><td>0.056963658142669286</td><td>0.055161052710351904</td><td>0.066600002348423</td><td>1.1734999418258667</td><td>0.24950000643730164</td><td>231.01649475097656</td><td>0.0</td><td>0.0</td><td>0.5958327054977417</td><td>26</td><td>4</td><td>224</td><td>228</td><td>228</td><td>31</td><td>True</td><td>1.507005051251054</td><td>0.007626864517087246</td><td>0.042555421590805054</td><td>93.69514465332031</td><td>0.6217498779296875</td><td>1.3292078971862793</td><td>0.24586498737335205</td><td>-0.24473176896572113</td><td>-0.09496016055345535</td><td>False</td><td>0.03319999948143959</td><td>0.8339999914169312</td><td>0.13500000536441803</td><td>200111</td><td>0</td><td>0.7074580192565918</td><td>111.28211975097656</td><td>116.70556640625</td><td>113.99384307861328</td><td>29</td><td>0.12931299209594727</td><td>67.23993682861328</td><td>-0.08097066730260849</td><td>-0.3735693097114563</td><td>3956087.7290304867</td><td>4655.794014165932</td><td>849.7127685546875</td><td>27</td><td>1.2308764457702637</td><td>9566583.71259276</td><td>2702.229942261293</td><td>3540.255126953125</td><td>234</td><td>0</td><td>7819194.472170415</td><td>11424.856503354265</td><td>684.4019775390625</td><td>26</td><td>NOT_AVAILABLE</td><td>0.0881018415093422</td><td>100001</td><td>0.027789948508143425</td><td>-30.077879743339004</td><td>0.16014808923693066</td><td>16.05480194091797</td><td>17.4593448638916</td><td>16.932769775390625</td><td>220448062</td><td>0.2021932303905487</td><td>-0.025731083005666733</td><td>-0.3487655818462372</td><td>2015.5</td><td>16</td><td>0.0</td><td>4.5</td><td>4750.0</td><td>1635721458409799680</td><td>4513.7001953125</td><td>4707.0</td><td>4583.34619140625</td><td>16</td><td>Gaia DR1 2129162794987627776</td><td>8.858222961425781</td><td>7.529015064239502</td><td>8.236473083496094</td></tr>\n",
       "<tr><td>281.3657666666666,43.9953375</td><td>0.00011090291034656078</td><td>2117284053614333312</td><td>Gaia DR2 2117284053614333312</td><td>281.3657024307495</td><td>43.995236683395596</td><td>73.2201929013917</td><td>19.476250316713145</td><td>290.92417189490845</td><td>66.61084217227871</td><td>1.5328004778440687</td><td>-10.767025657552434</td><td>-23.42257700014015</td><td>8.203310012817383</td><td>8.981694221496582</td><td>7.383053779602051</td><td>0.03457549409716607</td><td>0.04034363620031347</td><td>0.04754081420412862</td><td>0.07417293136373543</td><td>0.06657433559376766</td><td>0.21899999678134918</td><td>0.7936999797821045</td><td>0.4359999895095825</td><td>274.621337890625</td><td>0.0</td><td>0.0</td><td>5.030076026916504</td><td>20</td><td>5</td><td>171</td><td>176</td><td>176</td><td>31</td><td>True</td><td>1.4809638301699692</td><td>0.011081144865858513</td><td>0.04964274913072586</td><td>112.84291076660156</td><td>0.7783842086791992</td><td>1.5986404418945312</td><td>0.5862449407577515</td><td>-0.3326747417449951</td><td>-0.2988393306732178</td><td>True</td><td>0.08590000122785568</td><td>0.34209999442100525</td><td>0.18250000476837158</td><td>200111</td><td>0</td><td>0.820256233215332</td><td>227.5325469970703</td><td>248.07334899902344</td><td>237.80294799804688</td><td>28</td><td>-0.05480187013745308</td><td>32.24177932739258</td><td>-0.21261169016361237</td><td>-0.47037771344184875</td><td>3530834.822405227</td><td>4962.642228523272</td><td>711.4828491210938</td><td>23</td><td>1.2648030519485474</td><td>9863303.093230722</td><td>3292.6866772971753</td><td>2995.518310546875</td><td>218</td><td>1</td><td>8944300.638816802</td><td>16284.614733410817</td><td>549.24853515625</td><td>24</td><td>NOT_AVAILABLE</td><td>0.05051032081246376</td><td>100002</td><td>-0.06328989565372467</td><td>-14.226023912768262</td><td>0.20543940328208565</td><td>26.525190353393555</td><td>29.446971893310547</td><td>28.33674430847168</td><td>1081208863</td><td>-0.03222164511680603</td><td>-0.02821080945432186</td><td>-0.26302143931388855</td><td>2015.5</td><td>12</td><td>0.0</td><td>3.0</td><td>4500.0</td><td>1635721458409799680</td><td>4176.9599609375</td><td>4401.0</td><td>4258.0</td><td>14</td><td>Gaia DR1 2117284049315538432</td><td>8.981694221496582</td><td>7.383053779602051</td><td>8.203310012817383</td></tr>\n",
       "<tr><td>289.8925483333333,43.48016972222222</td><td>7.564494504265693e-05</td><td>2102821524341578496</td><td>Gaia DR2 2102821524341578496</td><td>289.8924896223989</td><td>43.48010721400488</td><td>75.1284091941481</td><td>13.573510949498841</td><td>305.0228476799638</td><td>64.51957043821379</td><td>1.0257192658875627</td><td>-9.906958735044824</td><td>-14.525635514034725</td><td>8.139249801635742</td><td>9.085287094116211</td><td>7.2095417976379395</td><td>0.022537206739376304</td><td>0.028505002910759903</td><td>0.027690488962335242</td><td>0.04884177066782587</td><td>0.053940716688156615</td><td>0.5554999709129333</td><td>1.7803000211715698</td><td>0.8809999823570251</td><td>449.2711181640625</td><td>0.0</td><td>0.0</td><td>7.912419319152832</td><td>27</td><td>2</td><td>239</td><td>241</td><td>241</td><td>31</td><td>False</td><td>1.4353898408023205</td><td>0.007816001426907805</td><td>0.0394015833735466</td><td>85.58534240722656</td><td>0.9460372924804688</td><td>1.8757452964782715</td><td>0.2317972034215927</td><td>-0.20255514979362488</td><td>-0.09520192444324493</td><td>False</td><td>0.26499998569488525</td><td>0.8009999990463257</td><td>0.44200000166893005</td><td>200111</td><td>0</td><td>0.9297080039978027</td><td>587.092041015625</td><td>641.7725830078125</td><td>614.4323120117188</td><td>33</td><td>-0.01606600731611252</td><td>37.042293548583984</td><td>0.02869909442961216</td><td>-0.15386900305747986</td><td>3209523.780437619</td><td>4692.0759540480085</td><td>684.0306396484375</td><td>30</td><td>1.3097659349441528</td><td>10462762.275162553</td><td>5418.779757188149</td><td>1930.8336181640625</td><td>277</td><td>0</td><td>10494245.573362473</td><td>16952.439939428546</td><td>619.0404052734375</td><td>30</td><td>NOT_AVAILABLE</td><td>0.009899605065584183</td><td>100001</td><td>-0.11317487806081772</td><td>-14.995950160997168</td><td>0.14142750819955444</td><td>47.03938293457031</td><td>53.19751739501953</td><td>49.0316276550293</td><td>1033283654</td><td>-0.0037745467852801085</td><td>-0.04391716048121452</td><td>-0.1301255226135254</td><td>2015.5</td><td>14</td><td>0.0</td><td>3.0</td><td>4500.0</td><td>1635721458409799680</td><td>3940.026611328125</td><td>4190.0</td><td>4103.99365234375</td><td>16</td><td>Gaia DR1 2102821520040742272</td><td>9.085287094116211</td><td>7.2095417976379395</td><td>8.139249801635742</td></tr>\n",
       "<tr><td>281.25263624999997,42.64371472222222</td><td>8.422397243124703e-05</td><td>2116742544137540608</td><td>Gaia DR2 2116742544137540608</td><td>281.25257984212334</td><td>42.6436414279837</td><td>71.84130240050959</td><td>19.102430329936123</td><td>290.0903001407802</td><td>65.30002991136283</td><td>1.810260879101584</td><td>-9.667233324697618</td><td>-17.085871041024053</td><td>8.315320014953613</td><td>8.867191314697266</td><td>7.661613941192627</td><td>0.0833965852206171</td><td>0.10336306252142802</td><td>0.10063208011223501</td><td>0.18946577372381954</td><td>0.1940092928840191</td><td>0.02250000089406967</td><td>1.8847999572753906</td><td>0.16500000655651093</td><td>5994.61474609375</td><td>0.5149878123912578</td><td>94.90074661272668</td><td>63.23930740356445</td><td>28</td><td>4</td><td>240</td><td>244</td><td>244</td><td>31</td><td>True</td><td>1.5165633481068224</td><td>0.02642615826869086</td><td>0.11096368730068207</td><td>3.1026225090026855</td><td>0.5518712997436523</td><td>1.2055773735046387</td><td>0.17403364181518555</td><td>-0.33679068088531494</td><td>-0.1895318329334259</td><td>False</td><td>0.026000000536441803</td><td>0.9351000189781189</td><td>0.11569999903440475</td><td>200111</td><td>0</td><td>0.6537060737609863</td><td>114.53185272216797</td><td>130.93760681152344</td><td>122.73473358154297</td><td>33</td><td>0.13006998598575592</td><td>17.98890495300293</td><td>-0.18029506504535675</td><td>-0.16254572570323944</td><td>3923546.092826491</td><td>6396.341727823126</td><td>613.4047241210938</td><td>29</td><td>1.218887448310852</td><td>8896477.985866254</td><td>3094.941002539606</td><td>2874.522705078125</td><td>257</td><td>0</td><td>6920259.0783988</td><td>7506.75476036433</td><td>921.8709716796875</td><td>29</td><td>NOT_AVAILABLE</td><td>0.12448475509881973</td><td>100001</td><td>0.06301764398813248</td><td>-26.962163043399457</td><td>0.17351779268387674</td><td>14.934998512268066</td><td>16.217288970947266</td><td>15.697555541992188</td><td>1183936551</td><td>-0.17725399136543274</td><td>-0.1059446707367897</td><td>0.0010346259223297238</td><td>2015.5</td><td>9</td><td>0.0</td><td>4.5</td><td>4750.0</td><td>1635721458409799680</td><td>4770.66650390625</td><td>4971.25</td><td>4849.0</td><td>16</td><td>Gaia DR1 2116742539837981568</td><td>8.867191314697266</td><td>7.661613941192627</td><td>8.315320014953613</td></tr>\n",
       "<tr><td>287.45698958333327,43.552323055555554</td><td>6.498360974615474e-05</td><td>2105998150870718080</td><td>Gaia DR2 2105998150870718080</td><td>287.45698914447445</td><td>43.552258072724186</td><td>74.45713501898182</td><td>15.21717648065769</td><td>301.11225972457345</td><td>65.11705461471962</td><td>1.3024513360286278</td><td>-0.09638374997851518</td><td>-15.150234708761115</td><td>8.178078651428223</td><td>9.117270469665527</td><td>7.259548664093018</td><td>0.024635672373460305</td><td>0.029000029167215443</td><td>0.029594374519888368</td><td>0.05319795754217267</td><td>0.05950969658288045</td><td>--</td><td>--</td><td>--</td><td>286.7616882324219</td><td>0.0</td><td>0.0</td><td>3.6749978065490723</td><td>24</td><td>4</td><td>209</td><td>213</td><td>213</td><td>31</td><td>True</td><td>1.4143871042329872</td><td>0.008563454666732067</td><td>0.0436355322599411</td><td>104.05474090576172</td><td>0.9391918182373047</td><td>1.8577218055725098</td><td>0.3225928246974945</td><td>-0.15000520646572113</td><td>0.06295347213745117</td><td>True</td><td>--</td><td>--</td><td>--</td><td>200111</td><td>0</td><td>0.9185299873352051</td><td>417.4656982421875</td><td>449.180908203125</td><td>433.32330322265625</td><td>25</td><td>0.07380259037017822</td><td>44.01009750366211</td><td>-0.01587335579097271</td><td>-0.06253964453935623</td><td>3116354.837979111</td><td>5831.640185883288</td><td>534.3873901367188</td><td>23</td><td>1.301432490348816</td><td>10095198.798429774</td><td>5174.721625811545</td><td>1950.8680419921875</td><td>220</td><td>0</td><td>10021864.977152638</td><td>15420.658010570676</td><td>649.898681640625</td><td>23</td><td>NOT_AVAILABLE</td><td>0.1630360335111618</td><td>100001</td><td>0.08307339996099472</td><td>-17.09877440476229</td><td>0.15484229954939088</td><td>43.37814712524414</td><td>47.7132453918457</td><td>46.788291931152344</td><td>1368642482</td><td>0.027207206934690475</td><td>0.08598068356513977</td><td>-0.1805584728717804</td><td>2015.5</td><td>9</td><td>0.0</td><td>3.0</td><td>4500.0</td><td>1635721458409799680</td><td>3812.5</td><td>3998.469970703125</td><td>3850.0</td><td>15</td><td>Gaia DR1 2105998146573851136</td><td>9.117270469665527</td><td>7.259548664093018</td><td>8.178078651428223</td></tr>\n",
       "<tr><td>292.57224833333333,48.65654388888889</td><td>7.432568866037436e-05</td><td>2129676443013218304</td><td>Gaia DR2 2129676443013218304</td><td>292.57235027073966</td><td>48.65657535394386</td><td>80.76852758710793</td><td>14.072587420268878</td><td>314.1718172128976</td><td>68.66097120582724</td><td>2.4659137827665267</td><td>15.631611065991626</td><td>7.27584928890621</td><td>8.439091682434082</td><td>9.072074890136719</td><td>7.717320442199707</td><td>0.026518055135524445</td><td>0.03743494591632784</td><td>0.03319923303896231</td><td>0.061124023062982</td><td>0.07579819620570105</td><td>--</td><td>--</td><td>--</td><td>311.2078857421875</td><td>0.0</td><td>0.0</td><td>5.6858906745910645</td><td>21</td><td>0</td><td>186</td><td>186</td><td>186</td><td>31</td><td>True</td><td>1.5108353697001806</td><td>0.009050015162879066</td><td>0.05488027259707451</td><td>111.27371215820312</td><td>0.6329832077026367</td><td>1.3547544479370117</td><td>0.13499796390533447</td><td>-0.36325931549072266</td><td>-0.03158661723136902</td><td>False</td><td>--</td><td>--</td><td>--</td><td>200111</td><td>0</td><td>0.721771240234375</td><td>60.74772644042969</td><td>63.3365478515625</td><td>62.042137145996094</td><td>25</td><td>-0.023128623142838478</td><td>74.27622985839844</td><td>-0.2524662911891937</td><td>-0.15339452028274536</td><td>3248817.475099215</td><td>4854.591668792334</td><td>669.2257080078125</td><td>23</td><td>1.237465739250183</td><td>7937974.453281308</td><td>2449.4331108492165</td><td>3240.739501953125</td><td>207</td><td>0</td><td>6574154.056048498</td><td>8108.949260575778</td><td>810.7282104492188</td><td>22</td><td>NOT_AVAILABLE</td><td>-0.2523097097873688</td><td>100001</td><td>-0.17616614699363708</td><td>4.797730073059547</td><td>0.3002449219966619</td><td>11.620990753173828</td><td>12.509567260742188</td><td>11.988361358642578</td><td>1159551046</td><td>-0.11911431699991226</td><td>-0.0010989599395543337</td><td>-0.05712215602397919</td><td>2015.5</td><td>7</td><td>0.0</td><td>4.5</td><td>4500.0</td><td>1635721458409799680</td><td>4580.1201171875</td><td>4752.0</td><td>4678.62353515625</td><td>15</td><td>Gaia DR1 2129676438715223296</td><td>9.072074890136719</td><td>7.717320442199707</td><td>8.439091682434082</td></tr>\n",
       "<tr><td>294.8728645833333,47.44689833333333</td><td>0.0001258314417071159</td><td>2128576003674178688</td><td>Gaia DR2 2128576003674178688</td><td>294.87270940492334</td><td>47.44682890349002</td><td>80.35005377586508</td><td>12.15912841871801</td><td>316.50338704707394</td><td>66.91405347705002</td><td>3.776999249599714</td><td>-24.421463656968236</td><td>-16.178054714336678</td><td>8.625401496887207</td><td>9.223906517028809</td><td>7.933339595794678</td><td>0.019859815208383966</td><td>0.02446410733682774</td><td>0.023719932488418735</td><td>0.04878626061962834</td><td>0.05599150678615924</td><td>0.22869999706745148</td><td>2.498699903488159</td><td>0.6129999756813049</td><td>375.64239501953125</td><td>0.0</td><td>0.0</td><td>5.788856506347656</td><td>27</td><td>2</td><td>234</td><td>236</td><td>236</td><td>31</td><td>True</td><td>1.5238896217804276</td><td>0.00646490767942688</td><td>0.04713605344295502</td><td>211.8186798095703</td><td>0.5985050201416016</td><td>1.2905669212341309</td><td>0.24528735876083374</td><td>-0.36101850867271423</td><td>0.08769454061985016</td><td>False</td><td>0.1468999981880188</td><td>1.122499942779541</td><td>0.3370000123977661</td><td>200111</td><td>0</td><td>0.6920619010925293</td><td>22.045581817626953</td><td>22.533824920654297</td><td>22.289703369140625</td><td>31</td><td>0.07035494595766068</td><td>159.23313903808594</td><td>-0.22627055644989014</td><td>0.08241580426692963</td><td>2824831.065141705</td><td>3797.003004819075</td><td>743.9633178710938</td><td>31</td><td>1.228316307067871</td><td>6686297.545032545</td><td>1872.1671754961942</td><td>3571.421142578125</td><td>257</td><td>0</td><td>5388057.5663652085</td><td>7725.200017188145</td><td>697.4651489257812</td><td>31</td><td>NOT_AVAILABLE</td><td>-0.31408947706222534</td><td>100001</td><td>-0.06735950708389282</td><td>-4.230151683882895</td><td>0.8074055802756306</td><td>7.018564224243164</td><td>7.406851768493652</td><td>7.191772937774658</td><td>597296655</td><td>0.16294941306114197</td><td>-0.0022271056659519672</td><td>-0.12956899404525757</td><td>2015.5</td><td>2</td><td>0.0</td><td>4.5</td><td>4750.0</td><td>1635721458409799680</td><td>4608.2451171875</td><td>4734.0</td><td>4676.64501953125</td><td>16</td><td>Gaia DR1 2128575999372245632</td><td>9.223906517028809</td><td>7.933339595794678</td><td>8.625401496887207</td></tr>\n",
       "</table>"
      ],
      "text/plain": [
       "<Table masked=True length=64>\n",
       "            input_position            ...         gg        \n",
       "                str37                 ...      float64      \n",
       "------------------------------------- ... ------------------\n",
       "  294.1582345833333,44.69493333333333 ...  4.881522178649902\n",
       " 283.71740624999995,41.60272027777778 ...  5.152375221252441\n",
       " 296.86178874999996,47.90757305555555 ... 5.3131794929504395\n",
       "  290.9854195833333,43.38816722222222 ...  5.598205089569092\n",
       " 295.1714583333333,43.077826944444446 ...  5.176218509674072\n",
       " 289.65780083333334,49.56945416666667 ...  5.985134124755859\n",
       " 294.1350820833333,43.706112222222224 ...  6.055302143096924\n",
       "          298.91921,40.17289944444444 ... 6.0910420417785645\n",
       "        285.07942333333335,40.6839975 ...  5.227579116821289\n",
       "283.89887208333334,42.060274166666666 ...   6.14410400390625\n",
       "                                  ... ...                ...\n",
       " 299.71525458333326,47.36207805555556 ...  8.023957252502441\n",
       "          291.8926695833333,37.117995 ...   8.04062271118164\n",
       "       283.83340625,40.13883361111111 ...  8.089526176452637\n",
       "  291.0817929166666,47.41309805555555 ...  8.236473083496094\n",
       "         281.3657666666666,43.9953375 ...  8.203310012817383\n",
       "  289.8925483333333,43.48016972222222 ...  8.139249801635742\n",
       " 281.25263624999997,42.64371472222222 ...  8.315320014953613\n",
       "287.45698958333327,43.552323055555554 ...  8.178078651428223\n",
       " 292.57224833333333,48.65654388888889 ...  8.439091682434082\n",
       "  294.8728645833333,47.44689833333333 ...  8.625401496887207"
      ]
     },
     "execution_count": 355,
     "metadata": {},
     "output_type": "execute_result"
    }
   ],
   "source": []
  },
  {
   "cell_type": "code",
   "execution_count": 373,
   "metadata": {},
   "outputs": [],
   "source": [
    "giants_names = set(cat['Name'][giants].data.data.astype('S10'))\n",
    "dwarf_names = set(cat['Name'][dwarfs].data.data.astype('S10'))"
   ]
  },
  {
   "cell_type": "code",
   "execution_count": 372,
   "metadata": {},
   "outputs": [
    {
     "data": {
      "text/plain": [
       "{'BD+36_3564',\n",
       " 'BD+39_3577',\n",
       " 'BD+42_3150',\n",
       " 'BD+42_3367',\n",
       " 'BD+42_3393',\n",
       " 'BD+43_3064',\n",
       " 'BD+43_3171',\n",
       " 'BD+43_3213',\n",
       " 'BD+47_2825',\n",
       " 'BD+47_2891',\n",
       " 'BD+48_2904',\n",
       " 'BD+48_2955',\n",
       " 'HD_174020',\n",
       " 'HD_174676',\n",
       " 'HD_174829',\n",
       " 'HD_175740',\n",
       " 'HD_175884',\n",
       " 'HD_177697',\n",
       " 'HD_177781',\n",
       " 'HD_178090',\n",
       " 'HD_178797',\n",
       " 'HD_178910',\n",
       " 'HD_179396',\n",
       " 'HD_179959',\n",
       " 'HD_180312',\n",
       " 'HD_180475',\n",
       " 'HD_180658',\n",
       " 'HD_180682',\n",
       " 'HD_181022',\n",
       " 'HD_181069',\n",
       " 'HD_181097',\n",
       " 'HD_181328',\n",
       " 'HD_181596',\n",
       " 'HD_181597',\n",
       " 'HD_181681',\n",
       " 'HD_181778',\n",
       " 'HD_181878',\n",
       " 'HD_181880',\n",
       " 'HD_182531',\n",
       " 'HD_182692',\n",
       " 'HD_182694',\n",
       " 'HD_183124',\n",
       " 'HD_183203',\n",
       " 'HD_184483',\n",
       " 'HD_184565',\n",
       " 'HD_185117',\n",
       " 'HD_185286',\n",
       " 'HD_185351',\n",
       " 'HD_185524',\n",
       " 'HD_186121',\n",
       " 'HD_186727',\n",
       " 'HD_187217',\n",
       " 'HD_187372',\n",
       " 'HD_188537',\n",
       " 'HD_188629',\n",
       " 'HD_188875',\n",
       " 'HD_189636A',\n",
       " 'HD_189636B',\n",
       " 'HD_189750',\n",
       " 'HD_190149',\n",
       " 'HD_226754',\n",
       " 'V398_Lyr',\n",
       " 'V546_Lyr',\n",
       " 'V547_Lyr'}"
      ]
     },
     "execution_count": 372,
     "metadata": {},
     "output_type": "execute_result"
    }
   ],
   "source": [
    "giants_names"
   ]
  },
  {
   "cell_type": "code",
   "execution_count": null,
   "metadata": {},
   "outputs": [],
   "source": []
  }
 ],
 "metadata": {
  "kernelspec": {
   "display_name": "Python 2",
   "language": "python",
   "name": "python2"
  },
  "language_info": {
   "codemirror_mode": {
    "name": "ipython",
    "version": 2
   },
   "file_extension": ".py",
   "mimetype": "text/x-python",
   "name": "python",
   "nbconvert_exporter": "python",
   "pygments_lexer": "ipython2",
   "version": "2.7.15"
  }
 },
 "nbformat": 4,
 "nbformat_minor": 2
}
