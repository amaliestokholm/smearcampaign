{
 "cells": [
  {
   "cell_type": "code",
   "execution_count": 2,
   "metadata": {
    "collapsed": true
   },
   "outputs": [],
   "source": [
    "import numpy as np\n",
    "import matplotlib.pyplot as plt\n",
    "from astropy.table import Table, join\n",
    "\n",
    "from astropy.io import ascii\n",
    "import glob, re\n",
    "\n",
    "% matplotlib inline\n",
    "\n",
    "import matplotlib as mpl\n",
    "mpl.style.use('seaborn-colorblind')\n",
    "\n",
    "#To make sure we have always the same matplotlib settings\n",
    "#(the ones in comments are the ipython notebook settings)\n",
    "\n",
    "mpl.rcParams['figure.figsize']=(8.0,6.0)    #(6.0,4.0)\n",
    "mpl.rcParams['font.size']=18               #10 \n",
    "mpl.rcParams['savefig.dpi']= 200             #72 \n",
    "mpl.rcParams['axes.labelsize'] = 16\n",
    "mpl.rcParams['axes.labelsize'] = 16\n",
    "mpl.rcParams['xtick.labelsize'] = 12\n",
    "mpl.rcParams['ytick.labelsize'] = 12\n"
   ]
  },
  {
   "cell_type": "code",
   "execution_count": 3,
   "metadata": {
    "collapsed": false
   },
   "outputs": [],
   "source": [
    "fname_spc = '../data/spc_giants.csv' # original\n",
    "fname_spc = '../data/smear_spc_new.txt' # updated \n",
    "fname_spc = '../data/SMEAR_SPC_first_iteration.txt' # new targets\n",
    "fname_spc = '../data/smear_spc_2.txt' # new targets \n",
    "\n",
    "fname_guy = '../data/smear_Dnu.csv' "
   ]
  },
  {
   "cell_type": "code",
   "execution_count": 5,
   "metadata": {
    "collapsed": false
   },
   "outputs": [
    {
     "name": "stdout",
     "output_type": "stream",
     "text": [
      "['Object', 'Dnu', 'Dnu_err', 'Numax', 'Numax_err', 'eps', 'eps_err']\n",
      "['Object', 'BJD_TDB', 'RV', 'RVerr', 'Teff', 'Teff_err', 'logg', 'logg_err', 'monh', 'monh_err', 'vsini', 'vsini_err', 'CCF', 'SNRe', 'n_aps', 'exptime', 'spectro', 'res', 'method']\n"
     ]
    }
   ],
   "source": [
    "spc_data = Table.read(fname_spc,format='ascii')\n",
    "\n",
    "guy_data = Table.read(fname_guy,format='ascii')\n",
    "guy_data.rename_column('Star_ID','Object')\n",
    "print guy_data.keys()\n",
    "print spc_data.keys()"
   ]
  },
  {
   "cell_type": "code",
   "execution_count": 6,
   "metadata": {},
   "outputs": [],
   "source": [
    "new_stars = ['HD_175466','BD+42_3150','BD+48_2904','HD_176209','HD_182354','HD_189636B','HD_189636A','HD_189750']"
   ]
  },
  {
   "cell_type": "code",
   "execution_count": 7,
   "metadata": {},
   "outputs": [
    {
     "name": "stdout",
     "output_type": "stream",
     "text": [
      "BD+42_3150\n",
      "BD+48_2904\n",
      "HD_176209\n",
      "HD_182354\n",
      "HD_189750\n"
     ]
    }
   ],
   "source": [
    "for star in new_stars:\n",
    "    if star in guy_data['Object']:\n",
    "        print star"
   ]
  },
  {
   "cell_type": "code",
   "execution_count": 8,
   "metadata": {
    "collapsed": false
   },
   "outputs": [],
   "source": [
    "guy_data.sort('Object')\n",
    "spc_data.sort('Object')"
   ]
  },
  {
   "cell_type": "code",
   "execution_count": 9,
   "metadata": {},
   "outputs": [
    {
     "data": {
      "text/html": [
       "&lt;Table length=5&gt;\n",
       "<table id=\"table4763260176\">\n",
       "<thead><tr><th>Object</th><th>BJD_TDB</th><th>RV</th><th>RVerr</th><th>Teff</th><th>Teff_err</th><th>logg</th><th>logg_err</th><th>monh</th><th>monh_err</th><th>vsini</th><th>vsini_err</th><th>CCF</th><th>SNRe</th><th>n_aps</th><th>exptime</th><th>spectro</th><th>res</th><th>method</th></tr></thead>\n",
       "<thead><tr><th>str10</th><th>float64</th><th>float64</th><th>float64</th><th>float64</th><th>int64</th><th>float64</th><th>float64</th><th>float64</th><th>float64</th><th>float64</th><th>float64</th><th>float64</th><th>float64</th><th>int64</th><th>float64</th><th>str4</th><th>str1</th><th>str6</th></tr></thead>\n",
       "<tr><td>BD+42_3150</td><td>2458377.631807</td><td>-26.519</td><td>0.065</td><td>4775.74</td><td>50</td><td>2.48</td><td>0.1</td><td>-0.194</td><td>0.08</td><td>4.22</td><td>0.5</td><td>0.9885</td><td>90.4</td><td>3</td><td>350.0</td><td>tres</td><td>m</td><td>SPC2.9</td></tr>\n",
       "<tr><td>BD+48_2904</td><td>2458384.778439</td><td>5.24</td><td>0.025</td><td>4484.32</td><td>50</td><td>2.25</td><td>0.1</td><td>-0.3</td><td>0.08</td><td>4.11</td><td>0.5</td><td>0.9838</td><td>59.8</td><td>3</td><td>240.0</td><td>tres</td><td>m</td><td>SPC2.9</td></tr>\n",
       "<tr><td>HD_176209</td><td>2458378.633415</td><td>-12.906</td><td>0.93</td><td>8097.02</td><td>71</td><td>2.58</td><td>0.122</td><td>-0.083</td><td>0.08</td><td>49.84</td><td>0.5</td><td>0.8807</td><td>98.1</td><td>3</td><td>300.0</td><td>tres</td><td>m</td><td>SPC2.9</td></tr>\n",
       "<tr><td>HD_182354</td><td>2458379.614475</td><td>-36.788</td><td>0.056</td><td>4697.05</td><td>50</td><td>2.29</td><td>0.1</td><td>-0.301</td><td>0.08</td><td>5.38</td><td>0.5</td><td>0.9878</td><td>166.5</td><td>3</td><td>200.0</td><td>tres</td><td>m</td><td>SPC2.9</td></tr>\n",
       "<tr><td>HD_189750</td><td>2458384.795003</td><td>-62.645</td><td>0.061</td><td>4814.07</td><td>50</td><td>2.46</td><td>0.1</td><td>-0.344</td><td>0.08</td><td>4.15</td><td>0.5</td><td>0.9857</td><td>100.8</td><td>3</td><td>360.0</td><td>tres</td><td>m</td><td>SPC2.9</td></tr>\n",
       "</table>"
      ],
      "text/plain": [
       "<Table length=5>\n",
       "  Object      BJD_TDB        RV    RVerr  ... exptime spectro res  method\n",
       "  str10       float64     float64 float64 ... float64   str4  str1  str6 \n",
       "---------- -------------- ------- ------- ... ------- ------- ---- ------\n",
       "BD+42_3150 2458377.631807 -26.519   0.065 ...   350.0    tres    m SPC2.9\n",
       "BD+48_2904 2458384.778439    5.24   0.025 ...   240.0    tres    m SPC2.9\n",
       " HD_176209 2458378.633415 -12.906    0.93 ...   300.0    tres    m SPC2.9\n",
       " HD_182354 2458379.614475 -36.788   0.056 ...   200.0    tres    m SPC2.9\n",
       " HD_189750 2458384.795003 -62.645   0.061 ...   360.0    tres    m SPC2.9"
      ]
     },
     "execution_count": 9,
     "metadata": {},
     "output_type": "execute_result"
    }
   ],
   "source": [
    "spc_data"
   ]
  },
  {
   "cell_type": "code",
   "execution_count": 10,
   "metadata": {
    "collapsed": false
   },
   "outputs": [],
   "source": [
    "numax_sun = 3160.\n",
    "numax_sun_err = 10.\n",
    "\n",
    "Teff_sun = 5777.\n",
    "logg_sun = 4.43812"
   ]
  },
  {
   "cell_type": "code",
   "execution_count": 11,
   "metadata": {
    "collapsed": false
   },
   "outputs": [],
   "source": [
    "mapping = np.array([np.where(guy_data['Object'][:]==obj)[0][0] for obj in spc_data['Object'] if (obj in guy_data['Object'])])\n",
    "missing = np.array([obj not in guy_data['Object'] for obj in spc_data['Object']])"
   ]
  },
  {
   "cell_type": "code",
   "execution_count": 12,
   "metadata": {
    "collapsed": false
   },
   "outputs": [],
   "source": [
    "# new_table = join(guy_data[mapping],spc_data[~missing])\n",
    "new_table = join(guy_data,spc_data)"
   ]
  },
  {
   "cell_type": "code",
   "execution_count": 13,
   "metadata": {
    "collapsed": false
   },
   "outputs": [],
   "source": [
    "# spc_data['Object'].pprint(max_lines=70)"
   ]
  },
  {
   "cell_type": "code",
   "execution_count": 14,
   "metadata": {
    "collapsed": false
   },
   "outputs": [],
   "source": [
    "# new_table.keys()"
   ]
  },
  {
   "cell_type": "code",
   "execution_count": 15,
   "metadata": {
    "collapsed": false
   },
   "outputs": [],
   "source": [
    "g = ((new_table['Teff']/Teff_sun)**0.5) * (new_table['Numax']/numax_sun)\n",
    "log_g = np.log10(g)+logg_sun"
   ]
  },
  {
   "cell_type": "code",
   "execution_count": 16,
   "metadata": {
    "collapsed": false
   },
   "outputs": [],
   "source": [
    "# new_table['logg']"
   ]
  },
  {
   "cell_type": "markdown",
   "metadata": {},
   "source": [
    "## Now we do it with Monte Carlo"
   ]
  },
  {
   "cell_type": "code",
   "execution_count": 17,
   "metadata": {
    "collapsed": true
   },
   "outputs": [],
   "source": [
    "teffs = new_table['Teff'] \n",
    "numaxes = new_table['Numax']\n",
    "numax_errs = new_table['Numax_err']\n",
    "N = len(teffs)\n",
    "\n",
    "# data = dict(teff=teffs,mu_numax=numaxes,sig_numax=numax_errs,numax_sun=numax_sun,teff_sun=Teff_sun,N=N)"
   ]
  },
  {
   "cell_type": "code",
   "execution_count": 18,
   "metadata": {
    "collapsed": false
   },
   "outputs": [],
   "source": [
    "log_g = []\n",
    "log_g_err = []\n",
    "\n",
    "for j in range(N):\n",
    "    thisnumax = numax_errs[j]*np.random.randn(10000)+numaxes[j]\n",
    "    thislogg = np.log10((teffs[j]/Teff_sun)**0.5 * (thisnumax/numax_sun))\n",
    "    log_g.append(np.mean(thislogg))\n",
    "    log_g_err.append(np.std(thislogg))\n",
    "    \n",
    "log_g = np.array(log_g)+logg_sun\n",
    "log_g_err = np.array(log_g_err)"
   ]
  },
  {
   "cell_type": "code",
   "execution_count": 19,
   "metadata": {
    "collapsed": false
   },
   "outputs": [
    {
     "data": {
      "text/plain": [
       "(array([1., 0., 1., 0., 1., 0., 0., 0., 1., 1.]),\n",
       " array([32.01835278, 35.48618604, 38.9540193 , 42.42185256, 45.88968582,\n",
       "        49.35751908, 52.82535234, 56.29318559, 59.76101885, 63.22885211,\n",
       "        66.69668537]),\n",
       " <a list of 10 Patch objects>)"
      ]
     },
     "execution_count": 19,
     "metadata": {},
     "output_type": "execute_result"
    },
    {
     "data": {
      "image/png": "[encoded data removed]",
      "text/plain": [
       "<Figure size 432x288 with 1 Axes>"
      ]
     },
     "metadata": {},
     "output_type": "display_data"
    }
   ],
   "source": [
    "plt.hist(numaxes/numax_errs)"
   ]
  },
  {
   "cell_type": "code",
   "execution_count": 20,
   "metadata": {
    "collapsed": false
   },
   "outputs": [
    {
     "name": "stdout",
     "output_type": "stream",
     "text": [
      "  Object  \n",
      "----------\n",
      "BD+42_3150\n",
      "BD+48_2904\n",
      " HD_176209\n",
      " HD_182354\n",
      " HD_189750\n"
     ]
    }
   ],
   "source": [
    "new_table['Object'].pprint(max_lines=40)"
   ]
  },
  {
   "cell_type": "code",
   "execution_count": 27,
   "metadata": {
    "collapsed": false
   },
   "outputs": [],
   "source": [
    "output = Table({'Object':new_table['Object'],\n",
    "                'numax':numaxes,\n",
    "                'numax_err':numax_errs,\n",
    "                'log_g':log_g,\n",
    "                'log_g_err':log_g_err})\n",
    "output = output['Object','numax','numax_err','log_g','log_g_err']\n",
    "output.write('pope_asteroseismology_newtargs.csv',format='csv')"
   ]
  },
  {
   "cell_type": "code",
   "execution_count": 26,
   "metadata": {},
   "outputs": [
    {
     "data": {
      "text/html": [
       "&lt;Table length=5&gt;\n",
       "<table id=\"table4800419856\">\n",
       "<thead><tr><th>Object</th><th>log_g</th><th>log_g_err</th><th>numax</th><th>numax_err</th></tr></thead>\n",
       "<thead><tr><th>str10</th><th>float64</th><th>float64</th><th>float64</th><th>float64</th></tr></thead>\n",
       "<tr><td>BD+42_3150</td><td>2.4802800497112907</td><td>0.010819980855461032</td><td>38.315943379269186</td><td>0.9588694546996247</td></tr>\n",
       "<tr><td>BD+48_2904</td><td>2.247097436335569</td><td>0.013705898434274975</td><td>23.13453453354469</td><td>0.7225398099392429</td></tr>\n",
       "<tr><td>HD_176209</td><td>2.5687842882541227</td><td>0.00930048930883258</td><td>36.07827845578754</td><td>0.7700293923582229</td></tr>\n",
       "<tr><td>HD_182354</td><td>2.2867772572445646</td><td>0.006530061705894164</td><td>24.73075125143719</td><td>0.3707943073028773</td></tr>\n",
       "<tr><td>HD_189750</td><td>2.4567819822893022</td><td>0.006900478594531732</td><td>36.14219592398721</td><td>0.5754661116683394</td></tr>\n",
       "</table>"
      ],
      "text/plain": [
       "<Table length=5>\n",
       "  Object         log_g        ...       numax            numax_err     \n",
       "  str10         float64       ...      float64            float64      \n",
       "---------- ------------------ ... ------------------ ------------------\n",
       "BD+42_3150 2.4802800497112907 ... 38.315943379269186 0.9588694546996247\n",
       "BD+48_2904  2.247097436335569 ...  23.13453453354469 0.7225398099392429\n",
       " HD_176209 2.5687842882541227 ...  36.07827845578754 0.7700293923582229\n",
       " HD_182354 2.2867772572445646 ...  24.73075125143719 0.3707943073028773\n",
       " HD_189750 2.4567819822893022 ...  36.14219592398721 0.5754661116683394"
      ]
     },
     "execution_count": 26,
     "metadata": {},
     "output_type": "execute_result"
    }
   ],
   "source": [
    "output"
   ]
  },
  {
   "cell_type": "markdown",
   "metadata": {},
   "source": []
  },
  {
   "cell_type": "code",
   "execution_count": 23,
   "metadata": {
    "collapsed": false
   },
   "outputs": [
    {
     "data": {
      "image/png": "[encoded data removed]",
      "text/plain": [
       "<Figure size 432x288 with 2 Axes>"
      ]
     },
     "metadata": {},
     "output_type": "display_data"
    }
   ],
   "source": [
    "plt.scatter(new_table['logg'],log_g,c=new_table['Teff'])\n",
    "plt.errorbar(new_table['logg'],log_g,yerr=log_g_err,linestyle='',color='k')\n",
    "plt.colorbar()\n",
    "plt.xlabel(r'Spectroscopic $\\log{g}$')\n",
    "plt.ylabel(r'Asteroseismic $\\log{g}$')\n",
    "plt.savefig('numax_correlation.png')"
   ]
  },
  {
   "cell_type": "code",
   "execution_count": 24,
   "metadata": {},
   "outputs": [],
   "source": [
    "# output"
   ]
  },
  {
   "cell_type": "code",
   "execution_count": 26,
   "metadata": {},
   "outputs": [
    {
     "name": "stdout",
     "output_type": "stream",
     "text": [
      "  Object  \n",
      "----------\n",
      "BD+36_3564\n",
      "BD+39_3577\n",
      "BD+42_3367\n",
      "BD+42_3393\n",
      "BD+43_3064\n",
      "BD+43_3171\n",
      "BD+43_3213\n",
      "BD+48_2955\n",
      " HD_174020\n",
      " HD_174676\n",
      " HD_174829\n",
      " HD_175740\n",
      " HD_175740\n",
      " HD_175740\n",
      " HD_175740\n",
      " HD_175740\n",
      " HD_175884\n",
      " HD_176466\n",
      " HD_178797\n",
      " HD_178910\n",
      " HD_179394\n",
      " HD_179396\n",
      " HD_179959\n",
      " HD_180312\n",
      " HD_180312\n",
      " HD_180475\n",
      " HD_180658\n",
      " HD_180682\n",
      " HD_181022\n",
      " HD_181069\n",
      " HD_181097\n",
      " HD_181328\n",
      " HD_181596\n",
      " HD_181597\n",
      " HD_181681\n",
      " HD_181778\n",
      " HD_181878\n",
      " HD_181880\n",
      " HD_182531\n",
      " HD_182692\n",
      " HD_182694\n",
      " HD_183124\n",
      " HD_183203\n",
      " HD_184483\n",
      " HD_184787\n",
      " HD_185286\n",
      " HD_185351\n",
      " HD_185351\n",
      " HD_185351\n",
      " HD_185524\n",
      " HD_186121\n",
      " HD_186727\n",
      " HD_187217\n",
      " HD_187372\n",
      " HD_188537\n",
      " HD_188629\n",
      " HD_188875\n",
      " HD_188875\n",
      " HD_190149\n",
      " HD_226754\n",
      "  V398_Lyr\n",
      "  V546_Lyr\n",
      "  V547_Lyr\n"
     ]
    }
   ],
   "source": [
    "spc_data['Object'].pprint(max_lines=70)"
   ]
  },
  {
   "cell_type": "code",
   "execution_count": null,
   "metadata": {},
   "outputs": [],
   "source": []
  }
 ],
 "metadata": {
  "kernelspec": {
   "display_name": "Python 2",
   "language": "python",
   "name": "python2"
  },
  "language_info": {
   "codemirror_mode": {
    "name": "ipython",
    "version": 2
   },
   "file_extension": ".py",
   "mimetype": "text/x-python",
   "name": "python",
   "nbconvert_exporter": "python",
   "pygments_lexer": "ipython2",
   "version": "2.7.15"
  }
 },
 "nbformat": 4,
 "nbformat_minor": 2
}
