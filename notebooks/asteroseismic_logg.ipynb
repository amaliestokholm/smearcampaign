{
 "cells": [
  {
   "cell_type": "code",
   "execution_count": 139,
   "metadata": {
    "collapsed": true
   },
   "outputs": [],
   "source": [
    "import numpy as np\n",
    "import matplotlib.pyplot as plt\n",
    "from astropy.table import Table, join\n",
    "\n",
    "from astropy.io import ascii\n",
    "import glob, re\n",
    "\n",
    "% matplotlib inline\n",
    "\n",
    "import matplotlib as mpl\n",
    "mpl.style.use('seaborn-colorblind')\n",
    "\n",
    "#To make sure we have always the same matplotlib settings\n",
    "#(the ones in comments are the ipython notebook settings)\n",
    "\n",
    "mpl.rcParams['figure.figsize']=(8.0,6.0)    #(6.0,4.0)\n",
    "mpl.rcParams['font.size']=18               #10 \n",
    "mpl.rcParams['savefig.dpi']= 200             #72 \n",
    "mpl.rcParams['axes.labelsize'] = 16\n",
    "mpl.rcParams['axes.labelsize'] = 16\n",
    "mpl.rcParams['xtick.labelsize'] = 12\n",
    "mpl.rcParams['ytick.labelsize'] = 12\n"
   ]
  },
  {
   "cell_type": "code",
   "execution_count": 140,
   "metadata": {
    "collapsed": false
   },
   "outputs": [],
   "source": [
    "fname_spc = '../data/spc_giants.csv' # original\n",
    "fname_spc = '../data/smear_spc_new.txt' # updated \n",
    "fname_spc = '../data/SMEAR_SPC_first_iteration.txt' # new targets\n",
    "fname_spc = '../data/smear_spc_2.txt' # new targets \n",
    "fname_spc = '../data/SMEAR_reiterated.txt'\n",
    "\n",
    "fname_guy = '../data/smear_Dnu.csv' "
   ]
  },
  {
   "cell_type": "code",
   "execution_count": 141,
   "metadata": {
    "collapsed": false
   },
   "outputs": [
    {
     "name": "stdout",
     "output_type": "stream",
     "text": [
      "['Object', 'Dnu', 'Dnu_err', 'Numax', 'Numax_err', 'eps', 'eps_err']\n",
      "['Object', 'BJD_TDB', 'RV', 'RVerr', 'Teff', 'Teff_err', 'logg', 'logg_err', 'monh', 'monh_err', 'vsini', 'vsini_err', 'CCF', 'SNRe', 'n_aps', 'exptime', 'spectro', 'res', 'method']\n"
     ]
    }
   ],
   "source": [
    "spc_data = Table.read(fname_spc,format='ascii')\n",
    "\n",
    "guy_data = Table.read(fname_guy,format='ascii')\n",
    "guy_data.rename_column('Star_ID','Object')\n",
    "print guy_data.keys()\n",
    "print spc_data.keys()"
   ]
  },
  {
   "cell_type": "code",
   "execution_count": 142,
   "metadata": {},
   "outputs": [
    {
     "data": {
      "text/html": [
       "&lt;Table length=4&gt;\n",
       "<table id=\"table4639600592\" class=\"table-striped table-bordered table-condensed\">\n",
       "<thead><tr><th>Object</th><th>BJD_TDB</th><th>RV</th><th>RVerr</th><th>Teff</th><th>Teff_err</th><th>logg</th><th>logg_err</th><th>monh</th><th>monh_err</th><th>vsini</th><th>vsini_err</th><th>CCF</th><th>SNRe</th><th>n_aps</th><th>exptime</th><th>spectro</th><th>res</th><th>method</th></tr></thead>\n",
       "<thead><tr><th>str10</th><th>float64</th><th>float64</th><th>float64</th><th>float64</th><th>int64</th><th>float64</th><th>float64</th><th>float64</th><th>float64</th><th>float64</th><th>float64</th><th>float64</th><th>float64</th><th>int64</th><th>float64</th><th>str4</th><th>str1</th><th>str6</th></tr></thead>\n",
       "<tr><td>BD+43_3171</td><td>2457671.586446</td><td>-16.325</td><td>0.11</td><td>3655.87</td><td>50</td><td>1.137</td><td>0.1</td><td>-1.203</td><td>0.08</td><td>4.54</td><td>0.5</td><td>0.992</td><td>68.9</td><td>3</td><td>250.0</td><td>tres</td><td>m</td><td>SPC2.9</td></tr>\n",
       "<tr><td>HD_174020</td><td>2457670.580448</td><td>-14.835</td><td>0.077</td><td>3780.53</td><td>50</td><td>1.24</td><td>0.1</td><td>-1.033</td><td>0.08</td><td>5.38</td><td>0.5</td><td>0.9832</td><td>120.1</td><td>3</td><td>200.0</td><td>tres</td><td>m</td><td>SPC2.9</td></tr>\n",
       "<tr><td>HD_180682</td><td>2457672.569455</td><td>30.986</td><td>0.071</td><td>4076.96</td><td>50</td><td>1.429</td><td>0.1</td><td>-1.034</td><td>0.08</td><td>5.75</td><td>0.5</td><td>0.9792</td><td>80.1</td><td>3</td><td>80.0</td><td>tres</td><td>m</td><td>SPC2.9</td></tr>\n",
       "<tr><td>HD_181022</td><td>2457647.609269</td><td>-80.388</td><td>0.16</td><td>3556.71</td><td>50</td><td>1.032</td><td>0.1</td><td>-1.63</td><td>0.08</td><td>4.68</td><td>0.5</td><td>1.0026</td><td>108.8</td><td>3</td><td>120.0</td><td>tres</td><td>m</td><td>SPC2.9</td></tr>\n",
       "</table>"
      ],
      "text/plain": [
       "<Table length=4>\n",
       "  Object      BJD_TDB        RV    RVerr  ... exptime spectro res  method\n",
       "  str10       float64     float64 float64 ... float64   str4  str1  str6 \n",
       "---------- -------------- ------- ------- ... ------- ------- ---- ------\n",
       "BD+43_3171 2457671.586446 -16.325    0.11 ...   250.0    tres    m SPC2.9\n",
       " HD_174020 2457670.580448 -14.835   0.077 ...   200.0    tres    m SPC2.9\n",
       " HD_180682 2457672.569455  30.986   0.071 ...    80.0    tres    m SPC2.9\n",
       " HD_181022 2457647.609269 -80.388    0.16 ...   120.0    tres    m SPC2.9"
      ]
     },
     "execution_count": 142,
     "metadata": {},
     "output_type": "execute_result"
    }
   ],
   "source": [
    "spc_data"
   ]
  },
  {
   "cell_type": "code",
   "execution_count": 143,
   "metadata": {},
   "outputs": [],
   "source": [
    "new_stars = ['HD_175466','BD+42_3150','BD+48_2904','HD_176209','HD_182354','HD_189636B','HD_189636A','HD_189750']"
   ]
  },
  {
   "cell_type": "code",
   "execution_count": 144,
   "metadata": {},
   "outputs": [
    {
     "name": "stdout",
     "output_type": "stream",
     "text": [
      "BD+42_3150\n",
      "BD+48_2904\n",
      "HD_176209\n",
      "HD_182354\n",
      "HD_189750\n"
     ]
    }
   ],
   "source": [
    "for star in new_stars:\n",
    "    if star in guy_data['Object']:\n",
    "        print star"
   ]
  },
  {
   "cell_type": "code",
   "execution_count": 145,
   "metadata": {
    "collapsed": false
   },
   "outputs": [],
   "source": [
    "guy_data.sort('Object')\n",
    "spc_data.sort('Object')"
   ]
  },
  {
   "cell_type": "code",
   "execution_count": 146,
   "metadata": {},
   "outputs": [
    {
     "data": {
      "text/html": [
       "&lt;Table length=4&gt;\n",
       "<table id=\"table4639600592\" class=\"table-striped table-bordered table-condensed\">\n",
       "<thead><tr><th>Object</th><th>BJD_TDB</th><th>RV</th><th>RVerr</th><th>Teff</th><th>Teff_err</th><th>logg</th><th>logg_err</th><th>monh</th><th>monh_err</th><th>vsini</th><th>vsini_err</th><th>CCF</th><th>SNRe</th><th>n_aps</th><th>exptime</th><th>spectro</th><th>res</th><th>method</th></tr></thead>\n",
       "<thead><tr><th>str10</th><th>float64</th><th>float64</th><th>float64</th><th>float64</th><th>int64</th><th>float64</th><th>float64</th><th>float64</th><th>float64</th><th>float64</th><th>float64</th><th>float64</th><th>float64</th><th>int64</th><th>float64</th><th>str4</th><th>str1</th><th>str6</th></tr></thead>\n",
       "<tr><td>BD+43_3171</td><td>2457671.586446</td><td>-16.325</td><td>0.11</td><td>3655.87</td><td>50</td><td>1.137</td><td>0.1</td><td>-1.203</td><td>0.08</td><td>4.54</td><td>0.5</td><td>0.992</td><td>68.9</td><td>3</td><td>250.0</td><td>tres</td><td>m</td><td>SPC2.9</td></tr>\n",
       "<tr><td>HD_174020</td><td>2457670.580448</td><td>-14.835</td><td>0.077</td><td>3780.53</td><td>50</td><td>1.24</td><td>0.1</td><td>-1.033</td><td>0.08</td><td>5.38</td><td>0.5</td><td>0.9832</td><td>120.1</td><td>3</td><td>200.0</td><td>tres</td><td>m</td><td>SPC2.9</td></tr>\n",
       "<tr><td>HD_180682</td><td>2457672.569455</td><td>30.986</td><td>0.071</td><td>4076.96</td><td>50</td><td>1.429</td><td>0.1</td><td>-1.034</td><td>0.08</td><td>5.75</td><td>0.5</td><td>0.9792</td><td>80.1</td><td>3</td><td>80.0</td><td>tres</td><td>m</td><td>SPC2.9</td></tr>\n",
       "<tr><td>HD_181022</td><td>2457647.609269</td><td>-80.388</td><td>0.16</td><td>3556.71</td><td>50</td><td>1.032</td><td>0.1</td><td>-1.63</td><td>0.08</td><td>4.68</td><td>0.5</td><td>1.0026</td><td>108.8</td><td>3</td><td>120.0</td><td>tres</td><td>m</td><td>SPC2.9</td></tr>\n",
       "</table>"
      ],
      "text/plain": [
       "<Table length=4>\n",
       "  Object      BJD_TDB        RV    RVerr  ... exptime spectro res  method\n",
       "  str10       float64     float64 float64 ... float64   str4  str1  str6 \n",
       "---------- -------------- ------- ------- ... ------- ------- ---- ------\n",
       "BD+43_3171 2457671.586446 -16.325    0.11 ...   250.0    tres    m SPC2.9\n",
       " HD_174020 2457670.580448 -14.835   0.077 ...   200.0    tres    m SPC2.9\n",
       " HD_180682 2457672.569455  30.986   0.071 ...    80.0    tres    m SPC2.9\n",
       " HD_181022 2457647.609269 -80.388    0.16 ...   120.0    tres    m SPC2.9"
      ]
     },
     "execution_count": 146,
     "metadata": {},
     "output_type": "execute_result"
    }
   ],
   "source": [
    "spc_data"
   ]
  },
  {
   "cell_type": "code",
   "execution_count": 147,
   "metadata": {
    "collapsed": false
   },
   "outputs": [],
   "source": [
    "numax_sun = 3160.\n",
    "numax_sun_err = 10.\n",
    "\n",
    "Teff_sun = 5777.\n",
    "logg_sun = 4.43812"
   ]
  },
  {
   "cell_type": "code",
   "execution_count": 148,
   "metadata": {
    "collapsed": false
   },
   "outputs": [],
   "source": [
    "mapping = np.array([np.where(guy_data['Object'][:]==obj)[0][0] for obj in spc_data['Object'] if (obj in guy_data['Object'])])\n",
    "missing = np.array([obj not in guy_data['Object'] for obj in spc_data['Object']])"
   ]
  },
  {
   "cell_type": "code",
   "execution_count": 149,
   "metadata": {
    "collapsed": false
   },
   "outputs": [],
   "source": [
    "# new_table = join(guy_data[mapping],spc_data[~missing])\n",
    "new_table = join(guy_data,spc_data)"
   ]
  },
  {
   "cell_type": "code",
   "execution_count": 150,
   "metadata": {
    "collapsed": false
   },
   "outputs": [],
   "source": [
    "# spc_data['Object'].pprint(max_lines=70)"
   ]
  },
  {
   "cell_type": "code",
   "execution_count": 151,
   "metadata": {
    "collapsed": false
   },
   "outputs": [],
   "source": [
    "# new_table.keys()"
   ]
  },
  {
   "cell_type": "code",
   "execution_count": 152,
   "metadata": {
    "collapsed": false
   },
   "outputs": [],
   "source": [
    "g = ((new_table['Teff']/Teff_sun)**0.5) * (new_table['Numax']/numax_sun)\n",
    "log_g = np.log10(g)+logg_sun"
   ]
  },
  {
   "cell_type": "code",
   "execution_count": 153,
   "metadata": {
    "collapsed": false
   },
   "outputs": [],
   "source": [
    "# new_table['logg']"
   ]
  },
  {
   "cell_type": "markdown",
   "metadata": {},
   "source": [
    "## Now we do it with Monte Carlo"
   ]
  },
  {
   "cell_type": "code",
   "execution_count": 154,
   "metadata": {
    "collapsed": true
   },
   "outputs": [],
   "source": [
    "teffs = new_table['Teff'] \n",
    "numaxes = new_table['Numax']\n",
    "numax_errs = new_table['Numax_err']\n",
    "N = len(teffs)\n",
    "\n",
    "# data = dict(teff=teffs,mu_numax=numaxes,sig_numax=numax_errs,numax_sun=numax_sun,teff_sun=Teff_sun,N=N)"
   ]
  },
  {
   "cell_type": "code",
   "execution_count": 155,
   "metadata": {
    "collapsed": false
   },
   "outputs": [],
   "source": [
    "log_g = []\n",
    "log_g_err = []\n",
    "\n",
    "for j in range(N):\n",
    "    thisnumax = numax_errs[j]*np.random.randn(10000)+numaxes[j]\n",
    "    thislogg = np.log10((teffs[j]/Teff_sun)**0.5 * (thisnumax/numax_sun))\n",
    "    log_g.append(np.mean(thislogg))\n",
    "    log_g_err.append(np.std(thislogg))\n",
    "    \n",
    "log_g = np.array(log_g)+logg_sun\n",
    "log_g_err = np.array(log_g_err)"
   ]
  },
  {
   "cell_type": "code",
   "execution_count": 156,
   "metadata": {
    "collapsed": false
   },
   "outputs": [
    {
     "data": {
      "text/plain": [
       "(array([1., 0., 0., 0., 1., 0., 1., 0., 0., 1.]),\n",
       " array([25.40266557, 28.12506446, 30.84746334, 33.56986222, 36.29226111,\n",
       "        39.01465999, 41.73705887, 44.45945776, 47.18185664, 49.90425553,\n",
       "        52.62665441]),\n",
       " <a list of 10 Patch objects>)"
      ]
     },
     "execution_count": 156,
     "metadata": {},
     "output_type": "execute_result"
    },
    {
     "data": {
      "image/png": "[encoded data removed]",
      "text/plain": [
       "<Figure size 576x432 with 1 Axes>"
      ]
     },
     "metadata": {},
     "output_type": "display_data"
    }
   ],
   "source": [
    "plt.hist(numaxes/numax_errs)"
   ]
  },
  {
   "cell_type": "code",
   "execution_count": 157,
   "metadata": {
    "collapsed": false
   },
   "outputs": [
    {
     "name": "stdout",
     "output_type": "stream",
     "text": [
      "  Object  \n",
      "----------\n",
      "BD+43_3171\n",
      " HD_174020\n",
      " HD_180682\n",
      " HD_181022\n"
     ]
    }
   ],
   "source": [
    "new_table['Object'].pprint(max_lines=40)"
   ]
  },
  {
   "cell_type": "code",
   "execution_count": 158,
   "metadata": {
    "collapsed": false
   },
   "outputs": [],
   "source": [
    "output = Table({'Object':new_table['Object'],\n",
    "                'numax':numaxes,\n",
    "                'numax_err':numax_errs,\n",
    "                'log_g':log_g,\n",
    "                'log_g_err':log_g_err})\n",
    "output = output['Object','numax','numax_err','log_g','log_g_err']\n",
    "output.write('pope_asteroseismology_newtargs_again.csv',format='csv')"
   ]
  },
  {
   "cell_type": "code",
   "execution_count": 159,
   "metadata": {},
   "outputs": [
    {
     "data": {
      "text/html": [
       "&lt;Table length=4&gt;\n",
       "<table id=\"table4634797968\" class=\"table-striped table-bordered table-condensed\">\n",
       "<thead><tr><th>Object</th><th>numax</th><th>numax_err</th><th>log_g</th><th>log_g_err</th></tr></thead>\n",
       "<thead><tr><th>str10</th><th>float64</th><th>float64</th><th>float64</th><th>float64</th></tr></thead>\n",
       "<tr><td>BD+43_3171</td><td>1.984298734336489</td><td>0.05145104900196677</td><td>1.13655873189138</td><td>0.01128193745604834</td></tr>\n",
       "<tr><td>HD_174020</td><td>2.47548965209216</td><td>0.09744999575175439</td><td>1.240121133701002</td><td>0.017048172778136854</td></tr>\n",
       "<tr><td>HD_180682</td><td>3.6778316522927974</td><td>0.08410834299831177</td><td>1.428401832259337</td><td>0.009950160320740798</td></tr>\n",
       "<tr><td>HD_181022</td><td>1.5797194213025423</td><td>0.03001747762631546</td><td>1.0316087883495522</td><td>0.008182072458365292</td></tr>\n",
       "</table>"
      ],
      "text/plain": [
       "<Table length=4>\n",
       "  Object         numax        ...       log_g             log_g_err      \n",
       "  str10         float64       ...      float64             float64       \n",
       "---------- ------------------ ... ------------------ --------------------\n",
       "BD+43_3171  1.984298734336489 ...   1.13655873189138  0.01128193745604834\n",
       " HD_174020   2.47548965209216 ...  1.240121133701002 0.017048172778136854\n",
       " HD_180682 3.6778316522927974 ...  1.428401832259337 0.009950160320740798\n",
       " HD_181022 1.5797194213025423 ... 1.0316087883495522 0.008182072458365292"
      ]
     },
     "execution_count": 159,
     "metadata": {},
     "output_type": "execute_result"
    }
   ],
   "source": [
    "output"
   ]
  },
  {
   "cell_type": "markdown",
   "metadata": {},
   "source": []
  },
  {
   "cell_type": "code",
   "execution_count": 160,
   "metadata": {
    "collapsed": false
   },
   "outputs": [
    {
     "data": {
      "image/png": "[encoded data removed]",
      "text/plain": [
       "<Figure size 576x432 with 2 Axes>"
      ]
     },
     "metadata": {},
     "output_type": "display_data"
    }
   ],
   "source": [
    "plt.scatter(new_table['logg'],log_g,c=new_table['Teff'])\n",
    "plt.errorbar(new_table['logg'],log_g,yerr=log_g_err,linestyle='',color='k')\n",
    "plt.colorbar()\n",
    "offsets = [0.1,0.1, -1.0,0.15]\n",
    "for j in range(len(new_table)):\n",
    "    plt.text(new_table['logg'][j]+offsets[j],log_g[j]-0.01,new_table['Object'][j].replace('_',' '))\n",
    "# plt.plot(new_table['logg'],new_table['logg'],'-',alpha=0.2)\n",
    "plt.xlabel(r'Spectroscopic $\\log{g}$')\n",
    "plt.ylabel(r'Asteroseismic $\\log{g}$')\n",
    "plt.savefig('numax_correlation.png')"
   ]
  },
  {
   "cell_type": "code",
   "execution_count": 118,
   "metadata": {},
   "outputs": [
    {
     "name": "stdout",
     "output_type": "stream",
     "text": [
      "Help on function text in module matplotlib.pyplot:\n",
      "\n",
      "text(x, y, s, fontdict=None, withdash=False, **kwargs)\n",
      "    Add text to the axes.\n",
      "    \n",
      "    Add the text *s* to the axes at location *x*, *y* in data coordinates.\n",
      "    \n",
      "    Parameters\n",
      "    ----------\n",
      "    x, y : scalars\n",
      "        The position to place the text. By default, this is in data\n",
      "        coordinates. The coordinate system can be changed using the\n",
      "        *transform* parameter.\n",
      "    \n",
      "    s : str\n",
      "        The text.\n",
      "    \n",
      "    fontdict : dictionary, optional, default: None\n",
      "        A dictionary to override the default text properties. If fontdict\n",
      "        is None, the defaults are determined by your rc parameters.\n",
      "    \n",
      "    withdash : boolean, optional, default: False\n",
      "        Creates a `~matplotlib.text.TextWithDash` instance instead of a\n",
      "        `~matplotlib.text.Text` instance.\n",
      "    \n",
      "    Returns\n",
      "    -------\n",
      "    text : `.Text`\n",
      "        The created `.Text` instance.\n",
      "    \n",
      "    Other Parameters\n",
      "    ----------------\n",
      "    **kwargs : `~matplotlib.text.Text` properties.\n",
      "        Other miscellaneous text parameters.\n",
      "    \n",
      "    Examples\n",
      "    --------\n",
      "    Individual keyword arguments can be used to override any given\n",
      "    parameter::\n",
      "    \n",
      "        >>> text(x, y, s, fontsize=12)\n",
      "    \n",
      "    The default transform specifies that text is in data coords,\n",
      "    alternatively, you can specify text in axis coords (0,0 is\n",
      "    lower-left and 1,1 is upper-right).  The example below places\n",
      "    text in the center of the axes::\n",
      "    \n",
      "        >>> text(0.5, 0.5, 'matplotlib', horizontalalignment='center',\n",
      "        ...      verticalalignment='center', transform=ax.transAxes)\n",
      "    \n",
      "    You can put a rectangular box around the text instance (e.g., to\n",
      "    set a background color) by using the keyword `bbox`.  `bbox` is\n",
      "    a dictionary of `~matplotlib.patches.Rectangle`\n",
      "    properties.  For example::\n",
      "    \n",
      "        >>> text(x, y, s, bbox=dict(facecolor='red', alpha=0.5))\n",
      "\n"
     ]
    }
   ],
   "source": [
    "help(plt.text)"
   ]
  },
  {
   "cell_type": "code",
   "execution_count": 22,
   "metadata": {},
   "outputs": [],
   "source": [
    "# output"
   ]
  },
  {
   "cell_type": "code",
   "execution_count": 23,
   "metadata": {},
   "outputs": [
    {
     "name": "stdout",
     "output_type": "stream",
     "text": [
      "  Object  \n",
      "----------\n",
      "BD+42_3150\n",
      "BD+48_2904\n",
      " HD_176209\n",
      " HD_182354\n",
      " HD_189750\n"
     ]
    }
   ],
   "source": [
    "spc_data['Object'].pprint(max_lines=70)"
   ]
  },
  {
   "cell_type": "code",
   "execution_count": 24,
   "metadata": {},
   "outputs": [],
   "source": [
    "# bad targets BD+433171, HD174020, HD180682 and HD181022\n",
    "bad = ['BD+43_3171', 'HD_174020', 'HD_180682', 'HD_181022']"
   ]
  },
  {
   "cell_type": "code",
   "execution_count": null,
   "metadata": {},
   "outputs": [],
   "source": []
  }
 ],
 "metadata": {
  "kernelspec": {
   "display_name": "Python 2",
   "language": "python",
   "name": "python2"
  },
  "language_info": {
   "codemirror_mode": {
    "name": "ipython",
    "version": 2
   },
   "file_extension": ".py",
   "mimetype": "text/x-python",
   "name": "python",
   "nbconvert_exporter": "python",
   "pygments_lexer": "ipython2",
   "version": "2.7.15"
  }
 },
 "nbformat": 4,
 "nbformat_minor": 2
}
