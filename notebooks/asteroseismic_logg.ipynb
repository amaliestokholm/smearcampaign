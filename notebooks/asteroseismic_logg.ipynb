{
 "cells": [
  {
   "cell_type": "code",
   "execution_count": 2,
   "metadata": {
    "collapsed": true
   },
   "outputs": [],
   "source": [
    "import numpy as np\n",
    "import matplotlib.pyplot as plt\n",
    "from astropy.table import Table, join\n",
    "\n",
    "from astropy.io import ascii\n",
    "import glob, re\n",
    "\n",
    "% matplotlib inline\n",
    "\n",
    "import matplotlib as mpl\n",
    "mpl.style.use('seaborn-colorblind')\n",
    "\n",
    "#To make sure we have always the same matplotlib settings\n",
    "#(the ones in comments are the ipython notebook settings)\n",
    "\n",
    "mpl.rcParams['figure.figsize']=(8.0,6.0)    #(6.0,4.0)\n",
    "mpl.rcParams['font.size']=18               #10 \n",
    "mpl.rcParams['savefig.dpi']= 200             #72 \n",
    "mpl.rcParams['axes.labelsize'] = 16\n",
    "mpl.rcParams['axes.labelsize'] = 16\n",
    "mpl.rcParams['xtick.labelsize'] = 12\n",
    "mpl.rcParams['ytick.labelsize'] = 12\n"
   ]
  },
  {
   "cell_type": "code",
   "execution_count": 3,
   "metadata": {
    "collapsed": false
   },
   "outputs": [],
   "source": [
    "fname_spc = '../data/spc_giants.csv'\n",
    "fname_guy = '../data/smear_Dnu.csv'"
   ]
  },
  {
   "cell_type": "code",
   "execution_count": 4,
   "metadata": {
    "collapsed": false
   },
   "outputs": [
    {
     "name": "stdout",
     "output_type": "stream",
     "text": [
      "['Object', 'Dnu', 'Dnu_err', 'Numax', 'Numax_err', 'eps', 'eps_err']\n"
     ]
    }
   ],
   "source": [
    "spc_data = Table.read(fname_spc,format='ascii')\n",
    "\n",
    "guy_data = Table.read(fname_guy,format='ascii')\n",
    "guy_data.rename_column('Star_ID','Object')\n",
    "print guy_data.keys()"
   ]
  },
  {
   "cell_type": "code",
   "execution_count": 5,
   "metadata": {
    "collapsed": false
   },
   "outputs": [],
   "source": [
    "guy_data.sort('Object')\n",
    "spc_data.sort('Object')"
   ]
  },
  {
   "cell_type": "code",
   "execution_count": 7,
   "metadata": {},
   "outputs": [
    {
     "data": {
      "text/html": [
       "&lt;Table length=63&gt;\n",
       "<table id=\"table4770752592\" class=\"table-striped table-bordered table-condensed\">\n",
       "<thead><tr><th>Object</th><th>BJD_TDB</th><th>RV</th><th>RVerr</th><th>Teff</th><th>Teff_err</th><th>logg</th><th>logg_err</th><th>monh</th><th>monh_err</th><th>vsini</th><th>vsini_err</th><th>CCF</th><th>SNRe</th><th>n_aps</th><th>exptime</th><th>spectro</th><th>res</th><th>method</th></tr></thead>\n",
       "<thead><tr><th>str10</th><th>float64</th><th>float64</th><th>float64</th><th>float64</th><th>int64</th><th>float64</th><th>float64</th><th>float64</th><th>float64</th><th>float64</th><th>float64</th><th>float64</th><th>float64</th><th>int64</th><th>float64</th><th>str4</th><th>str1</th><th>str6</th></tr></thead>\n",
       "<tr><td>BD+36_3564</td><td>2457674.606693</td><td>-77.842</td><td>0.051</td><td>4300.66</td><td>50</td><td>2.064</td><td>0.1</td><td>-0.345</td><td>0.08</td><td>5.14</td><td>0.5</td><td>0.9805</td><td>71.8</td><td>3</td><td>250.0</td><td>tres</td><td>m</td><td>SPC2.9</td></tr>\n",
       "<tr><td>BD+39_3577</td><td>2457670.59009</td><td>-14.809</td><td>0.07</td><td>5079.32</td><td>50</td><td>2.995</td><td>0.1</td><td>-0.114</td><td>0.08</td><td>3.98</td><td>0.5</td><td>0.9886</td><td>92.8</td><td>3</td><td>220.0</td><td>tres</td><td>m</td><td>SPC2.9</td></tr>\n",
       "<tr><td>BD+42_3367</td><td>2457675.581459</td><td>-11.29</td><td>0.165</td><td>4057.12</td><td>50</td><td>2.011</td><td>0.1</td><td>-0.134</td><td>0.08</td><td>7.04</td><td>0.5</td><td>0.9642</td><td>78.2</td><td>3</td><td>180.0</td><td>tres</td><td>m</td><td>SPC2.9</td></tr>\n",
       "<tr><td>BD+42_3393</td><td>2457675.584472</td><td>22.165</td><td>0.117</td><td>4100.16</td><td>50</td><td>1.917</td><td>0.1</td><td>-0.214</td><td>0.08</td><td>6.7</td><td>0.5</td><td>0.97</td><td>69.5</td><td>3</td><td>200.0</td><td>tres</td><td>m</td><td>SPC2.9</td></tr>\n",
       "<tr><td>BD+43_3064</td><td>2457670.597634</td><td>-13.649</td><td>0.063</td><td>4266.04</td><td>50</td><td>2.031</td><td>0.1</td><td>-0.206</td><td>0.08</td><td>5.17</td><td>0.5</td><td>0.9791</td><td>69.2</td><td>3</td><td>250.0</td><td>tres</td><td>m</td><td>SPC2.9</td></tr>\n",
       "<tr><td>BD+43_3171</td><td>2457671.586446</td><td>-16.325</td><td>0.108</td><td>4071.77</td><td>50</td><td>2.025</td><td>0.1</td><td>-0.167</td><td>0.08</td><td>5.68</td><td>0.5</td><td>0.9717</td><td>68.6</td><td>3</td><td>250.0</td><td>tres</td><td>m</td><td>SPC2.9</td></tr>\n",
       "<tr><td>BD+43_3213</td><td>2457673.586228</td><td>-14.163</td><td>0.162</td><td>4131.24</td><td>50</td><td>2.074</td><td>0.1</td><td>0.073</td><td>0.08</td><td>6.24</td><td>0.5</td><td>0.9716</td><td>57.3</td><td>3</td><td>220.0</td><td>tres</td><td>m</td><td>SPC2.9</td></tr>\n",
       "<tr><td>BD+48_2955</td><td>2457676.593673</td><td>1.661</td><td>0.045</td><td>4344.0</td><td>50</td><td>2.106</td><td>0.1</td><td>-0.323</td><td>0.08</td><td>4.78</td><td>0.5</td><td>0.9742</td><td>31.7</td><td>3</td><td>45.0</td><td>tres</td><td>m</td><td>SPC2.9</td></tr>\n",
       "<tr><td>HD_174020</td><td>2457670.580448</td><td>-14.835</td><td>0.077</td><td>4161.69</td><td>50</td><td>1.973</td><td>0.1</td><td>-0.1</td><td>0.08</td><td>5.81</td><td>0.5</td><td>0.977</td><td>120.1</td><td>3</td><td>200.0</td><td>tres</td><td>m</td><td>SPC2.9</td></tr>\n",
       "<tr><td>HD_174676</td><td>2457670.59381</td><td>-33.975</td><td>0.631</td><td>4057.85</td><td>50</td><td>2.64</td><td>0.1</td><td>-0.023</td><td>0.08</td><td>9.12</td><td>0.5</td><td>0.9343</td><td>72.5</td><td>3</td><td>220.0</td><td>tres</td><td>m</td><td>SPC2.9</td></tr>\n",
       "<tr><td>...</td><td>...</td><td>...</td><td>...</td><td>...</td><td>...</td><td>...</td><td>...</td><td>...</td><td>...</td><td>...</td><td>...</td><td>...</td><td>...</td><td>...</td><td>...</td><td>...</td><td>...</td><td>...</td></tr>\n",
       "<tr><td>HD_187372</td><td>2457676.590755</td><td>3.86</td><td>0.213</td><td>4028.31</td><td>50</td><td>2.119</td><td>0.1</td><td>-0.075</td><td>0.08</td><td>7.06</td><td>0.5</td><td>0.9625</td><td>77.7</td><td>3</td><td>45.0</td><td>tres</td><td>m</td><td>SPC2.9</td></tr>\n",
       "<tr><td>HD_188537</td><td>2457677.568327</td><td>-18.029</td><td>0.152</td><td>4960.57</td><td>50</td><td>2.411</td><td>0.1</td><td>-0.084</td><td>0.08</td><td>10.68</td><td>0.5</td><td>0.9849</td><td>67.0</td><td>3</td><td>135.0</td><td>tres</td><td>m</td><td>SPC2.9</td></tr>\n",
       "<tr><td>HD_188629</td><td>2457677.572408</td><td>10.967</td><td>0.084</td><td>4227.17</td><td>50</td><td>2.008</td><td>0.1</td><td>-0.1</td><td>0.08</td><td>5.53</td><td>0.5</td><td>0.9762</td><td>51.3</td><td>3</td><td>180.0</td><td>tres</td><td>m</td><td>SPC2.9</td></tr>\n",
       "<tr><td>HD_188875</td><td>2457646.802336</td><td>-13.706</td><td>0.079</td><td>4472.76</td><td>50</td><td>1.949</td><td>0.1</td><td>-0.172</td><td>0.08</td><td>7.07</td><td>0.5</td><td>0.9809</td><td>143.2</td><td>3</td><td>120.0</td><td>tres</td><td>m</td><td>SPC2.9</td></tr>\n",
       "<tr><td>HD_188875</td><td>2457677.575731</td><td>-13.722</td><td>0.061</td><td>4467.04</td><td>50</td><td>1.936</td><td>0.1</td><td>-0.187</td><td>0.08</td><td>7.08</td><td>0.5</td><td>0.9803</td><td>78.3</td><td>3</td><td>70.0</td><td>tres</td><td>m</td><td>SPC2.9</td></tr>\n",
       "<tr><td>HD_190149</td><td>2457677.583546</td><td>-28.262</td><td>0.184</td><td>4030.96</td><td>50</td><td>2.06</td><td>0.1</td><td>-0.093</td><td>0.08</td><td>6.69</td><td>0.5</td><td>0.9643</td><td>104.6</td><td>3</td><td>180.0</td><td>tres</td><td>m</td><td>SPC2.9</td></tr>\n",
       "<tr><td>HD_226754</td><td>2457677.579291</td><td>18.655</td><td>0.102</td><td>4370.17</td><td>50</td><td>2.363</td><td>0.1</td><td>0.081</td><td>0.08</td><td>4.78</td><td>0.5</td><td>0.9795</td><td>62.5</td><td>3</td><td>240.0</td><td>tres</td><td>m</td><td>SPC2.9</td></tr>\n",
       "<tr><td>V398_Lyr</td><td>2457671.570308</td><td>68.565</td><td>39.733</td><td>4114.4</td><td>73</td><td>3.457</td><td>0.125</td><td>0.5</td><td>0.08</td><td>77.89</td><td>0.5</td><td>0.874</td><td>81.8</td><td>3</td><td>90.0</td><td>tres</td><td>m</td><td>SPC2.9</td></tr>\n",
       "<tr><td>V546_Lyr</td><td>2457671.574686</td><td>-7.448</td><td>0.649</td><td>4053.32</td><td>50</td><td>2.669</td><td>0.1</td><td>0.195</td><td>0.08</td><td>9.32</td><td>0.5</td><td>0.9339</td><td>72.5</td><td>3</td><td>100.0</td><td>tres</td><td>m</td><td>SPC2.9</td></tr>\n",
       "<tr><td>V547_Lyr</td><td>2457671.566258</td><td>-5.513</td><td>1.383</td><td>4055.1</td><td>50</td><td>2.728</td><td>0.1</td><td>0.327</td><td>0.08</td><td>12.6</td><td>0.5</td><td>0.9219</td><td>130.0</td><td>3</td><td>90.0</td><td>tres</td><td>m</td><td>SPC2.9</td></tr>\n",
       "</table>"
      ],
      "text/plain": [
       "<Table length=63>\n",
       "  Object      BJD_TDB        RV    RVerr  ... exptime spectro res  method\n",
       "  str10       float64     float64 float64 ... float64   str4  str1  str6 \n",
       "---------- -------------- ------- ------- ... ------- ------- ---- ------\n",
       "BD+36_3564 2457674.606693 -77.842   0.051 ...   250.0    tres    m SPC2.9\n",
       "BD+39_3577  2457670.59009 -14.809    0.07 ...   220.0    tres    m SPC2.9\n",
       "BD+42_3367 2457675.581459  -11.29   0.165 ...   180.0    tres    m SPC2.9\n",
       "BD+42_3393 2457675.584472  22.165   0.117 ...   200.0    tres    m SPC2.9\n",
       "BD+43_3064 2457670.597634 -13.649   0.063 ...   250.0    tres    m SPC2.9\n",
       "BD+43_3171 2457671.586446 -16.325   0.108 ...   250.0    tres    m SPC2.9\n",
       "BD+43_3213 2457673.586228 -14.163   0.162 ...   220.0    tres    m SPC2.9\n",
       "BD+48_2955 2457676.593673   1.661   0.045 ...    45.0    tres    m SPC2.9\n",
       " HD_174020 2457670.580448 -14.835   0.077 ...   200.0    tres    m SPC2.9\n",
       " HD_174676  2457670.59381 -33.975   0.631 ...   220.0    tres    m SPC2.9\n",
       "       ...            ...     ...     ... ...     ...     ...  ...    ...\n",
       " HD_187372 2457676.590755    3.86   0.213 ...    45.0    tres    m SPC2.9\n",
       " HD_188537 2457677.568327 -18.029   0.152 ...   135.0    tres    m SPC2.9\n",
       " HD_188629 2457677.572408  10.967   0.084 ...   180.0    tres    m SPC2.9\n",
       " HD_188875 2457646.802336 -13.706   0.079 ...   120.0    tres    m SPC2.9\n",
       " HD_188875 2457677.575731 -13.722   0.061 ...    70.0    tres    m SPC2.9\n",
       " HD_190149 2457677.583546 -28.262   0.184 ...   180.0    tres    m SPC2.9\n",
       " HD_226754 2457677.579291  18.655   0.102 ...   240.0    tres    m SPC2.9\n",
       "  V398_Lyr 2457671.570308  68.565  39.733 ...    90.0    tres    m SPC2.9\n",
       "  V546_Lyr 2457671.574686  -7.448   0.649 ...   100.0    tres    m SPC2.9\n",
       "  V547_Lyr 2457671.566258  -5.513   1.383 ...    90.0    tres    m SPC2.9"
      ]
     },
     "execution_count": 7,
     "metadata": {},
     "output_type": "execute_result"
    }
   ],
   "source": [
    "spc_data"
   ]
  },
  {
   "cell_type": "code",
   "execution_count": 26,
   "metadata": {
    "collapsed": false
   },
   "outputs": [],
   "source": [
    "numax_sun = 3160.\n",
    "numax_sun_err = 10.\n",
    "\n",
    "Teff_sun = 5777.\n",
    "logg_sun = 4.43812"
   ]
  },
  {
   "cell_type": "code",
   "execution_count": 27,
   "metadata": {
    "collapsed": false
   },
   "outputs": [],
   "source": [
    "mapping = np.array([np.where(guy_data['Object'][:]==obj)[0][0] for obj in spc_data['Object'] if (obj in guy_data['Object'])])\n",
    "missing = np.array([obj not in guy_data['Object'] for obj in spc_data['Object']])"
   ]
  },
  {
   "cell_type": "code",
   "execution_count": 28,
   "metadata": {
    "collapsed": false
   },
   "outputs": [],
   "source": [
    "# new_table = join(guy_data[mapping],spc_data[~missing])\n",
    "new_table = join(guy_data,spc_data)"
   ]
  },
  {
   "cell_type": "code",
   "execution_count": 45,
   "metadata": {
    "collapsed": false
   },
   "outputs": [
    {
     "name": "stdout",
     "output_type": "stream",
     "text": [
      "  Object  \n",
      "----------\n",
      "BD+36_3564\n",
      "BD+39_3577\n",
      "BD+42_3367\n",
      "BD+42_3393\n",
      "BD+43_3064\n",
      "BD+43_3171\n",
      "BD+43_3213\n",
      "BD+48_2955\n",
      " HD_174020\n",
      " HD_174676\n",
      " HD_174829\n",
      " HD_175740\n",
      " HD_175740\n",
      " HD_175740\n",
      " HD_175740\n",
      " HD_175740\n",
      " HD_175884\n",
      " HD_176466\n",
      " HD_178797\n",
      " HD_178910\n",
      " HD_179394\n",
      " HD_179396\n",
      " HD_179959\n",
      " HD_180312\n",
      " HD_180312\n",
      " HD_180475\n",
      " HD_180658\n",
      " HD_180682\n",
      " HD_181022\n",
      " HD_181069\n",
      " HD_181097\n",
      " HD_181328\n",
      " HD_181596\n",
      " HD_181597\n",
      " HD_181681\n",
      " HD_181778\n",
      " HD_181878\n",
      " HD_181880\n",
      " HD_182531\n",
      " HD_182692\n",
      " HD_182694\n",
      " HD_183124\n",
      " HD_183203\n",
      " HD_184483\n",
      " HD_184787\n",
      " HD_185286\n",
      " HD_185351\n",
      " HD_185351\n",
      " HD_185351\n",
      " HD_185524\n",
      " HD_186121\n",
      " HD_186727\n",
      " HD_187217\n",
      " HD_187372\n",
      " HD_188537\n",
      " HD_188629\n",
      " HD_188875\n",
      " HD_188875\n",
      " HD_190149\n",
      " HD_226754\n",
      "  V398_Lyr\n",
      "  V546_Lyr\n",
      "  V547_Lyr\n"
     ]
    }
   ],
   "source": [
    "spc_data['Object'].pprint(max_lines=70)"
   ]
  },
  {
   "cell_type": "code",
   "execution_count": 29,
   "metadata": {
    "collapsed": false
   },
   "outputs": [
    {
     "data": {
      "text/plain": [
       "['Object',\n",
       " 'Dnu',\n",
       " 'Dnu_err',\n",
       " 'Numax',\n",
       " 'Numax_err',\n",
       " 'eps',\n",
       " 'eps_err',\n",
       " 'BJD_TDB',\n",
       " 'RV',\n",
       " 'RVerr',\n",
       " 'Teff',\n",
       " 'Teff_err',\n",
       " 'logg',\n",
       " 'logg_err',\n",
       " 'monh',\n",
       " 'monh_err',\n",
       " 'vsini',\n",
       " 'vsini_err',\n",
       " 'CCF',\n",
       " 'SNRe',\n",
       " 'n_aps',\n",
       " 'exptime',\n",
       " 'spectro',\n",
       " 'res',\n",
       " 'method']"
      ]
     },
     "execution_count": 29,
     "metadata": {},
     "output_type": "execute_result"
    }
   ],
   "source": [
    "new_table.keys()"
   ]
  },
  {
   "cell_type": "code",
   "execution_count": 30,
   "metadata": {
    "collapsed": false
   },
   "outputs": [],
   "source": [
    "g = ((new_table['Teff']/Teff_sun)**0.5) * (new_table['Numax']/numax_sun)\n",
    "log_g = np.log10(g)+logg_sun"
   ]
  },
  {
   "cell_type": "code",
   "execution_count": 31,
   "metadata": {
    "collapsed": false
   },
   "outputs": [
    {
     "data": {
      "text/html": [
       "&lt;Column name=&apos;logg&apos; dtype=&apos;float64&apos; length=34&gt;\n",
       "<table>\n",
       "<tr><td>2.064</td></tr>\n",
       "<tr><td>2.995</td></tr>\n",
       "<tr><td>2.025</td></tr>\n",
       "<tr><td>2.074</td></tr>\n",
       "<tr><td>2.106</td></tr>\n",
       "<tr><td>1.973</td></tr>\n",
       "<tr><td>2.06</td></tr>\n",
       "<tr><td>2.935</td></tr>\n",
       "<tr><td>2.962</td></tr>\n",
       "<tr><td>2.973</td></tr>\n",
       "<tr><td>2.877</td></tr>\n",
       "<tr><td>2.947</td></tr>\n",
       "<tr><td>...</td></tr>\n",
       "<tr><td>2.698</td></tr>\n",
       "<tr><td>2.308</td></tr>\n",
       "<tr><td>2.673</td></tr>\n",
       "<tr><td>2.341</td></tr>\n",
       "<tr><td>2.233</td></tr>\n",
       "<tr><td>2.242</td></tr>\n",
       "<tr><td>3.061</td></tr>\n",
       "<tr><td>2.984</td></tr>\n",
       "<tr><td>2.855</td></tr>\n",
       "<tr><td>2.084</td></tr>\n",
       "<tr><td>2.411</td></tr>\n",
       "<tr><td>2.363</td></tr>\n",
       "</table>"
      ],
      "text/plain": [
       "<Column name='logg' dtype='float64' length=34>\n",
       "2.064\n",
       "2.995\n",
       "2.025\n",
       "2.074\n",
       "2.106\n",
       "1.973\n",
       " 2.06\n",
       "2.935\n",
       "2.962\n",
       "2.973\n",
       "2.877\n",
       "2.947\n",
       "  ...\n",
       "2.698\n",
       "2.308\n",
       "2.673\n",
       "2.341\n",
       "2.233\n",
       "2.242\n",
       "3.061\n",
       "2.984\n",
       "2.855\n",
       "2.084\n",
       "2.411\n",
       "2.363"
      ]
     },
     "execution_count": 31,
     "metadata": {},
     "output_type": "execute_result"
    }
   ],
   "source": [
    "new_table['logg']"
   ]
  },
  {
   "cell_type": "markdown",
   "metadata": {},
   "source": [
    "## Now we do it with MCMC"
   ]
  },
  {
   "cell_type": "code",
   "execution_count": 32,
   "metadata": {
    "collapsed": true
   },
   "outputs": [],
   "source": [
    "teffs = new_table['Teff'] \n",
    "numaxes = new_table['Numax']\n",
    "numax_errs = new_table['Numax_err']\n",
    "N = len(teffs)\n",
    "\n",
    "# data = dict(teff=teffs,mu_numax=numaxes,sig_numax=numax_errs,numax_sun=numax_sun,teff_sun=Teff_sun,N=N)"
   ]
  },
  {
   "cell_type": "code",
   "execution_count": 33,
   "metadata": {
    "collapsed": false
   },
   "outputs": [],
   "source": [
    "log_g = []\n",
    "log_g_err = []\n",
    "\n",
    "for j in range(N):\n",
    "    thisnumax = numax_errs[j]*np.random.randn(10000)+numaxes[j]\n",
    "    thislogg = np.log10((teffs[j]/Teff_sun)**0.5 * (thisnumax/numax_sun))\n",
    "    log_g.append(np.mean(thislogg))\n",
    "    log_g_err.append(np.std(thislogg))\n",
    "    \n",
    "log_g = np.array(log_g)+logg_sun\n",
    "log_g_err = np.array(log_g_err)"
   ]
  },
  {
   "cell_type": "code",
   "execution_count": 34,
   "metadata": {
    "collapsed": false
   },
   "outputs": [
    {
     "data": {
      "text/plain": [
       "(array([1., 8., 3., 7., 3., 5., 2., 1., 2., 2.]),\n",
       " array([ 25.40266557,  36.62603924,  47.84941291,  59.07278658,\n",
       "         70.29616026,  81.51953393,  92.7429076 , 103.96628127,\n",
       "        115.18965494, 126.41302861, 137.63640228]),\n",
       " <a list of 10 Patch objects>)"
      ]
     },
     "execution_count": 34,
     "metadata": {},
     "output_type": "execute_result"
    },
    {
     "data": {
      "image/png": "[encoded data removed]",
      "text/plain": [
       "<Figure size 432x288 with 1 Axes>"
      ]
     },
     "metadata": {},
     "output_type": "display_data"
    }
   ],
   "source": [
    "plt.hist(numaxes/numax_errs)"
   ]
  },
  {
   "cell_type": "code",
   "execution_count": 39,
   "metadata": {
    "collapsed": false
   },
   "outputs": [
    {
     "name": "stdout",
     "output_type": "stream",
     "text": [
      "  Object  \n",
      "----------\n",
      "BD+36_3564\n",
      "BD+39_3577\n",
      "BD+43_3171\n",
      "BD+43_3213\n",
      "BD+48_2955\n",
      " HD_174020\n",
      " HD_174829\n",
      " HD_175740\n",
      " HD_175740\n",
      " HD_175740\n",
      " HD_175740\n",
      " HD_175740\n",
      " HD_175884\n",
      " HD_178797\n",
      " HD_178910\n",
      " HD_179396\n",
      " HD_180312\n",
      " HD_180312\n",
      " HD_180475\n",
      " HD_180658\n",
      " HD_180682\n",
      " HD_181022\n",
      " HD_181069\n",
      " HD_181097\n",
      " HD_181597\n",
      " HD_181778\n",
      " HD_181880\n",
      " HD_182531\n",
      " HD_182692\n",
      " HD_182694\n",
      " HD_183124\n",
      " HD_185286\n",
      " HD_188537\n",
      " HD_226754\n"
     ]
    }
   ],
   "source": [
    "new_table['Object'].pprint(max_lines=40)"
   ]
  },
  {
   "cell_type": "code",
   "execution_count": 36,
   "metadata": {
    "collapsed": false
   },
   "outputs": [
    {
     "name": "stderr",
     "output_type": "stream",
     "text": [
      "WARNING: AstropyDeprecationWarning: pope_asteroseismology.csv already exists. Automatically overwriting ASCII files is deprecated. Use the argument 'overwrite=True' in the future. [astropy.io.ascii.ui]\n"
     ]
    }
   ],
   "source": [
    "output = Table({'Object':new_table['Object'],\n",
    "                'numax':numaxes,\n",
    "                'numax_err':numax_errs,\n",
    "                'log_g':log_g,\n",
    "                'log_g_err':log_g_err})\n",
    "output.write('pope_asteroseismology.csv',format='csv')"
   ]
  },
  {
   "cell_type": "markdown",
   "metadata": {},
   "source": []
  },
  {
   "cell_type": "code",
   "execution_count": 37,
   "metadata": {
    "collapsed": false
   },
   "outputs": [
    {
     "data": {
      "image/png": "[encoded data removed]",
      "text/plain": [
       "<Figure size 432x288 with 2 Axes>"
      ]
     },
     "metadata": {},
     "output_type": "display_data"
    }
   ],
   "source": [
    "plt.scatter(new_table['logg'],log_g,c=new_table['Teff'])\n",
    "plt.errorbar(new_table['logg'],log_g,yerr=log_g_err,linestyle='',color='k')\n",
    "plt.colorbar()\n",
    "plt.xlabel(r'Spectroscopic $\\log{g}$')\n",
    "plt.ylabel(r'Asteroseismic $\\log{g}$')\n",
    "plt.savefig('numax_correlation.png')"
   ]
  },
  {
   "cell_type": "code",
   "execution_count": 38,
   "metadata": {},
   "outputs": [
    {
     "data": {
      "text/html": [
       "&lt;Table length=34&gt;\n",
       "<table id=\"table4730421840\" class=\"table-striped table-bordered table-condensed\">\n",
       "<thead><tr><th>log_g_err</th><th>Object</th><th>numax_err</th><th>numax</th><th>log_g</th></tr></thead>\n",
       "<thead><tr><th>float64</th><th>str10</th><th>float64</th><th>float64</th><th>float64</th></tr></thead>\n",
       "<tr><td>0.00845622076741466</td><td>BD+36_3564</td><td>0.09882652247868091</td><td>5.079062736733746</td><td>1.580206863345448</td></tr>\n",
       "<tr><td>0.010350387620015953</td><td>BD+39_3577</td><td>0.31633186319569034</td><td>13.266855807051439</td><td>2.03328003145498</td></tr>\n",
       "<tr><td>0.011431543044452564</td><td>BD+43_3171</td><td>0.05145104900196677</td><td>1.984298734336489</td><td>1.1599737529514087</td></tr>\n",
       "<tr><td>0.010720461429987673</td><td>BD+43_3213</td><td>0.06325084146747773</td><td>2.5632797174106847</td><td>1.2743331041939658</td></tr>\n",
       "<tr><td>0.006641807506963151</td><td>BD+48_2955</td><td>0.08331498484403516</td><td>5.440132725276065</td><td>1.6120420783932579</td></tr>\n",
       "<tr><td>0.017398731268677088</td><td>HD_174020</td><td>0.09744999575175439</td><td>2.47548965209216</td><td>1.2604264508887595</td></tr>\n",
       "<tr><td>0.008623404535212905</td><td>HD_174829</td><td>0.1571667547811646</td><td>7.9497984768617815</td><td>1.7835738486999473</td></tr>\n",
       "<tr><td>0.005319122332991635</td><td>HD_175740</td><td>0.781397165223729</td><td>64.33345016648104</td><td>2.714002435673896</td></tr>\n",
       "<tr><td>0.005221500089411699</td><td>HD_175740</td><td>0.781397165223729</td><td>64.33345016648104</td><td>2.7142907094414417</td></tr>\n",
       "<tr><td>0.005271982328749585</td><td>HD_175740</td><td>0.781397165223729</td><td>64.33345016648104</td><td>2.714367085607753</td></tr>\n",
       "<tr><td>...</td><td>...</td><td>...</td><td>...</td><td>...</td></tr>\n",
       "<tr><td>0.004169333879494603</td><td>HD_181597</td><td>0.2506815090679462</td><td>25.841856049554192</td><td>2.3082014521266787</td></tr>\n",
       "<tr><td>0.005545946503397575</td><td>HD_181778</td><td>0.2890841908432127</td><td>22.857314085832392</td><td>2.250928303156884</td></tr>\n",
       "<tr><td>0.006568299867419655</td><td>HD_181880</td><td>0.09833116330280509</td><td>6.543022284187729</td><td>1.6953335159164538</td></tr>\n",
       "<tr><td>0.006012304038454477</td><td>HD_182531</td><td>0.08931624177636578</td><td>6.465080945267556</td><td>1.6905366901342074</td></tr>\n",
       "<tr><td>0.0045378800244585075</td><td>HD_182692</td><td>0.469132553990273</td><td>44.38373487371614</td><td>2.5527310159543646</td></tr>\n",
       "<tr><td>0.006394031344452699</td><td>HD_182694</td><td>1.017847172490138</td><td>69.7756254063585</td><td>2.7583371350611405</td></tr>\n",
       "<tr><td>0.003165249641937626</td><td>HD_183124</td><td>0.2876104937870424</td><td>39.585673622735754</td><td>2.500764403465137</td></tr>\n",
       "<tr><td>0.010533396941877958</td><td>HD_185286</td><td>0.10176701279630138</td><td>4.226733266919384</td><td>1.5001418733821046</td></tr>\n",
       "<tr><td>0.011177159067226869</td><td>HD_188537</td><td>0.3426745085090518</td><td>13.402868450842114</td><td>2.0322886856129907</td></tr>\n",
       "<tr><td>0.010782159658337676</td><td>HD_226754</td><td>0.18595980259156958</td><td>7.40678483572143</td><td>1.747236667466213</td></tr>\n",
       "</table>"
      ],
      "text/plain": [
       "<Table length=34>\n",
       "      log_g_err         Object   ...       numax              log_g       \n",
       "       float64          str10    ...      float64            float64      \n",
       "--------------------- ---------- ... ------------------ ------------------\n",
       "  0.00845622076741466 BD+36_3564 ...  5.079062736733746  1.580206863345448\n",
       " 0.010350387620015953 BD+39_3577 ... 13.266855807051439   2.03328003145498\n",
       " 0.011431543044452564 BD+43_3171 ...  1.984298734336489 1.1599737529514087\n",
       " 0.010720461429987673 BD+43_3213 ... 2.5632797174106847 1.2743331041939658\n",
       " 0.006641807506963151 BD+48_2955 ...  5.440132725276065 1.6120420783932579\n",
       " 0.017398731268677088  HD_174020 ...   2.47548965209216 1.2604264508887595\n",
       " 0.008623404535212905  HD_174829 ... 7.9497984768617815 1.7835738486999473\n",
       " 0.005319122332991635  HD_175740 ...  64.33345016648104  2.714002435673896\n",
       " 0.005221500089411699  HD_175740 ...  64.33345016648104 2.7142907094414417\n",
       " 0.005271982328749585  HD_175740 ...  64.33345016648104  2.714367085607753\n",
       "                  ...        ... ...                ...                ...\n",
       " 0.004169333879494603  HD_181597 ... 25.841856049554192 2.3082014521266787\n",
       " 0.005545946503397575  HD_181778 ... 22.857314085832392  2.250928303156884\n",
       " 0.006568299867419655  HD_181880 ...  6.543022284187729 1.6953335159164538\n",
       " 0.006012304038454477  HD_182531 ...  6.465080945267556 1.6905366901342074\n",
       "0.0045378800244585075  HD_182692 ...  44.38373487371614 2.5527310159543646\n",
       " 0.006394031344452699  HD_182694 ...   69.7756254063585 2.7583371350611405\n",
       " 0.003165249641937626  HD_183124 ... 39.585673622735754  2.500764403465137\n",
       " 0.010533396941877958  HD_185286 ...  4.226733266919384 1.5001418733821046\n",
       " 0.011177159067226869  HD_188537 ... 13.402868450842114 2.0322886856129907\n",
       " 0.010782159658337676  HD_226754 ...   7.40678483572143  1.747236667466213"
      ]
     },
     "execution_count": 38,
     "metadata": {},
     "output_type": "execute_result"
    }
   ],
   "source": [
    "output"
   ]
  },
  {
   "cell_type": "code",
   "execution_count": null,
   "metadata": {},
   "outputs": [],
   "source": []
  }
 ],
 "metadata": {
  "kernelspec": {
   "display_name": "Python 2",
   "language": "python",
   "name": "python2"
  },
  "language_info": {
   "codemirror_mode": {
    "name": "ipython",
    "version": 2
   },
   "file_extension": ".py",
   "mimetype": "text/x-python",
   "name": "python",
   "nbconvert_exporter": "python",
   "pygments_lexer": "ipython2",
   "version": "2.7.15"
  }
 },
 "nbformat": 4,
 "nbformat_minor": 2
}
